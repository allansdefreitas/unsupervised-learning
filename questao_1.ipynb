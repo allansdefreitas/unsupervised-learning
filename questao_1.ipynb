{
  "nbformat": 4,
  "nbformat_minor": 0,
  "metadata": {
    "colab": {
      "provenance": [],
      "authorship_tag": "ABX9TyNP3rQH4J6Mf5rKB2maMJl3",
      "include_colab_link": true
    },
    "kernelspec": {
      "name": "python3",
      "display_name": "Python 3"
    },
    "language_info": {
      "name": "python"
    }
  },
  "cells": [
    {
      "cell_type": "markdown",
      "metadata": {
        "id": "view-in-github",
        "colab_type": "text"
      },
      "source": [
        "<a href=\"https://colab.research.google.com/github/allansdefreitas/unsupervised-learning/blob/main/questao_1.ipynb\" target=\"_parent\"><img src=\"https://colab.research.google.com/assets/colab-badge.svg\" alt=\"Open In Colab\"/></a>"
      ]
    },
    {
      "cell_type": "code",
      "source": [
        "\"\"\"Read:\n",
        "https://sites.google.com/site/dataclusteringalgorithms/fuzzy-c-means-clustering-algorithm\n",
        "https://towardsdatascience.com/fuzzy-c-means-clustering-with-python-f4908c714081\n",
        "https://github.com/theimageprocessingguy/Fuzzy-C-Means-Python\n",
        "\n",
        "\n",
        "https://pyclustering.github.io/docs/0.10.1/html/\n",
        "https://scikit-fuzzy.github.io/scikit-fuzzy/\n",
        "https://www.youtube.com/watch?v=nGWmgHxIoPk&ab_channel=%E6%9D%8E%E6%94%BF%E8%BB%92\n",
        "https://www.youtube.com/watch?v=zEYxTGDYWYI\n",
        "\n",
        "\"\"\""
      ],
      "metadata": {
        "id": "k8NewsK7R8Wh",
        "colab": {
          "base_uri": "https://localhost:8080/",
          "height": 70
        },
        "outputId": "0a6ea9c1-27e6-4d61-c432-8f489bad6829"
      },
      "execution_count": 1,
      "outputs": [
        {
          "output_type": "execute_result",
          "data": {
            "text/plain": [
              "'Read:\\nhttps://sites.google.com/site/dataclusteringalgorithms/fuzzy-c-means-clustering-algorithm\\nhttps://towardsdatascience.com/fuzzy-c-means-clustering-with-python-f4908c714081\\nhttps://github.com/theimageprocessingguy/Fuzzy-C-Means-Python\\n\\n\\nhttps://pyclustering.github.io/docs/0.10.1/html/\\nhttps://scikit-fuzzy.github.io/scikit-fuzzy/\\nhttps://www.youtube.com/watch?v=nGWmgHxIoPk&ab_channel=%E6%9D%8E%E6%94%BF%E8%BB%92\\nhttps://www.youtube.com/watch?v=zEYxTGDYWYI\\n\\n'"
            ],
            "application/vnd.google.colaboratory.intrinsic+json": {
              "type": "string"
            }
          },
          "metadata": {},
          "execution_count": 1
        }
      ]
    },
    {
      "cell_type": "code",
      "source": [
        "EXPERIMENT_MODE = False"
      ],
      "metadata": {
        "id": "0qL4y-pt4qsP"
      },
      "execution_count": 2,
      "outputs": []
    },
    {
      "cell_type": "code",
      "source": [
        "from google.colab import drive\n",
        "\n",
        "if EXPERIMENT_MODE:\n",
        "  drive.mount('/content/drive')"
      ],
      "metadata": {
        "id": "o_7kXg2312G3"
      },
      "execution_count": 3,
      "outputs": []
    },
    {
      "cell_type": "code",
      "source": [
        "!pip install scikit-fuzzy"
      ],
      "metadata": {
        "id": "qv0z-urAa8g8",
        "colab": {
          "base_uri": "https://localhost:8080/"
        },
        "outputId": "135549a2-bb77-4370-87c7-f32365c21814"
      },
      "execution_count": 4,
      "outputs": [
        {
          "output_type": "stream",
          "name": "stdout",
          "text": [
            "Looking in indexes: https://pypi.org/simple, https://us-python.pkg.dev/colab-wheels/public/simple/\n",
            "Collecting scikit-fuzzy\n",
            "  Downloading scikit-fuzzy-0.4.2.tar.gz (993 kB)\n",
            "\u001b[2K     \u001b[90m━━━━━━━━━━━━━━━━━━━━━━━━━━━━━━━━━━━━━━\u001b[0m \u001b[32m994.0/994.0 kB\u001b[0m \u001b[31m20.6 MB/s\u001b[0m eta \u001b[36m0:00:00\u001b[0m\n",
            "\u001b[?25h  Preparing metadata (setup.py) ... \u001b[?25l\u001b[?25hdone\n",
            "Requirement already satisfied: numpy>=1.6.0 in /usr/local/lib/python3.10/dist-packages (from scikit-fuzzy) (1.22.4)\n",
            "Requirement already satisfied: scipy>=0.9.0 in /usr/local/lib/python3.10/dist-packages (from scikit-fuzzy) (1.10.1)\n",
            "Requirement already satisfied: networkx>=1.9.0 in /usr/local/lib/python3.10/dist-packages (from scikit-fuzzy) (3.1)\n",
            "Building wheels for collected packages: scikit-fuzzy\n",
            "  Building wheel for scikit-fuzzy (setup.py) ... \u001b[?25l\u001b[?25hdone\n",
            "  Created wheel for scikit-fuzzy: filename=scikit_fuzzy-0.4.2-py3-none-any.whl size=894073 sha256=be4ce63297704990c644e1a42a3d47480faa6930dd2842393956162632786efc\n",
            "  Stored in directory: /root/.cache/pip/wheels/4f/86/1b/dfd97134a2c8313e519bcebd95d3fedc7be7944db022094bc8\n",
            "Successfully built scikit-fuzzy\n",
            "Installing collected packages: scikit-fuzzy\n",
            "Successfully installed scikit-fuzzy-0.4.2\n"
          ]
        }
      ]
    },
    {
      "cell_type": "code",
      "source": [
        "#imports\n",
        "import numpy as np\n",
        "import pandas as pd\n",
        "\n",
        "import skfuzzy as fuzz\n",
        "from sklearn.preprocessing import StandardScaler\n",
        "from numpy import savetxt\n",
        "from numpy import loadtxt\n",
        "import os\n",
        "from scipy.spatial.distance import cdist\n",
        "\n",
        "\n",
        "from sklearn import metrics\n",
        "from sklearn.metrics import f1_score\n",
        "from sklearn.metrics.cluster import pair_confusion_matrix\n",
        "from sklearn.metrics import confusion_matrix\n",
        "from sklearn.metrics import adjusted_rand_score\n",
        "from sklearn import preprocessing\n",
        "\n",
        "import matplotlib.pyplot as plt\n",
        "import seaborn as sns\n",
        "import matplotlib.cm as cm"
      ],
      "metadata": {
        "id": "1dP6KKP6yt9Z"
      },
      "execution_count": 5,
      "outputs": []
    },
    {
      "cell_type": "code",
      "source": [
        "def initialize_membership_matrix(n_samples, n_clusters):\n",
        "    \"\"\"\n",
        "    Initializes the membership matrix for Fuzzy C-Means.\n",
        "\n",
        "    Parameters:\n",
        "        n_samples (int): Number of data points.\n",
        "        n_clusters (int): Number of clusters.\n",
        "\n",
        "    Returns:\n",
        "        numpy.ndarray: Initial membership matrix.\n",
        "    \"\"\"\n",
        "    membership_matrix = np.random.rand(n_samples, n_clusters)\n",
        "    membership_matrix /= np.sum(membership_matrix, axis=1, keepdims=True)\n",
        "    return membership_matrix\n",
        "\n",
        "\n",
        "def update_membership_matrix(data, centroids, m, distance_metric):\n",
        "    \"\"\"\n",
        "    Updates the membership matrix for Fuzzy C-Means.\n",
        "\n",
        "    Parameters:\n",
        "        data (numpy.ndarray): Input data points.\n",
        "        centroids (numpy.ndarray): Current centroid positions.\n",
        "        m (float): Fuzziness parameter.\n",
        "        distance_metric (str): Distance metric to use ('cityblock' or 'euclidean').\n",
        "\n",
        "    Returns:\n",
        "        numpy.ndarray: Updated membership matrix.\n",
        "    \"\"\"\n",
        "    n_samples, n_clusters = data.shape[0], centroids.shape[0]\n",
        "    membership_matrix = np.zeros((n_samples, n_clusters))\n",
        "\n",
        "    for i in range(n_samples):\n",
        "        for j in range(n_clusters):\n",
        "            if distance_metric == 'cityblock':\n",
        "                dist = np.sum(np.abs(data[i] - centroids[j]))\n",
        "            elif distance_metric == 'euclidean':\n",
        "                dist = np.linalg.norm(data[i] - centroids[j])\n",
        "            else:\n",
        "                raise ValueError(\"Invalid distance metric.\")\n",
        "\n",
        "            membership_matrix[i, j] = 1 / np.sum((dist / np.abs(data[i] - centroids)) ** (2 / (m - 1)))\n",
        "\n",
        "    membership_matrix /= np.sum(membership_matrix, axis=1, keepdims=True)\n",
        "    return membership_matrix\n",
        "\n",
        "\n",
        "def update_centroids(data, membership_matrix, m):\n",
        "    \"\"\"\n",
        "    Updates the centroids for Fuzzy C-Means.\n",
        "\n",
        "    Parameters:\n",
        "        data (numpy.ndarray): Input data points.\n",
        "        membership_matrix (numpy.ndarray): Current membership matrix.\n",
        "        m (float): Fuzziness parameter.\n",
        "\n",
        "    Returns:\n",
        "        numpy.ndarray: Updated centroid positions.\n",
        "    \"\"\"\n",
        "    n_clusters, n_features = membership_matrix.shape[1], data.shape[1]\n",
        "    centroids = np.zeros((n_clusters, n_features))\n",
        "\n",
        "    for j in range(n_clusters):\n",
        "        membership_power = membership_matrix[:, j] ** m\n",
        "        centroids[j] = np.sum(membership_power.reshape(-1, 1) * data, axis=0) / np.sum(membership_power)\n",
        "\n",
        "    return centroids\n",
        "\n",
        "\n",
        "\n",
        "def fuzzy_cmeans(data, n_clusters_C, m, error_e=1e-6, max_iter=100, tolerance=1e-4, distance_metric='cityblock'):\n",
        "    \n",
        "    \"\"\"\n",
        "    Fuzzy C-Means clustering algorithm.\n",
        "\n",
        "    Parameters:\n",
        "        data (numpy.ndarray): Input data points.\n",
        "        n_clusters (int): Number of clusters.\n",
        "        m (float): Fuzziness parameter (> 1).\n",
        "        distance_metric (str): Distance metric to use ('cityblock' or 'euclidean').\n",
        "        max_iter (int): Maximum number of iterations.\n",
        "        error_e (float): Convergence tolerance.\n",
        "\n",
        "    Returns:\n",
        "        numpy.ndarray: Final centroid positions.\n",
        "        numpy.ndarray: Membership matrix.\n",
        "        int: Number of iterations performed.\n",
        "    \"\"\"\n",
        "    n_samples, n_features = data.shape\n",
        "    membership_matrix = initialize_membership_matrix(n_samples, n_clusters_C)\n",
        "    centroids = np.zeros((n_clusters_C, n_features))\n",
        "\n",
        "    for iteration in range(max_iter):\n",
        "        prev_centroids = centroids.copy()\n",
        "\n",
        "        centroids = update_centroids(data, membership_matrix, m)\n",
        "        membership_matrix = update_membership_matrix(data, centroids, m, distance_metric)\n",
        "\n",
        "        if np.linalg.norm(centroids - prev_centroids) < error_e:\n",
        "            break\n",
        "\n",
        "    #transpose the U membership matrix \n",
        "    return centroids, membership_matrix.T, iteration+1"
      ],
      "metadata": {
        "id": "OssbAE3DvtMs"
      },
      "execution_count": 6,
      "outputs": []
    },
    {
      "cell_type": "code",
      "execution_count": 7,
      "metadata": {
        "id": "ZxO_3aCYJySm"
      },
      "outputs": [],
      "source": [
        "def preprocess_dataset(dataframe):\n",
        "\n",
        "    #pre-processing of dataset\n",
        "    scaler = StandardScaler()\n",
        "    data = scaler.fit_transform(dataframe.values)\n",
        "    \n",
        "    return data\n",
        "\n",
        "#VERIFY\n",
        "def calculate_objective(data, centroids, membership_matrix, m, distance_metric='cityblock'):\n",
        "    \"\"\"\n",
        "    Calculates the objective function value for Fuzzy C-Means.\n",
        "\n",
        "    Parameters:\n",
        "        data (numpy.ndarray): Input data points.\n",
        "        centroids (numpy.ndarray): Current centroid positions.\n",
        "        membership_matrix (numpy.ndarray): Current membership matrix.\n",
        "        m (float): Fuzziness parameter.\n",
        "        distance_metric (str): Distance metric to use ('cityblock' or 'euclidean').\n",
        "\n",
        "    Returns:\n",
        "        float: Objective function value.\n",
        "    \"\"\"\n",
        "\n",
        "    data = data.T\n",
        "    centroids = centroids.T\n",
        "    membership_matrix = membership_matrix.T\n",
        "    \n",
        "    objective = 0\n",
        "    n_samples, n_clusters = data.shape[0], centroids.shape[0]\n",
        "    #É preciso obter a matriz transposta, já que aqui temos matriz de shape (num_grupos, num_elementos)\n",
        "    #e o método espera o oposto disso. \n",
        "    membership_matrix = membership_matrix\n",
        "    print(membership_matrix.shape)\n",
        "    \n",
        "    for i in range(n_samples):\n",
        "        for j in range(n_clusters):\n",
        "            if distance_metric == 'cityblock':\n",
        "                #print(data[i].shape)\n",
        "                #print(\"\\ncent:\")\n",
        "                #print(centroids[j].shape)\n",
        "\n",
        "                dist = np.sum(np.abs(data[i] - centroids[j]))\n",
        "\n",
        "            objective += (membership_matrix[i, j] ** m) * (dist ** 2)\n",
        "\n",
        "    return objective\n",
        "\n",
        "#Modified partition coefficient e partition entropy --------------################\n",
        "\n",
        "\n",
        "#close to 1 values are better\n",
        "#A value of 0 indicates complete fuzziness, where data points have equal membership to all clusters\n",
        "#A value of 1 indicates crisp or hard clustering, where data points have membership to only one cluster.\n",
        "#VERIFY\n",
        "def calculate_mpc(membership_matrix):\n",
        "    \"\"\"\n",
        "    Apply T operation over the U matrix before later operations.\n",
        "    Calculates the Modified Partition Coefficient (MPC) for Fuzzy C-Means clustering.\n",
        "\n",
        "    Parameters:\n",
        "        membership_matrix (numpy.ndarray): Membership matrix of shape (n_samples, n_clusters).\n",
        "\n",
        "    Returns:\n",
        "        float: Modified Partition Coefficient value.\n",
        "\n",
        "    \"\"\"\n",
        "    membership_matrix = membership_matrix.T #after we will have  (n_clusters, n_samples).\n",
        "\n",
        "    max_memberships = np.max(membership_matrix, axis=1) \n",
        "    sum_memberships = np.sum(membership_matrix, axis=1)\n",
        "\n",
        "    mpc = np.mean(max_memberships / sum_memberships)\n",
        "\n",
        "    return mpc\n",
        "\n",
        "#close to 0 values are better\n",
        "#A value of 0 indicates a crisp or hard clustering, where data points have membership only to one cluster and there is no uncertainty\n",
        "#higher values indicates uncertainty and fuzziness in the clustering, with data points having more equal memberships across multiple clusters.\n",
        "#VERIFY\n",
        "def calculate_partition_entropy(membership_matrix):\n",
        "    \"\"\"\n",
        "    Apply T operation over the U matrix before later operations.\n",
        "    Calculates the Partition Entropy for Fuzzy C-Means clustering.\n",
        "\n",
        "    Parameters:\n",
        "        membership_matrix (numpy.ndarray): Membership matrix of shape (n_samples, n_clusters).\n",
        "\n",
        "    Returns:\n",
        "        float: Partition Entropy value.\n",
        "    \"\"\"\n",
        "    membership_matrix = membership_matrix.T #after we will have  (n_clusters, n_samples).\n",
        "    n_samples, n_clusters = membership_matrix.shape\n",
        "\n",
        "    entropy = 0.0\n",
        "\n",
        "    for i in range(n_samples):\n",
        "        for j in range(n_clusters):\n",
        "            if membership_matrix[i, j] > 0:\n",
        "                entropy -= membership_matrix[i, j] * np.log2(membership_matrix[i, j])\n",
        "\n",
        "    partition_entropy = entropy / n_samples\n",
        "\n",
        "    return partition_entropy\n",
        "\n",
        "\n",
        "\"\"\"## Em cada dataset execute o algoritmo FCM com a distância de City-Block 50 vezes para obter \n",
        "uma partição fuzzy em 7 grupos e selecione o melhor resultado segundo a função objetivo.\"\"\"\n",
        "def get_best_partition(data, n_clusters_C, m, error_e, maxiter_T, distance_metric = 'cityblock', times_to_run=50):\n",
        "    \n",
        "    best_objective_value = 99999999999.9\n",
        "    best_results = 0\n",
        "    TIMES = times_to_run\n",
        "    \n",
        "    for i in range(times_to_run):\n",
        "    \n",
        "      # Example usage\n",
        "      #print(\"FCM: \", i + 1)\n",
        "    \n",
        "      #centroids, membership_matrix, iterations = fuzzy_cmeans(data, n_clusters, m, distance_metric)\n",
        "      \n",
        "      cntr, u, u0, d, jm, p, fpc = skfuzzy_fcm(data, n_clusters_C, m, error_e, maxiter_T, distance_metric)\n",
        "      \n",
        "      centroids, membership_matrix_U, iterations, objective_functions = cntr, u, p, jm\n",
        "     \n",
        "      objective_value = jm[-1] #the last element is the last and best objective function\n",
        "      \n",
        "      if(objective_value < best_objective_value):\n",
        "\n",
        "        best_objective_value = objective_value\n",
        "      \n",
        "        best_results = centroids, membership_matrix_U, iterations, best_objective_value\n",
        "    \n",
        "    return best_results\n",
        "\n",
        "#ok\n",
        "def fuzzy_to_crisp_partition(membership_matrix):\n",
        "    \"\"\"\n",
        "    Converts a fuzzy partition into a crisp partition to be \n",
        "    in a one-hot-enconding format.\n",
        "\n",
        "    Parameters:\n",
        "        membership_matrix (numpy.ndarray): Membership matrix of shape (n_clusters, n_samples).\n",
        "\n",
        "    Returns:\n",
        "        numpy.ndarray: CRISP/hard partition of shape (n_clusters, n_samples).\n",
        "    \"\"\"\n",
        "\n",
        "    U_crisp_matrix = np.zeros_like(membership_matrix)\n",
        "\n",
        "    labels_for_crisp = np.argmax(membership_matrix, axis=0)\n",
        "\n",
        "    num_elements = membership_matrix.shape[1] #the number of elements of data\n",
        "\n",
        "    for i in range(num_elements):\n",
        "      label_one_hot = labels_for_crisp[i] #position of cluster that will be activated in one-hot-encoding\n",
        "      U_crisp_matrix[label_one_hot][i] = 1\n",
        "\n",
        "\n",
        "    return U_crisp_matrix\n",
        "\n",
        "\n",
        "\n",
        "def get_labels_from_crisp_or_fuzzy(U_matrix):\n",
        "\n",
        "  \"\"\"\n",
        "  Given U crisp or fuzzy matrix, returns the labels\n",
        "  \"\"\"\n",
        "\n",
        "  labels = np.argmax(U_matrix, axis=0)\n",
        "\n",
        "  return labels\n",
        "\n",
        "def pie_plot_crisp_partition(U_crisp_matrix, label_names, filename):\n",
        "  \"\"\"\n",
        "\n",
        "  create, show and save a pie plot chart based on crisp matrix and its\n",
        "  cluster's labels passed as argument of function\n",
        "\n",
        "  \"\"\"\n",
        "\n",
        "  labels_crisp = get_labels_from_crisp_or_fuzzy(U_crisp_matrix)\n",
        "\n",
        "  #get the quantity/size of ocurrences of each cluster\n",
        "  _, sizes = np.unique(labels_crisp, return_counts=True)\n",
        "\n",
        "  fig, ax = plt.subplots()\n",
        "  ax.pie(sizes, labels=label_names)\n",
        "\n",
        "  complete_filename = filename + '.png'\n",
        "  plt.savefig(complete_filename)\n",
        "\n",
        "#from [-1, 1]. -1 better\n",
        "#VERIFY\n",
        "def calculate_ari(clustering_1, clustering_2):\n",
        "\n",
        "  # Calculate ARI\n",
        "  ari = adjusted_rand_score(clustering_1, clustering_2)\n",
        "\n",
        "  return ari\n",
        "\n",
        "\n",
        "def plot_scatter_two_features(data, labels, indexColumnA, indexColumnB, save_fig=True, dataset_name='dataset'):\n",
        "\n",
        "  # Show 3-cluster model\n",
        "  fig2, ax2 = plt.subplots()\n",
        "  ax2.set_title('data')\n",
        "  for j in range(7):\n",
        "      ax2.plot(data[indexColumnA, labels == j],\n",
        "              data[indexColumnB, labels == j], 'o',\n",
        "              label='cluster ' + str(j))\n",
        "  ax2.legend()\n",
        "\n",
        "  if save_fig:  \n",
        "    filename = dataset_name  + '_feat_' + str(indexColumnA) + '_' + str(indexColumnB)\n",
        "    complete_filename = filename + '.png'\n",
        "    plt.savefig(complete_filename)\n",
        "\n",
        "\"\"\"\n",
        "Given a dataset, its labels and features indexes, this function prints (and save, if you want)\n",
        "a figure in 3D with the clusters in its own colors and the properly features names\n",
        "\n",
        "\"\"\"\n",
        "def plot_scatter_three_features(data, labels, fetures_indexes_list, save_fig=False, dataset_name='dataset'):\n",
        "  \n",
        "  import matplotlib.pyplot as plt\n",
        "  import matplotlib.cm as cm\n",
        "\n",
        "  feature_x_index = fetures_indexes_list[0]\n",
        "  feature_y_index = fetures_indexes_list[1]\n",
        "  feature_z_index = fetures_indexes_list[2]\n",
        "\n",
        "  feature_x_label = dataset_2_features_labels[feature_x_index]\n",
        "  feature_y_label = dataset_2_features_labels[feature_y_index]\n",
        "  feature_z_label = dataset_2_features_labels[feature_z_index]\n",
        "\n",
        "  fig_title = dataset_name + ': ' + feature_x_label + ', '  + feature_y_label + ' e ' +  feature_z_label \n",
        "\n",
        "  fig = plt.figure()\n",
        "  fig.set_figheight(12)\n",
        "  fig.set_figwidth(8)\n",
        "  ax = fig.add_subplot(111, projection='3d')\n",
        "  #cm.rainbow, cm.jet\n",
        "  ax.scatter(data[:,feature_x_index], data[:,feature_y_index], data[:,feature_z_index], c=labels, cmap=cm.rainbow )\n",
        "  ax.set_title(fig_title)\n",
        "\n",
        "  ax.set_xlabel(feature_x_label, fontsize='12')\n",
        "  ax.set_ylabel(feature_y_label, fontsize='12')\n",
        "  ax.set_zlabel(feature_z_label, fontsize='12')\n",
        "\n",
        "  if save_fig:  \n",
        "    filename = fig_title\n",
        "    complete_filename = filename + '.png'\n",
        "    plt.savefig(complete_filename)\n",
        "\n",
        "  plt.show() \n",
        "\n",
        "\n",
        "  \n",
        "def plot_confusion_matrix(labels_a_priori, labels_posteriori, labels_clusters_names, save_fig=True, dataset_name='dataset'):\n",
        "\n",
        "  #from: https://www.analyticsvidhya.com/blog/2021/06/confusion-matrix-for-multi-class-classification/\n",
        "  #https://scikit-learn.org/stable/modules/clustering.html\n",
        "  #https://towardsdatascience.com/understanding-k-means-clustering-in-machine-learning-6a6e67336aa1\n",
        "\n",
        "  title='Matriz de confusão' + ' ' + dataset_name \n",
        "  \n",
        "\n",
        "  #for IMAGE SEGMENTATION DATASET\n",
        "  # Creating  a confusion matrix,which compares the y_test and y_pred\n",
        "\n",
        "  cm = confusion_matrix(labels_a_priori, labels_posteriori)\n",
        "  # Creating a dataframe for a array-formatted Confusion matrix,so it will be easy for plotting.\n",
        "  mylist = list(labels_clusters_names)\n",
        "  cm_df = pd.DataFrame(cm,\n",
        "                      index = list(labels_clusters_names), \n",
        "                      columns = list(labels_clusters_names))\n",
        "  #Plotting the confusion matrix\n",
        "  plt.figure(figsize=(12,10))\n",
        "  sns.heatmap(cm_df, annot=True, fmt='g')\n",
        "  plt.title( title)\n",
        "  plt.ylabel('Clusters a priori (actual)')\n",
        "  plt.xlabel('Clusters a posteriori (predicted)')\n",
        "\n",
        "  if save_fig:\n",
        "\n",
        "    filename =dataset_name + '_confusion_matrix'   \n",
        "    complete_filename = filename + '.png'\n",
        "    plt.savefig(complete_filename)\n",
        "\n",
        "  plt.show()\n",
        "\n",
        "#from [0,1]. 1 is better\n",
        "#VERIFY\n",
        "def calculate_f_measureOLD(partition1, partition2):\n",
        "    tp = sum(1 for i in partition1 for j in partition2 if i == j)  # Conta os verdadeiros positivos\n",
        "    fp = len(partition1) - tp  # Calcula os falsos positivos\n",
        "    fn = len(partition2) - tp  # Calcula os falsos negativos\n",
        "\n",
        "    f_measure = (2 * tp) / (2 * tp + fp + fn)\n",
        "    return f_measure\n",
        "\n",
        "def calculate_f_measure(partition1, partition2):\n",
        "\n",
        "    f_measure = f1_score(partition1, partition2, average='micro')\n",
        "    return f_measure \n",
        "\n",
        "#from:\n",
        "#https://pythonhosted.org/scikit-fuzzy/api/skfuzzy.cluster.html\n",
        "def skfuzzy_fcm(data, n_clusters_C, m,  error_e=0.000001, maxiter_T=100, distance_metric='cityblock'):\n",
        "\n",
        "  #É preciso obter a matriz transposta, já que o método espera uma\n",
        "  #matriz de shape (S, N), i.e. (num_grupos, num_elementos)\n",
        "  # print(data.shape)\n",
        "  data = data.T\n",
        "  # print(data.shape)\n",
        "  #data_city_block = cdist(data, data, metric='euclidean') #cityblock, euclidean, cosine #IS THIS RIGHT?\n",
        "  #print(data_city_block, data_city_block.shape)\n",
        "\n",
        "  # Perform Fuzzy C-means clustering\n",
        "  cntr, u, u0, d, jm, p, fpc = fuzz.cluster.cmeans(\n",
        "      data, #IT WAS: data_city_block.T. Is this right?  \n",
        "      n_clusters_C,\n",
        "      m=m,\n",
        "      error=error_e,\n",
        "      maxiter=maxiter_T,\n",
        "      metric=distance_metric\n",
        "  )\n",
        "\n",
        "  # The 'u' matrix contains the fuzzy membership values for each data point\n",
        "  return  cntr, u, u0, d, jm, p, fpc"
      ]
    },
    {
      "cell_type": "code",
      "source": [
        "\"\"\"\n",
        "Compare metrics in which higher values means better results\n",
        "\"\"\"\n",
        "def compare_metrics_higher_better(a, b, partition_a, partition_b, metric_name):\n",
        "\n",
        "  if(a > b):\n",
        "    print(partition_a + ' com melhor ' + metric_name)\n",
        "  elif(a < b):\n",
        "    print(partition_b + ' com melhor ' + metric_name)\n",
        "  else:\n",
        "    print('resultados iguais para ' + metric_name)\n",
        "\n",
        "\n",
        "\"\"\"\n",
        "Compare metrics in which LOWER values means better results\n",
        "\"\"\"\n",
        "def compare_metrics_lower_better(a, b, partition_a, partition_b, metric_name):\n",
        "\n",
        "  if(a < b):\n",
        "    print(partition_a + ' com melhor ' + metric_name)\n",
        "  elif(a > b):\n",
        "    print(partition_b + ' com melhor ' + metric_name)\n",
        "  else:\n",
        "    print('resultados iguais para ' + metric_name)\n",
        "\n",
        "\n",
        "def copyfile(file, path_source, path_dest):\n",
        "  import shutil\n",
        "  import os\n",
        "\n",
        "  full_source_path_file = os.path.join(path_source, file)\n",
        "  source_path = full_source_path_file\n",
        "\n",
        "  #get destination path\n",
        "  full_dest_path_file = os.path.join(path_dest, file)\n",
        "  destination_path = full_dest_path_file\n",
        "\n",
        "  shutil.copy(source_path, destination_path)"
      ],
      "metadata": {
        "id": "n90LteEeyfC5"
      },
      "execution_count": 8,
      "outputs": []
    },
    {
      "cell_type": "code",
      "source": [
        "\"\"\"\n",
        "I. Considere os dados \"Image Segmentation\" do site uci machine learning\n",
        "repository (https://archive.ics.uci.edu/ml/datasets/Image+Segmentation).\n",
        "\n",
        "\"\"\"\n",
        "\n",
        "#To be used in Google Drive to save result files properly\n",
        "PATH_DRIVE_RESULTS_FOLDER='/content/drive/MyDrive/Projeto AM Francisco/resultados_questao_1'\n",
        "PATH_CONTENT_DRIVE='/content'\n",
        "\n",
        "\n",
        "NUMBER_OF_DATASETS = 3\n",
        "datasets_names = ['Dataset 1 (shape)', 'Dataset 2 (RGB)', 'Dataset 3 (shape + RGB)']\n",
        "\n",
        "PATH = 'https://raw.githubusercontent.com/allansdefreitas/unsupervised-learning/main/segmentation.data'\n",
        "PATH2 = 'https://raw.githubusercontent.com/allansdefreitas/unsupervised-learning/main/segmentation.test'\n",
        "\n",
        "dataset_original = pd.read_csv(PATH, sep=',')\n",
        "dataset_original2 = pd.read_csv(PATH2, sep=',')\n",
        "\n",
        "#concat datasets\n",
        "frames = [dataset_original, dataset_original2]\n",
        "dataset_original_with_indexes = pd.concat(frames)\n",
        "\n",
        "dataset_without_indexes = dataset_original_with_indexes.reset_index(drop=True)\n",
        "\n",
        "#obter os labels a priori\n",
        "indexes = dataset_original_with_indexes.index\n",
        "indexes_label = []\n",
        "\n",
        "for i in indexes:\n",
        "    indexes_label.append(i)\n",
        "\n",
        "le = preprocessing.LabelEncoder()\n",
        "labels_a_priori = le.fit_transform(indexes_label)\n",
        "\n",
        "labels_clusters_names = ['0', '1', '2', '3', '4', '5', '6']\n",
        "\n",
        "\"\"\" Considere 3 datasets: \"\"\"\n",
        "\"\"\" 1) primeiro considerando as variáveis 4 a 9 (shape) ----------\"\"\"\n",
        "\n",
        "dataset_1 = dataset_without_indexes.iloc[:,3:9]\n",
        "\n",
        "#get the labels of features: the labels of each att\n",
        "dataset_1_features_labels = dataset_1.columns.values.tolist() \n",
        "\n",
        "#pre-processing of dataset\n",
        "X_dataset_1 = preprocess_dataset(dataset_1)\n",
        "\n",
        "\n",
        "\"\"\"2) o segundo considerando as variaveis 10 a 19 (rgb) ----------\"\"\"\n",
        "dataset_2 = dataset_without_indexes.iloc[:,9:19]\n",
        "\n",
        "#get the labels of features: the labels of each att\n",
        "dataset_2_features_labels = dataset_2.columns.values.tolist() \n",
        "\n",
        "#pre-processing of dataset\n",
        "X_dataset_2 = preprocess_dataset(dataset_2)\n",
        "\n",
        "\"\"\"3) O terceiro considerando as variaveis 4 a 19 (shape + rgb) -------\"\"\"\n",
        "dataset_3 = dataset_without_indexes.iloc[:,3:19]\n",
        "\n",
        "#get the labels of features: the labels of each att\n",
        "dataset_3_features_labels = dataset_3.columns.values.tolist() \n",
        "\n",
        "#pre-processing of dataset\n",
        "X_dataset_3 = preprocess_dataset(dataset_3)"
      ],
      "metadata": {
        "id": "pcojygaCKxhO"
      },
      "execution_count": 9,
      "outputs": []
    },
    {
      "cell_type": "code",
      "source": [
        "\"\"\"\n",
        "save datasets to csv files\n",
        "\"\"\"\n",
        "def save_U_and_centroids_matrix_csv(membership_matrix_U, centroids, m=''):\n",
        "\n",
        "  # save i-th dataset to csv file\n",
        "  # filename = 'dataset_'+ str(i + 1) + '_U_matrix_m_' + str(m)\n",
        "  filename = 'dataset_'+ str(i + 1) + '_U_matrix'\n",
        "  savetxt(filename + '.csv', membership_matrix_U, delimiter=',')\n",
        "\n",
        "  # save i-th centroids to csv file\n",
        "  filename = 'dataset_'+ str(i + 1) + '_centroids_matrix'\n",
        "  # filename = 'dataset_'+ str(i + 1) + '_centroids_matrix_m_' + str(m)\n",
        "  savetxt(filename + '.csv', centroids, delimiter=',')"
      ],
      "metadata": {
        "id": "k3araP0JIgMT"
      },
      "execution_count": 10,
      "outputs": []
    },
    {
      "cell_type": "code",
      "source": [
        "\"\"\" Em cada dataset execute o algoritmo FCM com a distância de City-Block\n",
        "50 vezes para obter uma partição fuzzy em 7 grupos e selecione o melhor\n",
        "resultado segundo a função objetivo. \"\"\""
      ],
      "metadata": {
        "colab": {
          "base_uri": "https://localhost:8080/",
          "height": 35
        },
        "id": "p98QnSEiOBYE",
        "outputId": "c3874ef8-6d64-4cbc-9a19-c1f285acb396"
      },
      "execution_count": 11,
      "outputs": [
        {
          "output_type": "execute_result",
          "data": {
            "text/plain": [
              "' Em cada dataset execute o algoritmo FCM com a distância de City-Block\\n50 vezes para obter uma partição fuzzy em 7 grupos e selecione o melhor\\nresultado segundo a função objetivo. '"
            ],
            "application/vnd.google.colaboratory.intrinsic+json": {
              "type": "string"
            }
          },
          "metadata": {},
          "execution_count": 11
        }
      ]
    },
    {
      "cell_type": "code",
      "source": [
        "#data = X_dataset_1\n",
        "n_clusters_C = 7\n",
        "m = 1.6 #{1.1; 1.6; 2.0}. 1.1 resuls on error: RuntimeWarning: overflow encountered in exp AND invalid value encountered in true_divide. USE OTHER IMPL OF FCM\n",
        "m_list = [1.1, 1., 2.0]\n",
        "error_e = 0.000001 #10−6\n",
        "maxiter_T = 100\n",
        "distance_metric = 'cityblock'\n",
        "\n",
        "best_results = 0\n",
        "times = 50 #50\n",
        "\n",
        "\n",
        "datasets = [X_dataset_1, X_dataset_2, X_dataset_3]\n",
        "best_results = []\n",
        "\n",
        "for i in range(NUMBER_OF_DATASETS):\n",
        "  \n",
        "  dataset_i = datasets[i]\n",
        "  centroids, U, iter, objective_value = get_best_partition(dataset_i, n_clusters_C, m, error_e, maxiter_T, distance_metric = distance_metric, times_to_run=times)\n",
        "  best_results.append([centroids, U, iter, objective_value])\n",
        "  print('best_objective_value : ', str(objective_value) + ' ' + datasets_names[i])\n",
        "\n",
        "#Salvar melhores matrizes de grau de associação (U) e centroids como arquivos csv\n",
        "\n",
        "#save datasets to csv files ---------------------##\n",
        "#get the centroids, too?\n",
        "for i in range(NUMBER_OF_DATASETS):\n",
        "  membership_matrix_U = best_results[i][1] #i-th membership_matrix\n",
        "  centroids_matrix = best_results[i][0] #i-th centroids matrix\n",
        "\n",
        "  # save i-th dataset to csv file\n",
        "  # filename = 'dataset_'+ str(i + 1) + '_U_matrix_m_' + str(m)\n",
        "  filename = 'dataset_'+ str(i + 1) + '_U_matrix'\n",
        "  savetxt(filename + '.csv', membership_matrix_U, delimiter=',')\n",
        "\n",
        "  # save i-th centroids to csv file\n",
        "  filename = 'dataset_'+ str(i + 1) + '_centroids_matrix'\n",
        "  # filename = 'dataset_'+ str(i + 1) + '_centroids_matrix_m_' + str(m)\n",
        "  savetxt(filename + '.csv', centroids_matrix, delimiter=',')"
      ],
      "metadata": {
        "id": "Wfy-459dGUdS",
        "colab": {
          "base_uri": "https://localhost:8080/"
        },
        "outputId": "f10927e8-35b3-431e-cee7-177b0ff65f9d"
      },
      "execution_count": 12,
      "outputs": [
        {
          "output_type": "stream",
          "name": "stdout",
          "text": [
            "best_objective_value :  5266.857545935556 Dataset 1 (shape)\n",
            "best_objective_value :  9407.945113564598 Dataset 2 (RGB)\n",
            "best_objective_value :  39153.59528295387 Dataset 3 (shape + RGB)\n"
          ]
        }
      ]
    },
    {
      "cell_type": "code",
      "source": [
        "\"\"\"\n",
        "\n",
        "best_objective_value :  5266.857569695955 Dataset 1 (shape)\n",
        "best_objective_value :  9407.94511211587 Dataset 2 (RGB)\n",
        "best_objective_value :  39153.62035101559 Dataset 3 (shape + RGB)\n",
        "\n",
        "\"\"\""
      ],
      "metadata": {
        "id": "VyLVutnI6Bgh",
        "colab": {
          "base_uri": "https://localhost:8080/",
          "height": 35
        },
        "outputId": "7e348e16-7b79-41a7-a766-45a44ee54d19"
      },
      "execution_count": 13,
      "outputs": [
        {
          "output_type": "execute_result",
          "data": {
            "text/plain": [
              "'\\n\\nbest_objective_value :  5266.857569695955 Dataset 1 (shape)\\nbest_objective_value :  9407.94511211587 Dataset 2 (RGB)\\nbest_objective_value :  39153.62035101559 Dataset 3 (shape + RGB)\\n\\n'"
            ],
            "application/vnd.google.colaboratory.intrinsic+json": {
              "type": "string"
            }
          },
          "metadata": {},
          "execution_count": 13
        }
      ]
    },
    {
      "cell_type": "code",
      "source": [
        "\"\"\"Para cada dataset e partição fuzzy, calcule o Modified partition coefficient\n",
        "e o Partition entropy. (OK. verificar) Comente\"\"\"\n",
        "\n",
        "#loading datasets (best results) from csv files --------------------##\n",
        "membership_matrixes = []\n",
        "centroids_matrixes = []\n",
        "\n",
        "for i in range(NUMBER_OF_DATASETS):\n",
        "\n",
        "  # get i-th dataset U matrix from csv file\n",
        "  filename = 'dataset_'+ str(i + 1) + '_U_matrix'\n",
        "  ith_membership_matrix = loadtxt(filename + '.csv', delimiter=',') #recover #i-th membership_matrix\n",
        "  membership_matrixes.append(ith_membership_matrix)\n",
        "\n",
        "  # get i-th dataset centroids from csv file\n",
        "  filename = 'dataset_'+ str(i + 1) + '_centroids_matrix'\n",
        "  ith_centroids_matrix = loadtxt(filename + '.csv', delimiter=',') #recover #i-th membership_matrix\n",
        "  centroids_matrixes.append(ith_centroids_matrix)\n",
        "\n",
        "\n",
        "#Obtendo Modified partition coefficient (MPC) e partition entropy para cada dataset\n",
        "\n",
        "mpc_and_partition_entropies = []\n",
        "\n",
        "for i in range(NUMBER_OF_DATASETS):\n",
        "\n",
        "  ith_mem_matrix = membership_matrixes[i]\n",
        "\n",
        "  mpc = calculate_mpc(ith_mem_matrix)\n",
        "  partition_entropy = calculate_partition_entropy(ith_mem_matrix)\n",
        "  MPC_PE_arr = np.array([mpc, partition_entropy])\n",
        "\n",
        "  # save i-th MPC and PE to csv file\n",
        "  filename = 'dataset_'+ str(i + 1) + '_MPC_and_PE'\n",
        "  savetxt(filename + '.csv', MPC_PE_arr, delimiter=',')\n",
        "\n",
        "  mpc_and_partition_entropies.append( [mpc, partition_entropy] )"
      ],
      "metadata": {
        "id": "jzOnO3gyM7JH"
      },
      "execution_count": 14,
      "outputs": []
    },
    {
      "cell_type": "code",
      "source": [
        "mpc_and_partition_entropies "
      ],
      "metadata": {
        "id": "w8s2yaJqI2ZR",
        "colab": {
          "base_uri": "https://localhost:8080/"
        },
        "outputId": "883bd247-8b1f-493e-93a2-ecd4694e5fd3"
      },
      "execution_count": 15,
      "outputs": [
        {
          "output_type": "execute_result",
          "data": {
            "text/plain": [
              "[[0.9150808093350676, 0.32559803126286235],\n",
              " [0.8874775687511534, 0.5040090010836095],\n",
              " [0.825425311305624, 0.8082426580041715]]"
            ]
          },
          "metadata": {},
          "execution_count": 15
        }
      ]
    },
    {
      "cell_type": "code",
      "source": [
        "\"\"\" Para cada dataset e partição fuzzy, produza uma partição CRISP em 7\n",
        "grupos e calcule o índice de Rand corrigido, e a F-measure (adaptada\n",
        "para agrupamento). Comente \"\"\"\n",
        "\n",
        "#obtendo partiçoes CRISP\n",
        "crisp_partitions = []\n",
        "\n",
        "for i in range(NUMBER_OF_DATASETS):\n",
        "\n",
        "  crisp = fuzzy_to_crisp_partition(membership_matrixes[i])\n",
        "\n",
        "  filename = 'dataset_'+ str(i + 1) + '_CRISP'\n",
        "  savetxt(filename + '.csv', crisp, delimiter=',')\n",
        "\n",
        "  crisp_partitions.append(crisp)\n",
        "\n",
        "#crisp_partitions"
      ],
      "metadata": {
        "id": "AwK0Et8zPnO4"
      },
      "execution_count": 16,
      "outputs": []
    },
    {
      "cell_type": "code",
      "source": [
        "#EXTRA: just to see\n",
        "label_names = labels_clusters_names\n",
        "\n",
        "for i in range(NUMBER_OF_DATASETS):\n",
        "  \n",
        "  filename = 'dataset_'+ str(i + 1) + '_CRISP_pie_chart'\n",
        "  ith_crisp_partition = crisp_partitions[i]\n",
        "  pie_plot_crisp_partition(ith_crisp_partition, label_names, filename)"
      ],
      "metadata": {
        "colab": {
          "base_uri": "https://localhost:8080/",
          "height": 1000
        },
        "id": "jJCo9EkuGkfv",
        "outputId": "878e9546-56c8-4360-acff-6f0f9f494572"
      },
      "execution_count": 17,
      "outputs": [
        {
          "output_type": "display_data",
          "data": {
            "text/plain": [
              "<Figure size 640x480 with 1 Axes>"
            ],
            "image/png": "[encoded data removed]"
          },
          "metadata": {}
        },
        {
          "output_type": "display_data",
          "data": {
            "text/plain": [
              "<Figure size 640x480 with 1 Axes>"
            ],
            "image/png": "[encoded data removed]"
          },
          "metadata": {}
        },
        {
          "output_type": "display_data",
          "data": {
            "text/plain": [
              "<Figure size 640x480 with 1 Axes>"
            ],
            "image/png": "[encoded data removed]"
          },
          "metadata": {}
        }
      ]
    },
    {
      "cell_type": "code",
      "source": [
        "\"\"\"Para cada dataset e partição fuzzy, calcule o índice de Rand corrigido, \n",
        "e a F-measure (adaptada para agrupamento). Comente\"\"\"\n",
        "\n",
        "#Obtendo Índice de range corrigido e f-measure para cada partição CRISP\n",
        "\n",
        "rand_index_f_measures = []\n",
        "\n",
        "rand_indexes = []\n",
        "f_measures = []\n",
        "\n",
        "datasets_labels_posteriori = []\n",
        "\n",
        "for i in range(NUMBER_OF_DATASETS):\n",
        "\n",
        "  ith_crisp_partition = crisp_partitions[i]\n",
        "  #get the current labels obtained by clustering\n",
        "  labels_posteriori = get_labels_from_crisp_or_fuzzy(ith_crisp_partition)\n",
        "  datasets_labels_posteriori.append(labels_posteriori)\n",
        "\n",
        "  #put it together with the true labels (labels_a_priori) to calculate the ARI\n",
        "  clustering_rand_index = calculate_ari(labels_posteriori, labels_a_priori)\n",
        "  f_measure = calculate_f_measure(labels_posteriori, labels_a_priori)\n",
        "\n",
        "  # save i-th ARI and F-measure to csv file\n",
        "  ARI_f_measure = np.array([clustering_rand_index, f_measure])\n",
        "  \n",
        "  filename = 'dataset_'+ str(i + 1) + '_ ARI_and_f_measure'\n",
        "  savetxt(filename + '.csv', ARI_f_measure, delimiter=',')\n",
        "\n",
        "  # save i-th labels a posteriori to csv file\n",
        "  filename = 'dataset_'+ str(i + 1) + '_ labels_posteriori'\n",
        "  savetxt(filename + '.csv', labels_posteriori, delimiter=',')\n",
        "   \n",
        "  rand_index_f_measures.append( [clustering_rand_index, f_measure] )"
      ],
      "metadata": {
        "id": "2dIMyq4pOS6j"
      },
      "execution_count": 18,
      "outputs": []
    },
    {
      "cell_type": "code",
      "source": [
        "rand_index_f_measures"
      ],
      "metadata": {
        "id": "G3BMaAtPPCTf",
        "colab": {
          "base_uri": "https://localhost:8080/"
        },
        "outputId": "d96c73b1-f1df-4982-d88d-dddf48fea99f"
      },
      "execution_count": 19,
      "outputs": [
        {
          "output_type": "execute_result",
          "data": {
            "text/plain": [
              "[[0.03152311167932584, 0.1341991341991342],\n",
              " [0.4522649095595356, 0.1787878787878788],\n",
              " [0.4901547265505307, 0.09220779220779221]]"
            ]
          },
          "metadata": {},
          "execution_count": 19
        }
      ]
    },
    {
      "cell_type": "code",
      "source": [
        "ARI_f_measure"
      ],
      "metadata": {
        "colab": {
          "base_uri": "https://localhost:8080/"
        },
        "id": "0k-kwkDVBCqj",
        "outputId": "8e73ff9a-2ab6-49ae-97e2-3966f7594bc7"
      },
      "execution_count": 20,
      "outputs": [
        {
          "output_type": "execute_result",
          "data": {
            "text/plain": [
              "array([0.49015473, 0.09220779])"
            ]
          },
          "metadata": {},
          "execution_count": 20
        }
      ]
    },
    {
      "cell_type": "code",
      "source": [
        "arr = ARI_f_measure"
      ],
      "metadata": {
        "id": "iW57APIzBo-O"
      },
      "execution_count": 21,
      "outputs": []
    },
    {
      "cell_type": "code",
      "source": [
        "arr"
      ],
      "metadata": {
        "colab": {
          "base_uri": "https://localhost:8080/"
        },
        "id": "ovLKqPT0BqMd",
        "outputId": "3bad55af-77e1-42d3-997f-087d97f0feef"
      },
      "execution_count": 22,
      "outputs": [
        {
          "output_type": "execute_result",
          "data": {
            "text/plain": [
              "array([0.49015473, 0.09220779])"
            ]
          },
          "metadata": {},
          "execution_count": 22
        }
      ]
    },
    {
      "cell_type": "code",
      "source": [
        "ARI_f_measure"
      ],
      "metadata": {
        "colab": {
          "base_uri": "https://localhost:8080/"
        },
        "id": "_3ooJsQDBW5o",
        "outputId": "ddc32dca-edc8-4a80-ee76-27e4cb4c841f"
      },
      "execution_count": 23,
      "outputs": [
        {
          "output_type": "execute_result",
          "data": {
            "text/plain": [
              "array([0.49015473, 0.09220779])"
            ]
          },
          "metadata": {},
          "execution_count": 23
        }
      ]
    },
    {
      "cell_type": "code",
      "source": [
        "\"\"\"\n",
        "Compare as partições crisp em 7 grupos duas a duas com o índice de\n",
        "Rand corrigido, e a F-measure. Comente.\n",
        "\"\"\""
      ],
      "metadata": {
        "colab": {
          "base_uri": "https://localhost:8080/",
          "height": 35
        },
        "id": "hNRljUMSOt3G",
        "outputId": "665f0c37-8ad3-41c6-e7ce-1335712cf739"
      },
      "execution_count": 24,
      "outputs": [
        {
          "output_type": "execute_result",
          "data": {
            "text/plain": [
              "'\\nCompare as partições crisp em 7 grupos duas a duas com o índice de\\nRand corrigido, e a F-measure. Comente.\\n'"
            ],
            "application/vnd.google.colaboratory.intrinsic+json": {
              "type": "string"
            }
          },
          "metadata": {},
          "execution_count": 24
        }
      ]
    },
    {
      "cell_type": "code",
      "source": [
        "# dataset_1 e dataset_2 -----------------------------------------------\n",
        "\n",
        "partition_a = 'dataset_1'\n",
        "partition_b = 'dataset_2'\n",
        "\n",
        "\n",
        "#comparando Rand Index\n",
        "metric_name = 'Rand Index'\n",
        "\n",
        "print('Comparing ', partition_a ,  ' e ', partition_b, \"--------\\n\")\n",
        "\n",
        "ari_a =  rand_index_f_measures[0][0]\n",
        "ari_b =  rand_index_f_measures[1][0]\n",
        "\n",
        "print(metric_name + ': ', str(ari_a) +' e ' + str(ari_b))\n",
        "\n",
        "compare_metrics_higher_better(ari_a, ari_b, partition_a, partition_b, metric_name)\n",
        "\n",
        "\n",
        "#comparando F-measure\n",
        "metric_name = 'F-measure'\n",
        "f1_a =  rand_index_f_measures[0][1]\n",
        "f1_b =  rand_index_f_measures[1][1]\n",
        "\n",
        "print(metric_name + ': ', str(f1_a) + ' e ' + str(f1_b) )\n",
        "compare_metrics_higher_better(f1_a, f1_b, partition_a, partition_b, metric_name)\n",
        "\n",
        "print(\"\\n\\n\")\n",
        "\n",
        "# dataset_1 e dataset_3 -----------------------------------------------\n",
        "partition_a = 'dataset_1'\n",
        "partition_b = 'dataset_3'\n",
        "\n",
        "#comparando Rand Index\n",
        "metric_name = 'Rand Index'\n",
        "\n",
        "print('Comparing ', partition_a ,  ' e ', partition_b, \"--------\\n\")\n",
        "\n",
        "ari_a =  rand_index_f_measures[0][0]\n",
        "ari_b =  rand_index_f_measures[2][0]\n",
        "\n",
        "print(metric_name + ': ', str(ari_a) +' e ' + str(ari_b))\n",
        "\n",
        "compare_metrics_higher_better(ari_a, ari_b, partition_a, partition_b, metric_name)\n",
        "\n",
        "\n",
        "#comparando F-measure\n",
        "metric_name = 'F-measure'\n",
        "f1_a =  rand_index_f_measures[0][1]\n",
        "f1_b =  rand_index_f_measures[2][1]\n",
        "\n",
        "print(metric_name + ': ', str(f1_a) + ' e ' + str(f1_b) )\n",
        "compare_metrics_higher_better(f1_a, f1_b, partition_a, partition_b, metric_name)\n",
        "\n",
        "print(\"\\n\\n\")\n",
        "# dataset_2 e dataset_3 -----------------------------------------------\n",
        "partition_a = 'dataset_2'\n",
        "partition_b = 'dataset_3'\n",
        "\n",
        "#comparando Rand Index\n",
        "metric_name = 'Rand Index'\n",
        "print('Comparing ', partition_a ,  ' e ', partition_b, \"--------\\n\")\n",
        "\n",
        "ari_a =  rand_index_f_measures[1][0]\n",
        "ari_b =  rand_index_f_measures[2][0]\n",
        "\n",
        "print(metric_name + ': ', str(ari_a) +' e ' + str(ari_b))\n",
        "\n",
        "compare_metrics_higher_better(ari_a, ari_b, partition_a, partition_b, metric_name)\n",
        "\n",
        "#comparando F-measure\n",
        "metric_name = 'F-measure'\n",
        "f1_a =  rand_index_f_measures[1][1]\n",
        "f1_b =  rand_index_f_measures[2][1]\n",
        "\n",
        "print(metric_name + ': ', str(f1_a) + ' e ' + str(f1_b) )\n",
        "compare_metrics_higher_better(f1_a, f1_b, partition_a, partition_b, metric_name)"
      ],
      "metadata": {
        "colab": {
          "base_uri": "https://localhost:8080/"
        },
        "id": "hKGfVkUTPVUD",
        "outputId": "d47c1877-8907-4b58-ae54-83aed849b820"
      },
      "execution_count": 25,
      "outputs": [
        {
          "output_type": "stream",
          "name": "stdout",
          "text": [
            "Comparing  dataset_1  e  dataset_2 --------\n",
            "\n",
            "Rand Index:  0.03152311167932584 e 0.4522649095595356\n",
            "dataset_2 com melhor Rand Index\n",
            "F-measure:  0.1341991341991342 e 0.1787878787878788\n",
            "dataset_2 com melhor F-measure\n",
            "\n",
            "\n",
            "\n",
            "Comparing  dataset_1  e  dataset_3 --------\n",
            "\n",
            "Rand Index:  0.03152311167932584 e 0.4901547265505307\n",
            "dataset_3 com melhor Rand Index\n",
            "F-measure:  0.1341991341991342 e 0.09220779220779221\n",
            "dataset_1 com melhor F-measure\n",
            "\n",
            "\n",
            "\n",
            "Comparing  dataset_2  e  dataset_3 --------\n",
            "\n",
            "Rand Index:  0.4522649095595356 e 0.4901547265505307\n",
            "dataset_3 com melhor Rand Index\n",
            "F-measure:  0.1787878787878788 e 0.09220779220779221\n",
            "dataset_2 com melhor F-measure\n"
          ]
        }
      ]
    },
    {
      "cell_type": "code",
      "source": [
        "#entender via video aula etc sobre a aplicação do indice de rand corrigido e f-measure\n",
        "#matrizes de confusão para agrupamento"
      ],
      "metadata": {
        "id": "eJWiss96Qoit"
      },
      "execution_count": 26,
      "outputs": []
    },
    {
      "cell_type": "code",
      "source": [
        "\"\"\"\n",
        "a matrix de confusão\n",
        "da partição crisp versus a partição a priori;\n",
        "\n",
        "tipo:\n",
        "\n",
        "m=1.1\n",
        "\n",
        "dataset 1 x a priori\n",
        "dataset 2 x a priori\n",
        "dataset 3 x a priori\n",
        "\n",
        "tipo:\n",
        "\n",
        "m=1.6\n",
        "\n",
        "dataset 1 x a priori\n",
        "dataset 2 x a priori\n",
        "dataset 3 x a priori\n",
        "\n",
        "m=2.0\n",
        "\n",
        "dataset 1 x a priori\n",
        "dataset 2 x a priori\n",
        "dataset 3 x a priori\n",
        "\n",
        "\"\"\""
      ],
      "metadata": {
        "id": "rVp0EsAPCbSO"
      },
      "execution_count": null,
      "outputs": []
    },
    {
      "cell_type": "code",
      "source": [
        "\"\"\"iii) a matrix de confusão de\n",
        "uma partição crisp versus a outra;\n",
        "\n",
        "\n",
        "seria algo como:\n",
        "dataset 1 m 1.1 vs dataset 1 m 1.1\n",
        "dataset 1 m 1.1 vs dataset 1 m 1.6\n",
        "dataset 1 m 1.1 vs dataset 1 m 2.0\n",
        "dataset 1 m 1.1 vs dataset 2 m 1.1\n",
        "dataset 1 m 1.1 vs dataset 1 m 1.6\n",
        "....\n",
        "dataset 3 m 2.0 vs dataset 3 m 1.1\n",
        "dataset 3 m 2.0 vs dataset 3 m 1.6\n",
        "dataset 3 m 2.0 vs dataset 3 m 2.0\n",
        "\"\"\""
      ],
      "metadata": {
        "id": "I_YPpYe4CbVB"
      },
      "execution_count": null,
      "outputs": []
    },
    {
      "cell_type": "code",
      "source": [
        "\"\"\"\n",
        "Para o melhor resultado imprimir: \n",
        "i) os protótipos (centros de gravidade, centroids?)\n",
        "ii) a matrix de confusão da partição crisp versus a partição a priori; \n",
        "iii) a matrix de confusão de uma partição crisp versus a outra;\n",
        "\"\"\""
      ],
      "metadata": {
        "colab": {
          "base_uri": "https://localhost:8080/",
          "height": 35
        },
        "id": "sgFFGezuzi9C",
        "outputId": "31b5d5b2-89e8-4deb-f0d0-b9d8848fb601"
      },
      "execution_count": 27,
      "outputs": [
        {
          "output_type": "execute_result",
          "data": {
            "text/plain": [
              "'\\nPara o melhor resultado imprimir: \\ni) os protótipos (centros de gravidade, centroids?)\\nii) a matrix de confusão da partição crisp versus a partição a priori; \\niii) a matrix de confusão de uma partição crisp versus a outra;\\n'"
            ],
            "application/vnd.google.colaboratory.intrinsic+json": {
              "type": "string"
            }
          },
          "metadata": {},
          "execution_count": 27
        }
      ]
    },
    {
      "cell_type": "code",
      "source": [
        "\"\"\"i) os protótipos (centros de gravidade, centroids)\"\"\"\n",
        "\n",
        "#imprimir com seaborn ou matplot\n",
        "\n",
        "for i in range(NUMBER_OF_DATASETS):\n",
        "  print('protótipos da partição ' + str(i + 1) + ':\\n')\n",
        "  print(centroids_matrixes[i], \"\\n\")"
      ],
      "metadata": {
        "colab": {
          "base_uri": "https://localhost:8080/"
        },
        "id": "nGHBxCqvdPZZ",
        "outputId": "18c15a7c-c0ba-4b75-8752-3993f52e55f7"
      },
      "execution_count": 28,
      "outputs": [
        {
          "output_type": "stream",
          "name": "stdout",
          "text": [
            "protótipos da partição 1:\n",
            "\n",
            "[[-1.82701950e-01  4.70474161e+00  6.18295217e-01  8.24895410e-02\n",
            "   7.31689427e-01  6.04624837e-02]\n",
            " [ 2.54865012e+00 -1.70314098e-01 -5.99583353e-02 -8.68890827e-02\n",
            "  -7.50431496e-02 -1.04628299e-01]\n",
            " [-3.57020649e-01  4.36308638e+00  7.18750775e+00  1.21357022e+01\n",
            "   9.78242121e+00  1.88923549e+01]\n",
            " [-3.54858226e-01 -1.91919518e-01 -2.92664256e-01 -1.06047735e-01\n",
            "  -3.24318902e-01 -1.20804102e-01]\n",
            " [-3.50380059e-01 -8.52531996e-02  6.15927202e-01  2.38958375e-01\n",
            "   2.99661670e+00  1.29115354e+00]\n",
            " [-3.45048261e-01 -1.73438796e-01  6.27468906e-01 -2.28072626e-03\n",
            "   4.66789412e-01 -1.78923871e-02]\n",
            " [-3.56910444e-01  1.15635651e+00  8.26759949e+00  1.12613751e+01\n",
            "   5.49692054e+00  5.12868890e+00]] \n",
            "\n",
            "protótipos da partição 2:\n",
            "\n",
            "[[ 2.37740473  2.43931889  2.24475826  2.45038907 -1.37131717  1.06497744\n",
            "  -0.42927361  2.25430758 -1.1362625  -0.61186688]\n",
            " [-0.29950764 -0.29245882 -0.2546467  -0.35670349  0.30749935  0.05364891\n",
            "  -0.39924626 -0.27985167 -0.15229436 -0.37993469]\n",
            " [-0.82227017 -0.75635407 -0.85451847 -0.83813924  1.26673889 -0.88959991\n",
            "   0.23700041 -0.8785686   0.10283829  0.18644441]\n",
            " [ 1.79414093  1.69461768  1.87408328  1.7746173  -2.3619477   2.00495833\n",
            "  -1.02850564  1.8784021  -0.69295994 -0.60483167]\n",
            " [ 0.43949306  0.42749896  0.5136638   0.35743756 -0.46619923  0.85534418\n",
            "  -0.9817139   0.49884832 -0.56203888 -0.45019738]\n",
            " [-0.8752205  -0.88776066 -0.85759651 -0.87461188  0.59787489 -0.60028476\n",
            "   0.41752938 -0.8915959   1.80883083 -0.51636627]\n",
            " [-0.56037032 -0.57846421 -0.69257335 -0.37853396  0.29146654 -1.34167891\n",
            "   1.98092215 -0.57586634 -0.06426411  2.34155314]] \n",
            "\n",
            "protótipos da partição 3:\n",
            "\n",
            "[[ 1.59133756e-01 -7.70949732e-02  4.86795223e-02 -5.25596300e-02\n",
            "  -6.69003553e-02 -7.29934193e-02 -3.86031805e-01 -3.69667983e-01\n",
            "  -3.42425432e-01 -4.49749603e-01  4.62379726e-01 -2.56901576e-02\n",
            "  -4.20131320e-01 -3.68133283e-01 -2.06417926e-02 -3.10740144e-01]\n",
            " [ 2.52446916e-01 -1.50701358e-01 -1.07844794e-01 -8.63458429e-02\n",
            "  -9.86459005e-02 -1.02183855e-01 -5.64215325e-01 -5.81312842e-01\n",
            "  -6.92968812e-01 -3.87425687e-01  3.03634246e-01 -1.32181743e+00\n",
            "   1.93506966e+00 -5.80154875e-01 -7.40033439e-02  2.28487560e+00]\n",
            " [-1.94849288e-01  1.14301921e-01  5.04532131e-01  6.59729915e-02\n",
            "   1.26157394e+00  3.46228423e-01  6.20887851e-03  2.40631184e-03\n",
            "   4.15099682e-02 -3.24499394e-02 -3.95535235e-02  2.40620127e-01\n",
            "  -3.68017628e-01  2.09057086e-02 -5.03084007e-01 -4.75938065e-01]\n",
            " [-2.34715178e-01 -1.25202027e-01 -3.68648793e-01 -9.33385168e-02\n",
            "  -4.04079520e-01 -1.11119627e-01 -8.61769077e-01 -8.43386628e-01\n",
            "  -8.64562139e-01 -8.66663117e-01  8.67531768e-01 -7.25473447e-01\n",
            "   3.59233117e-01 -8.94715898e-01  1.16575692e+00 -2.49432880e-01]\n",
            " [-1.37813964e-01 -1.76994637e-01 -3.71219389e-01 -1.11468935e-01\n",
            "  -3.38647401e-01 -1.24523760e-01  2.13393794e+00  2.12976856e+00\n",
            "   2.08759309e+00  2.16996881e+00 -1.77299589e+00  1.44108262e+00\n",
            "  -6.63716074e-01  2.09492923e+00 -9.57132595e-01 -6.08848717e-01]\n",
            " [-3.56241645e-01  3.50502716e+00  7.16507849e+00  1.05296590e+01\n",
            "   8.65297097e+00  1.28568649e+01  4.51348327e-01  3.99353314e-01\n",
            "   4.61110915e-01  4.84797232e-01 -8.38811501e-01  4.35339351e-01\n",
            "   1.03538755e-01  4.45497662e-01 -3.23018466e-01 -6.73849491e-01]\n",
            " [ 8.37987586e-03  1.03745487e-01  2.30296567e-01 -5.99063421e-02\n",
            "   1.20932363e-01 -9.01029228e-02  4.79557350e-01  4.65540144e-01\n",
            "   5.60729393e-01  3.90630299e-01 -5.17134423e-01  9.34918005e-01\n",
            "  -1.06545912e+00  5.46577873e-01 -5.51655526e-01 -4.42696178e-01]] \n",
            "\n"
          ]
        }
      ]
    },
    {
      "cell_type": "code",
      "source": [
        "\"\"\"\n",
        "ii) a matrix de confusão da partição crisp versus a partição a priori; \n",
        "\"\"\""
      ],
      "metadata": {
        "colab": {
          "base_uri": "https://localhost:8080/",
          "height": 35
        },
        "id": "OASQTMCO_QiG",
        "outputId": "dc52e27f-0182-43e7-a719-8681a930c459"
      },
      "execution_count": 29,
      "outputs": [
        {
          "output_type": "execute_result",
          "data": {
            "text/plain": [
              "'\\nii) a matrix de confusão da partição crisp versus a partição a priori; \\n'"
            ],
            "application/vnd.google.colaboratory.intrinsic+json": {
              "type": "string"
            }
          },
          "metadata": {},
          "execution_count": 29
        }
      ]
    },
    {
      "cell_type": "code",
      "source": [
        "#Here, each partition's confusion matrix is compared againts the true labels of dataset i.e. 'labels_a_priori' list\n",
        "for i in range(NUMBER_OF_DATASETS):\n",
        "\n",
        "  ith_labels_posteriori = datasets_labels_posteriori[i]\n",
        "  dataset_name = datasets_names[i]\n",
        "\n",
        "  plot_confusion_matrix(labels_a_priori, ith_labels_posteriori, labels_clusters_names, save_fig=True, dataset_name=dataset_name)"
      ],
      "metadata": {
        "colab": {
          "base_uri": "https://localhost:8080/",
          "height": 1000
        },
        "id": "X77O9w9OsGIx",
        "outputId": "176f1c52-f278-4004-fcff-9f7bdcd16b5f"
      },
      "execution_count": 30,
      "outputs": [
        {
          "output_type": "display_data",
          "data": {
            "text/plain": [
              "<Figure size 1200x1000 with 2 Axes>"
            ],
            "image/png": "[encoded data removed]"
          },
          "metadata": {}
        },
        {
          "output_type": "display_data",
          "data": {
            "text/plain": [
              "<Figure size 1200x1000 with 2 Axes>"
            ],
            "image/png": "[encoded data removed]"
          },
          "metadata": {}
        },
        {
          "output_type": "display_data",
          "data": {
            "text/plain": [
              "<Figure size 1200x1000 with 2 Axes>"
            ],
            "image/png": "[encoded data removed]"
          },
          "metadata": {}
        }
      ]
    },
    {
      "cell_type": "code",
      "source": [
        "\"\"\"iii) a matrix de confusão de uma partição crisp versus a outra; ???\n",
        "\"\"\""
      ],
      "metadata": {
        "colab": {
          "base_uri": "https://localhost:8080/",
          "height": 35
        },
        "id": "1jGeVe0-1K54",
        "outputId": "56657d40-2f6b-49b7-a980-a8f00d755f29"
      },
      "execution_count": 31,
      "outputs": [
        {
          "output_type": "execute_result",
          "data": {
            "text/plain": [
              "'iii) a matrix de confusão de uma partição crisp versus a outra; ???\\n'"
            ],
            "application/vnd.google.colaboratory.intrinsic+json": {
              "type": "string"
            }
          },
          "metadata": {},
          "execution_count": 31
        }
      ]
    },
    {
      "cell_type": "code",
      "source": [
        "\"\"\"\n",
        "Save all result files in DRIVE\n",
        "\"\"\""
      ],
      "metadata": {
        "colab": {
          "base_uri": "https://localhost:8080/",
          "height": 35
        },
        "id": "gOp-DibJ1SJL",
        "outputId": "ad7d278c-f6f9-448b-be01-23e71402ed0d"
      },
      "execution_count": 32,
      "outputs": [
        {
          "output_type": "execute_result",
          "data": {
            "text/plain": [
              "'\\nSave all result files in DRIVE\\n'"
            ],
            "application/vnd.google.colaboratory.intrinsic+json": {
              "type": "string"
            }
          },
          "metadata": {},
          "execution_count": 32
        }
      ]
    },
    {
      "cell_type": "code",
      "source": [],
      "metadata": {
        "id": "zj3Or1_Z-mup"
      },
      "execution_count": 32,
      "outputs": []
    },
    {
      "cell_type": "code",
      "source": [
        "#!cp -r '/content' '/content/drive/MyDrive/Projeto AM Francisco/resultados_questao_1' #no\n",
        "\n",
        "def save_result_files_drive(path_content_drive, path_drive_results_folder, new_folder_name=''):\n",
        "\n",
        "  import shutil\n",
        "  import os\n",
        "\n",
        "  \n",
        "  path_drive_results_folder = os.path.join(path_drive_results_folder, new_folder_name)\n",
        "  # os.mkdir(path_drive_results_folder)\n",
        "\n",
        "  for file in os.listdir(path_content_drive):\n",
        "      if file.endswith(\".png\"):\n",
        "        print(file)\n",
        "        copyfile(file, path_content_drive, path_drive_results_folder)\n",
        "\n",
        "      elif file.endswith(\".csv\"):\n",
        "        print(file)\n",
        "        copyfile(file, path_content_drive, path_drive_results_folder)\n",
        "\n",
        "\n",
        "\"\"\"\n",
        "Clean the drive local environment. Run it before an EXPERIMENT\n",
        "\"\"\"\n",
        "def clean_content_result_files(path_content_drive):\n",
        "\n",
        "  import shutil\n",
        "  import os\n",
        "  \n",
        "  for file in os.listdir(path_content_drive):\n",
        "      if file.endswith(\".png\"):\n",
        "        full_file_path = os.path.join(path_content_drive, file)\n",
        "        os.remove(full_file_path) \n",
        "        print(file + ' removed')\n",
        "\n",
        "      elif file.endswith(\".csv\"):\n",
        "\n",
        "        full_file_path = os.path.join(path_content_drive, file)\n",
        "        os.remove(full_file_path) \n",
        "        print(file + ' removed')"
      ],
      "metadata": {
        "id": "62p-Seuz6Pfa"
      },
      "execution_count": 37,
      "outputs": []
    },
    {
      "cell_type": "code",
      "source": [
        "cd '/content/drive/MyDrive/Projeto AM Francisco/resultados_questao_1/m_1.6'"
      ],
      "metadata": {
        "colab": {
          "base_uri": "https://localhost:8080/"
        },
        "id": "bJd3ka8dCgrt",
        "outputId": "6ea5f291-b381-48bc-b0a8-4abf7ea7b0b6"
      },
      "execution_count": 34,
      "outputs": [
        {
          "output_type": "stream",
          "name": "stdout",
          "text": [
            "[Errno 2] No such file or directory: '/content/drive/MyDrive/Projeto AM Francisco/resultados_questao_1/m_1.6'\n",
            "/content\n"
          ]
        }
      ]
    },
    {
      "cell_type": "code",
      "source": [
        "if EXPERIMENT_MODE:\n",
        "  new_folder_name = 'm_' + str(m)\n",
        "  save_result_files_drive(PATH_CONTENT_DRIVE, PATH_DRIVE_RESULTS_FOLDER, new_folder_name = new_folder_name)"
      ],
      "metadata": {
        "id": "g3v6h-MI7_Ti"
      },
      "execution_count": 35,
      "outputs": []
    },
    {
      "cell_type": "code",
      "source": [
        "assert False"
      ],
      "metadata": {
        "id": "x0a3_P_B_7hG"
      },
      "execution_count": null,
      "outputs": []
    },
    {
      "cell_type": "code",
      "source": [
        "clean_content_result_files(PATH_CONTENT_DRIVE)"
      ],
      "metadata": {
        "id": "z37kD4Hd_wXh"
      },
      "execution_count": null,
      "outputs": []
    },
    {
      "cell_type": "code",
      "source": [
        "#END OF CODE"
      ],
      "metadata": {
        "id": "y89gL0lT8i8A"
      },
      "execution_count": null,
      "outputs": []
    },
    {
      "cell_type": "code",
      "source": [
        "assert False"
      ],
      "metadata": {
        "id": "GDNv6uqo-Cl6"
      },
      "execution_count": null,
      "outputs": []
    },
    {
      "cell_type": "code",
      "source": [
        "import os\n",
        "\n",
        "os.mkdir(\"allan\")"
      ],
      "metadata": {
        "id": "BV0NrCNa1SP4"
      },
      "execution_count": null,
      "outputs": []
    },
    {
      "cell_type": "code",
      "source": [
        "from sklearn.datasets import make_blobs\n",
        "from sklearn.preprocessing import StandardScaler\n",
        "\n",
        "# centers = [[1, 1], [-1, -1], [1, -1]]\n",
        "centers = centroids_matrixes[1]\n",
        "# X, labels_true = make_blobs(\n",
        "#     n_samples=2310, centers=centers, cluster_std=0.4, random_state=0\n",
        "# )\n",
        "\n",
        "# X = StandardScaler().fit_transform(X)\n",
        "\n",
        "X = X_dataset_2\n",
        "labels_true = labels_a_priori"
      ],
      "metadata": {
        "id": "oqBGt9P-t_gB"
      },
      "execution_count": null,
      "outputs": []
    },
    {
      "cell_type": "code",
      "source": [
        "import matplotlib.pyplot as plt\n",
        "\n",
        "plt.scatter(X[:, 5], X[:, 7])\n",
        "plt.show()"
      ],
      "metadata": {
        "id": "xPyRpwZnt_t7"
      },
      "execution_count": null,
      "outputs": []
    },
    {
      "cell_type": "code",
      "source": [
        "# my dataset\n",
        "import numpy as np\n",
        "from sklearn.cluster import DBSCAN\n",
        "from sklearn import metrics\n",
        "\n",
        "# db = DBSCAN(eps=0.3, min_samples=10).fit(X)\n",
        "# labels = db.labels_\n",
        "labels = datasets_labels_posteriori[1]\n",
        "\n",
        "# Number of clusters in labels, ignoring noise if present.\n",
        "# n_clusters_ = len(set(labels)) - (1 if -1 in labels else 0)\n",
        "n_clusters_ = 7\n",
        "n_noise_ = list(labels).count(-1)\n",
        "\n",
        "print(\"Estimated number of clusters: %d\" % n_clusters_)\n",
        "print(\"Estimated number of noise points: %d\" % n_noise_)"
      ],
      "metadata": {
        "id": "NtWUdqI4uTDp"
      },
      "execution_count": null,
      "outputs": []
    },
    {
      "cell_type": "code",
      "source": [
        "n_noise_"
      ],
      "metadata": {
        "id": "Sxfv80rXuHeV"
      },
      "execution_count": null,
      "outputs": []
    },
    {
      "cell_type": "code",
      "source": [
        "print(f\"Homogeneity: {metrics.homogeneity_score(labels_true, labels):.3f}\")\n",
        "print(f\"Completeness: {metrics.completeness_score(labels_true, labels):.3f}\")\n",
        "print(f\"V-measure: {metrics.v_measure_score(labels_true, labels):.3f}\")\n",
        "print(f\"Adjusted Rand Index: {metrics.adjusted_rand_score(labels_true, labels):.3f}\")\n",
        "print(\n",
        "    \"Adjusted Mutual Information:\"\n",
        "    f\" {metrics.adjusted_mutual_info_score(labels_true, labels):.3f}\"\n",
        ")\n",
        "print(f\"Silhouette Coefficient: {metrics.silhouette_score(X, labels):.3f}\")"
      ],
      "metadata": {
        "id": "sBoJ3k6Ct4X2"
      },
      "execution_count": null,
      "outputs": []
    },
    {
      "cell_type": "code",
      "source": [
        "unique_labels = set(labels)\n",
        "core_samples_mask = np.zeros_like(labels, dtype=bool)\n",
        "core_samples_mask[db.core_sample_indices_] = True\n",
        "\n",
        "colors = [plt.cm.Spectral(each) for each in np.linspace(0, 1, len(unique_labels))]\n",
        "for k, col in zip(unique_labels, colors):\n",
        "    if k == -1:\n",
        "        # Black used for noise.\n",
        "        col = [0, 0, 0, 1]\n",
        "\n",
        "    class_member_mask = labels == k\n",
        "\n",
        "    xy = X[class_member_mask & core_samples_mask]\n",
        "    plt.plot(\n",
        "        xy[:, 0],\n",
        "        xy[:, 1],\n",
        "        \"o\",\n",
        "        markerfacecolor=tuple(col),\n",
        "        markeredgecolor=\"k\",\n",
        "        markersize=14,\n",
        "    )\n",
        "\n",
        "    xy = X[class_member_mask & ~core_samples_mask]\n",
        "    plt.plot(\n",
        "        xy[:, 5],\n",
        "        xy[:, 8],\n",
        "        \"o\",\n",
        "        markerfacecolor=tuple(col),\n",
        "        markeredgecolor=\"k\",\n",
        "        markersize=6,\n",
        "    )\n",
        "\n",
        "plt.title(f\"Estimated number of clusters: {n_clusters_}\")\n",
        "plt.show()"
      ],
      "metadata": {
        "id": "RGtwGGPSs46U"
      },
      "execution_count": null,
      "outputs": []
    },
    {
      "cell_type": "code",
      "source": [
        "np.max(X_dataset_1[7])"
      ],
      "metadata": {
        "id": "q8WmNSx-xos0"
      },
      "execution_count": null,
      "outputs": []
    },
    {
      "cell_type": "code",
      "source": [],
      "metadata": {
        "id": "MNji4pwPuC0w"
      },
      "execution_count": null,
      "outputs": []
    },
    {
      "cell_type": "code",
      "source": [
        "centroids_matrixes[0]"
      ],
      "metadata": {
        "id": "DC9LIXRceELI"
      },
      "execution_count": null,
      "outputs": []
    },
    {
      "cell_type": "code",
      "source": [
        "#https://towardsdatascience.com/understanding-k-means-clustering-in-machine-learning-6a6e67336aa1"
      ],
      "metadata": {
        "id": "IBxAsZDahTPd"
      },
      "execution_count": null,
      "outputs": []
    },
    {
      "cell_type": "code",
      "source": [
        "labels_clusters_names"
      ],
      "metadata": {
        "id": "cFMy_4XFveg_"
      },
      "execution_count": null,
      "outputs": []
    },
    {
      "cell_type": "code",
      "source": [
        "\n",
        "\"\"\"ii) a matrix de confusão da partição crisp versus a partição a priori ?\"\"\"\n",
        "\n",
        "#from: https://www.analyticsvidhya.com/blog/2021/06/confusion-matrix-for-multi-class-classification/\n",
        "#https://scikit-learn.org/stable/modules/clustering.html\n",
        "#https://towardsdatascience.com/understanding-k-means-clustering-in-machine-learning-6a6e67336aa1\n",
        "\n",
        "\n",
        "#for IMAGE SEGMENTATION DATASET\n",
        "# Creating  a confusion matrix,which compares the y_test and y_pred\n",
        "labels_posteriori = datasets_labels_posteriori[1]\n",
        "\n",
        "cm = confusion_matrix(labels_a_priori, labels_posteriori)\n",
        "# Creating a dataframe for a array-formatted Confusion matrix,so it will be easy for plotting.\n",
        "mylist = list(labels_clusters_names)\n",
        "cm_df = pd.DataFrame(cm,\n",
        "                     index = list(labels_clusters_names), \n",
        "                     columns = list(labels_clusters_names))\n",
        "#Plotting the confusion matrix\n",
        "plt.figure(figsize=(12,10))\n",
        "sns.heatmap(cm_df, annot=True, fmt='g')\n",
        "plt.title('Confusion Matrix')\n",
        "plt.ylabel('Clusters a priori (actual)')\n",
        "plt.xlabel('Clusters a posteriori (predicted)')\n",
        "plt.show()"
      ],
      "metadata": {
        "id": "kxzHm9p9V1j_"
      },
      "execution_count": null,
      "outputs": []
    },
    {
      "cell_type": "code",
      "source": [],
      "metadata": {
        "id": "YnMvD7c1UOqT"
      },
      "execution_count": null,
      "outputs": []
    },
    {
      "cell_type": "markdown",
      "source": [
        "## More code"
      ],
      "metadata": {
        "id": "Cd1CyDJezjc6"
      }
    },
    {
      "cell_type": "code",
      "source": [
        "#data = X_dataset_1\n",
        "n_clusters_C = 7\n",
        "m = 2 #{1.1; 1.6; 2.0}. 1.1 resuls on error: RuntimeWarning: overflow encountered in exp AND invalid value encountered in true_divide. USE OTHER IMPL OF FCM\n",
        "distance_metric = 'cityblock'\n",
        "error_e=0.000001\n",
        "maxiter_T=100\n",
        "best_objective_value = 99999999999.9\n",
        "best_results = 0\n",
        "times = 1 #50\n",
        "\n",
        "\n",
        "\n",
        "datasets = [X_dataset_1, X_dataset_2, X_dataset_3]"
      ],
      "metadata": {
        "id": "_sc1LZSSa6WC"
      },
      "execution_count": null,
      "outputs": []
    },
    {
      "cell_type": "code",
      "source": [
        "# centroids, U, iter = fuzzy_cmeans(X_dataset_1, n_clusters_C, m, distance_metric = 'cityblock')\n",
        "\n",
        "cntr, u, u0, d, jm, p, fpc = skfuzzy_fcm(X_dataset_1.T, n_clusters_C, m, error_e, maxiter_T, distance_metric)\n",
        "centroids2, U, iter2, objective_functions = cntr, u, p, jm\n",
        "U"
      ],
      "metadata": {
        "id": "q_FkAtpsQAGB"
      },
      "execution_count": null,
      "outputs": []
    },
    {
      "cell_type": "code",
      "source": [
        "U[:,0], U.shape"
      ],
      "metadata": {
        "id": "DHzYiWhj0eW0"
      },
      "execution_count": null,
      "outputs": []
    },
    {
      "cell_type": "code",
      "source": [
        "#verificando validade do cálculo. OK\n",
        "C = 7\n",
        "sum = 0\n",
        "for i in range(C):\n",
        "\n",
        "  sum += U[i][0]\n",
        "\n",
        "sum"
      ],
      "metadata": {
        "id": "Gv3C6MdU04UY"
      },
      "execution_count": null,
      "outputs": []
    },
    {
      "cell_type": "code",
      "source": [
        "np.unique(preds)"
      ],
      "metadata": {
        "id": "wuvESTo_2fgf"
      },
      "execution_count": null,
      "outputs": []
    },
    {
      "cell_type": "code",
      "source": [
        "#https://www.youtube.com/watch?v=zEYxTGDYWYI (ok)\n",
        "#MORE ON: https://scikit-fuzzy.readthedocs.io/en/latest/auto_examples/plot_cmeans.html"
      ],
      "metadata": {
        "id": "BkP49UGg2ypR"
      },
      "execution_count": null,
      "outputs": []
    },
    {
      "cell_type": "code",
      "source": [
        "from __future__ import division, print_function\n",
        "import numpy as np\n",
        "import matplotlib.pyplot as plt\n",
        "import skfuzzy as fuzz\n",
        "\n",
        "colors = ['b', 'orange', 'g', 'r', 'c', 'm', 'y', 'k', 'Brown', 'ForestGreen']\n",
        "\n",
        "# Define three cluster centers\n",
        "centers = [[4, 2],\n",
        "           [1, 7],\n",
        "           [5, 6]]\n",
        "\n",
        "# Define three cluster sigmas in x and y, respectively\n",
        "sigmas = [[0.8, 0.3],\n",
        "          [0.3, 0.5],\n",
        "          [1.1, 0.7]]\n",
        "\n",
        "# Generate test data\n",
        "np.random.seed(42)  # Set seed for reproducibility\n",
        "xpts = np.zeros(1)\n",
        "ypts = np.zeros(1)\n",
        "labels = np.zeros(1)\n",
        "for i, ((xmu, ymu), (xsigma, ysigma)) in enumerate(zip(centers, sigmas)):\n",
        "    xpts = np.hstack((xpts, np.random.standard_normal(200) * xsigma + xmu))\n",
        "    ypts = np.hstack((ypts, np.random.standard_normal(200) * ysigma + ymu))\n",
        "    labels = np.hstack((labels, np.ones(200) * i))\n",
        "\n",
        "# Visualize the test data\n",
        "fig0, ax0 = plt.subplots()\n",
        "for label in range(3):\n",
        "    ax0.plot(xpts[labels == label], ypts[labels == label], '.',\n",
        "             color=colors[label])\n",
        "ax0.set_title('Test data: 200 points x3 clusters.')"
      ],
      "metadata": {
        "id": "3yT3OmL92yzZ"
      },
      "execution_count": null,
      "outputs": []
    },
    {
      "cell_type": "code",
      "source": [
        "alldata.shape"
      ],
      "metadata": {
        "id": "J9BjmITK3R-c"
      },
      "execution_count": null,
      "outputs": []
    },
    {
      "cell_type": "code",
      "source": [
        "# Set up the loop and plot\n",
        "fig1, axes1 = plt.subplots(3, 3, figsize=(8, 8))\n",
        "alldata = np.vstack((xpts, ypts))\n",
        "fpcs = []\n",
        "\n",
        "for ncenters, ax in enumerate(axes1.reshape(-1), 2):\n",
        "    cntr, u, u0, d, jm, p, fpc = fuzz.cluster.cmeans(\n",
        "        alldata, ncenters, 2, error=0.005, maxiter=1000, init=None)\n",
        "\n",
        "    # Store fpc values for later\n",
        "    fpcs.append(fpc)\n",
        "\n",
        "    # Plot assigned clusters, for each data point in training set\n",
        "    cluster_membership = np.argmax(u, axis=0)\n",
        "    for j in range(ncenters):\n",
        "        ax.plot(xpts[cluster_membership == j],\n",
        "                ypts[cluster_membership == j], '.', color=colors[j])\n",
        "\n",
        "    # Mark the center of each fuzzy cluster\n",
        "    for pt in cntr:\n",
        "        ax.plot(pt[0], pt[1], 'rs')\n",
        "\n",
        "    ax.set_title('Centers = {0}; FPC = {1:.2f}'.format(ncenters, fpc))\n",
        "    ax.axis('off')\n",
        "\n",
        "fig1.tight_layout()"
      ],
      "metadata": {
        "id": "n0vyCS1-3MUw"
      },
      "execution_count": null,
      "outputs": []
    },
    {
      "cell_type": "code",
      "source": [
        "#objective_value = calculate_objective(X_dataset_1, centroids, U, m, distance_metric)\n",
        "objective_value = calculate_objective(X_dataset_1.T, centroids, U, m, distance_metric)\n",
        "objective_value"
      ],
      "metadata": {
        "id": "enE2VdfDQGYb"
      },
      "execution_count": null,
      "outputs": []
    },
    {
      "cell_type": "code",
      "source": [
        "X_dataset_1.T.shape"
      ],
      "metadata": {
        "id": "DP6u4NjxWjAK"
      },
      "execution_count": null,
      "outputs": []
    },
    {
      "cell_type": "code",
      "source": [
        "import numpy as np\n",
        "import skfuzzy as fuzz\n",
        "from scipy.spatial.distance import cdist\n",
        "\n",
        "# Generate some random data\n",
        "#data = np.random.rand(100, 2)\n",
        "\n",
        "# Set the number of clusters\n",
        "num_clusters = 3\n",
        "\n",
        "# Apply city-block (Manhattan) distance effect\n",
        "data_city_block = cdist(data, data, metric='cityblock') #euclidean, cosine\n",
        "\n",
        "# Perform Fuzzy C-means clustering\n",
        "cntr, u, _, _, _, _, _ = fuzz.cluster.cmeans(\n",
        "    data_city_block.T,\n",
        "    num_clusters,\n",
        "    2,\n",
        "    error=0.005,\n",
        "    maxiter=1000\n",
        ")\n",
        "\n",
        "# The 'u' matrix contains the fuzzy membership values for each data point\n",
        "\n",
        "# Print the cluster centers\n",
        "print(\"Cluster centers:\")\n",
        "print(cntr)\n",
        "\n",
        "# Print the fuzzy membership values for the first data point\n",
        "print(\"Fuzzy membership values for data point 0:\")\n",
        "print(u[:, 0])\n"
      ],
      "metadata": {
        "id": "SezCy-sJQtR2"
      },
      "execution_count": null,
      "outputs": []
    },
    {
      "cell_type": "code",
      "source": [
        "\n",
        "import numpy as np\n",
        "import skfuzzy as fuzz\n",
        "from scipy.spatial.distance import cdist\n",
        "\n",
        "# Set the random seed for reproducibility\n",
        "RANDOM_SEED=42\n",
        "\n",
        "np.random.seed(RANDOM_SEED)\n",
        "\n",
        "# Generate some random data\n",
        "data = np.random.rand(100, 2)\n",
        "\n",
        "# Set the number of clusters\n",
        "num_clusters = 3\n",
        "\n",
        "# Apply city-block (Manhattan) distance effect\n",
        "data_city_block = cdist(data, data, metric='cityblock') #cityblock, euclidean, cosine\n",
        "\n",
        "# Set the random seed for numpy.random\n",
        "np.random.seed(RANDOM_SEED)\n",
        "\n",
        "# Perform Fuzzy C-means clustering\n",
        "# cntr, u, _, _, _, _, _ = fuzz.cluster.cmeans(\n",
        "cntr, u, u0, d, jm, p, fpc = fuzz.cluster.cmeans(\n",
        "    data_city_block.T,\n",
        "    num_clusters,\n",
        "    m=2,\n",
        "    error=0.005,\n",
        "    maxiter=1000\n",
        ")\n",
        "\n",
        "# The 'u' matrix contains the fuzzy membership values for each data point\n",
        "\n",
        "return_func = cntr, u, p\n",
        "\n",
        "# Print the cluster centers\n",
        "print(\"Cluster centers:\")\n",
        "print(cntr)\n",
        "\n",
        "# Print the fuzzy membership values for the first data point\n",
        "print(\"Fuzzy membership values for data point 0:\")\n",
        "print(u[:, 0])\n",
        "\n"
      ],
      "metadata": {
        "id": "DySH8kdISZSa"
      },
      "execution_count": null,
      "outputs": []
    },
    {
      "cell_type": "code",
      "source": [
        "u.shape "
      ],
      "metadata": {
        "id": "MRolYfFQTItJ"
      },
      "execution_count": null,
      "outputs": []
    },
    {
      "cell_type": "code",
      "source": [
        "u"
      ],
      "metadata": {
        "id": "3lBUNrFWTSaS"
      },
      "execution_count": null,
      "outputs": []
    },
    {
      "cell_type": "code",
      "source": [
        "u_T = u.T\n",
        "u_T.shape"
      ],
      "metadata": {
        "id": "Yb8C4c93TLs_"
      },
      "execution_count": null,
      "outputs": []
    },
    {
      "cell_type": "code",
      "source": [
        "u_T"
      ],
      "metadata": {
        "id": "H5uNyxykTeQh"
      },
      "execution_count": null,
      "outputs": []
    },
    {
      "cell_type": "code",
      "source": [
        "u_T[0][0] + u_T[0][1] + u_T[0][2] "
      ],
      "metadata": {
        "id": "TWc0mqldS5lN"
      },
      "execution_count": null,
      "outputs": []
    },
    {
      "cell_type": "code",
      "source": [],
      "metadata": {
        "id": "WuxEf4r4ar5D"
      },
      "execution_count": null,
      "outputs": []
    },
    {
      "cell_type": "code",
      "source": [
        "#https://pyclustering.github.io/docs/0.10.1/html/d2/d6a/classpyclustering_1_1cluster_1_1fcm_1_1fcm.html"
      ],
      "metadata": {
        "id": "23qoNhmwzOtf"
      },
      "execution_count": null,
      "outputs": []
    },
    {
      "cell_type": "code",
      "source": [
        "!pip3 install pyclustering"
      ],
      "metadata": {
        "id": "JyINPNHBacLi"
      },
      "execution_count": null,
      "outputs": []
    },
    {
      "cell_type": "code",
      "source": [
        "from pyclustering.cluster import cluster_visualizer\n",
        "from pyclustering.cluster.center_initializer import kmeans_plusplus_initializer\n",
        "from pyclustering.cluster.fcm import fcm\n",
        "from pyclustering.utils import read_sample\n",
        " \n",
        "# load list of points for cluster analysis\n",
        "#sample = read_sample(FAMOUS_SAMPLES.SAMPLE_OLD_FAITHFUL)\n",
        "sample = X_dataset_1\n",
        "# initialize\n",
        "initial_centers = kmeans_plusplus_initializer(sample, 7, kmeans_plusplus_initializer.FARTHEST_CENTER_CANDIDATE).initialize()\n",
        " \n",
        "# create instance of Fuzzy C-Means algorithm\n",
        "fcm_instance = fcm(sample, initial_centers)\n",
        " \n",
        "# run cluster analysis and obtain results\n",
        "fcm_instance.process()\n",
        "clusters = fcm_instance.get_clusters()\n",
        "centers = fcm_instance.get_centers()\n",
        " \n",
        "# visualize clustering results\n",
        "visualizer = cluster_visualizer()\n",
        "visualizer.append_clusters(clusters, sample)\n",
        "visualizer.append_cluster(centers, marker='*', markersize=10)\n",
        "visualizer.show()"
      ],
      "metadata": {
        "id": "JoigJh2yacOD"
      },
      "execution_count": null,
      "outputs": []
    },
    {
      "cell_type": "code",
      "source": [
        "len(clusters), type(clusters), type(clusters[0])"
      ],
      "metadata": {
        "id": "GQ3AavYayIXQ"
      },
      "execution_count": null,
      "outputs": []
    },
    {
      "cell_type": "code",
      "source": [
        "len(clusters[0])"
      ],
      "metadata": {
        "id": "V5iigJKYyo5V"
      },
      "execution_count": null,
      "outputs": []
    },
    {
      "cell_type": "code",
      "source": [
        "len(centers)"
      ],
      "metadata": {
        "id": "VfJUpqzyyssv"
      },
      "execution_count": null,
      "outputs": []
    },
    {
      "cell_type": "code",
      "source": [
        "#verificar se soma de probabilidades para cada cluster resulta em 1\n",
        "e = 1\n",
        "sum = 0\n",
        "for i in range(n_clusters_C):\n",
        "\n",
        "  sum += membership_matrixes[0][i][e]\n",
        "\n",
        "sum"
      ],
      "metadata": {
        "id": "_PsVaXsFvYwi"
      },
      "execution_count": null,
      "outputs": []
    },
    {
      "cell_type": "code",
      "source": [
        "labels_posteriori = datasets_labels_posteriori[2]\n",
        "\n",
        "s=100\n",
        "X = X_dataset_2\n",
        "plt.scatter(X[labels_posteriori == 0, 0], X[labels_posteriori == 0, 1], s=s, c='red', label='Cluster 0')\n",
        "plt.scatter(X[labels_posteriori == 1, 0], X[labels_posteriori == 1, 1], s=s, c='orange', label='Cluster 1')\n",
        "plt.scatter(X[labels_posteriori == 2, 0], X[labels_posteriori == 2, 1], s=s, c='green', label='Cluster 2')\n",
        "plt.scatter(X[labels_posteriori == 3, 0], X[labels_posteriori == 3, 1], s=s, c='blue', label='Cluster 3')\n",
        "plt.scatter(X[labels_posteriori == 4, 0], X[labels_posteriori == 4, 1], s=s, c='violet', label='Cluster 4')\n",
        "plt.scatter(X[labels_posteriori == 5, 0], X[labels_posteriori == 5, 1], s=s, c='darkviolet', label='Cluster 5')\n",
        "plt.scatter(X[labels_posteriori == 6, 0], X[labels_posteriori == 6, 1], s=s, c='darkgoldenrod', label='Cluster 6')\n",
        "\n",
        "plt.xlabel('label 0')\n",
        "plt.ylabel('label 1')\n",
        "plt.legend()"
      ],
      "metadata": {
        "id": "GFZwjTV9zUa8"
      },
      "execution_count": null,
      "outputs": []
    },
    {
      "cell_type": "code",
      "source": [],
      "metadata": {
        "id": "Mzhx_7GHltmV"
      },
      "execution_count": null,
      "outputs": []
    },
    {
      "cell_type": "code",
      "source": [
        "cntr, u, u0, d, jm, p, fpc = skfuzzy_fcm(X_dataset_1, n_clusters_C, m, error_e, maxiter_T, distance_metric)\n",
        "cntr.shape, u.shape"
      ],
      "metadata": {
        "id": "xJR4oHSSjNU6"
      },
      "execution_count": null,
      "outputs": []
    },
    {
      "cell_type": "code",
      "source": [
        "alldata =  X_dataset_2.T"
      ],
      "metadata": {
        "id": "xUVLOFfsoYOB"
      },
      "execution_count": null,
      "outputs": []
    },
    {
      "cell_type": "code",
      "source": [
        "cntr, u_orig, _, _, _, _, _ = fuzz.cluster.cmeans(\n",
        "    alldata, 7, 1.6, error=0.005, maxiter=100)\n",
        "cntr.shape"
      ],
      "metadata": {
        "id": "fd7-NI14jtbC"
      },
      "execution_count": null,
      "outputs": []
    },
    {
      "cell_type": "code",
      "source": [
        "u_orig.shape"
      ],
      "metadata": {
        "id": "WYhAksExmqcV"
      },
      "execution_count": null,
      "outputs": []
    },
    {
      "cell_type": "code",
      "source": [
        "u_orig.argmax(axis=0)"
      ],
      "metadata": {
        "id": "cw7VkpuMEeEY"
      },
      "execution_count": null,
      "outputs": []
    },
    {
      "cell_type": "code",
      "source": [
        "X_dataset_2.shape"
      ],
      "metadata": {
        "id": "_0YND64QUdNX"
      },
      "execution_count": null,
      "outputs": []
    },
    {
      "cell_type": "code",
      "source": [
        "dataset_1_np = dataset_1.to_numpy()\n",
        "np.max(dataset_1_np)"
      ],
      "metadata": {
        "id": "HVJBxY3kU1Jp"
      },
      "execution_count": null,
      "outputs": []
    },
    {
      "cell_type": "code",
      "source": [
        "#pre-processing of dataset\n",
        "X_dataset_1 = preprocess_dataset(dataset_1)\n",
        "np.max(X_dataset_1, axis=1)"
      ],
      "metadata": {
        "id": "BSupRRRgUzVO"
      },
      "execution_count": null,
      "outputs": []
    },
    {
      "cell_type": "code",
      "source": [],
      "metadata": {
        "id": "3xQRYH8lVuP3"
      },
      "execution_count": null,
      "outputs": []
    },
    {
      "cell_type": "code",
      "source": [],
      "metadata": {
        "id": "KnT78vq7XUVK"
      },
      "execution_count": null,
      "outputs": []
    },
    {
      "cell_type": "code",
      "source": [],
      "metadata": {
        "id": "pg4uorpOXB7F"
      },
      "execution_count": null,
      "outputs": []
    },
    {
      "cell_type": "code",
      "source": [
        "#labels a priori\n",
        "data = X_dataset_2.T\n",
        "indexColumnA = 5\n",
        "indexColumnB = 7\n",
        "labels = labels_a_priori\n",
        "\n",
        "plot_scatter_two_features(data, labels, indexColumnA, indexColumnB, save_fig=False, dataset_name='dataset_2')\n",
        "\n",
        "labels = datasets_labels_posteriori[2]\n",
        "\n",
        "plot_scatter_two_features(data, labels, indexColumnA, indexColumnB, save_fig=False, dataset_name='dataset_2')"
      ],
      "metadata": {
        "id": "NSyc8hsRw4Ux"
      },
      "execution_count": null,
      "outputs": []
    },
    {
      "cell_type": "code",
      "source": [
        "data = X_dataset_2\n",
        "dataset_name = 'dataset_2'\n",
        "# labels = labels_a_priori\n",
        "labels = datasets_labels_posteriori[1]\n",
        "save_fig=True\n",
        "\n",
        "feat_x_index = 4\n",
        "feat_y_index = 5\n",
        "feat_z_index = 7\n",
        "\n",
        "plot_scatter_three_features(data, labels, fetures_indexes_list=[feat_x_index, feat_y_index, feat_z_index], save_fig=True, dataset_name='dataset')"
      ],
      "metadata": {
        "id": "Whn08Ae_G4uG"
      },
      "execution_count": null,
      "outputs": []
    },
    {
      "cell_type": "code",
      "source": [
        "#verifying scaler\n",
        "\n",
        "#pre-processing of dataset\n",
        "scaler = StandardScaler()\n",
        "data = scaler.fit_transform(dataset_1.values)\n",
        "asc = np.sort(data)\n",
        "des_rev = np.flip(asc)\n",
        "asc, des_rev"
      ],
      "metadata": {
        "id": "vPNNv7f5UKR4"
      },
      "execution_count": null,
      "outputs": []
    },
    {
      "cell_type": "code",
      "source": [],
      "metadata": {
        "id": "z82ej4Bve9j2"
      },
      "execution_count": null,
      "outputs": []
    },
    {
      "cell_type": "code",
      "source": [
        "#I want to print centroids and its groups\n",
        "#.não faz muito sentido, depende das dimensões \n",
        "\n",
        "#https://scikit-fuzzy.readthedocs.io/en/latest/auto_examples/plot_cmeans.html\n",
        "#https://towardsdatascience.com/understanding-k-means-clustering-in-machine-learning-6a6e67336aa1"
      ],
      "metadata": {
        "id": "Y4CGDF4yyDv8"
      },
      "execution_count": null,
      "outputs": []
    },
    {
      "cell_type": "code",
      "source": [
        "import pandas as pd\n",
        "import numpy as np\n",
        "import matplotlib.pyplot as plt\n",
        "from sklearn.cluster import KMeans\n",
        "%matplotlib inline\n",
        "\n",
        "X= -2 * np.random.rand(100,2)\n",
        "X1 = 1 + 2 * np.random.rand(50,2)\n",
        "X[50:100, :] = X1 #divisao entre grupos\n",
        "plt.scatter(X[ : , 0], X[ :, 1], s = 50, c = 'b')\n",
        "plt.show()\n",
        "\n",
        "from sklearn.cluster import KMeans\n",
        "Kmean = KMeans(n_clusters=3)\n",
        "Kmean.fit(X)\n",
        "\n",
        "KMeans(algorithm='auto', copy_x=True, init='k-means++', max_iter=300,\n",
        "  n_clusters=3, n_init=10, random_state=None, tol=0.0001, verbose=0)"
      ],
      "metadata": {
        "id": "QRxs7PyCOWg4"
      },
      "execution_count": null,
      "outputs": []
    },
    {
      "cell_type": "code",
      "source": [
        "centroids = Kmean.cluster_centers_\n",
        "centroids"
      ],
      "metadata": {
        "id": "qmwm4TCzZYY8"
      },
      "execution_count": null,
      "outputs": []
    },
    {
      "cell_type": "code",
      "source": [
        "centroids[0][0]"
      ],
      "metadata": {
        "id": "v6y6zhhLairC"
      },
      "execution_count": null,
      "outputs": []
    },
    {
      "cell_type": "code",
      "source": [
        "plt.scatter(X[ : , 0], X[ : , 1], s =50, c='b')\n",
        "plt.scatter( 2.19934167,  1.39012626, s=200, c='g', marker='s')\n",
        "plt.scatter(-1.01823807, -1.04679272, s=200, c='r', marker='s')\n",
        "plt.scatter(1.89683623, 2.49427892, s=200, c='y', marker='s')"
      ],
      "metadata": {
        "id": "1ihIOTm6ZWZV"
      },
      "execution_count": null,
      "outputs": []
    },
    {
      "cell_type": "code",
      "source": [
        "centroids_matrixes[1]"
      ],
      "metadata": {
        "id": "TFloXLf7dOQF"
      },
      "execution_count": null,
      "outputs": []
    },
    {
      "cell_type": "code",
      "source": [
        "centroids_matrixes[1][0,:]"
      ],
      "metadata": {
        "id": "ipW8pyLHckRA"
      },
      "execution_count": null,
      "outputs": []
    },
    {
      "cell_type": "code",
      "source": [
        "feat_index_a = 0\n",
        "feat_index_b = 1\n",
        "cen_feats = centroids_matrixes[1][[feat_index_a, feat_index_b],:]\n",
        "cen_feats"
      ],
      "metadata": {
        "id": "HA8SPjYSdkAJ"
      },
      "execution_count": null,
      "outputs": []
    },
    {
      "cell_type": "code",
      "source": [
        "cen_feats[0]"
      ],
      "metadata": {
        "id": "OFlZK8-pd8zj"
      },
      "execution_count": null,
      "outputs": []
    },
    {
      "cell_type": "code",
      "source": [
        "#pra meus dados\n",
        "X = X_dataset_2\n",
        "\n",
        "\n",
        "plt.scatter(X[ : , 0], X[ : , 1], s =50, c='b')\n",
        "plt.scatter( 2.19934167,  1.39012626, s=200, c='g', marker='s')\n",
        "plt.scatter(-1.01823807, -1.04679272, s=200, c='r', marker='s')\n",
        "plt.scatter(1.89683623, 2.49427892, s=200, c='y', marker='s')"
      ],
      "metadata": {
        "id": "Va332uXPcYuJ"
      },
      "execution_count": null,
      "outputs": []
    },
    {
      "cell_type": "code",
      "source": [
        "centroids_matrixes[1]"
      ],
      "metadata": {
        "id": "6SaMCHK5I17b"
      },
      "execution_count": null,
      "outputs": []
    },
    {
      "cell_type": "code",
      "source": [
        "X = X_dataset_2\n"
      ],
      "metadata": {
        "id": "z-XLmyNeyidR"
      },
      "execution_count": null,
      "outputs": []
    },
    {
      "cell_type": "code",
      "source": [
        "feat5 = centroids_matrixes[1][:,5]\n",
        "feat5 = tuple(feat5)\n",
        "feat5"
      ],
      "metadata": {
        "id": "_JLlCbrd0h4l"
      },
      "execution_count": null,
      "outputs": []
    },
    {
      "cell_type": "code",
      "source": [
        "feat7 = centroids_matrixes[1][:,7]\n",
        "feat7 = tuple(feat7)\n",
        "feat7"
      ],
      "metadata": {
        "id": "WLr3XxxpzxP6"
      },
      "execution_count": null,
      "outputs": []
    },
    {
      "cell_type": "code",
      "source": [
        "array=np.array([[-0.94665068, -0.97138368],\n",
        " [ 2.01559419, 2.02597093]])\n",
        "array"
      ],
      "metadata": {
        "id": "3iHfp3Zuyaez"
      },
      "execution_count": null,
      "outputs": []
    },
    {
      "cell_type": "code",
      "source": [
        "plt.scatter(X[ : , 5], X[ : , 7], s =50, c='b')\n",
        "plt.scatter(-0.94665068, -0.97138368, s=200, c='g', marker='s')\n",
        "plt.scatter( 2.01559419,  2.02597093, s=200, c='r', marker='s')\n",
        "plt.show()"
      ],
      "metadata": {
        "id": "2xEoKneT0Aes"
      },
      "execution_count": null,
      "outputs": []
    },
    {
      "cell_type": "code",
      "source": [
        "#https://scikit-learn.org/stable/auto_examples/cluster/plot_dbscan.html#sphx-glr-auto-examples-cluster-plot-dbscan-py\n",
        "\n",
        "plt.scatter(X[:, 5], X[:, 7])\n",
        "plt.show()"
      ],
      "metadata": {
        "id": "IhOcYvzM_8sU"
      },
      "execution_count": null,
      "outputs": []
    },
    {
      "cell_type": "code",
      "source": [
        "#axis=0. running VERTICALLY downwards across rows (axis 0). OPERA (sum, max..) NA COLUNA, PERCORRENDO AS LINHAS\n",
        "#axis=1. running HORIZONTALLY across columns (axis 1). OPERA (sum, max..) NA LINHA, PERCORRENDO AS COLUNAS"
      ],
      "metadata": {
        "id": "FDuZfmcLKqWB"
      },
      "execution_count": null,
      "outputs": []
    }
  ]
}