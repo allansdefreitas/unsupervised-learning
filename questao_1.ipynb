{
  "nbformat": 4,
  "nbformat_minor": 0,
  "metadata": {
    "colab": {
      "provenance": [],
      "authorship_tag": "ABX9TyMg/CTxbtUkmGJ9Jg9Hls8M",
      "include_colab_link": true
    },
    "kernelspec": {
      "name": "python3",
      "display_name": "Python 3"
    },
    "language_info": {
      "name": "python"
    }
  },
  "cells": [
    {
      "cell_type": "markdown",
      "metadata": {
        "id": "view-in-github",
        "colab_type": "text"
      },
      "source": [
        "<a href=\"https://colab.research.google.com/github/allansdefreitas/unsupervised-learning/blob/main/questao_1.ipynb\" target=\"_parent\"><img src=\"https://colab.research.google.com/assets/colab-badge.svg\" alt=\"Open In Colab\"/></a>"
      ]
    },
    {
      "cell_type": "code",
      "source": [
        "\"\"\"Read:\n",
        "https://sites.google.com/site/dataclusteringalgorithms/fuzzy-c-means-clustering-algorithm\n",
        "https://towardsdatascience.com/fuzzy-c-means-clustering-with-python-f4908c714081\n",
        "https://github.com/theimageprocessingguy/Fuzzy-C-Means-Python\n",
        "\n",
        "\n",
        "https://pyclustering.github.io/docs/0.10.1/html/\n",
        "https://scikit-fuzzy.github.io/scikit-fuzzy/\n",
        "https://www.youtube.com/watch?v=nGWmgHxIoPk&ab_channel=%E6%9D%8E%E6%94%BF%E8%BB%92\n",
        "https://www.youtube.com/watch?v=zEYxTGDYWYI\n",
        "\n",
        "\"\"\""
      ],
      "metadata": {
        "id": "k8NewsK7R8Wh",
        "colab": {
          "base_uri": "https://localhost:8080/",
          "height": 70
        },
        "outputId": "dc2f05d2-ea8b-42e3-caaa-f8b950db40a0"
      },
      "execution_count": 236,
      "outputs": [
        {
          "output_type": "execute_result",
          "data": {
            "text/plain": [
              "'Read:\\nhttps://sites.google.com/site/dataclusteringalgorithms/fuzzy-c-means-clustering-algorithm\\nhttps://towardsdatascience.com/fuzzy-c-means-clustering-with-python-f4908c714081\\nhttps://github.com/theimageprocessingguy/Fuzzy-C-Means-Python\\n\\n\\nhttps://pyclustering.github.io/docs/0.10.1/html/\\nhttps://scikit-fuzzy.github.io/scikit-fuzzy/\\nhttps://www.youtube.com/watch?v=nGWmgHxIoPk&ab_channel=%E6%9D%8E%E6%94%BF%E8%BB%92\\nhttps://www.youtube.com/watch?v=zEYxTGDYWYI\\n\\n'"
            ],
            "application/vnd.google.colaboratory.intrinsic+json": {
              "type": "string"
            }
          },
          "metadata": {},
          "execution_count": 236
        }
      ]
    },
    {
      "cell_type": "code",
      "source": [
        "!pip install scikit-fuzzy"
      ],
      "metadata": {
        "colab": {
          "base_uri": "https://localhost:8080/"
        },
        "id": "qv0z-urAa8g8",
        "outputId": "a3d8443c-4698-486e-c732-f9a03a2c3c14"
      },
      "execution_count": 237,
      "outputs": [
        {
          "output_type": "stream",
          "name": "stdout",
          "text": [
            "Looking in indexes: https://pypi.org/simple, https://us-python.pkg.dev/colab-wheels/public/simple/\n",
            "Requirement already satisfied: scikit-fuzzy in /usr/local/lib/python3.10/dist-packages (0.4.2)\n",
            "Requirement already satisfied: numpy>=1.6.0 in /usr/local/lib/python3.10/dist-packages (from scikit-fuzzy) (1.22.4)\n",
            "Requirement already satisfied: scipy>=0.9.0 in /usr/local/lib/python3.10/dist-packages (from scikit-fuzzy) (1.10.1)\n",
            "Requirement already satisfied: networkx>=1.9.0 in /usr/local/lib/python3.10/dist-packages (from scikit-fuzzy) (3.1)\n"
          ]
        }
      ]
    },
    {
      "cell_type": "code",
      "source": [
        "def initialize_membership_matrix(n_samples, n_clusters):\n",
        "    \"\"\"\n",
        "    Initializes the membership matrix for Fuzzy C-Means.\n",
        "\n",
        "    Parameters:\n",
        "        n_samples (int): Number of data points.\n",
        "        n_clusters (int): Number of clusters.\n",
        "\n",
        "    Returns:\n",
        "        numpy.ndarray: Initial membership matrix.\n",
        "    \"\"\"\n",
        "    membership_matrix = np.random.rand(n_samples, n_clusters)\n",
        "    membership_matrix /= np.sum(membership_matrix, axis=1, keepdims=True)\n",
        "    return membership_matrix\n",
        "\n",
        "\n",
        "def update_membership_matrix(data, centroids, m, distance_metric):\n",
        "    \"\"\"\n",
        "    Updates the membership matrix for Fuzzy C-Means.\n",
        "\n",
        "    Parameters:\n",
        "        data (numpy.ndarray): Input data points.\n",
        "        centroids (numpy.ndarray): Current centroid positions.\n",
        "        m (float): Fuzziness parameter.\n",
        "        distance_metric (str): Distance metric to use ('cityblock' or 'euclidean').\n",
        "\n",
        "    Returns:\n",
        "        numpy.ndarray: Updated membership matrix.\n",
        "    \"\"\"\n",
        "    n_samples, n_clusters = data.shape[0], centroids.shape[0]\n",
        "    membership_matrix = np.zeros((n_samples, n_clusters))\n",
        "\n",
        "    for i in range(n_samples):\n",
        "        for j in range(n_clusters):\n",
        "            if distance_metric == 'cityblock':\n",
        "                dist = np.sum(np.abs(data[i] - centroids[j]))\n",
        "            elif distance_metric == 'euclidean':\n",
        "                dist = np.linalg.norm(data[i] - centroids[j])\n",
        "            else:\n",
        "                raise ValueError(\"Invalid distance metric.\")\n",
        "\n",
        "            membership_matrix[i, j] = 1 / np.sum((dist / np.abs(data[i] - centroids)) ** (2 / (m - 1)))\n",
        "\n",
        "    membership_matrix /= np.sum(membership_matrix, axis=1, keepdims=True)\n",
        "    return membership_matrix\n",
        "\n",
        "\n",
        "def update_centroids(data, membership_matrix, m):\n",
        "    \"\"\"\n",
        "    Updates the centroids for Fuzzy C-Means.\n",
        "\n",
        "    Parameters:\n",
        "        data (numpy.ndarray): Input data points.\n",
        "        membership_matrix (numpy.ndarray): Current membership matrix.\n",
        "        m (float): Fuzziness parameter.\n",
        "\n",
        "    Returns:\n",
        "        numpy.ndarray: Updated centroid positions.\n",
        "    \"\"\"\n",
        "    n_clusters, n_features = membership_matrix.shape[1], data.shape[1]\n",
        "    centroids = np.zeros((n_clusters, n_features))\n",
        "\n",
        "    for j in range(n_clusters):\n",
        "        membership_power = membership_matrix[:, j] ** m\n",
        "        centroids[j] = np.sum(membership_power.reshape(-1, 1) * data, axis=0) / np.sum(membership_power)\n",
        "\n",
        "    return centroids\n",
        "\n",
        "\n",
        "\n",
        "def fuzzy_cmeans(data, n_clusters_C, m, error_e=1e-6, max_iter=100, tolerance=1e-4, distance_metric='cityblock'):\n",
        "    \n",
        "    \"\"\"\n",
        "    Fuzzy C-Means clustering algorithm.\n",
        "\n",
        "    Parameters:\n",
        "        data (numpy.ndarray): Input data points.\n",
        "        n_clusters (int): Number of clusters.\n",
        "        m (float): Fuzziness parameter (> 1).\n",
        "        distance_metric (str): Distance metric to use ('cityblock' or 'euclidean').\n",
        "        max_iter (int): Maximum number of iterations.\n",
        "        error_e (float): Convergence tolerance.\n",
        "\n",
        "    Returns:\n",
        "        numpy.ndarray: Final centroid positions.\n",
        "        numpy.ndarray: Membership matrix.\n",
        "        int: Number of iterations performed.\n",
        "    \"\"\"\n",
        "    n_samples, n_features = data.shape\n",
        "    membership_matrix = initialize_membership_matrix(n_samples, n_clusters_C)\n",
        "    centroids = np.zeros((n_clusters_C, n_features))\n",
        "\n",
        "    for iteration in range(max_iter):\n",
        "        prev_centroids = centroids.copy()\n",
        "\n",
        "        centroids = update_centroids(data, membership_matrix, m)\n",
        "        membership_matrix = update_membership_matrix(data, centroids, m, distance_metric)\n",
        "\n",
        "        if np.linalg.norm(centroids - prev_centroids) < error_e:\n",
        "            break\n",
        "\n",
        "    #transpose the U membership matrix \n",
        "    return centroids, membership_matrix.T, iteration+1"
      ],
      "metadata": {
        "id": "OssbAE3DvtMs"
      },
      "execution_count": 238,
      "outputs": []
    },
    {
      "cell_type": "code",
      "execution_count": 386,
      "metadata": {
        "id": "ZxO_3aCYJySm"
      },
      "outputs": [],
      "source": [
        "# -*- coding: utf-8 -*-\n",
        "\n",
        "import numpy as np\n",
        "import pandas as pd\n",
        "import matplotlib.pyplot as plt\n",
        "from sklearn.preprocessing import StandardScaler\n",
        "from numpy import savetxt\n",
        "from numpy import loadtxt\n",
        "from sklearn.metrics import adjusted_rand_score\n",
        "from sklearn import metrics\n",
        "from sklearn import preprocessing\n",
        "import skfuzzy as fuzz\n",
        "from scipy.spatial.distance import cdist\n",
        "from sklearn.metrics import accuracy_score\n",
        "\n",
        "def preprocess_dataset(dataframe):\n",
        "\n",
        "    #pre-processing of dataset\n",
        "    scaler = StandardScaler()\n",
        "    data = scaler.fit_transform(dataframe.values)\n",
        "    \n",
        "    return data\n",
        "\n",
        "#VERIFY\n",
        "def calculate_objective(data, centroids, membership_matrix, m, distance_metric='cityblock'):\n",
        "    \"\"\"\n",
        "    Calculates the objective function value for Fuzzy C-Means.\n",
        "\n",
        "    Parameters:\n",
        "        data (numpy.ndarray): Input data points.\n",
        "        centroids (numpy.ndarray): Current centroid positions.\n",
        "        membership_matrix (numpy.ndarray): Current membership matrix.\n",
        "        m (float): Fuzziness parameter.\n",
        "        distance_metric (str): Distance metric to use ('cityblock' or 'euclidean').\n",
        "\n",
        "    Returns:\n",
        "        float: Objective function value.\n",
        "    \"\"\"\n",
        "\n",
        "    data = data.T\n",
        "    centroids = centroids.T\n",
        "    membership_matrix = membership_matrix.T\n",
        "    \n",
        "    objective = 0\n",
        "    n_samples, n_clusters = data.shape[0], centroids.shape[0]\n",
        "    #É preciso obter a matriz transposta, já que aqui temos matriz de shape (num_grupos, num_elementos)\n",
        "    #e o método espera o oposto disso. \n",
        "    membership_matrix = membership_matrix\n",
        "    print(membership_matrix.shape)\n",
        "    \n",
        "    for i in range(n_samples):\n",
        "        for j in range(n_clusters):\n",
        "            if distance_metric == 'cityblock':\n",
        "                #print(data[i].shape)\n",
        "                #print(\"\\ncent:\")\n",
        "                #print(centroids[j].shape)\n",
        "\n",
        "                dist = np.sum(np.abs(data[i] - centroids[j]))\n",
        "\n",
        "            objective += (membership_matrix[i, j] ** m) * (dist ** 2)\n",
        "\n",
        "    return objective\n",
        "\n",
        "#Modified partition coefficient e partition entropy --------------################\n",
        "\n",
        "\n",
        "#close to 1 values are better\n",
        "#A value of 0 indicates complete fuzziness, where data points have equal membership to all clusters\n",
        "#A value of 1 indicates crisp or hard clustering, where data points have membership to only one cluster.\n",
        "#VERIFY\n",
        "def calculate_mpc(membership_matrix):\n",
        "    \"\"\"\n",
        "    Apply T operation over the U matrix before later operations.\n",
        "    Calculates the Modified Partition Coefficient (MPC) for Fuzzy C-Means clustering.\n",
        "\n",
        "    Parameters:\n",
        "        membership_matrix (numpy.ndarray): Membership matrix of shape (n_samples, n_clusters).\n",
        "\n",
        "    Returns:\n",
        "        float: Modified Partition Coefficient value.\n",
        "\n",
        "    \"\"\"\n",
        "    membership_matrix = membership_matrix.T #after we will have  (n_clusters, n_samples).\n",
        "\n",
        "    max_memberships = np.max(membership_matrix, axis=1) \n",
        "    sum_memberships = np.sum(membership_matrix, axis=1)\n",
        "\n",
        "    mpc = np.mean(max_memberships / sum_memberships)\n",
        "\n",
        "    return mpc\n",
        "\n",
        "#close to 0 values are better\n",
        "#A value of 0 indicates a crisp or hard clustering, where data points have membership only to one cluster and there is no uncertainty\n",
        "#higher values indicates uncertainty and fuzziness in the clustering, with data points having more equal memberships across multiple clusters.\n",
        "#VERIFY\n",
        "def calculate_partition_entropy(membership_matrix):\n",
        "    \"\"\"\n",
        "    Apply T operation over the U matrix before later operations.\n",
        "    Calculates the Partition Entropy for Fuzzy C-Means clustering.\n",
        "\n",
        "    Parameters:\n",
        "        membership_matrix (numpy.ndarray): Membership matrix of shape (n_samples, n_clusters).\n",
        "\n",
        "    Returns:\n",
        "        float: Partition Entropy value.\n",
        "    \"\"\"\n",
        "    membership_matrix = membership_matrix.T #after we will have  (n_clusters, n_samples).\n",
        "    n_samples, n_clusters = membership_matrix.shape\n",
        "\n",
        "    entropy = 0.0\n",
        "\n",
        "    for i in range(n_samples):\n",
        "        for j in range(n_clusters):\n",
        "            if membership_matrix[i, j] > 0:\n",
        "                entropy -= membership_matrix[i, j] * np.log2(membership_matrix[i, j])\n",
        "\n",
        "    partition_entropy = entropy / n_samples\n",
        "\n",
        "    return partition_entropy\n",
        "\n",
        "\n",
        "\"\"\"## Em cada dataset execute o algoritmo FCM com a distância de City-Block 50 vezes para obter \n",
        "uma partição fuzzy em 7 grupos e selecione o melhor resultado segundo a função objetivo.\"\"\"\n",
        "def get_best_partition(data, n_clusters_C, m, error_e, maxiter_T, distance_metric = 'cityblock', times_to_run=50):\n",
        "    \n",
        "    best_objective_value = 99999999999.9\n",
        "    best_results = 0\n",
        "    TIMES = times_to_run\n",
        "    \n",
        "    for i in range(TIMES):\n",
        "    \n",
        "      # Example usage\n",
        "      #print(\"FCM: \", i + 1)\n",
        "    \n",
        "      #centroids, membership_matrix, iterations = fuzzy_cmeans(data, n_clusters, m, distance_metric)\n",
        "      \n",
        "      cntr, u, u0, d, jm, p, fpc = skfuzzy_fcm(data, n_clusters_C, m, error_e, maxiter_T, distance_metric)\n",
        "      \n",
        "      centroids, membership_matrix_U, iterations, objective_functions = cntr, u, p, jm\n",
        "     \n",
        "      objective_value = jm[-1] #the last element is the last and best objective function\n",
        "      \n",
        "      if(objective_value < best_objective_value):\n",
        "\n",
        "        best_objective_value = objective_value\n",
        "      \n",
        "        best_results = centroids, membership_matrix_U, iterations, best_objective_value\n",
        "    \n",
        "    return best_results\n",
        "\n",
        "#ok\n",
        "def fuzzy_to_crisp_partition(membership_matrix):\n",
        "    \"\"\"\n",
        "    Converts a fuzzy partition into a crisp partition to be \n",
        "    in a one-hot-enconding format.\n",
        "\n",
        "    Parameters:\n",
        "        membership_matrix (numpy.ndarray): Membership matrix of shape (n_clusters, n_samples).\n",
        "\n",
        "    Returns:\n",
        "        numpy.ndarray: CRISP/hard partition of shape (n_clusters, n_samples).\n",
        "    \"\"\"\n",
        "\n",
        "    U_crisp_matrix = np.zeros_like(membership_matrix)\n",
        "\n",
        "    labels_for_crisp = np.argmax(membership_matrix, axis=0)\n",
        "\n",
        "    num_elements = membership_matrix.shape[1] #the number of elements of data\n",
        "\n",
        "    for i in range(num_elements):\n",
        "      label_one_hot = labels_for_crisp[i] #position of cluster that will be activated in one-hot-encoding\n",
        "      U_crisp_matrix[label_one_hot][i] = 1\n",
        "\n",
        "\n",
        "    return U_crisp_matrix\n",
        "\n",
        "\n",
        "def pie_plot_crisp_partition(U_crisp_matrix, label_names=['0', '1', '2', '3', '4', '5', '6']):\n",
        "  \"\"\"\n",
        "\n",
        "  create, show and save a pie plot chart based on crisp matrix and its\n",
        "  cluster's labels passed as argument of function\n",
        "\n",
        "  \"\"\"\n",
        "\n",
        "  labels_crisp = np.argmax(U_crisp_matrix, axis=0)\n",
        "\n",
        "  #get the quantity/size of ocurrences of each cluster\n",
        "  _, sizes = np.unique(labels_crisp, return_counts=True)\n",
        "\n",
        "  fig, ax = plt.subplots()\n",
        "  ax.pie(sizes, labels=label_names)\n",
        "\n",
        "  plt.savefig('piee_clusters.png')\n",
        "\n",
        "#from [-1, 1]. -1 better\n",
        "#VERIFY\n",
        "def calculate_ari(clustering_1, clustering_2):\n",
        "\n",
        "  # Calculate ARI\n",
        "  ari = adjusted_rand_score(clustering_1, clustering_2)\n",
        "\n",
        "  return ari\n",
        "\n",
        "#from [0,1]. 1 is better\n",
        "#VERIFY\n",
        "def calculate_f_measure(partition1, partition2):\n",
        "    tp = sum(1 for i in partition1 for j in partition2 if i == j)  # Conta os verdadeiros positivos\n",
        "    fp = len(partition1) - tp  # Calcula os falsos positivos\n",
        "    fn = len(partition2) - tp  # Calcula os falsos negativos\n",
        "\n",
        "    f_measure = (2 * tp) / (2 * tp + fp + fn)\n",
        "    return f_measure\n",
        "\n",
        "#from:\n",
        "#https://pythonhosted.org/scikit-fuzzy/api/skfuzzy.cluster.html\n",
        "def skfuzzy_fcm(data, n_clusters_C, m,  error_e=0.000001, maxiter_T=100, distance_metric='cityblock'):\n",
        "\n",
        "  #É preciso obter a matriz transposta, já que o método espera uma\n",
        "  #matriz de shape (S, N), i.e. (num_grupos, num_elementos)\n",
        "  # print(data.shape)\n",
        "  data = data.T\n",
        "  # print(data.shape)\n",
        "  #data_city_block = cdist(data, data, metric='euclidean') #cityblock, euclidean, cosine #IS THIS RIGHT?\n",
        "  #print(data_city_block, data_city_block.shape)\n",
        "\n",
        "  # Perform Fuzzy C-means clustering\n",
        "  cntr, u, u0, d, jm, p, fpc = fuzz.cluster.cmeans(\n",
        "      data, #IT WAS: data_city_block.T. Is this right?  \n",
        "      n_clusters_C,\n",
        "      m=m,\n",
        "      error=error_e,\n",
        "      maxiter=maxiter_T\n",
        "  )\n",
        "\n",
        "  # The 'u' matrix contains the fuzzy membership values for each data point\n",
        "  return  cntr, u, u0, d, jm, p, fpc"
      ]
    },
    {
      "cell_type": "code",
      "source": [
        "\"\"\"\n",
        "I. Considere os dados \"Image Segmentation\" do site uci machine learning\n",
        "repository (https://archive.ics.uci.edu/ml/datasets/Image+Segmentation).\n",
        "\n",
        "\"\"\"\n",
        "\n",
        "NUMBER_OF_DATASETS = 3\n",
        "\n",
        "PATH = 'https://raw.githubusercontent.com/allansdefreitas/unsupervised-learning/main/segmentation.data'\n",
        "PATH2 = 'https://raw.githubusercontent.com/allansdefreitas/unsupervised-learning/main/segmentation.test'\n",
        "\n",
        "dataset_original = pd.read_csv(PATH, sep=',')\n",
        "dataset_original2 = pd.read_csv(PATH2, sep=',')\n",
        "\n",
        "#concat datasets\n",
        "frames = [dataset_original, dataset_original2]\n",
        "dataset_original_indexes = pd.concat(frames)\n",
        "\n",
        "dataset_original = dataset_original_indexes.reset_index(drop=True)\n",
        "\n",
        "indexes = dataset_original_indexes.index\n",
        "\n",
        "#obter os labels a priori\n",
        "indexes = dataset_original_indexes.index\n",
        "indexes_label = []\n",
        "\n",
        "for i in indexes:\n",
        "    indexes_label.append(i)\n",
        "\n",
        "le = preprocessing.LabelEncoder()\n",
        "labels_a_priori = le.fit_transform(indexes_label)\n",
        "\n",
        "labels_clusters_names = '0', '1', '2', '3', '4', '5', '6'\n",
        "\n",
        "\"\"\" Considere 3 datasets: \"\"\"\n",
        "\"\"\" 1) primeiro considerando as variáveis 4 a 9 (shape) ----------\"\"\"\n",
        "\n",
        "dataset_1 = dataset_original.iloc[:,3:9]\n",
        "#pre-processing of dataset\n",
        "X_dataset_1 = preprocess_dataset(dataset_1)\n",
        "\n",
        "\n",
        "\"\"\"2) o segundo considerando as variaveis 10 a 19 (rgb) ----------\"\"\"\n",
        "dataset_2 = dataset_original.iloc[:,9:19]\n",
        "#pre-processing of dataset\n",
        "X_dataset_2 = preprocess_dataset(dataset_2)\n",
        "\n",
        "\"\"\"3) O terceiro considerando as variaveis 4 a 19 (shape + rgb) -------\"\"\"\n",
        "dataset_3 = dataset_original.iloc[:,3:19]\n",
        "#pre-processing of dataset\n",
        "X_dataset_3 = preprocess_dataset(dataset_3)\n",
        "\n",
        "\n",
        "\"\"\" Em cada dataset execute o algoritmo FCM com a distância de City-Block\n",
        "50 vezes para obter uma partição fuzzy em 7 grupos e selecione o melhor\n",
        "resultado segundo a função objetivo. \"\"\""
      ],
      "metadata": {
        "id": "pcojygaCKxhO",
        "colab": {
          "base_uri": "https://localhost:8080/",
          "height": 35
        },
        "outputId": "a545adcd-3697-4c31-d447-035cfa67eb68"
      },
      "execution_count": 240,
      "outputs": [
        {
          "output_type": "execute_result",
          "data": {
            "text/plain": [
              "' Em cada dataset execute o algoritmo FCM com a distância de City-Block\\n50 vezes para obter uma partição fuzzy em 7 grupos e selecione o melhor\\nresultado segundo a função objetivo. '"
            ],
            "application/vnd.google.colaboratory.intrinsic+json": {
              "type": "string"
            }
          },
          "metadata": {},
          "execution_count": 240
        }
      ]
    },
    {
      "cell_type": "markdown",
      "source": [
        "test pyclustering"
      ],
      "metadata": {
        "id": "f9H6G6pLzKSj"
      }
    },
    {
      "cell_type": "code",
      "source": [
        "labels_a_priori, np.unique(labels_a_priori)"
      ],
      "metadata": {
        "id": "mJVFQ9CPadZK",
        "colab": {
          "base_uri": "https://localhost:8080/"
        },
        "outputId": "6d9f5a30-7eb9-4791-9015-a1d7f1c22ba8"
      },
      "execution_count": 241,
      "outputs": [
        {
          "output_type": "execute_result",
          "data": {
            "text/plain": [
              "(array([0, 0, 0, ..., 1, 1, 1]), array([0, 1, 2, 3, 4, 5, 6]))"
            ]
          },
          "metadata": {},
          "execution_count": 241
        }
      ]
    },
    {
      "cell_type": "code",
      "source": [
        "#data = X_dataset_1\n",
        "n_clusters_C = 7\n",
        "m = 1.1 #{1.1; 1.6; 2.0}. 1.1 resuls on error: RuntimeWarning: overflow encountered in exp AND invalid value encountered in true_divide. USE OTHER IMPL OF FCM\n",
        "error_e = 0.000001\n",
        "maxiter_T = 100\n",
        "distance_metric = 'cityblock'\n",
        "best_objective_value = 99999999999.9\n",
        "best_results = 0\n",
        "times = 1 #50\n",
        "\n",
        "\n",
        "datasets = [X_dataset_1, X_dataset_2, X_dataset_3]\n",
        "best_results = []\n",
        "\n",
        "for dataset_i in datasets:\n",
        "  #print(dataset_i)\n",
        "  #print(dataset_i.shape)\n",
        "  \n",
        "  #centroids, U, iter = get_best_partition(dataset_i, n_clusters, m, distance_metric = 'cityblock', times_to_run=times)\n",
        "  centroids, U, iter, objective_value = get_best_partition(dataset_i, n_clusters_C, m, error_e, maxiter_T, distance_metric = 'cityblock', times_to_run=times)\n",
        "  best_results.append([centroids, U, iter, objective_value])\n",
        "  \n",
        "  # print(U)\n",
        "  #print(\"\\n\\n\\n\", U.shape, \"\\n\\n\\n\")\n",
        "\n",
        "#Salvar melhores matrizes de grau de associação (U) e centroids como arquivos csv\n",
        "\n",
        "#save datasets to csv files ---------------------##\n",
        "#get the centroids, too?\n",
        "for i in range(NUMBER_OF_DATASETS):\n",
        "  membership_matrix_U = best_results[i][1] #i-th membership_matrix\n",
        "  centroids_matrix = best_results[i][0] #i-th centroids matrix\n",
        "\n",
        "  # save i-th dataset to csv file\n",
        "  filename = 'dataset_'+ str(i + 1) + '_U_matrix'\n",
        "  savetxt(filename + '.csv', membership_matrix_U, delimiter=',')\n",
        "\n",
        "  # save i-th centroids to csv file\n",
        "  filename = 'dataset_'+ str(i + 1) + '_centroids_matrix'\n",
        "  savetxt(filename + '.csv', centroids_matrix, delimiter=',')\n",
        "\n",
        "#load datasets from csv files --------------------##\n",
        "membership_matrixes = []\n",
        "centroids_matrixes = []\n",
        "\n",
        "for i in range(NUMBER_OF_DATASETS):\n",
        "\n",
        "  # get i-th dataset U matrix from csv file\n",
        "  filename = 'dataset_'+ str(i + 1) + '_U_matrix'\n",
        "  ith_membership_matrix = loadtxt(filename + '.csv', delimiter=',') #recover #i-th membership_matrix\n",
        "  membership_matrixes.append(ith_membership_matrix)\n",
        "\n",
        "  # get i-th dataset centroids from csv file\n",
        "  filename = 'dataset_'+ str(i + 1) + '_centroids_matrix'\n",
        "  ith_centroids_matrix = loadtxt(filename + '.csv', delimiter=',') #recover #i-th membership_matrix\n",
        "  centroids_matrixes.append(ith_centroids_matrix)"
      ],
      "metadata": {
        "id": "Wfy-459dGUdS"
      },
      "execution_count": 242,
      "outputs": []
    },
    {
      "cell_type": "code",
      "source": [
        "type(datasets), len(datasets), type(datasets[0]), datasets[0].shape"
      ],
      "metadata": {
        "id": "GyofwPKiGs6p",
        "colab": {
          "base_uri": "https://localhost:8080/"
        },
        "outputId": "f960e3a1-22a5-446b-9d02-c61ad2d4a982"
      },
      "execution_count": 243,
      "outputs": [
        {
          "output_type": "execute_result",
          "data": {
            "text/plain": [
              "(list, 3, numpy.ndarray, (2310, 6))"
            ]
          },
          "metadata": {},
          "execution_count": 243
        }
      ]
    },
    {
      "cell_type": "code",
      "source": [
        "type(membership_matrixes), len(membership_matrixes), membership_matrixes[0].shape"
      ],
      "metadata": {
        "id": "tPIv3sygHlcy",
        "colab": {
          "base_uri": "https://localhost:8080/"
        },
        "outputId": "a5b00740-f0eb-421a-8786-5029799ec6e4"
      },
      "execution_count": 244,
      "outputs": [
        {
          "output_type": "execute_result",
          "data": {
            "text/plain": [
              "(list, 3, (7, 2310))"
            ]
          },
          "metadata": {},
          "execution_count": 244
        }
      ]
    },
    {
      "cell_type": "code",
      "source": [
        "membership_matrixes[2].shape"
      ],
      "metadata": {
        "id": "7ho-JDX7H0_I",
        "colab": {
          "base_uri": "https://localhost:8080/"
        },
        "outputId": "de78b1c0-1490-43cd-af9a-c0fa496145f8"
      },
      "execution_count": 245,
      "outputs": [
        {
          "output_type": "execute_result",
          "data": {
            "text/plain": [
              "(7, 2310)"
            ]
          },
          "metadata": {},
          "execution_count": 245
        }
      ]
    },
    {
      "cell_type": "code",
      "source": [
        "centroids_matrixes[0]"
      ],
      "metadata": {
        "colab": {
          "base_uri": "https://localhost:8080/"
        },
        "id": "P1Yd8TWbgFtv",
        "outputId": "5b607c69-ee41-4a5f-f055-99ed769827c6"
      },
      "execution_count": 246,
      "outputs": [
        {
          "output_type": "execute_result",
          "data": {
            "text/plain": [
              "array([[-0.3570445 , -0.19442225,  0.5256126 , -0.03105011,  0.21785904,\n",
              "        -0.05677477],\n",
              "       [ 2.61639457, -0.19447997, -0.07070653, -0.09247805, -0.07086049,\n",
              "        -0.10678728],\n",
              "       [-0.35704724,  1.14101015,  5.81826032,  2.05169695,  2.48869338,\n",
              "         1.10765911],\n",
              "       [-0.35704685, -0.19453566, -0.35782604, -0.11233293, -0.35916318,\n",
              "        -0.12543032],\n",
              "       [-0.35642939, -0.18201287,  0.26958655,  0.01948794,  2.77185302,\n",
              "         0.89269769],\n",
              "       [-0.02521609,  4.88003111,  0.47700729,  0.07952648,  0.60401388,\n",
              "         0.04752434],\n",
              "       [-0.35704732,  2.76558457,  7.67792052, 12.36907431,  7.35582616,\n",
              "        10.94402133]])"
            ]
          },
          "metadata": {},
          "execution_count": 246
        }
      ]
    },
    {
      "cell_type": "code",
      "source": [
        "#get clusters (labels) for each dataset\n",
        "\n",
        "labels_cluster_posteriori = []\n",
        "accuracies_datasets = []\n",
        "\n",
        "for U in membership_matrixes:\n",
        "\n",
        "  labels = np.argmax(U, axis=0)\n",
        "  labels_cluster_posteriori.append(labels)\n",
        "\n",
        "  #get accuracy score\n",
        "  acc_dataset_i = accuracy_score(labels, labels_a_priori)\n",
        "  accuracies_datasets.append(acc_dataset_i)"
      ],
      "metadata": {
        "id": "YF7rRPIQnXPY"
      },
      "execution_count": 247,
      "outputs": []
    },
    {
      "cell_type": "code",
      "source": [
        "#axis=0. running VERTICALLY downwards across rows (axis 0). OPERA (sum, max..) NA COLUNA, PERCORRENDO AS LINHAS\n",
        "#axis=1. running HORIZONTALLY across columns (axis 1). OPERA (sum, max..) NA LINHA, PERCORRENDO AS COLUNAS"
      ],
      "metadata": {
        "id": "X0zuHXkGRa7d"
      },
      "execution_count": 248,
      "outputs": []
    },
    {
      "cell_type": "code",
      "source": [
        "#fim testes"
      ],
      "metadata": {
        "id": "ZwKbd1CKiMAq"
      },
      "execution_count": 249,
      "outputs": []
    },
    {
      "cell_type": "code",
      "source": [
        "\"\"\"Para cada dataset e partição fuzzy, calcule o Modified partition coefficient\n",
        "e o Partition entropy. (OK. verificar) Comente\"\"\"\n",
        "\n",
        "#Obtendo Modified partition coefficient e partition entropy para cada dataset\n",
        "\n",
        "mpc_and_partition_entropies = []\n",
        "\n",
        "for i in range(NUMBER_OF_DATASETS):\n",
        "\n",
        "  ith_mem_matrix = membership_matrixes[i]\n",
        "\n",
        "  mpc = calculate_mpc(ith_mem_matrix)\n",
        "  partition_entropy = calculate_partition_entropy(ith_mem_matrix)\n",
        "  MPC_PE_arr = np.array([mpc, partition_entropy])\n",
        "\n",
        "  # save i-th MPC and PE to csv file\n",
        "  filename = 'dataset_'+ str(i + 1) + '_MPC_and_PE'\n",
        "  savetxt(filename + '.csv', MPC_PE_arr, delimiter=',')\n",
        "\n",
        "  mpc_and_partition_entropies.append( [mpc, partition_entropy] )"
      ],
      "metadata": {
        "id": "jzOnO3gyM7JH"
      },
      "execution_count": 250,
      "outputs": []
    },
    {
      "cell_type": "code",
      "source": [
        "mpc_and_partition_entropies #It is CORRECT have values above 1 as partition entropy???"
      ],
      "metadata": {
        "id": "w8s2yaJqI2ZR",
        "colab": {
          "base_uri": "https://localhost:8080/"
        },
        "outputId": "9653645c-a9c1-4e3b-88b7-90d6e0f8a62b"
      },
      "execution_count": 251,
      "outputs": [
        {
          "output_type": "execute_result",
          "data": {
            "text/plain": [
              "[[0.990215806013448, 0.0354419999688233],\n",
              " [0.9889916570849078, 0.041045685471753086],\n",
              " [0.9751809556556921, 0.0920418665249688]]"
            ]
          },
          "metadata": {},
          "execution_count": 251
        }
      ]
    },
    {
      "cell_type": "code",
      "source": [
        "\"\"\" Para cada dataset e partição fuzzy, produza uma partição CRISP em 7\n",
        "grupos e calcule o índice de Rand corrigido, e a F-measure (adaptada\n",
        "para agrupamento). Comente \"\"\"\n",
        "\n",
        "#obtendo partiçoes CRISP\n",
        "crisp_partitions = []\n",
        "\n",
        "for i in range(NUMBER_OF_DATASETS):\n",
        "\n",
        "  crisp = fuzzy_to_crisp_partition(membership_matrixes[i])\n",
        "  crisp_partitions.append(crisp)\n",
        "\n",
        "crisp_partitions"
      ],
      "metadata": {
        "id": "AwK0Et8zPnO4",
        "colab": {
          "base_uri": "https://localhost:8080/"
        },
        "outputId": "727d4491-1c49-472c-b0f0-1bba3b57dde2"
      },
      "execution_count": 353,
      "outputs": [
        {
          "output_type": "execute_result",
          "data": {
            "text/plain": [
              "[array([[0., 0., 0., ..., 0., 0., 0.],\n",
              "        [0., 0., 0., ..., 0., 0., 1.],\n",
              "        [0., 0., 0., ..., 0., 0., 0.],\n",
              "        ...,\n",
              "        [0., 0., 0., ..., 0., 0., 0.],\n",
              "        [0., 0., 0., ..., 0., 0., 0.],\n",
              "        [0., 0., 0., ..., 0., 0., 0.]]),\n",
              " array([[0., 0., 0., ..., 0., 0., 0.],\n",
              "        [0., 0., 0., ..., 0., 0., 0.],\n",
              "        [0., 0., 0., ..., 0., 0., 0.],\n",
              "        ...,\n",
              "        [0., 0., 0., ..., 0., 0., 0.],\n",
              "        [0., 0., 0., ..., 0., 1., 1.],\n",
              "        [1., 1., 1., ..., 1., 0., 0.]]),\n",
              " array([[0., 0., 0., ..., 0., 0., 0.],\n",
              "        [0., 0., 0., ..., 0., 0., 1.],\n",
              "        [0., 0., 0., ..., 0., 0., 0.],\n",
              "        ...,\n",
              "        [0., 0., 0., ..., 0., 0., 0.],\n",
              "        [0., 0., 0., ..., 0., 0., 0.],\n",
              "        [1., 1., 1., ..., 1., 1., 0.]])]"
            ]
          },
          "metadata": {},
          "execution_count": 353
        }
      ]
    },
    {
      "cell_type": "code",
      "source": [
        "#Obtendo ARI"
      ],
      "metadata": {
        "colab": {
          "base_uri": "https://localhost:8080/"
        },
        "id": "6E3zzK6aiQX_",
        "outputId": "caf6e03d-3724-434e-9295-2b6cf733b153"
      },
      "execution_count": 352,
      "outputs": [
        {
          "output_type": "execute_result",
          "data": {
            "text/plain": [
              "array([13860,  2310])"
            ]
          },
          "metadata": {},
          "execution_count": 352
        }
      ]
    },
    {
      "cell_type": "code",
      "source": [
        "labels_for_crisp = np.argmax(membership_matrixes[0], axis=0)\n",
        "labels_for_crisp"
      ],
      "metadata": {
        "colab": {
          "base_uri": "https://localhost:8080/"
        },
        "id": "nrt4QBCLEMwh",
        "outputId": "44c1aa80-3a3f-4ccb-c2e3-2edde3f2f755"
      },
      "execution_count": 357,
      "outputs": [
        {
          "output_type": "execute_result",
          "data": {
            "text/plain": [
              "array([3, 3, 3, ..., 3, 3, 1])"
            ]
          },
          "metadata": {},
          "execution_count": 357
        }
      ]
    },
    {
      "cell_type": "code",
      "source": [
        "#Obtendo ARI\n",
        "_, c = np.unique(labels_for_crisp, return_counts=True)\n",
        "c"
      ],
      "metadata": {
        "colab": {
          "base_uri": "https://localhost:8080/"
        },
        "id": "bXkXpsUpEPZm",
        "outputId": "9116a5ab-d6e2-447b-9003-cc7c5e01ffef"
      },
      "execution_count": 358,
      "outputs": [
        {
          "output_type": "execute_result",
          "data": {
            "text/plain": [
              "array([ 440,  269,   26, 1404,   85,   75,   11])"
            ]
          },
          "metadata": {},
          "execution_count": 358
        }
      ]
    },
    {
      "cell_type": "code",
      "source": [
        "def pie_plot_crisp_partition(U_crisp_matrix, labels_crisp, label_names=['0', '1', '2', '3', '4', '5', '6']):\n",
        "  \"\"\"\n",
        "\n",
        "  create, show and save a pie plot chart based on crisp matrix and its\n",
        "  cluster's labels passed as argument of function\n",
        "\n",
        "  \"\"\"\n",
        "\n",
        "  #get the quantity/size of ocurrences of each cluster\n",
        "  _, sizes = np.unique(labels_crisp, return_counts=True)\n",
        "\n",
        "  fig, ax = plt.subplots()\n",
        "  ax.pie(sizes, labels=label_names)\n",
        "\n",
        "  plt.savefig('piee_clusters.png')"
      ],
      "metadata": {
        "id": "3Oi-L7CtBOmt"
      },
      "execution_count": 378,
      "outputs": []
    },
    {
      "cell_type": "code",
      "source": [
        "def pie_plot_crisp_partition(U_crisp_matrix, label_names=['0', '1', '2', '3', '4', '5', '6']):\n",
        "  \"\"\"\n",
        "\n",
        "  create, show and save a pie plot chart based on crisp matrix and its\n",
        "  cluster's labels passed as argument of function\n",
        "\n",
        "  \"\"\"\n",
        "\n",
        "  labels_crisp = np.argmax(U_crisp_matrix, axis=0)\n",
        "\n",
        "  #get the quantity/size of ocurrences of each cluster\n",
        "  _, sizes = np.unique(labels_crisp, return_counts=True)\n",
        "\n",
        "  fig, ax = plt.subplots()\n",
        "  ax.pie(sizes, labels=label_names)\n",
        "\n",
        "  plt.savefig('piee_clusters.png')"
      ],
      "metadata": {
        "id": "1etYohjwFxaS"
      },
      "execution_count": 385,
      "outputs": []
    },
    {
      "cell_type": "code",
      "source": [
        "labels_for_crisp = np.argmax(crisp_partitions[1], axis=0)\n",
        "label_names = labels_clusters_names\n",
        "labels_for_crisp"
      ],
      "metadata": {
        "colab": {
          "base_uri": "https://localhost:8080/"
        },
        "id": "AjTmVgzlGe0e",
        "outputId": "90b74838-3c11-41e7-ff7e-76d7ff5d548d"
      },
      "execution_count": 383,
      "outputs": [
        {
          "output_type": "execute_result",
          "data": {
            "text/plain": [
              "array([6, 6, 6, ..., 6, 5, 5])"
            ]
          },
          "metadata": {},
          "execution_count": 383
        }
      ]
    },
    {
      "cell_type": "code",
      "source": [
        "pie_plot_crisp_partition2(crisp_partitions[1], label_names=label_names)"
      ],
      "metadata": {
        "colab": {
          "base_uri": "https://localhost:8080/",
          "height": 406
        },
        "id": "jJCo9EkuGkfv",
        "outputId": "0be2c88e-7782-4f2e-f190-2b50365d7209"
      },
      "execution_count": 384,
      "outputs": [
        {
          "output_type": "display_data",
          "data": {
            "text/plain": [
              "<Figure size 640x480 with 1 Axes>"
            ],
            "image/png": "[encoded data removed]"
          },
          "metadata": {}
        }
      ]
    },
    {
      "cell_type": "code",
      "source": [
        "labels_for_crisp = np.argmax(crisp_partitions[1], axis=0)\n",
        "label_names = labels_clusters_names\n",
        "labels_for_crisp"
      ],
      "metadata": {
        "colab": {
          "base_uri": "https://localhost:8080/"
        },
        "id": "yAOQS3STCzJZ",
        "outputId": "f3ee3647-540d-43de-c5cd-0f405a6bc821"
      },
      "execution_count": 381,
      "outputs": [
        {
          "output_type": "execute_result",
          "data": {
            "text/plain": [
              "array([6, 6, 6, ..., 6, 5, 5])"
            ]
          },
          "metadata": {},
          "execution_count": 381
        }
      ]
    },
    {
      "cell_type": "code",
      "source": [
        "labels_for_crisp = np.argmax(membership_matrixes[1], axis=0)\n",
        "label_names = labels_clusters_names\n",
        "labels_for_crisp"
      ],
      "metadata": {
        "colab": {
          "base_uri": "https://localhost:8080/"
        },
        "id": "JGeYTU8GF5Du",
        "outputId": "4c1e8fcc-02c3-4876-9dd1-11e6f24dc555"
      },
      "execution_count": 379,
      "outputs": [
        {
          "output_type": "execute_result",
          "data": {
            "text/plain": [
              "array([6, 6, 6, ..., 6, 5, 5])"
            ]
          },
          "metadata": {},
          "execution_count": 379
        }
      ]
    },
    {
      "cell_type": "code",
      "source": [
        "labels_for_crisp\n",
        "label_names"
      ],
      "metadata": {
        "colab": {
          "base_uri": "https://localhost:8080/"
        },
        "id": "UulNVb70FsH5",
        "outputId": "a01759d7-ba9a-4a4e-8d7c-1abc4941dd3d"
      },
      "execution_count": 377,
      "outputs": [
        {
          "output_type": "execute_result",
          "data": {
            "text/plain": [
              "('0', '1', '2', '3', '4', '5', '6')"
            ]
          },
          "metadata": {},
          "execution_count": 377
        }
      ]
    },
    {
      "cell_type": "code",
      "source": [
        "pie_plot_crisp_partition(crisp_partitions[1], labels_crisp=labels_for_crisp, label_names=label_names)"
      ],
      "metadata": {
        "colab": {
          "base_uri": "https://localhost:8080/",
          "height": 406
        },
        "id": "mQl84vtxFAAj",
        "outputId": "c74bdbf6-8055-4677-ffa0-460ba56aeaf6"
      },
      "execution_count": 380,
      "outputs": [
        {
          "output_type": "display_data",
          "data": {
            "text/plain": [
              "<Figure size 640x480 with 1 Axes>"
            ],
            "image/png": "[encoded data removed]"
          },
          "metadata": {}
        }
      ]
    },
    {
      "cell_type": "code",
      "source": [
        "pie_plot_crisp_partition(crisp_partitions[0], labels=labels_clusters_names)"
      ],
      "metadata": {
        "colab": {
          "base_uri": "https://localhost:8080/",
          "height": 746
        },
        "id": "0ugfaq5GjF7b",
        "outputId": "845cb3d3-f5e8-4e1a-b133-28b16ec4a06a"
      },
      "execution_count": 344,
      "outputs": [
        {
          "output_type": "error",
          "ename": "ValueError",
          "evalue": "ignored",
          "traceback": [
            "\u001b[0;31m---------------------------------------------------------------------------\u001b[0m",
            "\u001b[0;31mValueError\u001b[0m                                Traceback (most recent call last)",
            "\u001b[0;32m<ipython-input-344-af12189e274e>\u001b[0m in \u001b[0;36m<cell line: 1>\u001b[0;34m()\u001b[0m\n\u001b[0;32m----> 1\u001b[0;31m \u001b[0mpie_plot_crisp_partition\u001b[0m\u001b[0;34m(\u001b[0m\u001b[0mcrisp_partitions\u001b[0m\u001b[0;34m[\u001b[0m\u001b[0;36m0\u001b[0m\u001b[0;34m]\u001b[0m\u001b[0;34m,\u001b[0m \u001b[0mlabels\u001b[0m\u001b[0;34m=\u001b[0m\u001b[0mlabels_clusters_names\u001b[0m\u001b[0;34m)\u001b[0m\u001b[0;34m\u001b[0m\u001b[0;34m\u001b[0m\u001b[0m\n\u001b[0m",
            "\u001b[0;32m<ipython-input-341-8d5bae886c86>\u001b[0m in \u001b[0;36mpie_plot_crisp_partition\u001b[0;34m(U_crisp_matrix, labels)\u001b[0m\n\u001b[1;32m     13\u001b[0m \u001b[0;34m\u001b[0m\u001b[0m\n\u001b[1;32m     14\u001b[0m   \u001b[0mfig\u001b[0m\u001b[0;34m,\u001b[0m \u001b[0max\u001b[0m \u001b[0;34m=\u001b[0m \u001b[0mplt\u001b[0m\u001b[0;34m.\u001b[0m\u001b[0msubplots\u001b[0m\u001b[0;34m(\u001b[0m\u001b[0;34m)\u001b[0m\u001b[0;34m\u001b[0m\u001b[0;34m\u001b[0m\u001b[0m\n\u001b[0;32m---> 15\u001b[0;31m   \u001b[0max\u001b[0m\u001b[0;34m.\u001b[0m\u001b[0mpie\u001b[0m\u001b[0;34m(\u001b[0m\u001b[0msizes\u001b[0m\u001b[0;34m,\u001b[0m \u001b[0mlabels\u001b[0m\u001b[0;34m=\u001b[0m\u001b[0mlabels\u001b[0m\u001b[0;34m)\u001b[0m\u001b[0;34m\u001b[0m\u001b[0;34m\u001b[0m\u001b[0m\n\u001b[0m\u001b[1;32m     16\u001b[0m \u001b[0;34m\u001b[0m\u001b[0m\n\u001b[1;32m     17\u001b[0m   \u001b[0mplt\u001b[0m\u001b[0;34m.\u001b[0m\u001b[0msavefig\u001b[0m\u001b[0;34m(\u001b[0m\u001b[0;34m'piee_clusters.png'\u001b[0m\u001b[0;34m)\u001b[0m\u001b[0;34m\u001b[0m\u001b[0;34m\u001b[0m\u001b[0m\n",
            "\u001b[0;32m/usr/local/lib/python3.10/dist-packages/matplotlib/__init__.py\u001b[0m in \u001b[0;36minner\u001b[0;34m(ax, data, *args, **kwargs)\u001b[0m\n\u001b[1;32m   1440\u001b[0m     \u001b[0;32mdef\u001b[0m \u001b[0minner\u001b[0m\u001b[0;34m(\u001b[0m\u001b[0max\u001b[0m\u001b[0;34m,\u001b[0m \u001b[0;34m*\u001b[0m\u001b[0margs\u001b[0m\u001b[0;34m,\u001b[0m \u001b[0mdata\u001b[0m\u001b[0;34m=\u001b[0m\u001b[0;32mNone\u001b[0m\u001b[0;34m,\u001b[0m \u001b[0;34m**\u001b[0m\u001b[0mkwargs\u001b[0m\u001b[0;34m)\u001b[0m\u001b[0;34m:\u001b[0m\u001b[0;34m\u001b[0m\u001b[0;34m\u001b[0m\u001b[0m\n\u001b[1;32m   1441\u001b[0m         \u001b[0;32mif\u001b[0m \u001b[0mdata\u001b[0m \u001b[0;32mis\u001b[0m \u001b[0;32mNone\u001b[0m\u001b[0;34m:\u001b[0m\u001b[0;34m\u001b[0m\u001b[0;34m\u001b[0m\u001b[0m\n\u001b[0;32m-> 1442\u001b[0;31m             \u001b[0;32mreturn\u001b[0m \u001b[0mfunc\u001b[0m\u001b[0;34m(\u001b[0m\u001b[0max\u001b[0m\u001b[0;34m,\u001b[0m \u001b[0;34m*\u001b[0m\u001b[0mmap\u001b[0m\u001b[0;34m(\u001b[0m\u001b[0msanitize_sequence\u001b[0m\u001b[0;34m,\u001b[0m \u001b[0margs\u001b[0m\u001b[0;34m)\u001b[0m\u001b[0;34m,\u001b[0m \u001b[0;34m**\u001b[0m\u001b[0mkwargs\u001b[0m\u001b[0;34m)\u001b[0m\u001b[0;34m\u001b[0m\u001b[0;34m\u001b[0m\u001b[0m\n\u001b[0m\u001b[1;32m   1443\u001b[0m \u001b[0;34m\u001b[0m\u001b[0m\n\u001b[1;32m   1444\u001b[0m         \u001b[0mbound\u001b[0m \u001b[0;34m=\u001b[0m \u001b[0mnew_sig\u001b[0m\u001b[0;34m.\u001b[0m\u001b[0mbind\u001b[0m\u001b[0;34m(\u001b[0m\u001b[0max\u001b[0m\u001b[0;34m,\u001b[0m \u001b[0;34m*\u001b[0m\u001b[0margs\u001b[0m\u001b[0;34m,\u001b[0m \u001b[0;34m**\u001b[0m\u001b[0mkwargs\u001b[0m\u001b[0;34m)\u001b[0m\u001b[0;34m\u001b[0m\u001b[0;34m\u001b[0m\u001b[0m\n",
            "\u001b[0;32m/usr/local/lib/python3.10/dist-packages/matplotlib/axes/_axes.py\u001b[0m in \u001b[0;36mpie\u001b[0;34m(self, x, explode, labels, colors, autopct, pctdistance, shadow, labeldistance, startangle, radius, counterclock, wedgeprops, textprops, center, frame, rotatelabels, normalize, hatch)\u001b[0m\n\u001b[1;32m   3207\u001b[0m             \u001b[0mexplode\u001b[0m \u001b[0;34m=\u001b[0m \u001b[0;34m[\u001b[0m\u001b[0;36m0\u001b[0m\u001b[0;34m]\u001b[0m \u001b[0;34m*\u001b[0m \u001b[0mlen\u001b[0m\u001b[0;34m(\u001b[0m\u001b[0mx\u001b[0m\u001b[0;34m)\u001b[0m\u001b[0;34m\u001b[0m\u001b[0;34m\u001b[0m\u001b[0m\n\u001b[1;32m   3208\u001b[0m         \u001b[0;32mif\u001b[0m \u001b[0mlen\u001b[0m\u001b[0;34m(\u001b[0m\u001b[0mx\u001b[0m\u001b[0;34m)\u001b[0m \u001b[0;34m!=\u001b[0m \u001b[0mlen\u001b[0m\u001b[0;34m(\u001b[0m\u001b[0mlabels\u001b[0m\u001b[0;34m)\u001b[0m\u001b[0;34m:\u001b[0m\u001b[0;34m\u001b[0m\u001b[0;34m\u001b[0m\u001b[0m\n\u001b[0;32m-> 3209\u001b[0;31m             \u001b[0;32mraise\u001b[0m \u001b[0mValueError\u001b[0m\u001b[0;34m(\u001b[0m\u001b[0;34m\"'label' must be of length 'x'\"\u001b[0m\u001b[0;34m)\u001b[0m\u001b[0;34m\u001b[0m\u001b[0;34m\u001b[0m\u001b[0m\n\u001b[0m\u001b[1;32m   3210\u001b[0m         \u001b[0;32mif\u001b[0m \u001b[0mlen\u001b[0m\u001b[0;34m(\u001b[0m\u001b[0mx\u001b[0m\u001b[0;34m)\u001b[0m \u001b[0;34m!=\u001b[0m \u001b[0mlen\u001b[0m\u001b[0;34m(\u001b[0m\u001b[0mexplode\u001b[0m\u001b[0;34m)\u001b[0m\u001b[0;34m:\u001b[0m\u001b[0;34m\u001b[0m\u001b[0;34m\u001b[0m\u001b[0m\n\u001b[1;32m   3211\u001b[0m             \u001b[0;32mraise\u001b[0m \u001b[0mValueError\u001b[0m\u001b[0;34m(\u001b[0m\u001b[0;34m\"'explode' must be of length 'x'\"\u001b[0m\u001b[0;34m)\u001b[0m\u001b[0;34m\u001b[0m\u001b[0;34m\u001b[0m\u001b[0m\n",
            "\u001b[0;31mValueError\u001b[0m: 'label' must be of length 'x'"
          ]
        },
        {
          "output_type": "display_data",
          "data": {
            "text/plain": [
              "<Figure size 640x480 with 1 Axes>"
            ],
            "image/png": "[encoded data removed]"
          },
          "metadata": {}
        }
      ]
    },
    {
      "cell_type": "code",
      "source": [
        "np.sum(c)"
      ],
      "metadata": {
        "colab": {
          "base_uri": "https://localhost:8080/"
        },
        "id": "ZwSCjn7EjDFW",
        "outputId": "096f9814-42df-450a-e05f-542b374104ee"
      },
      "execution_count": 255,
      "outputs": [
        {
          "output_type": "execute_result",
          "data": {
            "text/plain": [
              "2310"
            ]
          },
          "metadata": {},
          "execution_count": 255
        }
      ]
    },
    {
      "cell_type": "code",
      "source": [
        "import matplotlib.pyplot as plt\n",
        "labels = '0', '1', '2', '3', '4', '5', '6'\n",
        "sizes = c\n",
        "\n",
        "fig, ax = plt.subplots()\n",
        "ax.pie(sizes, labels=labels)\n",
        "\n",
        "plt.savefig('piee_clusters.png')"
      ],
      "metadata": {
        "colab": {
          "base_uri": "https://localhost:8080/",
          "height": 406
        },
        "id": "PGibYjxtjO3S",
        "outputId": "5dcf7c03-77c0-4f45-aab6-78e22f9d8e14"
      },
      "execution_count": 256,
      "outputs": [
        {
          "output_type": "display_data",
          "data": {
            "text/plain": [
              "<Figure size 640x480 with 1 Axes>"
            ],
            "image/png": "[encoded data removed]"
          },
          "metadata": {}
        }
      ]
    },
    {
      "cell_type": "code",
      "source": [
        "crisp_partitions[0]"
      ],
      "metadata": {
        "colab": {
          "base_uri": "https://localhost:8080/"
        },
        "id": "RScwmuOB9mWt",
        "outputId": "c8745a50-bc05-43f9-89b8-f1149f6322ab"
      },
      "execution_count": 335,
      "outputs": [
        {
          "output_type": "execute_result",
          "data": {
            "text/plain": [
              "array([[0., 0., 0., ..., 0., 0., 0.],\n",
              "       [0., 0., 0., ..., 0., 0., 1.],\n",
              "       [0., 0., 0., ..., 0., 0., 0.],\n",
              "       ...,\n",
              "       [0., 0., 0., ..., 0., 0., 0.],\n",
              "       [0., 0., 0., ..., 0., 0., 0.],\n",
              "       [0., 0., 0., ..., 0., 0., 0.]])"
            ]
          },
          "metadata": {},
          "execution_count": 335
        }
      ]
    },
    {
      "cell_type": "code",
      "source": [
        "\"\"\"Para cada dataset e partição fuzzy, calcule o índice de Rand corrigido, \n",
        "e a F-measure (adaptada para agrupamento Comente\"\"\"\n",
        "\n",
        "#Obtendo Índice de range corrigido e f-measure para cada partição CRISP\n",
        "\n",
        "rand_index_f_measures = []\n",
        "\n",
        "for i in range(NUMBER_OF_DATASETS):\n",
        "\n",
        "  ith_crisp_partition = crisp_partitions[i]\n",
        "  clustering_rand_index = calculate_ari(ith_crisp_partition, labels_a_priori)\n",
        "  f_measure = calculate_f_measure(ith_crisp_partition, labels_a_priori)\n",
        "\n",
        "  rand_index_f_measures.append( [clustering_rand_index, f_measure] )"
      ],
      "metadata": {
        "id": "2dIMyq4pOS6j",
        "colab": {
          "base_uri": "https://localhost:8080/",
          "height": 356
        },
        "outputId": "9511b84b-6f27-419b-dc14-2a4140187ff6"
      },
      "execution_count": 280,
      "outputs": [
        {
          "output_type": "error",
          "ename": "TypeError",
          "evalue": "ignored",
          "traceback": [
            "\u001b[0;31m---------------------------------------------------------------------------\u001b[0m",
            "\u001b[0;31mTypeError\u001b[0m                                 Traceback (most recent call last)",
            "\u001b[0;32m<ipython-input-280-b98af166d4c2>\u001b[0m in \u001b[0;36m<cell line: 8>\u001b[0;34m()\u001b[0m\n\u001b[1;32m     10\u001b[0m   \u001b[0mith_crisp_partition\u001b[0m \u001b[0;34m=\u001b[0m \u001b[0mcrisp_partitions\u001b[0m\u001b[0;34m[\u001b[0m\u001b[0mi\u001b[0m\u001b[0;34m]\u001b[0m\u001b[0;34m\u001b[0m\u001b[0;34m\u001b[0m\u001b[0m\n\u001b[1;32m     11\u001b[0m   \u001b[0mclustering_rand_index\u001b[0m \u001b[0;34m=\u001b[0m \u001b[0mcalculate_ari\u001b[0m\u001b[0;34m(\u001b[0m\u001b[0mith_crisp_partition\u001b[0m\u001b[0;34m,\u001b[0m \u001b[0mlabels_a_priori\u001b[0m\u001b[0;34m)\u001b[0m\u001b[0;34m\u001b[0m\u001b[0;34m\u001b[0m\u001b[0m\n\u001b[0;32m---> 12\u001b[0;31m   \u001b[0mf_measure\u001b[0m \u001b[0;34m=\u001b[0m \u001b[0mcalculate_f_measure\u001b[0m\u001b[0;34m(\u001b[0m\u001b[0mith_crisp_partition\u001b[0m\u001b[0;34m,\u001b[0m \u001b[0mlabels_a_priori\u001b[0m\u001b[0;34m)\u001b[0m\u001b[0;34m\u001b[0m\u001b[0;34m\u001b[0m\u001b[0m\n\u001b[0m\u001b[1;32m     13\u001b[0m \u001b[0;34m\u001b[0m\u001b[0m\n\u001b[1;32m     14\u001b[0m   \u001b[0mrand_index_f_measures\u001b[0m\u001b[0;34m.\u001b[0m\u001b[0mappend\u001b[0m\u001b[0;34m(\u001b[0m \u001b[0;34m[\u001b[0m\u001b[0mclustering_rand_index\u001b[0m\u001b[0;34m,\u001b[0m \u001b[0mf_measure\u001b[0m\u001b[0;34m]\u001b[0m \u001b[0;34m)\u001b[0m\u001b[0;34m\u001b[0m\u001b[0;34m\u001b[0m\u001b[0m\n",
            "\u001b[0;32m<ipython-input-239-4a3dc290c7c0>\u001b[0m in \u001b[0;36mcalculate_f_measure\u001b[0;34m(partition1, partition2)\u001b[0m\n\u001b[1;32m    178\u001b[0m \u001b[0;31m#VERIFY\u001b[0m\u001b[0;34m\u001b[0m\u001b[0;34m\u001b[0m\u001b[0m\n\u001b[1;32m    179\u001b[0m \u001b[0;32mdef\u001b[0m \u001b[0mcalculate_f_measure\u001b[0m\u001b[0;34m(\u001b[0m\u001b[0mpartition1\u001b[0m\u001b[0;34m,\u001b[0m \u001b[0mpartition2\u001b[0m\u001b[0;34m)\u001b[0m\u001b[0;34m:\u001b[0m\u001b[0;34m\u001b[0m\u001b[0;34m\u001b[0m\u001b[0m\n\u001b[0;32m--> 180\u001b[0;31m     \u001b[0mtp\u001b[0m \u001b[0;34m=\u001b[0m \u001b[0msum\u001b[0m\u001b[0;34m(\u001b[0m\u001b[0;36m1\u001b[0m \u001b[0;32mfor\u001b[0m \u001b[0mi\u001b[0m \u001b[0;32min\u001b[0m \u001b[0mpartition1\u001b[0m \u001b[0;32mfor\u001b[0m \u001b[0mj\u001b[0m \u001b[0;32min\u001b[0m \u001b[0mpartition2\u001b[0m \u001b[0;32mif\u001b[0m \u001b[0mi\u001b[0m \u001b[0;34m==\u001b[0m \u001b[0mj\u001b[0m\u001b[0;34m)\u001b[0m  \u001b[0;31m# Conta os verdadeiros positivos\u001b[0m\u001b[0;34m\u001b[0m\u001b[0;34m\u001b[0m\u001b[0m\n\u001b[0m\u001b[1;32m    181\u001b[0m     \u001b[0mfp\u001b[0m \u001b[0;34m=\u001b[0m \u001b[0mlen\u001b[0m\u001b[0;34m(\u001b[0m\u001b[0mpartition1\u001b[0m\u001b[0;34m)\u001b[0m \u001b[0;34m-\u001b[0m \u001b[0mtp\u001b[0m  \u001b[0;31m# Calcula os falsos positivos\u001b[0m\u001b[0;34m\u001b[0m\u001b[0;34m\u001b[0m\u001b[0m\n\u001b[1;32m    182\u001b[0m     \u001b[0mfn\u001b[0m \u001b[0;34m=\u001b[0m \u001b[0mlen\u001b[0m\u001b[0;34m(\u001b[0m\u001b[0mpartition2\u001b[0m\u001b[0;34m)\u001b[0m \u001b[0;34m-\u001b[0m \u001b[0mtp\u001b[0m  \u001b[0;31m# Calcula os falsos negativos\u001b[0m\u001b[0;34m\u001b[0m\u001b[0;34m\u001b[0m\u001b[0m\n",
            "\u001b[0;31mTypeError\u001b[0m: 'numpy.float64' object is not callable"
          ]
        }
      ]
    },
    {
      "cell_type": "code",
      "source": [
        "rand_index_f_measures"
      ],
      "metadata": {
        "id": "G3BMaAtPPCTf",
        "colab": {
          "base_uri": "https://localhost:8080/"
        },
        "outputId": "f8abae32-4eba-4dbe-8152-2ec5059abdc4"
      },
      "execution_count": 88,
      "outputs": [
        {
          "output_type": "execute_result",
          "data": {
            "text/plain": [
              "[]"
            ]
          },
          "metadata": {},
          "execution_count": 88
        }
      ]
    },
    {
      "cell_type": "code",
      "source": [
        "np.unique(crisp)\n",
        "\n",
        "#entender via video aula etc sobre a aplicação do indice de rand corrigido e f-measure"
      ],
      "metadata": {
        "id": "eJWiss96Qoit",
        "colab": {
          "base_uri": "https://localhost:8080/"
        },
        "outputId": "36f5d3a5-b7ad-4ad4-b45c-b2b62dd53a5c"
      },
      "execution_count": 89,
      "outputs": [
        {
          "output_type": "execute_result",
          "data": {
            "text/plain": [
              "array([  35,  244,  710, 1059, 1378, 1607, 1665])"
            ]
          },
          "metadata": {},
          "execution_count": 89
        }
      ]
    },
    {
      "cell_type": "code",
      "source": [
        "#data = X_dataset_1\n",
        "n_clusters_C = 7\n",
        "m = 2 #{1.1; 1.6; 2.0}. 1.1 resuls on error: RuntimeWarning: overflow encountered in exp AND invalid value encountered in true_divide. USE OTHER IMPL OF FCM\n",
        "distance_metric = 'cityblock'\n",
        "error_e=0.000001\n",
        "maxiter_T=100\n",
        "best_objective_value = 99999999999.9\n",
        "best_results = 0\n",
        "times = 1 #50\n",
        "\n",
        "\n",
        "\n",
        "datasets = [X_dataset_1, X_dataset_2, X_dataset_3]"
      ],
      "metadata": {
        "id": "_sc1LZSSa6WC"
      },
      "execution_count": 90,
      "outputs": []
    },
    {
      "cell_type": "code",
      "source": [
        "# centroids, U, iter = fuzzy_cmeans(X_dataset_1, n_clusters_C, m, distance_metric = 'cityblock')\n",
        "\n",
        "cntr, u, u0, d, jm, p, fpc = skfuzzy_fcm(X_dataset_1.T, n_clusters_C, m, error_e, maxiter_T, distance_metric)\n",
        "centroids2, U, iter2, objective_functions = cntr, u, p, jm\n",
        "U"
      ],
      "metadata": {
        "colab": {
          "base_uri": "https://localhost:8080/"
        },
        "id": "q_FkAtpsQAGB",
        "outputId": "1321b1d9-69ee-44f4-d1de-ab5d149f2309"
      },
      "execution_count": 91,
      "outputs": [
        {
          "output_type": "execute_result",
          "data": {
            "text/plain": [
              "array([[5.07194498e-32, 1.00000000e+00, 6.82104032e-32, 6.31549554e-32,\n",
              "        7.22617536e-32, 6.76190839e-32],\n",
              "       [1.00000000e+00, 4.93038066e-32, 4.93038066e-32, 4.93038066e-32,\n",
              "        4.93038066e-32, 4.93038066e-32],\n",
              "       [5.01635705e-32, 6.74628259e-32, 2.37152148e-17, 1.40450471e-31,\n",
              "        1.14307217e-31, 1.00023261e-31],\n",
              "       [5.01104909e-32, 7.13941488e-32, 1.14186261e-31, 9.62601127e-32,\n",
              "        1.00000000e+00, 1.54231301e-31],\n",
              "       [4.95527518e-32, 6.17022038e-32, 1.38740265e-31, 1.00000000e+00,\n",
              "        9.51887197e-32, 1.72342361e-31],\n",
              "       [4.93038066e-32, 6.57317508e-32, 9.83089379e-32, 1.71476540e-31,\n",
              "        1.51748469e-31, 1.00000000e+00],\n",
              "       [5.01635673e-32, 6.74628207e-32, 1.00000000e+00, 1.40450457e-31,\n",
              "        1.14307205e-31, 1.00023251e-31]])"
            ]
          },
          "metadata": {},
          "execution_count": 91
        }
      ]
    },
    {
      "cell_type": "code",
      "source": [
        "U[:,0], U.shape"
      ],
      "metadata": {
        "colab": {
          "base_uri": "https://localhost:8080/"
        },
        "id": "DHzYiWhj0eW0",
        "outputId": "245b959e-d3f4-4729-ca4e-ac17048abf29"
      },
      "execution_count": 92,
      "outputs": [
        {
          "output_type": "execute_result",
          "data": {
            "text/plain": [
              "(array([5.07194498e-32, 1.00000000e+00, 5.01635705e-32, 5.01104909e-32,\n",
              "        4.95527518e-32, 4.93038066e-32, 5.01635673e-32]),\n",
              " (7, 6))"
            ]
          },
          "metadata": {},
          "execution_count": 92
        }
      ]
    },
    {
      "cell_type": "code",
      "source": [
        "#verificando validade do cálculo. OK\n",
        "C = 7\n",
        "sum = 0\n",
        "for i in range(C):\n",
        "\n",
        "  sum += U[i][0]\n",
        "\n",
        "sum"
      ],
      "metadata": {
        "colab": {
          "base_uri": "https://localhost:8080/"
        },
        "id": "Gv3C6MdU04UY",
        "outputId": "d776efea-01e8-44c5-b71c-c0004c7d4b33"
      },
      "execution_count": 93,
      "outputs": [
        {
          "output_type": "execute_result",
          "data": {
            "text/plain": [
              "1.0"
            ]
          },
          "metadata": {},
          "execution_count": 93
        }
      ]
    },
    {
      "cell_type": "code",
      "source": [
        "preds = U.argmax(axis=0)\n",
        "preds"
      ],
      "metadata": {
        "colab": {
          "base_uri": "https://localhost:8080/"
        },
        "id": "qhL6IE4h2RU_",
        "outputId": "45521b91-d562-4177-a5a2-bd3e8ea5aa7c"
      },
      "execution_count": 94,
      "outputs": [
        {
          "output_type": "execute_result",
          "data": {
            "text/plain": [
              "array([1, 0, 6, 4, 3, 5])"
            ]
          },
          "metadata": {},
          "execution_count": 94
        }
      ]
    },
    {
      "cell_type": "code",
      "source": [
        "np.unique(preds)"
      ],
      "metadata": {
        "colab": {
          "base_uri": "https://localhost:8080/"
        },
        "id": "wuvESTo_2fgf",
        "outputId": "8f190b73-9512-41fd-a073-61ed96ad5b42"
      },
      "execution_count": 95,
      "outputs": [
        {
          "output_type": "execute_result",
          "data": {
            "text/plain": [
              "array([0, 1, 3, 4, 5, 6])"
            ]
          },
          "metadata": {},
          "execution_count": 95
        }
      ]
    },
    {
      "cell_type": "code",
      "source": [
        "#https://www.youtube.com/watch?v=zEYxTGDYWYI\n",
        "#MORE ON: https://scikit-fuzzy.readthedocs.io/en/latest/auto_examples/plot_cmeans.html"
      ],
      "metadata": {
        "id": "BkP49UGg2ypR"
      },
      "execution_count": 96,
      "outputs": []
    },
    {
      "cell_type": "code",
      "source": [
        "from __future__ import division, print_function\n",
        "import numpy as np\n",
        "import matplotlib.pyplot as plt\n",
        "import skfuzzy as fuzz\n",
        "\n",
        "colors = ['b', 'orange', 'g', 'r', 'c', 'm', 'y', 'k', 'Brown', 'ForestGreen']\n",
        "\n",
        "# Define three cluster centers\n",
        "centers = [[4, 2],\n",
        "           [1, 7],\n",
        "           [5, 6]]\n",
        "\n",
        "# Define three cluster sigmas in x and y, respectively\n",
        "sigmas = [[0.8, 0.3],\n",
        "          [0.3, 0.5],\n",
        "          [1.1, 0.7]]\n",
        "\n",
        "# Generate test data\n",
        "np.random.seed(42)  # Set seed for reproducibility\n",
        "xpts = np.zeros(1)\n",
        "ypts = np.zeros(1)\n",
        "labels = np.zeros(1)\n",
        "for i, ((xmu, ymu), (xsigma, ysigma)) in enumerate(zip(centers, sigmas)):\n",
        "    xpts = np.hstack((xpts, np.random.standard_normal(200) * xsigma + xmu))\n",
        "    ypts = np.hstack((ypts, np.random.standard_normal(200) * ysigma + ymu))\n",
        "    labels = np.hstack((labels, np.ones(200) * i))\n",
        "\n",
        "# Visualize the test data\n",
        "fig0, ax0 = plt.subplots()\n",
        "for label in range(3):\n",
        "    ax0.plot(xpts[labels == label], ypts[labels == label], '.',\n",
        "             color=colors[label])\n",
        "ax0.set_title('Test data: 200 points x3 clusters.')"
      ],
      "metadata": {
        "colab": {
          "base_uri": "https://localhost:8080/",
          "height": 469
        },
        "id": "3yT3OmL92yzZ",
        "outputId": "99a4ed1c-e6b7-44e6-e07d-2eb61c9a6901"
      },
      "execution_count": 97,
      "outputs": [
        {
          "output_type": "execute_result",
          "data": {
            "text/plain": [
              "Text(0.5, 1.0, 'Test data: 200 points x3 clusters.')"
            ]
          },
          "metadata": {},
          "execution_count": 97
        },
        {
          "output_type": "display_data",
          "data": {
            "text/plain": [
              "<Figure size 640x480 with 1 Axes>"
            ],
            "image/png": "[encoded data removed]"
          },
          "metadata": {}
        }
      ]
    },
    {
      "cell_type": "code",
      "source": [
        "alldata.shape"
      ],
      "metadata": {
        "colab": {
          "base_uri": "https://localhost:8080/",
          "height": 165
        },
        "id": "J9BjmITK3R-c",
        "outputId": "a8638969-b103-401c-8168-ca0e37c05b0c"
      },
      "execution_count": 98,
      "outputs": [
        {
          "output_type": "error",
          "ename": "NameError",
          "evalue": "ignored",
          "traceback": [
            "\u001b[0;31m---------------------------------------------------------------------------\u001b[0m",
            "\u001b[0;31mNameError\u001b[0m                                 Traceback (most recent call last)",
            "\u001b[0;32m<ipython-input-98-ede5dda41ae2>\u001b[0m in \u001b[0;36m<cell line: 1>\u001b[0;34m()\u001b[0m\n\u001b[0;32m----> 1\u001b[0;31m \u001b[0malldata\u001b[0m\u001b[0;34m.\u001b[0m\u001b[0mshape\u001b[0m\u001b[0;34m\u001b[0m\u001b[0;34m\u001b[0m\u001b[0m\n\u001b[0m",
            "\u001b[0;31mNameError\u001b[0m: name 'alldata' is not defined"
          ]
        }
      ]
    },
    {
      "cell_type": "code",
      "source": [
        "# Set up the loop and plot\n",
        "fig1, axes1 = plt.subplots(3, 3, figsize=(8, 8))\n",
        "alldata = np.vstack((xpts, ypts))\n",
        "fpcs = []\n",
        "\n",
        "for ncenters, ax in enumerate(axes1.reshape(-1), 2):\n",
        "    cntr, u, u0, d, jm, p, fpc = fuzz.cluster.cmeans(\n",
        "        alldata, ncenters, 2, error=0.005, maxiter=1000, init=None)\n",
        "\n",
        "    # Store fpc values for later\n",
        "    fpcs.append(fpc)\n",
        "\n",
        "    # Plot assigned clusters, for each data point in training set\n",
        "    cluster_membership = np.argmax(u, axis=0)\n",
        "    for j in range(ncenters):\n",
        "        ax.plot(xpts[cluster_membership == j],\n",
        "                ypts[cluster_membership == j], '.', color=colors[j])\n",
        "\n",
        "    # Mark the center of each fuzzy cluster\n",
        "    for pt in cntr:\n",
        "        ax.plot(pt[0], pt[1], 'rs')\n",
        "\n",
        "    ax.set_title('Centers = {0}; FPC = {1:.2f}'.format(ncenters, fpc))\n",
        "    ax.axis('off')\n",
        "\n",
        "fig1.tight_layout()"
      ],
      "metadata": {
        "id": "n0vyCS1-3MUw"
      },
      "execution_count": null,
      "outputs": []
    },
    {
      "cell_type": "code",
      "source": [
        "#objective_value = calculate_objective(X_dataset_1, centroids, U, m, distance_metric)\n",
        "objective_value = calculate_objective(X_dataset_1.T, centroids, U, m, distance_metric)\n",
        "objective_value"
      ],
      "metadata": {
        "id": "enE2VdfDQGYb"
      },
      "execution_count": null,
      "outputs": []
    },
    {
      "cell_type": "code",
      "source": [
        "X_dataset_1.T.shape"
      ],
      "metadata": {
        "id": "DP6u4NjxWjAK"
      },
      "execution_count": null,
      "outputs": []
    },
    {
      "cell_type": "code",
      "source": [
        "import numpy as np\n",
        "import skfuzzy as fuzz\n",
        "from scipy.spatial.distance import cdist\n",
        "\n",
        "# Generate some random data\n",
        "#data = np.random.rand(100, 2)\n",
        "\n",
        "# Set the number of clusters\n",
        "num_clusters = 3\n",
        "\n",
        "# Apply city-block (Manhattan) distance effect\n",
        "data_city_block = cdist(data, data, metric='cityblock') #euclidean, cosine\n",
        "\n",
        "# Perform Fuzzy C-means clustering\n",
        "cntr, u, _, _, _, _, _ = fuzz.cluster.cmeans(\n",
        "    data_city_block.T,\n",
        "    num_clusters,\n",
        "    2,\n",
        "    error=0.005,\n",
        "    maxiter=1000\n",
        ")\n",
        "\n",
        "# The 'u' matrix contains the fuzzy membership values for each data point\n",
        "\n",
        "# Print the cluster centers\n",
        "print(\"Cluster centers:\")\n",
        "print(cntr)\n",
        "\n",
        "# Print the fuzzy membership values for the first data point\n",
        "print(\"Fuzzy membership values for data point 0:\")\n",
        "print(u[:, 0])\n"
      ],
      "metadata": {
        "id": "SezCy-sJQtR2"
      },
      "execution_count": null,
      "outputs": []
    },
    {
      "cell_type": "code",
      "source": [
        "\n",
        "import numpy as np\n",
        "import skfuzzy as fuzz\n",
        "from scipy.spatial.distance import cdist\n",
        "\n",
        "# Set the random seed for reproducibility\n",
        "RANDOM_SEED=42\n",
        "\n",
        "np.random.seed(RANDOM_SEED)\n",
        "\n",
        "# Generate some random data\n",
        "data = np.random.rand(100, 2)\n",
        "\n",
        "# Set the number of clusters\n",
        "num_clusters = 3\n",
        "\n",
        "# Apply city-block (Manhattan) distance effect\n",
        "data_city_block = cdist(data, data, metric='cityblock') #cityblock, euclidean, cosine\n",
        "\n",
        "# Set the random seed for numpy.random\n",
        "np.random.seed(RANDOM_SEED)\n",
        "\n",
        "# Perform Fuzzy C-means clustering\n",
        "# cntr, u, _, _, _, _, _ = fuzz.cluster.cmeans(\n",
        "cntr, u, u0, d, jm, p, fpc = fuzz.cluster.cmeans(\n",
        "    data_city_block.T,\n",
        "    num_clusters,\n",
        "    m=2,\n",
        "    error=0.005,\n",
        "    maxiter=1000\n",
        ")\n",
        "\n",
        "# The 'u' matrix contains the fuzzy membership values for each data point\n",
        "\n",
        "return_func = cntr, u, p\n",
        "\n",
        "# Print the cluster centers\n",
        "print(\"Cluster centers:\")\n",
        "print(cntr)\n",
        "\n",
        "# Print the fuzzy membership values for the first data point\n",
        "print(\"Fuzzy membership values for data point 0:\")\n",
        "print(u[:, 0])\n",
        "\n"
      ],
      "metadata": {
        "id": "DySH8kdISZSa"
      },
      "execution_count": null,
      "outputs": []
    },
    {
      "cell_type": "code",
      "source": [
        "u.shape "
      ],
      "metadata": {
        "id": "MRolYfFQTItJ"
      },
      "execution_count": null,
      "outputs": []
    },
    {
      "cell_type": "code",
      "source": [
        "u"
      ],
      "metadata": {
        "id": "3lBUNrFWTSaS"
      },
      "execution_count": null,
      "outputs": []
    },
    {
      "cell_type": "code",
      "source": [
        "u_T = u.T\n",
        "u_T.shape"
      ],
      "metadata": {
        "id": "Yb8C4c93TLs_"
      },
      "execution_count": null,
      "outputs": []
    },
    {
      "cell_type": "code",
      "source": [
        "u_T"
      ],
      "metadata": {
        "id": "H5uNyxykTeQh"
      },
      "execution_count": null,
      "outputs": []
    },
    {
      "cell_type": "code",
      "source": [
        "u_T[0][0] + u_T[0][1] + u_T[0][2] "
      ],
      "metadata": {
        "id": "TWc0mqldS5lN"
      },
      "execution_count": null,
      "outputs": []
    },
    {
      "cell_type": "code",
      "source": [],
      "metadata": {
        "id": "WuxEf4r4ar5D"
      },
      "execution_count": null,
      "outputs": []
    },
    {
      "cell_type": "code",
      "source": [
        "#https://pyclustering.github.io/docs/0.10.1/html/d2/d6a/classpyclustering_1_1cluster_1_1fcm_1_1fcm.html"
      ],
      "metadata": {
        "id": "23qoNhmwzOtf"
      },
      "execution_count": null,
      "outputs": []
    },
    {
      "cell_type": "code",
      "source": [
        "!pip3 install pyclustering"
      ],
      "metadata": {
        "id": "JyINPNHBacLi"
      },
      "execution_count": null,
      "outputs": []
    },
    {
      "cell_type": "code",
      "source": [
        "from pyclustering.samples.definitions import FAMOUS_SAMPLES\n",
        "from pyclustering.cluster import cluster_visualizer\n",
        "from pyclustering.cluster.center_initializer import kmeans_plusplus_initializer\n",
        "from pyclustering.cluster.fcm import fcm\n",
        "from pyclustering.utils import read_sample\n",
        " \n",
        "# load list of points for cluster analysis\n",
        "#sample = read_sample(FAMOUS_SAMPLES.SAMPLE_OLD_FAITHFUL)\n",
        "sample = X_dataset_1\n",
        "# initialize\n",
        "initial_centers = kmeans_plusplus_initializer(sample, 7, kmeans_plusplus_initializer.FARTHEST_CENTER_CANDIDATE).initialize()\n",
        " \n",
        "# create instance of Fuzzy C-Means algorithm\n",
        "fcm_instance = fcm(sample, initial_centers)\n",
        " \n",
        "# run cluster analysis and obtain results\n",
        "fcm_instance.process()\n",
        "clusters = fcm_instance.get_clusters()\n",
        "centers = fcm_instance.get_centers()\n",
        " \n",
        "# visualize clustering results\n",
        "visualizer = cluster_visualizer()\n",
        "visualizer.append_clusters(clusters, sample)\n",
        "visualizer.append_cluster(centers, marker='*', markersize=10)\n",
        "visualizer.show()"
      ],
      "metadata": {
        "id": "JoigJh2yacOD"
      },
      "execution_count": null,
      "outputs": []
    },
    {
      "cell_type": "code",
      "source": [
        "len(clusters), type(clusters), type(clusters[0])"
      ],
      "metadata": {
        "id": "GQ3AavYayIXQ"
      },
      "execution_count": null,
      "outputs": []
    },
    {
      "cell_type": "code",
      "source": [
        "len(clusters[0])"
      ],
      "metadata": {
        "id": "V5iigJKYyo5V"
      },
      "execution_count": null,
      "outputs": []
    },
    {
      "cell_type": "code",
      "source": [
        "len(centers), centers"
      ],
      "metadata": {
        "id": "VfJUpqzyyssv"
      },
      "execution_count": null,
      "outputs": []
    },
    {
      "cell_type": "code",
      "source": [
        "#verificar se soma de probabilidades para cada cluster resulta em 1\n",
        "e = 1\n",
        "sum = 0\n",
        "for i in range(n_clusters_C):\n",
        "\n",
        "  sum += membership_matrixes[0][i][e]\n",
        "\n",
        "sum"
      ],
      "metadata": {
        "id": "_PsVaXsFvYwi"
      },
      "execution_count": null,
      "outputs": []
    }
  ]
}