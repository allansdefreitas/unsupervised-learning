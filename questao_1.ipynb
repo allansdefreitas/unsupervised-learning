{
  "nbformat": 4,
  "nbformat_minor": 0,
  "metadata": {
    "colab": {
      "provenance": [],
      "authorship_tag": "ABX9TyMrOnDQaSRYbNc/F2lYxsQh",
      "include_colab_link": true
    },
    "kernelspec": {
      "name": "python3",
      "display_name": "Python 3"
    },
    "language_info": {
      "name": "python"
    }
  },
  "cells": [
    {
      "cell_type": "markdown",
      "metadata": {
        "id": "view-in-github",
        "colab_type": "text"
      },
      "source": [
        "<a href=\"https://colab.research.google.com/github/allansdefreitas/unsupervised-learning/blob/main/questao_1.ipynb\" target=\"_parent\"><img src=\"https://colab.research.google.com/assets/colab-badge.svg\" alt=\"Open In Colab\"/></a>"
      ]
    },
    {
      "cell_type": "code",
      "source": [
        "\"\"\"Read:\n",
        "https://sites.google.com/site/dataclusteringalgorithms/fuzzy-c-means-clustering-algorithm\n",
        "https://towardsdatascience.com/fuzzy-c-means-clustering-with-python-f4908c714081\n",
        "https://github.com/theimageprocessingguy/Fuzzy-C-Means-Python\n",
        "\n",
        "\n",
        "https://pyclustering.github.io/docs/0.10.1/html/\n",
        "https://scikit-fuzzy.github.io/scikit-fuzzy/\n",
        "https://www.youtube.com/watch?v=nGWmgHxIoPk&ab_channel=%E6%9D%8E%E6%94%BF%E8%BB%92\n",
        "https://www.youtube.com/watch?v=zEYxTGDYWYI\n",
        "\n",
        "\"\"\""
      ],
      "metadata": {
        "id": "k8NewsK7R8Wh",
        "colab": {
          "base_uri": "https://localhost:8080/",
          "height": 70
        },
        "outputId": "7a937181-d969-43f0-c118-f955190db900"
      },
      "execution_count": 210,
      "outputs": [
        {
          "output_type": "execute_result",
          "data": {
            "text/plain": [
              "'Read:\\nhttps://sites.google.com/site/dataclusteringalgorithms/fuzzy-c-means-clustering-algorithm\\nhttps://towardsdatascience.com/fuzzy-c-means-clustering-with-python-f4908c714081\\nhttps://github.com/theimageprocessingguy/Fuzzy-C-Means-Python\\n\\n\\nhttps://pyclustering.github.io/docs/0.10.1/html/\\nhttps://scikit-fuzzy.github.io/scikit-fuzzy/\\nhttps://www.youtube.com/watch?v=nGWmgHxIoPk&ab_channel=%E6%9D%8E%E6%94%BF%E8%BB%92\\nhttps://www.youtube.com/watch?v=zEYxTGDYWYI\\n\\n'"
            ],
            "application/vnd.google.colaboratory.intrinsic+json": {
              "type": "string"
            }
          },
          "metadata": {},
          "execution_count": 210
        }
      ]
    },
    {
      "cell_type": "code",
      "source": [
        "!pip install scikit-fuzzy"
      ],
      "metadata": {
        "colab": {
          "base_uri": "https://localhost:8080/"
        },
        "id": "qv0z-urAa8g8",
        "outputId": "6a85f4f8-103e-48b0-bcf1-f966320ba3c0"
      },
      "execution_count": 211,
      "outputs": [
        {
          "output_type": "stream",
          "name": "stdout",
          "text": [
            "Looking in indexes: https://pypi.org/simple, https://us-python.pkg.dev/colab-wheels/public/simple/\n",
            "Requirement already satisfied: scikit-fuzzy in /usr/local/lib/python3.10/dist-packages (0.4.2)\n",
            "Requirement already satisfied: numpy>=1.6.0 in /usr/local/lib/python3.10/dist-packages (from scikit-fuzzy) (1.22.4)\n",
            "Requirement already satisfied: scipy>=0.9.0 in /usr/local/lib/python3.10/dist-packages (from scikit-fuzzy) (1.10.1)\n",
            "Requirement already satisfied: networkx>=1.9.0 in /usr/local/lib/python3.10/dist-packages (from scikit-fuzzy) (3.1)\n"
          ]
        }
      ]
    },
    {
      "cell_type": "code",
      "source": [
        "#imports\n",
        "import numpy as np\n",
        "import pandas as pd\n",
        "\n",
        "import skfuzzy as fuzz\n",
        "from sklearn.preprocessing import StandardScaler\n",
        "from numpy import savetxt\n",
        "from numpy import loadtxt\n",
        "from scipy.spatial.distance import cdist\n",
        "\n",
        "\n",
        "from sklearn import metrics\n",
        "from sklearn.metrics import f1_score\n",
        "from sklearn.metrics.cluster import pair_confusion_matrix\n",
        "from sklearn.metrics import confusion_matrix\n",
        "from sklearn.metrics import adjusted_rand_score\n",
        "from sklearn import preprocessing\n",
        "\n",
        "import matplotlib.pyplot as plt\n",
        "import seaborn as sns"
      ],
      "metadata": {
        "id": "1dP6KKP6yt9Z"
      },
      "execution_count": 212,
      "outputs": []
    },
    {
      "cell_type": "code",
      "source": [
        "def initialize_membership_matrix(n_samples, n_clusters):\n",
        "    \"\"\"\n",
        "    Initializes the membership matrix for Fuzzy C-Means.\n",
        "\n",
        "    Parameters:\n",
        "        n_samples (int): Number of data points.\n",
        "        n_clusters (int): Number of clusters.\n",
        "\n",
        "    Returns:\n",
        "        numpy.ndarray: Initial membership matrix.\n",
        "    \"\"\"\n",
        "    membership_matrix = np.random.rand(n_samples, n_clusters)\n",
        "    membership_matrix /= np.sum(membership_matrix, axis=1, keepdims=True)\n",
        "    return membership_matrix\n",
        "\n",
        "\n",
        "def update_membership_matrix(data, centroids, m, distance_metric):\n",
        "    \"\"\"\n",
        "    Updates the membership matrix for Fuzzy C-Means.\n",
        "\n",
        "    Parameters:\n",
        "        data (numpy.ndarray): Input data points.\n",
        "        centroids (numpy.ndarray): Current centroid positions.\n",
        "        m (float): Fuzziness parameter.\n",
        "        distance_metric (str): Distance metric to use ('cityblock' or 'euclidean').\n",
        "\n",
        "    Returns:\n",
        "        numpy.ndarray: Updated membership matrix.\n",
        "    \"\"\"\n",
        "    n_samples, n_clusters = data.shape[0], centroids.shape[0]\n",
        "    membership_matrix = np.zeros((n_samples, n_clusters))\n",
        "\n",
        "    for i in range(n_samples):\n",
        "        for j in range(n_clusters):\n",
        "            if distance_metric == 'cityblock':\n",
        "                dist = np.sum(np.abs(data[i] - centroids[j]))\n",
        "            elif distance_metric == 'euclidean':\n",
        "                dist = np.linalg.norm(data[i] - centroids[j])\n",
        "            else:\n",
        "                raise ValueError(\"Invalid distance metric.\")\n",
        "\n",
        "            membership_matrix[i, j] = 1 / np.sum((dist / np.abs(data[i] - centroids)) ** (2 / (m - 1)))\n",
        "\n",
        "    membership_matrix /= np.sum(membership_matrix, axis=1, keepdims=True)\n",
        "    return membership_matrix\n",
        "\n",
        "\n",
        "def update_centroids(data, membership_matrix, m):\n",
        "    \"\"\"\n",
        "    Updates the centroids for Fuzzy C-Means.\n",
        "\n",
        "    Parameters:\n",
        "        data (numpy.ndarray): Input data points.\n",
        "        membership_matrix (numpy.ndarray): Current membership matrix.\n",
        "        m (float): Fuzziness parameter.\n",
        "\n",
        "    Returns:\n",
        "        numpy.ndarray: Updated centroid positions.\n",
        "    \"\"\"\n",
        "    n_clusters, n_features = membership_matrix.shape[1], data.shape[1]\n",
        "    centroids = np.zeros((n_clusters, n_features))\n",
        "\n",
        "    for j in range(n_clusters):\n",
        "        membership_power = membership_matrix[:, j] ** m\n",
        "        centroids[j] = np.sum(membership_power.reshape(-1, 1) * data, axis=0) / np.sum(membership_power)\n",
        "\n",
        "    return centroids\n",
        "\n",
        "\n",
        "\n",
        "def fuzzy_cmeans(data, n_clusters_C, m, error_e=1e-6, max_iter=100, tolerance=1e-4, distance_metric='cityblock'):\n",
        "    \n",
        "    \"\"\"\n",
        "    Fuzzy C-Means clustering algorithm.\n",
        "\n",
        "    Parameters:\n",
        "        data (numpy.ndarray): Input data points.\n",
        "        n_clusters (int): Number of clusters.\n",
        "        m (float): Fuzziness parameter (> 1).\n",
        "        distance_metric (str): Distance metric to use ('cityblock' or 'euclidean').\n",
        "        max_iter (int): Maximum number of iterations.\n",
        "        error_e (float): Convergence tolerance.\n",
        "\n",
        "    Returns:\n",
        "        numpy.ndarray: Final centroid positions.\n",
        "        numpy.ndarray: Membership matrix.\n",
        "        int: Number of iterations performed.\n",
        "    \"\"\"\n",
        "    n_samples, n_features = data.shape\n",
        "    membership_matrix = initialize_membership_matrix(n_samples, n_clusters_C)\n",
        "    centroids = np.zeros((n_clusters_C, n_features))\n",
        "\n",
        "    for iteration in range(max_iter):\n",
        "        prev_centroids = centroids.copy()\n",
        "\n",
        "        centroids = update_centroids(data, membership_matrix, m)\n",
        "        membership_matrix = update_membership_matrix(data, centroids, m, distance_metric)\n",
        "\n",
        "        if np.linalg.norm(centroids - prev_centroids) < error_e:\n",
        "            break\n",
        "\n",
        "    #transpose the U membership matrix \n",
        "    return centroids, membership_matrix.T, iteration+1"
      ],
      "metadata": {
        "id": "OssbAE3DvtMs"
      },
      "execution_count": 213,
      "outputs": []
    },
    {
      "cell_type": "code",
      "execution_count": 214,
      "metadata": {
        "id": "ZxO_3aCYJySm"
      },
      "outputs": [],
      "source": [
        "def preprocess_dataset(dataframe):\n",
        "\n",
        "    #pre-processing of dataset\n",
        "    scaler = StandardScaler()\n",
        "    data = scaler.fit_transform(dataframe.values)\n",
        "    \n",
        "    return data\n",
        "\n",
        "#VERIFY\n",
        "def calculate_objective(data, centroids, membership_matrix, m, distance_metric='cityblock'):\n",
        "    \"\"\"\n",
        "    Calculates the objective function value for Fuzzy C-Means.\n",
        "\n",
        "    Parameters:\n",
        "        data (numpy.ndarray): Input data points.\n",
        "        centroids (numpy.ndarray): Current centroid positions.\n",
        "        membership_matrix (numpy.ndarray): Current membership matrix.\n",
        "        m (float): Fuzziness parameter.\n",
        "        distance_metric (str): Distance metric to use ('cityblock' or 'euclidean').\n",
        "\n",
        "    Returns:\n",
        "        float: Objective function value.\n",
        "    \"\"\"\n",
        "\n",
        "    data = data.T\n",
        "    centroids = centroids.T\n",
        "    membership_matrix = membership_matrix.T\n",
        "    \n",
        "    objective = 0\n",
        "    n_samples, n_clusters = data.shape[0], centroids.shape[0]\n",
        "    #É preciso obter a matriz transposta, já que aqui temos matriz de shape (num_grupos, num_elementos)\n",
        "    #e o método espera o oposto disso. \n",
        "    membership_matrix = membership_matrix\n",
        "    print(membership_matrix.shape)\n",
        "    \n",
        "    for i in range(n_samples):\n",
        "        for j in range(n_clusters):\n",
        "            if distance_metric == 'cityblock':\n",
        "                #print(data[i].shape)\n",
        "                #print(\"\\ncent:\")\n",
        "                #print(centroids[j].shape)\n",
        "\n",
        "                dist = np.sum(np.abs(data[i] - centroids[j]))\n",
        "\n",
        "            objective += (membership_matrix[i, j] ** m) * (dist ** 2)\n",
        "\n",
        "    return objective\n",
        "\n",
        "#Modified partition coefficient e partition entropy --------------################\n",
        "\n",
        "\n",
        "#close to 1 values are better\n",
        "#A value of 0 indicates complete fuzziness, where data points have equal membership to all clusters\n",
        "#A value of 1 indicates crisp or hard clustering, where data points have membership to only one cluster.\n",
        "#VERIFY\n",
        "def calculate_mpc(membership_matrix):\n",
        "    \"\"\"\n",
        "    Apply T operation over the U matrix before later operations.\n",
        "    Calculates the Modified Partition Coefficient (MPC) for Fuzzy C-Means clustering.\n",
        "\n",
        "    Parameters:\n",
        "        membership_matrix (numpy.ndarray): Membership matrix of shape (n_samples, n_clusters).\n",
        "\n",
        "    Returns:\n",
        "        float: Modified Partition Coefficient value.\n",
        "\n",
        "    \"\"\"\n",
        "    membership_matrix = membership_matrix.T #after we will have  (n_clusters, n_samples).\n",
        "\n",
        "    max_memberships = np.max(membership_matrix, axis=1) \n",
        "    sum_memberships = np.sum(membership_matrix, axis=1)\n",
        "\n",
        "    mpc = np.mean(max_memberships / sum_memberships)\n",
        "\n",
        "    return mpc\n",
        "\n",
        "#close to 0 values are better\n",
        "#A value of 0 indicates a crisp or hard clustering, where data points have membership only to one cluster and there is no uncertainty\n",
        "#higher values indicates uncertainty and fuzziness in the clustering, with data points having more equal memberships across multiple clusters.\n",
        "#VERIFY\n",
        "def calculate_partition_entropy(membership_matrix):\n",
        "    \"\"\"\n",
        "    Apply T operation over the U matrix before later operations.\n",
        "    Calculates the Partition Entropy for Fuzzy C-Means clustering.\n",
        "\n",
        "    Parameters:\n",
        "        membership_matrix (numpy.ndarray): Membership matrix of shape (n_samples, n_clusters).\n",
        "\n",
        "    Returns:\n",
        "        float: Partition Entropy value.\n",
        "    \"\"\"\n",
        "    membership_matrix = membership_matrix.T #after we will have  (n_clusters, n_samples).\n",
        "    n_samples, n_clusters = membership_matrix.shape\n",
        "\n",
        "    entropy = 0.0\n",
        "\n",
        "    for i in range(n_samples):\n",
        "        for j in range(n_clusters):\n",
        "            if membership_matrix[i, j] > 0:\n",
        "                entropy -= membership_matrix[i, j] * np.log2(membership_matrix[i, j])\n",
        "\n",
        "    partition_entropy = entropy / n_samples\n",
        "\n",
        "    return partition_entropy\n",
        "\n",
        "\n",
        "\"\"\"## Em cada dataset execute o algoritmo FCM com a distância de City-Block 50 vezes para obter \n",
        "uma partição fuzzy em 7 grupos e selecione o melhor resultado segundo a função objetivo.\"\"\"\n",
        "def get_best_partition(data, n_clusters_C, m, error_e, maxiter_T, distance_metric = 'cityblock', times_to_run=50):\n",
        "    \n",
        "    best_objective_value = 99999999999.9\n",
        "    best_results = 0\n",
        "    TIMES = times_to_run\n",
        "    \n",
        "    for i in range(TIMES):\n",
        "    \n",
        "      # Example usage\n",
        "      #print(\"FCM: \", i + 1)\n",
        "    \n",
        "      #centroids, membership_matrix, iterations = fuzzy_cmeans(data, n_clusters, m, distance_metric)\n",
        "      \n",
        "      cntr, u, u0, d, jm, p, fpc = skfuzzy_fcm(data, n_clusters_C, m, error_e, maxiter_T, distance_metric)\n",
        "      \n",
        "      centroids, membership_matrix_U, iterations, objective_functions = cntr, u, p, jm\n",
        "     \n",
        "      objective_value = jm[-1] #the last element is the last and best objective function\n",
        "      \n",
        "      if(objective_value < best_objective_value):\n",
        "\n",
        "        best_objective_value = objective_value\n",
        "      \n",
        "        best_results = centroids, membership_matrix_U, iterations, best_objective_value\n",
        "    \n",
        "    return best_results\n",
        "\n",
        "#ok\n",
        "def fuzzy_to_crisp_partition(membership_matrix):\n",
        "    \"\"\"\n",
        "    Converts a fuzzy partition into a crisp partition to be \n",
        "    in a one-hot-enconding format.\n",
        "\n",
        "    Parameters:\n",
        "        membership_matrix (numpy.ndarray): Membership matrix of shape (n_clusters, n_samples).\n",
        "\n",
        "    Returns:\n",
        "        numpy.ndarray: CRISP/hard partition of shape (n_clusters, n_samples).\n",
        "    \"\"\"\n",
        "\n",
        "    U_crisp_matrix = np.zeros_like(membership_matrix)\n",
        "\n",
        "    labels_for_crisp = np.argmax(membership_matrix, axis=0)\n",
        "\n",
        "    num_elements = membership_matrix.shape[1] #the number of elements of data\n",
        "\n",
        "    for i in range(num_elements):\n",
        "      label_one_hot = labels_for_crisp[i] #position of cluster that will be activated in one-hot-encoding\n",
        "      U_crisp_matrix[label_one_hot][i] = 1\n",
        "\n",
        "\n",
        "    return U_crisp_matrix\n",
        "\n",
        "\n",
        "\n",
        "def get_labels_from_crisp_or_fuzzy(U_matrix):\n",
        "\n",
        "  \"\"\"\n",
        "  Given U crisp or fuzzy matrix, returns the labels\n",
        "  \"\"\"\n",
        "\n",
        "  labels = np.argmax(U_matrix, axis=0)\n",
        "\n",
        "  return labels\n",
        "\n",
        "def pie_plot_crisp_partition(U_crisp_matrix, label_names, filename):\n",
        "  \"\"\"\n",
        "\n",
        "  create, show and save a pie plot chart based on crisp matrix and its\n",
        "  cluster's labels passed as argument of function\n",
        "\n",
        "  \"\"\"\n",
        "\n",
        "  labels_crisp = get_labels_from_crisp_or_fuzzy(U_crisp_matrix)\n",
        "\n",
        "  #get the quantity/size of ocurrences of each cluster\n",
        "  _, sizes = np.unique(labels_crisp, return_counts=True)\n",
        "\n",
        "  fig, ax = plt.subplots()\n",
        "  ax.pie(sizes, labels=label_names)\n",
        "\n",
        "  complete_filename = filename + '.png'\n",
        "  plt.savefig(complete_filename)\n",
        "\n",
        "#from [-1, 1]. -1 better\n",
        "#VERIFY\n",
        "def calculate_ari(clustering_1, clustering_2):\n",
        "\n",
        "  # Calculate ARI\n",
        "  ari = adjusted_rand_score(clustering_1, clustering_2)\n",
        "\n",
        "  return ari\n",
        "\n",
        "#from [0,1]. 1 is better\n",
        "#VERIFY\n",
        "def calculate_f_measureOLD(partition1, partition2):\n",
        "    tp = sum(1 for i in partition1 for j in partition2 if i == j)  # Conta os verdadeiros positivos\n",
        "    fp = len(partition1) - tp  # Calcula os falsos positivos\n",
        "    fn = len(partition2) - tp  # Calcula os falsos negativos\n",
        "\n",
        "    f_measure = (2 * tp) / (2 * tp + fp + fn)\n",
        "    return f_measure\n",
        "\n",
        "def calculate_f_measure(partition1, partition2):\n",
        "\n",
        "    f_measure = f1_score(partition1, partition2, average='micro')\n",
        "    return f_measure \n",
        "\n",
        "#from:\n",
        "#https://pythonhosted.org/scikit-fuzzy/api/skfuzzy.cluster.html\n",
        "def skfuzzy_fcm(data, n_clusters_C, m,  error_e=0.000001, maxiter_T=100, distance_metric='cityblock'):\n",
        "\n",
        "  #É preciso obter a matriz transposta, já que o método espera uma\n",
        "  #matriz de shape (S, N), i.e. (num_grupos, num_elementos)\n",
        "  # print(data.shape)\n",
        "  data = data.T\n",
        "  # print(data.shape)\n",
        "  #data_city_block = cdist(data, data, metric='euclidean') #cityblock, euclidean, cosine #IS THIS RIGHT?\n",
        "  #print(data_city_block, data_city_block.shape)\n",
        "\n",
        "  # Perform Fuzzy C-means clustering\n",
        "  cntr, u, u0, d, jm, p, fpc = fuzz.cluster.cmeans(\n",
        "      data, #IT WAS: data_city_block.T. Is this right?  \n",
        "      n_clusters_C,\n",
        "      m=m,\n",
        "      error=error_e,\n",
        "      maxiter=maxiter_T\n",
        "  )\n",
        "\n",
        "  # The 'u' matrix contains the fuzzy membership values for each data point\n",
        "  return  cntr, u, u0, d, jm, p, fpc"
      ]
    },
    {
      "cell_type": "code",
      "source": [
        "\"\"\"\n",
        "I. Considere os dados \"Image Segmentation\" do site uci machine learning\n",
        "repository (https://archive.ics.uci.edu/ml/datasets/Image+Segmentation).\n",
        "\n",
        "\"\"\"\n",
        "\n",
        "NUMBER_OF_DATASETS = 3\n",
        "\n",
        "PATH = 'https://raw.githubusercontent.com/allansdefreitas/unsupervised-learning/main/segmentation.data'\n",
        "PATH2 = 'https://raw.githubusercontent.com/allansdefreitas/unsupervised-learning/main/segmentation.test'\n",
        "\n",
        "dataset_original = pd.read_csv(PATH, sep=',')\n",
        "dataset_original2 = pd.read_csv(PATH2, sep=',')\n",
        "\n",
        "#concat datasets\n",
        "frames = [dataset_original, dataset_original2]\n",
        "dataset_original_indexes = pd.concat(frames)\n",
        "\n",
        "dataset_original = dataset_original_indexes.reset_index(drop=True)\n",
        "\n",
        "indexes = dataset_original_indexes.index\n",
        "\n",
        "#obter os labels a priori\n",
        "indexes = dataset_original_indexes.index\n",
        "indexes_label = []\n",
        "\n",
        "for i in indexes:\n",
        "    indexes_label.append(i)\n",
        "\n",
        "le = preprocessing.LabelEncoder()\n",
        "labels_a_priori = le.fit_transform(indexes_label)\n",
        "\n",
        "labels_clusters_names = '0', '1', '2', '3', '4', '5', '6'\n",
        "\n",
        "\"\"\" Considere 3 datasets: \"\"\"\n",
        "\"\"\" 1) primeiro considerando as variáveis 4 a 9 (shape) ----------\"\"\"\n",
        "\n",
        "dataset_1 = dataset_original.iloc[:,3:9]\n",
        "#pre-processing of dataset\n",
        "X_dataset_1 = preprocess_dataset(dataset_1)\n",
        "\n",
        "\n",
        "\"\"\"2) o segundo considerando as variaveis 10 a 19 (rgb) ----------\"\"\"\n",
        "dataset_2 = dataset_original.iloc[:,9:19]\n",
        "#pre-processing of dataset\n",
        "X_dataset_2 = preprocess_dataset(dataset_2)\n",
        "\n",
        "\"\"\"3) O terceiro considerando as variaveis 4 a 19 (shape + rgb) -------\"\"\"\n",
        "dataset_3 = dataset_original.iloc[:,3:19]\n",
        "#pre-processing of dataset\n",
        "X_dataset_3 = preprocess_dataset(dataset_3)\n",
        "\n",
        "\n",
        "\"\"\" Em cada dataset execute o algoritmo FCM com a distância de City-Block\n",
        "50 vezes para obter uma partição fuzzy em 7 grupos e selecione o melhor\n",
        "resultado segundo a função objetivo. \"\"\""
      ],
      "metadata": {
        "id": "pcojygaCKxhO",
        "colab": {
          "base_uri": "https://localhost:8080/",
          "height": 35
        },
        "outputId": "de403a91-425e-4bb7-ea62-911ce802d92d"
      },
      "execution_count": 215,
      "outputs": [
        {
          "output_type": "execute_result",
          "data": {
            "text/plain": [
              "' Em cada dataset execute o algoritmo FCM com a distância de City-Block\\n50 vezes para obter uma partição fuzzy em 7 grupos e selecione o melhor\\nresultado segundo a função objetivo. '"
            ],
            "application/vnd.google.colaboratory.intrinsic+json": {
              "type": "string"
            }
          },
          "metadata": {},
          "execution_count": 215
        }
      ]
    },
    {
      "cell_type": "markdown",
      "source": [
        "test pyclustering"
      ],
      "metadata": {
        "id": "f9H6G6pLzKSj"
      }
    },
    {
      "cell_type": "code",
      "source": [
        "labels_a_priori, np.unique(labels_a_priori)"
      ],
      "metadata": {
        "id": "mJVFQ9CPadZK",
        "colab": {
          "base_uri": "https://localhost:8080/"
        },
        "outputId": "69992b14-0fd9-4b88-826e-42842ba0fcaf"
      },
      "execution_count": 216,
      "outputs": [
        {
          "output_type": "execute_result",
          "data": {
            "text/plain": [
              "(array([0, 0, 0, ..., 1, 1, 1]), array([0, 1, 2, 3, 4, 5, 6]))"
            ]
          },
          "metadata": {},
          "execution_count": 216
        }
      ]
    },
    {
      "cell_type": "code",
      "source": [
        "#data = X_dataset_1\n",
        "n_clusters_C = 7\n",
        "m = 1.1 #{1.1; 1.6; 2.0}. 1.1 resuls on error: RuntimeWarning: overflow encountered in exp AND invalid value encountered in true_divide. USE OTHER IMPL OF FCM\n",
        "error_e = 0.000001\n",
        "maxiter_T = 100\n",
        "distance_metric = 'cityblock'\n",
        "best_objective_value = 99999999999.9\n",
        "best_results = 0\n",
        "times = 1 #50\n",
        "\n",
        "\n",
        "datasets = [X_dataset_1, X_dataset_2, X_dataset_3]\n",
        "best_results = []\n",
        "\n",
        "for dataset_i in datasets:\n",
        "  #print(dataset_i)\n",
        "  #print(dataset_i.shape)\n",
        "  \n",
        "  #centroids, U, iter = get_best_partition(dataset_i, n_clusters, m, distance_metric = 'cityblock', times_to_run=times)\n",
        "  centroids, U, iter, objective_value = get_best_partition(dataset_i, n_clusters_C, m, error_e, maxiter_T, distance_metric = 'cityblock', times_to_run=times)\n",
        "  best_results.append([centroids, U, iter, objective_value])\n",
        "  \n",
        "  # print(U)\n",
        "  #print(\"\\n\\n\\n\", U.shape, \"\\n\\n\\n\")\n",
        "\n",
        "#Salvar melhores matrizes de grau de associação (U) e centroids como arquivos csv\n",
        "\n",
        "#save datasets to csv files ---------------------##\n",
        "#get the centroids, too?\n",
        "for i in range(NUMBER_OF_DATASETS):\n",
        "  membership_matrix_U = best_results[i][1] #i-th membership_matrix\n",
        "  centroids_matrix = best_results[i][0] #i-th centroids matrix\n",
        "\n",
        "  # save i-th dataset to csv file\n",
        "  filename = 'dataset_'+ str(i + 1) + '_U_matrix'\n",
        "  savetxt(filename + '.csv', membership_matrix_U, delimiter=',')\n",
        "\n",
        "  # save i-th centroids to csv file\n",
        "  filename = 'dataset_'+ str(i + 1) + '_centroids_matrix'\n",
        "  savetxt(filename + '.csv', centroids_matrix, delimiter=',')\n",
        "\n",
        "#load datasets from csv files --------------------##\n",
        "membership_matrixes = []\n",
        "centroids_matrixes = []\n",
        "\n",
        "for i in range(NUMBER_OF_DATASETS):\n",
        "\n",
        "  # get i-th dataset U matrix from csv file\n",
        "  filename = 'dataset_'+ str(i + 1) + '_U_matrix'\n",
        "  ith_membership_matrix = loadtxt(filename + '.csv', delimiter=',') #recover #i-th membership_matrix\n",
        "  membership_matrixes.append(ith_membership_matrix)\n",
        "\n",
        "  # get i-th dataset centroids from csv file\n",
        "  filename = 'dataset_'+ str(i + 1) + '_centroids_matrix'\n",
        "  ith_centroids_matrix = loadtxt(filename + '.csv', delimiter=',') #recover #i-th membership_matrix\n",
        "  centroids_matrixes.append(ith_centroids_matrix)"
      ],
      "metadata": {
        "id": "Wfy-459dGUdS"
      },
      "execution_count": 217,
      "outputs": []
    },
    {
      "cell_type": "code",
      "source": [
        "type(datasets), len(datasets), type(datasets[0]), datasets[0].shape"
      ],
      "metadata": {
        "id": "GyofwPKiGs6p",
        "colab": {
          "base_uri": "https://localhost:8080/"
        },
        "outputId": "67fbc121-a893-40d6-c9d1-e89fd3b3d15f"
      },
      "execution_count": 218,
      "outputs": [
        {
          "output_type": "execute_result",
          "data": {
            "text/plain": [
              "(list, 3, numpy.ndarray, (2310, 6))"
            ]
          },
          "metadata": {},
          "execution_count": 218
        }
      ]
    },
    {
      "cell_type": "code",
      "source": [
        "type(membership_matrixes), len(membership_matrixes), membership_matrixes[0].shape"
      ],
      "metadata": {
        "id": "tPIv3sygHlcy",
        "colab": {
          "base_uri": "https://localhost:8080/"
        },
        "outputId": "5f606faf-f99c-4e57-9d8d-8dade0d17a56"
      },
      "execution_count": 219,
      "outputs": [
        {
          "output_type": "execute_result",
          "data": {
            "text/plain": [
              "(list, 3, (7, 2310))"
            ]
          },
          "metadata": {},
          "execution_count": 219
        }
      ]
    },
    {
      "cell_type": "code",
      "source": [
        "membership_matrixes[2].shape"
      ],
      "metadata": {
        "id": "7ho-JDX7H0_I",
        "colab": {
          "base_uri": "https://localhost:8080/"
        },
        "outputId": "ea1a9b71-716c-4f47-fe8c-e5cfddf731ce"
      },
      "execution_count": 220,
      "outputs": [
        {
          "output_type": "execute_result",
          "data": {
            "text/plain": [
              "(7, 2310)"
            ]
          },
          "metadata": {},
          "execution_count": 220
        }
      ]
    },
    {
      "cell_type": "code",
      "source": [
        "centroids_matrixes[0]"
      ],
      "metadata": {
        "colab": {
          "base_uri": "https://localhost:8080/"
        },
        "id": "P1Yd8TWbgFtv",
        "outputId": "afdbf14f-9c6f-41f4-dc5c-70c8b28271c0"
      },
      "execution_count": 221,
      "outputs": [
        {
          "output_type": "execute_result",
          "data": {
            "text/plain": [
              "array([[-0.35704685, -0.19453367, -0.35405954, -0.11203667, -0.35554489,\n",
              "        -0.12506626],\n",
              "       [-0.03212993,  4.86980585,  0.55800205,  0.10807278,  0.63403064,\n",
              "         0.06515284],\n",
              "       [-0.35704731,  0.8666259 ,  6.52346052,  3.89311371,  2.62370715,\n",
              "         1.31425523],\n",
              "       [-0.35654216, -0.17598942,  0.33837728,  0.03586053,  2.8203731 ,\n",
              "         0.90446568],\n",
              "       [ 2.61629599, -0.19447463, -0.0705269 , -0.09246982, -0.07082725,\n",
              "        -0.10679154],\n",
              "       [-0.35704732,  3.82960222,  7.10930935, 11.49347084,  8.84172245,\n",
              "        13.80742598],\n",
              "       [-0.35704448, -0.19435334,  0.55896041, -0.02894398,  0.22448867,\n",
              "        -0.05506783]])"
            ]
          },
          "metadata": {},
          "execution_count": 221
        }
      ]
    },
    {
      "cell_type": "code",
      "source": [
        "#axis=0. running VERTICALLY downwards across rows (axis 0). OPERA (sum, max..) NA COLUNA, PERCORRENDO AS LINHAS\n",
        "#axis=1. running HORIZONTALLY across columns (axis 1). OPERA (sum, max..) NA LINHA, PERCORRENDO AS COLUNAS"
      ],
      "metadata": {
        "id": "X0zuHXkGRa7d"
      },
      "execution_count": 222,
      "outputs": []
    },
    {
      "cell_type": "code",
      "source": [
        "#fim testes"
      ],
      "metadata": {
        "id": "ZwKbd1CKiMAq"
      },
      "execution_count": 223,
      "outputs": []
    },
    {
      "cell_type": "code",
      "source": [
        "\"\"\"Para cada dataset e partição fuzzy, calcule o Modified partition coefficient\n",
        "e o Partition entropy. (OK. verificar) Comente\"\"\"\n",
        "\n",
        "#Obtendo Modified partition coefficient e partition entropy para cada dataset\n",
        "\n",
        "mpc_and_partition_entropies = []\n",
        "\n",
        "for i in range(NUMBER_OF_DATASETS):\n",
        "\n",
        "  ith_mem_matrix = membership_matrixes[i]\n",
        "\n",
        "  mpc = calculate_mpc(ith_mem_matrix)\n",
        "  partition_entropy = calculate_partition_entropy(ith_mem_matrix)\n",
        "  MPC_PE_arr = np.array([mpc, partition_entropy])\n",
        "\n",
        "  # save i-th MPC and PE to csv file\n",
        "  filename = 'dataset_'+ str(i + 1) + '_MPC_and_PE'\n",
        "  savetxt(filename + '.csv', MPC_PE_arr, delimiter=',')\n",
        "\n",
        "  mpc_and_partition_entropies.append( [mpc, partition_entropy] )"
      ],
      "metadata": {
        "id": "jzOnO3gyM7JH"
      },
      "execution_count": 224,
      "outputs": []
    },
    {
      "cell_type": "code",
      "source": [
        "mpc_and_partition_entropies #It is CORRECT have values above 1 as partition entropy???"
      ],
      "metadata": {
        "id": "w8s2yaJqI2ZR",
        "colab": {
          "base_uri": "https://localhost:8080/"
        },
        "outputId": "28cb3b01-9d91-4619-f57c-5f55bed44f53"
      },
      "execution_count": 225,
      "outputs": [
        {
          "output_type": "execute_result",
          "data": {
            "text/plain": [
              "[[0.9895206192730207, 0.03820750894915657],\n",
              " [0.9877195414362825, 0.04495833428978452],\n",
              " [0.969718960449486, 0.10959055714627185]]"
            ]
          },
          "metadata": {},
          "execution_count": 225
        }
      ]
    },
    {
      "cell_type": "code",
      "source": [
        "\"\"\" Para cada dataset e partição fuzzy, produza uma partição CRISP em 7\n",
        "grupos e calcule o índice de Rand corrigido, e a F-measure (adaptada\n",
        "para agrupamento). Comente \"\"\"\n",
        "\n",
        "#obtendo partiçoes CRISP\n",
        "crisp_partitions = []\n",
        "\n",
        "for i in range(NUMBER_OF_DATASETS):\n",
        "\n",
        "  crisp = fuzzy_to_crisp_partition(membership_matrixes[i])\n",
        "\n",
        "  filename = 'dataset_'+ str(i + 1) + '_CRISP'\n",
        "  savetxt(filename + '.csv', crisp, delimiter=',')\n",
        "\n",
        "  crisp_partitions.append(crisp)\n",
        "\n",
        "crisp_partitions"
      ],
      "metadata": {
        "id": "AwK0Et8zPnO4",
        "colab": {
          "base_uri": "https://localhost:8080/"
        },
        "outputId": "0298929f-7c06-4f74-dc41-b003fc3dd3b2"
      },
      "execution_count": 226,
      "outputs": [
        {
          "output_type": "execute_result",
          "data": {
            "text/plain": [
              "[array([[1., 1., 1., ..., 1., 1., 0.],\n",
              "        [0., 0., 0., ..., 0., 0., 0.],\n",
              "        [0., 0., 0., ..., 0., 0., 0.],\n",
              "        ...,\n",
              "        [0., 0., 0., ..., 0., 0., 1.],\n",
              "        [0., 0., 0., ..., 0., 0., 0.],\n",
              "        [0., 0., 0., ..., 0., 0., 0.]]),\n",
              " array([[0., 0., 0., ..., 1., 1., 1.],\n",
              "        [0., 0., 0., ..., 0., 0., 0.],\n",
              "        [0., 0., 0., ..., 0., 0., 0.],\n",
              "        ...,\n",
              "        [0., 0., 0., ..., 0., 0., 0.],\n",
              "        [0., 0., 0., ..., 0., 0., 0.],\n",
              "        [1., 1., 1., ..., 0., 0., 0.]]),\n",
              " array([[0., 0., 0., ..., 0., 0., 0.],\n",
              "        [0., 0., 0., ..., 0., 0., 0.],\n",
              "        [1., 1., 1., ..., 1., 1., 0.],\n",
              "        ...,\n",
              "        [0., 0., 0., ..., 0., 0., 0.],\n",
              "        [0., 0., 0., ..., 0., 0., 0.],\n",
              "        [0., 0., 0., ..., 0., 0., 0.]])]"
            ]
          },
          "metadata": {},
          "execution_count": 226
        }
      ]
    },
    {
      "cell_type": "code",
      "source": [
        "label_names = labels_clusters_names\n",
        "\n",
        "for i in range(NUMBER_OF_DATASETS):\n",
        "  \n",
        "  filename = 'dataset_'+ str(i + 1) + '_CRISP_pie_chart'\n",
        "  ith_crisp_partition = crisp_partitions[i]\n",
        "  pie_plot_crisp_partition(ith_crisp_partition, label_names, filename)"
      ],
      "metadata": {
        "colab": {
          "base_uri": "https://localhost:8080/",
          "height": 1000
        },
        "id": "jJCo9EkuGkfv",
        "outputId": "7bf62b8b-03c9-45fb-962f-43bb38de1793"
      },
      "execution_count": 227,
      "outputs": [
        {
          "output_type": "display_data",
          "data": {
            "text/plain": [
              "<Figure size 640x480 with 1 Axes>"
            ],
            "image/png": "[encoded data removed]"
          },
          "metadata": {}
        },
        {
          "output_type": "display_data",
          "data": {
            "text/plain": [
              "<Figure size 640x480 with 1 Axes>"
            ],
            "image/png": "[encoded data removed]"
          },
          "metadata": {}
        },
        {
          "output_type": "display_data",
          "data": {
            "text/plain": [
              "<Figure size 640x480 with 1 Axes>"
            ],
            "image/png": "[encoded data removed]"
          },
          "metadata": {}
        }
      ]
    },
    {
      "cell_type": "code",
      "source": [
        "\"\"\"Para cada dataset e partição fuzzy, calcule o índice de Rand corrigido, \n",
        "e a F-measure (adaptada para agrupamento). Comente\"\"\"\n",
        "\n",
        "#Obtendo Índice de range corrigido e f-measure para cada partição CRISP\n",
        "\n",
        "rand_index_f_measures = []\n",
        "datasets_labels_posteriori = []\n",
        "\n",
        "for i in range(NUMBER_OF_DATASETS):\n",
        "\n",
        "  ith_crisp_partition = crisp_partitions[i]\n",
        "  #get the current labels obtained by clustering\n",
        "  labels_posteriori = get_labels_from_crisp_or_fuzzy(ith_crisp_partition)\n",
        "  datasets_labels_posteriori.append(labels_posteriori)\n",
        "\n",
        "  #put it together with the true labels (labels_a_priori) to calculate the ARI\n",
        "  clustering_rand_index = calculate_ari(labels_posteriori, labels_a_priori)\n",
        "\n",
        "  f_measure = calculate_f_measure(labels_posteriori, labels_a_priori)\n",
        "\n",
        "  # save i-th ARI and F-measure to csv file\n",
        "  ARI_f_measure = np.array([clustering_rand_index, f_measure])\n",
        "  \n",
        "  filename = 'dataset_'+ str(i + 1) + '_ ARI_and_f_measure'\n",
        "  savetxt(filename + '.csv', ARI_f_measure, delimiter=',')\n",
        "\n",
        "  # save i-th labels a posteriori to csv file\n",
        "  filename = 'dataset_'+ str(i + 1) + '_ labels_posteriori'\n",
        "  savetxt(filename + '.csv', labels_posteriori, delimiter=',')\n",
        "   \n",
        "  rand_index_f_measures.append( [clustering_rand_index, f_measure] )"
      ],
      "metadata": {
        "id": "2dIMyq4pOS6j"
      },
      "execution_count": 228,
      "outputs": []
    },
    {
      "cell_type": "code",
      "source": [
        "rand_index_f_measures"
      ],
      "metadata": {
        "id": "G3BMaAtPPCTf",
        "colab": {
          "base_uri": "https://localhost:8080/"
        },
        "outputId": "8cb50632-1132-4255-f857-2a68063e8e13"
      },
      "execution_count": 229,
      "outputs": [
        {
          "output_type": "execute_result",
          "data": {
            "text/plain": [
              "[[0.049595068807374694, 0.1471861471861472],\n",
              " [0.5295829047573475, 0.25367965367965367],\n",
              " [0.4412068333571783, 0.14242424242424243]]"
            ]
          },
          "metadata": {},
          "execution_count": 229
        }
      ]
    },
    {
      "cell_type": "code",
      "source": [
        "#entender via video aula etc sobre a aplicação do indice de rand corrigido e f-measure"
      ],
      "metadata": {
        "id": "eJWiss96Qoit"
      },
      "execution_count": 230,
      "outputs": []
    },
    {
      "cell_type": "code",
      "source": [
        "\"\"\"\n",
        "Para o melhor resultado imprimir: \n",
        "i) os protótipos (centros de gravidade, centroids?)\n",
        "ii) a matrix de confusão da partição crisp versus a partição a priori; \n",
        "iii) a matrix de confusão de uma partição crisp versus a outra;\n",
        "\"\"\""
      ],
      "metadata": {
        "colab": {
          "base_uri": "https://localhost:8080/",
          "height": 53
        },
        "id": "sgFFGezuzi9C",
        "outputId": "e6b4abff-0c97-482f-e238-4a2cd0fcbc44"
      },
      "execution_count": 231,
      "outputs": [
        {
          "output_type": "execute_result",
          "data": {
            "text/plain": [
              "'\\nPara o melhor resultado imprimir: \\ni) os protótipos (centros de gravidade, centroids?)\\nii) a matrix de confusão da partição crisp versus a partição a priori; \\niii) a matrix de confusão de uma partição crisp versus a outra;\\n'"
            ],
            "application/vnd.google.colaboratory.intrinsic+json": {
              "type": "string"
            }
          },
          "metadata": {},
          "execution_count": 231
        }
      ]
    },
    {
      "cell_type": "code",
      "source": [
        "#from: https://www.analyticsvidhya.com/blog/2021/06/confusion-matrix-for-multi-class-classification/\n",
        "#https://scikit-learn.org/stable/modules/clustering.html\n",
        "\n",
        "\n",
        "#for IMAGE SEGMENTATION DATASET\n",
        "# Creating  a confusion matrix,which compares the y_test and y_pred\n",
        "cm = confusion_matrix(labels_a_priori, labels_posteriori)\n",
        "# Creating a dataframe for a array-formatted Confusion matrix,so it will be easy for plotting.\n",
        "mylist = list(labels_clusters_names)\n",
        "cm_df = pd.DataFrame(cm,\n",
        "                     index = list(labels_clusters_names), \n",
        "                     columns = list(labels_clusters_names))\n",
        "#Plotting the confusion matrix\n",
        "plt.figure(figsize=(12,10))\n",
        "sns.heatmap(cm_df, annot=True, fmt='g')\n",
        "plt.title('Confusion Matrix')\n",
        "plt.ylabel('Clusters a priori (actual)')\n",
        "plt.xlabel('Clusters a posteriori (predicted)')\n",
        "plt.show()"
      ],
      "metadata": {
        "colab": {
          "base_uri": "https://localhost:8080/",
          "height": 872
        },
        "id": "kxzHm9p9V1j_",
        "outputId": "c173837b-7da3-42f4-f330-f5253a49aade"
      },
      "execution_count": 243,
      "outputs": [
        {
          "output_type": "display_data",
          "data": {
            "text/plain": [
              "<Figure size 1200x1000 with 2 Axes>"
            ],
            "image/png": "[encoded data removed]"
          },
          "metadata": {}
        }
      ]
    },
    {
      "cell_type": "code",
      "source": [],
      "metadata": {
        "id": "YnMvD7c1UOqT"
      },
      "execution_count": 232,
      "outputs": []
    },
    {
      "cell_type": "markdown",
      "source": [
        "## More code"
      ],
      "metadata": {
        "id": "Cd1CyDJezjc6"
      }
    },
    {
      "cell_type": "code",
      "source": [
        "#data = X_dataset_1\n",
        "n_clusters_C = 7\n",
        "m = 2 #{1.1; 1.6; 2.0}. 1.1 resuls on error: RuntimeWarning: overflow encountered in exp AND invalid value encountered in true_divide. USE OTHER IMPL OF FCM\n",
        "distance_metric = 'cityblock'\n",
        "error_e=0.000001\n",
        "maxiter_T=100\n",
        "best_objective_value = 99999999999.9\n",
        "best_results = 0\n",
        "times = 1 #50\n",
        "\n",
        "\n",
        "\n",
        "datasets = [X_dataset_1, X_dataset_2, X_dataset_3]"
      ],
      "metadata": {
        "id": "_sc1LZSSa6WC"
      },
      "execution_count": 236,
      "outputs": []
    },
    {
      "cell_type": "code",
      "source": [
        "# centroids, U, iter = fuzzy_cmeans(X_dataset_1, n_clusters_C, m, distance_metric = 'cityblock')\n",
        "\n",
        "cntr, u, u0, d, jm, p, fpc = skfuzzy_fcm(X_dataset_1.T, n_clusters_C, m, error_e, maxiter_T, distance_metric)\n",
        "centroids2, U, iter2, objective_functions = cntr, u, p, jm\n",
        "U"
      ],
      "metadata": {
        "id": "q_FkAtpsQAGB",
        "colab": {
          "base_uri": "https://localhost:8080/"
        },
        "outputId": "33e4fb50-02fe-42bc-a00a-196adb84f703"
      },
      "execution_count": 237,
      "outputs": [
        {
          "output_type": "execute_result",
          "data": {
            "text/plain": [
              "array([[4.95527518e-32, 6.17022038e-32, 1.38740265e-31, 1.00000000e+00,\n",
              "        9.51887197e-32, 1.72342361e-31],\n",
              "       [1.00000000e+00, 4.93038066e-32, 4.93038066e-32, 4.93038066e-32,\n",
              "        4.93038066e-32, 4.93038066e-32],\n",
              "       [4.93038066e-32, 6.57317508e-32, 9.83089379e-32, 1.71476540e-31,\n",
              "        1.51748469e-31, 1.00000000e+00],\n",
              "       [9.14937763e-32, 1.33184364e-31, 2.30883518e-31, 2.42025164e-31,\n",
              "        2.40880423e-31, 2.62429316e-31],\n",
              "       [5.01635673e-32, 6.74628207e-32, 1.00000000e+00, 1.40450457e-31,\n",
              "        1.14307205e-31, 1.00023251e-31],\n",
              "       [5.07194498e-32, 1.00000000e+00, 6.82104032e-32, 6.31549554e-32,\n",
              "        7.22617536e-32, 6.76190839e-32],\n",
              "       [5.01104909e-32, 7.13941488e-32, 1.14186261e-31, 9.62601127e-32,\n",
              "        1.00000000e+00, 1.54231301e-31]])"
            ]
          },
          "metadata": {},
          "execution_count": 237
        }
      ]
    },
    {
      "cell_type": "code",
      "source": [
        "U[:,0], U.shape"
      ],
      "metadata": {
        "id": "DHzYiWhj0eW0",
        "colab": {
          "base_uri": "https://localhost:8080/"
        },
        "outputId": "07940fa4-75b4-41df-f8bb-2476a8de4bd2"
      },
      "execution_count": 238,
      "outputs": [
        {
          "output_type": "execute_result",
          "data": {
            "text/plain": [
              "(array([4.95527518e-32, 1.00000000e+00, 4.93038066e-32, 9.14937763e-32,\n",
              "        5.01635673e-32, 5.07194498e-32, 5.01104909e-32]),\n",
              " (7, 6))"
            ]
          },
          "metadata": {},
          "execution_count": 238
        }
      ]
    },
    {
      "cell_type": "code",
      "source": [
        "#verificando validade do cálculo. OK\n",
        "C = 7\n",
        "sum = 0\n",
        "for i in range(C):\n",
        "\n",
        "  sum += U[i][0]\n",
        "\n",
        "sum"
      ],
      "metadata": {
        "id": "Gv3C6MdU04UY",
        "colab": {
          "base_uri": "https://localhost:8080/"
        },
        "outputId": "8ec7c276-9a6a-4c78-e673-aac0546e01f6"
      },
      "execution_count": 239,
      "outputs": [
        {
          "output_type": "execute_result",
          "data": {
            "text/plain": [
              "1.0"
            ]
          },
          "metadata": {},
          "execution_count": 239
        }
      ]
    },
    {
      "cell_type": "code",
      "source": [
        "np.unique(preds)"
      ],
      "metadata": {
        "id": "wuvESTo_2fgf",
        "colab": {
          "base_uri": "https://localhost:8080/",
          "height": 165
        },
        "outputId": "954d9ef5-27d1-4c87-ffd3-15447a9c1384"
      },
      "execution_count": 240,
      "outputs": [
        {
          "output_type": "error",
          "ename": "NameError",
          "evalue": "ignored",
          "traceback": [
            "\u001b[0;31m---------------------------------------------------------------------------\u001b[0m",
            "\u001b[0;31mNameError\u001b[0m                                 Traceback (most recent call last)",
            "\u001b[0;32m<ipython-input-240-ac390bccd4a5>\u001b[0m in \u001b[0;36m<cell line: 1>\u001b[0;34m()\u001b[0m\n\u001b[0;32m----> 1\u001b[0;31m \u001b[0mnp\u001b[0m\u001b[0;34m.\u001b[0m\u001b[0munique\u001b[0m\u001b[0;34m(\u001b[0m\u001b[0mpreds\u001b[0m\u001b[0;34m)\u001b[0m\u001b[0;34m\u001b[0m\u001b[0;34m\u001b[0m\u001b[0m\n\u001b[0m",
            "\u001b[0;31mNameError\u001b[0m: name 'preds' is not defined"
          ]
        }
      ]
    },
    {
      "cell_type": "code",
      "source": [
        "#https://www.youtube.com/watch?v=zEYxTGDYWYI\n",
        "#MORE ON: https://scikit-fuzzy.readthedocs.io/en/latest/auto_examples/plot_cmeans.html"
      ],
      "metadata": {
        "id": "BkP49UGg2ypR"
      },
      "execution_count": null,
      "outputs": []
    },
    {
      "cell_type": "code",
      "source": [
        "from __future__ import division, print_function\n",
        "import numpy as np\n",
        "import matplotlib.pyplot as plt\n",
        "import skfuzzy as fuzz\n",
        "\n",
        "colors = ['b', 'orange', 'g', 'r', 'c', 'm', 'y', 'k', 'Brown', 'ForestGreen']\n",
        "\n",
        "# Define three cluster centers\n",
        "centers = [[4, 2],\n",
        "           [1, 7],\n",
        "           [5, 6]]\n",
        "\n",
        "# Define three cluster sigmas in x and y, respectively\n",
        "sigmas = [[0.8, 0.3],\n",
        "          [0.3, 0.5],\n",
        "          [1.1, 0.7]]\n",
        "\n",
        "# Generate test data\n",
        "np.random.seed(42)  # Set seed for reproducibility\n",
        "xpts = np.zeros(1)\n",
        "ypts = np.zeros(1)\n",
        "labels = np.zeros(1)\n",
        "for i, ((xmu, ymu), (xsigma, ysigma)) in enumerate(zip(centers, sigmas)):\n",
        "    xpts = np.hstack((xpts, np.random.standard_normal(200) * xsigma + xmu))\n",
        "    ypts = np.hstack((ypts, np.random.standard_normal(200) * ysigma + ymu))\n",
        "    labels = np.hstack((labels, np.ones(200) * i))\n",
        "\n",
        "# Visualize the test data\n",
        "fig0, ax0 = plt.subplots()\n",
        "for label in range(3):\n",
        "    ax0.plot(xpts[labels == label], ypts[labels == label], '.',\n",
        "             color=colors[label])\n",
        "ax0.set_title('Test data: 200 points x3 clusters.')"
      ],
      "metadata": {
        "id": "3yT3OmL92yzZ"
      },
      "execution_count": null,
      "outputs": []
    },
    {
      "cell_type": "code",
      "source": [
        "alldata.shape"
      ],
      "metadata": {
        "id": "J9BjmITK3R-c"
      },
      "execution_count": null,
      "outputs": []
    },
    {
      "cell_type": "code",
      "source": [
        "# Set up the loop and plot\n",
        "fig1, axes1 = plt.subplots(3, 3, figsize=(8, 8))\n",
        "alldata = np.vstack((xpts, ypts))\n",
        "fpcs = []\n",
        "\n",
        "for ncenters, ax in enumerate(axes1.reshape(-1), 2):\n",
        "    cntr, u, u0, d, jm, p, fpc = fuzz.cluster.cmeans(\n",
        "        alldata, ncenters, 2, error=0.005, maxiter=1000, init=None)\n",
        "\n",
        "    # Store fpc values for later\n",
        "    fpcs.append(fpc)\n",
        "\n",
        "    # Plot assigned clusters, for each data point in training set\n",
        "    cluster_membership = np.argmax(u, axis=0)\n",
        "    for j in range(ncenters):\n",
        "        ax.plot(xpts[cluster_membership == j],\n",
        "                ypts[cluster_membership == j], '.', color=colors[j])\n",
        "\n",
        "    # Mark the center of each fuzzy cluster\n",
        "    for pt in cntr:\n",
        "        ax.plot(pt[0], pt[1], 'rs')\n",
        "\n",
        "    ax.set_title('Centers = {0}; FPC = {1:.2f}'.format(ncenters, fpc))\n",
        "    ax.axis('off')\n",
        "\n",
        "fig1.tight_layout()"
      ],
      "metadata": {
        "id": "n0vyCS1-3MUw"
      },
      "execution_count": null,
      "outputs": []
    },
    {
      "cell_type": "code",
      "source": [
        "#objective_value = calculate_objective(X_dataset_1, centroids, U, m, distance_metric)\n",
        "objective_value = calculate_objective(X_dataset_1.T, centroids, U, m, distance_metric)\n",
        "objective_value"
      ],
      "metadata": {
        "id": "enE2VdfDQGYb"
      },
      "execution_count": null,
      "outputs": []
    },
    {
      "cell_type": "code",
      "source": [
        "X_dataset_1.T.shape"
      ],
      "metadata": {
        "id": "DP6u4NjxWjAK"
      },
      "execution_count": null,
      "outputs": []
    },
    {
      "cell_type": "code",
      "source": [
        "import numpy as np\n",
        "import skfuzzy as fuzz\n",
        "from scipy.spatial.distance import cdist\n",
        "\n",
        "# Generate some random data\n",
        "#data = np.random.rand(100, 2)\n",
        "\n",
        "# Set the number of clusters\n",
        "num_clusters = 3\n",
        "\n",
        "# Apply city-block (Manhattan) distance effect\n",
        "data_city_block = cdist(data, data, metric='cityblock') #euclidean, cosine\n",
        "\n",
        "# Perform Fuzzy C-means clustering\n",
        "cntr, u, _, _, _, _, _ = fuzz.cluster.cmeans(\n",
        "    data_city_block.T,\n",
        "    num_clusters,\n",
        "    2,\n",
        "    error=0.005,\n",
        "    maxiter=1000\n",
        ")\n",
        "\n",
        "# The 'u' matrix contains the fuzzy membership values for each data point\n",
        "\n",
        "# Print the cluster centers\n",
        "print(\"Cluster centers:\")\n",
        "print(cntr)\n",
        "\n",
        "# Print the fuzzy membership values for the first data point\n",
        "print(\"Fuzzy membership values for data point 0:\")\n",
        "print(u[:, 0])\n"
      ],
      "metadata": {
        "id": "SezCy-sJQtR2"
      },
      "execution_count": null,
      "outputs": []
    },
    {
      "cell_type": "code",
      "source": [
        "\n",
        "import numpy as np\n",
        "import skfuzzy as fuzz\n",
        "from scipy.spatial.distance import cdist\n",
        "\n",
        "# Set the random seed for reproducibility\n",
        "RANDOM_SEED=42\n",
        "\n",
        "np.random.seed(RANDOM_SEED)\n",
        "\n",
        "# Generate some random data\n",
        "data = np.random.rand(100, 2)\n",
        "\n",
        "# Set the number of clusters\n",
        "num_clusters = 3\n",
        "\n",
        "# Apply city-block (Manhattan) distance effect\n",
        "data_city_block = cdist(data, data, metric='cityblock') #cityblock, euclidean, cosine\n",
        "\n",
        "# Set the random seed for numpy.random\n",
        "np.random.seed(RANDOM_SEED)\n",
        "\n",
        "# Perform Fuzzy C-means clustering\n",
        "# cntr, u, _, _, _, _, _ = fuzz.cluster.cmeans(\n",
        "cntr, u, u0, d, jm, p, fpc = fuzz.cluster.cmeans(\n",
        "    data_city_block.T,\n",
        "    num_clusters,\n",
        "    m=2,\n",
        "    error=0.005,\n",
        "    maxiter=1000\n",
        ")\n",
        "\n",
        "# The 'u' matrix contains the fuzzy membership values for each data point\n",
        "\n",
        "return_func = cntr, u, p\n",
        "\n",
        "# Print the cluster centers\n",
        "print(\"Cluster centers:\")\n",
        "print(cntr)\n",
        "\n",
        "# Print the fuzzy membership values for the first data point\n",
        "print(\"Fuzzy membership values for data point 0:\")\n",
        "print(u[:, 0])\n",
        "\n"
      ],
      "metadata": {
        "id": "DySH8kdISZSa"
      },
      "execution_count": null,
      "outputs": []
    },
    {
      "cell_type": "code",
      "source": [
        "u.shape "
      ],
      "metadata": {
        "id": "MRolYfFQTItJ"
      },
      "execution_count": null,
      "outputs": []
    },
    {
      "cell_type": "code",
      "source": [
        "u"
      ],
      "metadata": {
        "id": "3lBUNrFWTSaS"
      },
      "execution_count": null,
      "outputs": []
    },
    {
      "cell_type": "code",
      "source": [
        "u_T = u.T\n",
        "u_T.shape"
      ],
      "metadata": {
        "id": "Yb8C4c93TLs_"
      },
      "execution_count": null,
      "outputs": []
    },
    {
      "cell_type": "code",
      "source": [
        "u_T"
      ],
      "metadata": {
        "id": "H5uNyxykTeQh"
      },
      "execution_count": null,
      "outputs": []
    },
    {
      "cell_type": "code",
      "source": [
        "u_T[0][0] + u_T[0][1] + u_T[0][2] "
      ],
      "metadata": {
        "id": "TWc0mqldS5lN"
      },
      "execution_count": null,
      "outputs": []
    },
    {
      "cell_type": "code",
      "source": [],
      "metadata": {
        "id": "WuxEf4r4ar5D"
      },
      "execution_count": null,
      "outputs": []
    },
    {
      "cell_type": "code",
      "source": [
        "#https://pyclustering.github.io/docs/0.10.1/html/d2/d6a/classpyclustering_1_1cluster_1_1fcm_1_1fcm.html"
      ],
      "metadata": {
        "id": "23qoNhmwzOtf"
      },
      "execution_count": null,
      "outputs": []
    },
    {
      "cell_type": "code",
      "source": [
        "!pip3 install pyclustering"
      ],
      "metadata": {
        "id": "JyINPNHBacLi"
      },
      "execution_count": null,
      "outputs": []
    },
    {
      "cell_type": "code",
      "source": [
        "from pyclustering.cluster import cluster_visualizer\n",
        "from pyclustering.cluster.center_initializer import kmeans_plusplus_initializer\n",
        "from pyclustering.cluster.fcm import fcm\n",
        "from pyclustering.utils import read_sample\n",
        " \n",
        "# load list of points for cluster analysis\n",
        "#sample = read_sample(FAMOUS_SAMPLES.SAMPLE_OLD_FAITHFUL)\n",
        "sample = X_dataset_1\n",
        "# initialize\n",
        "initial_centers = kmeans_plusplus_initializer(sample, 7, kmeans_plusplus_initializer.FARTHEST_CENTER_CANDIDATE).initialize()\n",
        " \n",
        "# create instance of Fuzzy C-Means algorithm\n",
        "fcm_instance = fcm(sample, initial_centers)\n",
        " \n",
        "# run cluster analysis and obtain results\n",
        "fcm_instance.process()\n",
        "clusters = fcm_instance.get_clusters()\n",
        "centers = fcm_instance.get_centers()\n",
        " \n",
        "# visualize clustering results\n",
        "visualizer = cluster_visualizer()\n",
        "visualizer.append_clusters(clusters, sample)\n",
        "visualizer.append_cluster(centers, marker='*', markersize=10)\n",
        "visualizer.show()"
      ],
      "metadata": {
        "id": "JoigJh2yacOD"
      },
      "execution_count": null,
      "outputs": []
    },
    {
      "cell_type": "code",
      "source": [
        "len(clusters), type(clusters), type(clusters[0])"
      ],
      "metadata": {
        "id": "GQ3AavYayIXQ"
      },
      "execution_count": null,
      "outputs": []
    },
    {
      "cell_type": "code",
      "source": [
        "len(clusters[0])"
      ],
      "metadata": {
        "id": "V5iigJKYyo5V"
      },
      "execution_count": null,
      "outputs": []
    },
    {
      "cell_type": "code",
      "source": [
        "len(centers)"
      ],
      "metadata": {
        "id": "VfJUpqzyyssv"
      },
      "execution_count": null,
      "outputs": []
    },
    {
      "cell_type": "code",
      "source": [
        "#verificar se soma de probabilidades para cada cluster resulta em 1\n",
        "e = 1\n",
        "sum = 0\n",
        "for i in range(n_clusters_C):\n",
        "\n",
        "  sum += membership_matrixes[0][i][e]\n",
        "\n",
        "sum"
      ],
      "metadata": {
        "id": "_PsVaXsFvYwi"
      },
      "execution_count": null,
      "outputs": []
    },
    {
      "cell_type": "code",
      "source": [],
      "metadata": {
        "id": "GFZwjTV9zUa8"
      },
      "execution_count": null,
      "outputs": []
    }
  ]
}