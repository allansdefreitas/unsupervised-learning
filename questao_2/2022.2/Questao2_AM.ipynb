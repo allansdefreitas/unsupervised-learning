{
  "nbformat": 4,
  "nbformat_minor": 0,
  "metadata": {
    "colab": {
      "provenance": [],
      "toc_visible": true
    },
    "kernelspec": {
      "name": "python3",
      "display_name": "Python 3"
    },
    "language_info": {
      "name": "python"
    }
  },
  "cells": [
    {
      "cell_type": "markdown",
      "source": [
        "## Questão 2"
      ],
      "metadata": {
        "id": "JoVgKnHc23_F"
      }
    },
    {
      "cell_type": "markdown",
      "source": [
        "### Descritivo da Questão"
      ],
      "metadata": {
        "id": "zfulM7WqVErM"
      }
    },
    {
      "cell_type": "markdown",
      "source": [
        "* Considere novamente HTRU2 Data Set do site uci machine learning repository\n",
        "(https://archive.ics.uci.edu/ml/datasets/HTRU2). No arquivo HTRU2.txt, CONSIDERE a variavel de classe\n",
        "(os rotulos).\n",
        "\n",
        "  a) Use validação cruzada estratificada “30 × 10-folds” para avaliar e comparar os 3 classificadores seguintes:\n",
        "bayesiano gaussiano, Quando necessario, retire do conjunto de aprendizagem, um conjunto de validação\n",
        "(20%) para fazer ajuste de hiper-parametros e depois treine o modelo novamente com o conjunto\n",
        "aprendizagem + validação. Use amostragem estratificada.\n",
        "\n",
        "  b) Obtenha uma estimativa pontual e um intervalo de confiança para cada metrica de avaliação do\n",
        "classificador (Taxa de erro, precisão, cobertura, F-measure);\n",
        "\n",
        "  c) Usar o Friedman test (teste não parametrico) para comparar os classificadores, e o pós teste (Nemenyi test)\n",
        "\n",
        "* Considere os seguintes classificadores:\n",
        "\n",
        "  i) Classificador bayesianos gaussiano:\n",
        "\n",
        "     a) Use a estimativa de maxima verossimilhança para P(ωi)\n",
        "     b) Para cada classe ωi (1 ≤ i ≤ 2) use a seguinte estimativa de máxima verossimilhança de p(xk|ωi) = p(xk|ωi, θi) , supondo uma normal multivariada:\n",
        "\n",
        "  ii) Treine um classificador bayesiano baseado em janela de Parzen. Use a função de kernel multivariada produto com o mesmo h para todas as dimensões e a função de kernel Gaussiana unidimensional. Use conjunto de validação para fixar o parâmetro h.\n",
        "\n",
        "  iii) Treine um classificador baseado em regressão logistica para cada classe e use a bordagem “um contra\n",
        "todos\" para classificar os exemplos.\n"
      ],
      "metadata": {
        "id": "lYI3d6Wm3k4D"
      }
    },
    {
      "cell_type": "markdown",
      "source": [
        "### Pré-Processamento"
      ],
      "metadata": {
        "id": "s0C0CeiaVKlB"
      }
    },
    {
      "cell_type": "code",
      "execution_count": null,
      "metadata": {
        "id": "bWO3mmVM2V50"
      },
      "outputs": [],
      "source": [
        "# Definição de bibliotecas iniciais\n",
        "import pandas as pd\n",
        "import numpy as np"
      ]
    },
    {
      "cell_type": "markdown",
      "source": [
        "#### Importação do dataset"
      ],
      "metadata": {
        "id": "6nnxRsPNVAEY"
      }
    },
    {
      "cell_type": "markdown",
      "source": [
        "É necessário criar uma pasta no ambiente do Google Colab denominada 'bases' com os seguintes arquivos .csv conforme a imagem a seguir\n",
        "\n",
        "![image.png](data:image/png;base64,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)"
      ],
      "metadata": {
        "id": "6ehpuioz7Gs1"
      }
    },
    {
      "cell_type": "code",
      "source": [
        "# Importando a base\n",
        "\n",
        "base = pd.read_csv('/content/base/HTRU2.txt', sep=',', header=None)"
      ],
      "metadata": {
        "id": "FJ8WzlLL-bqO"
      },
      "execution_count": null,
      "outputs": []
    },
    {
      "cell_type": "code",
      "source": [
        "base"
      ],
      "metadata": {
        "colab": {
          "base_uri": "https://localhost:8080/",
          "height": 424
        },
        "id": "bOMZpuol-uU5",
        "outputId": "4e12264d-c1ae-4ece-9cfc-37df169f9c70"
      },
      "execution_count": null,
      "outputs": [
        {
          "output_type": "execute_result",
          "data": {
            "text/plain": [
              "                0          1         2         3           4          5  \\\n",
              "0      140.562500  55.683782 -0.234571 -0.699648    3.199833  19.110426   \n",
              "1      102.507812  58.882430  0.465318 -0.515088    1.677258  14.860146   \n",
              "2      103.015625  39.341649  0.323328  1.051164    3.121237  21.744669   \n",
              "3      136.750000  57.178449 -0.068415 -0.636238    3.642977  20.959280   \n",
              "4       88.726562  40.672225  0.600866  1.123492    1.178930  11.468720   \n",
              "...           ...        ...       ...       ...         ...        ...   \n",
              "17893  136.429688  59.847421 -0.187846 -0.738123    1.296823  12.166062   \n",
              "17894  122.554688  49.485605  0.127978  0.323061   16.409699  44.626893   \n",
              "17895  119.335938  59.935939  0.159363 -0.743025   21.430602  58.872000   \n",
              "17896  114.507812  53.902400  0.201161 -0.024789    1.946488  13.381731   \n",
              "17897   57.062500  85.797340  1.406391  0.089520  188.306020  64.712562   \n",
              "\n",
              "               6           7  8  \n",
              "0       7.975532   74.242225  0  \n",
              "1      10.576487  127.393580  0  \n",
              "2       7.735822   63.171909  0  \n",
              "3       6.896499   53.593661  0  \n",
              "4      14.269573  252.567306  0  \n",
              "...          ...         ... ..  \n",
              "17893  15.450260  285.931022  0  \n",
              "17894   2.945244    8.297092  0  \n",
              "17895   2.499517    4.595173  0  \n",
              "17896  10.007967  134.238910  0  \n",
              "17897  -1.597527    1.429475  0  \n",
              "\n",
              "[17898 rows x 9 columns]"
            ],
            "text/html": [
              "\n",
              "  <div id=\"df-bc2cc882-4b3b-41ab-8b01-fd0046489497\">\n",
              "    <div class=\"colab-df-container\">\n",
              "      <div>\n",
              "<style scoped>\n",
              "    .dataframe tbody tr th:only-of-type {\n",
              "        vertical-align: middle;\n",
              "    }\n",
              "\n",
              "    .dataframe tbody tr th {\n",
              "        vertical-align: top;\n",
              "    }\n",
              "\n",
              "    .dataframe thead th {\n",
              "        text-align: right;\n",
              "    }\n",
              "</style>\n",
              "<table border=\"1\" class=\"dataframe\">\n",
              "  <thead>\n",
              "    <tr style=\"text-align: right;\">\n",
              "      <th></th>\n",
              "      <th>0</th>\n",
              "      <th>1</th>\n",
              "      <th>2</th>\n",
              "      <th>3</th>\n",
              "      <th>4</th>\n",
              "      <th>5</th>\n",
              "      <th>6</th>\n",
              "      <th>7</th>\n",
              "      <th>8</th>\n",
              "    </tr>\n",
              "  </thead>\n",
              "  <tbody>\n",
              "    <tr>\n",
              "      <th>0</th>\n",
              "      <td>140.562500</td>\n",
              "      <td>55.683782</td>\n",
              "      <td>-0.234571</td>\n",
              "      <td>-0.699648</td>\n",
              "      <td>3.199833</td>\n",
              "      <td>19.110426</td>\n",
              "      <td>7.975532</td>\n",
              "      <td>74.242225</td>\n",
              "      <td>0</td>\n",
              "    </tr>\n",
              "    <tr>\n",
              "      <th>1</th>\n",
              "      <td>102.507812</td>\n",
              "      <td>58.882430</td>\n",
              "      <td>0.465318</td>\n",
              "      <td>-0.515088</td>\n",
              "      <td>1.677258</td>\n",
              "      <td>14.860146</td>\n",
              "      <td>10.576487</td>\n",
              "      <td>127.393580</td>\n",
              "      <td>0</td>\n",
              "    </tr>\n",
              "    <tr>\n",
              "      <th>2</th>\n",
              "      <td>103.015625</td>\n",
              "      <td>39.341649</td>\n",
              "      <td>0.323328</td>\n",
              "      <td>1.051164</td>\n",
              "      <td>3.121237</td>\n",
              "      <td>21.744669</td>\n",
              "      <td>7.735822</td>\n",
              "      <td>63.171909</td>\n",
              "      <td>0</td>\n",
              "    </tr>\n",
              "    <tr>\n",
              "      <th>3</th>\n",
              "      <td>136.750000</td>\n",
              "      <td>57.178449</td>\n",
              "      <td>-0.068415</td>\n",
              "      <td>-0.636238</td>\n",
              "      <td>3.642977</td>\n",
              "      <td>20.959280</td>\n",
              "      <td>6.896499</td>\n",
              "      <td>53.593661</td>\n",
              "      <td>0</td>\n",
              "    </tr>\n",
              "    <tr>\n",
              "      <th>4</th>\n",
              "      <td>88.726562</td>\n",
              "      <td>40.672225</td>\n",
              "      <td>0.600866</td>\n",
              "      <td>1.123492</td>\n",
              "      <td>1.178930</td>\n",
              "      <td>11.468720</td>\n",
              "      <td>14.269573</td>\n",
              "      <td>252.567306</td>\n",
              "      <td>0</td>\n",
              "    </tr>\n",
              "    <tr>\n",
              "      <th>...</th>\n",
              "      <td>...</td>\n",
              "      <td>...</td>\n",
              "      <td>...</td>\n",
              "      <td>...</td>\n",
              "      <td>...</td>\n",
              "      <td>...</td>\n",
              "      <td>...</td>\n",
              "      <td>...</td>\n",
              "      <td>...</td>\n",
              "    </tr>\n",
              "    <tr>\n",
              "      <th>17893</th>\n",
              "      <td>136.429688</td>\n",
              "      <td>59.847421</td>\n",
              "      <td>-0.187846</td>\n",
              "      <td>-0.738123</td>\n",
              "      <td>1.296823</td>\n",
              "      <td>12.166062</td>\n",
              "      <td>15.450260</td>\n",
              "      <td>285.931022</td>\n",
              "      <td>0</td>\n",
              "    </tr>\n",
              "    <tr>\n",
              "      <th>17894</th>\n",
              "      <td>122.554688</td>\n",
              "      <td>49.485605</td>\n",
              "      <td>0.127978</td>\n",
              "      <td>0.323061</td>\n",
              "      <td>16.409699</td>\n",
              "      <td>44.626893</td>\n",
              "      <td>2.945244</td>\n",
              "      <td>8.297092</td>\n",
              "      <td>0</td>\n",
              "    </tr>\n",
              "    <tr>\n",
              "      <th>17895</th>\n",
              "      <td>119.335938</td>\n",
              "      <td>59.935939</td>\n",
              "      <td>0.159363</td>\n",
              "      <td>-0.743025</td>\n",
              "      <td>21.430602</td>\n",
              "      <td>58.872000</td>\n",
              "      <td>2.499517</td>\n",
              "      <td>4.595173</td>\n",
              "      <td>0</td>\n",
              "    </tr>\n",
              "    <tr>\n",
              "      <th>17896</th>\n",
              "      <td>114.507812</td>\n",
              "      <td>53.902400</td>\n",
              "      <td>0.201161</td>\n",
              "      <td>-0.024789</td>\n",
              "      <td>1.946488</td>\n",
              "      <td>13.381731</td>\n",
              "      <td>10.007967</td>\n",
              "      <td>134.238910</td>\n",
              "      <td>0</td>\n",
              "    </tr>\n",
              "    <tr>\n",
              "      <th>17897</th>\n",
              "      <td>57.062500</td>\n",
              "      <td>85.797340</td>\n",
              "      <td>1.406391</td>\n",
              "      <td>0.089520</td>\n",
              "      <td>188.306020</td>\n",
              "      <td>64.712562</td>\n",
              "      <td>-1.597527</td>\n",
              "      <td>1.429475</td>\n",
              "      <td>0</td>\n",
              "    </tr>\n",
              "  </tbody>\n",
              "</table>\n",
              "<p>17898 rows × 9 columns</p>\n",
              "</div>\n",
              "      <button class=\"colab-df-convert\" onclick=\"convertToInteractive('df-bc2cc882-4b3b-41ab-8b01-fd0046489497')\"\n",
              "              title=\"Convert this dataframe to an interactive table.\"\n",
              "              style=\"display:none;\">\n",
              "        \n",
              "  <svg xmlns=\"http://www.w3.org/2000/svg\" height=\"24px\"viewBox=\"0 0 24 24\"\n",
              "       width=\"24px\">\n",
              "    <path d=\"M0 0h24v24H0V0z\" fill=\"none\"/>\n",
              "    <path d=\"M18.56 5.44l.94 2.06.94-2.06 2.06-.94-2.06-.94-.94-2.06-.94 2.06-2.06.94zm-11 1L8.5 8.5l.94-2.06 2.06-.94-2.06-.94L8.5 2.5l-.94 2.06-2.06.94zm10 10l.94 2.06.94-2.06 2.06-.94-2.06-.94-.94-2.06-.94 2.06-2.06.94z\"/><path d=\"M17.41 7.96l-1.37-1.37c-.4-.4-.92-.59-1.43-.59-.52 0-1.04.2-1.43.59L10.3 9.45l-7.72 7.72c-.78.78-.78 2.05 0 2.83L4 21.41c.39.39.9.59 1.41.59.51 0 1.02-.2 1.41-.59l7.78-7.78 2.81-2.81c.8-.78.8-2.07 0-2.86zM5.41 20L4 18.59l7.72-7.72 1.47 1.35L5.41 20z\"/>\n",
              "  </svg>\n",
              "      </button>\n",
              "      \n",
              "  <style>\n",
              "    .colab-df-container {\n",
              "      display:flex;\n",
              "      flex-wrap:wrap;\n",
              "      gap: 12px;\n",
              "    }\n",
              "\n",
              "    .colab-df-convert {\n",
              "      background-color: #E8F0FE;\n",
              "      border: none;\n",
              "      border-radius: 50%;\n",
              "      cursor: pointer;\n",
              "      display: none;\n",
              "      fill: #1967D2;\n",
              "      height: 32px;\n",
              "      padding: 0 0 0 0;\n",
              "      width: 32px;\n",
              "    }\n",
              "\n",
              "    .colab-df-convert:hover {\n",
              "      background-color: #E2EBFA;\n",
              "      box-shadow: 0px 1px 2px rgba(60, 64, 67, 0.3), 0px 1px 3px 1px rgba(60, 64, 67, 0.15);\n",
              "      fill: #174EA6;\n",
              "    }\n",
              "\n",
              "    [theme=dark] .colab-df-convert {\n",
              "      background-color: #3B4455;\n",
              "      fill: #D2E3FC;\n",
              "    }\n",
              "\n",
              "    [theme=dark] .colab-df-convert:hover {\n",
              "      background-color: #434B5C;\n",
              "      box-shadow: 0px 1px 3px 1px rgba(0, 0, 0, 0.15);\n",
              "      filter: drop-shadow(0px 1px 2px rgba(0, 0, 0, 0.3));\n",
              "      fill: #FFFFFF;\n",
              "    }\n",
              "  </style>\n",
              "\n",
              "      <script>\n",
              "        const buttonEl =\n",
              "          document.querySelector('#df-bc2cc882-4b3b-41ab-8b01-fd0046489497 button.colab-df-convert');\n",
              "        buttonEl.style.display =\n",
              "          google.colab.kernel.accessAllowed ? 'block' : 'none';\n",
              "\n",
              "        async function convertToInteractive(key) {\n",
              "          const element = document.querySelector('#df-bc2cc882-4b3b-41ab-8b01-fd0046489497');\n",
              "          const dataTable =\n",
              "            await google.colab.kernel.invokeFunction('convertToInteractive',\n",
              "                                                     [key], {});\n",
              "          if (!dataTable) return;\n",
              "\n",
              "          const docLinkHtml = 'Like what you see? Visit the ' +\n",
              "            '<a target=\"_blank\" href=https://colab.research.google.com/notebooks/data_table.ipynb>data table notebook</a>'\n",
              "            + ' to learn more about interactive tables.';\n",
              "          element.innerHTML = '';\n",
              "          dataTable['output_type'] = 'display_data';\n",
              "          await google.colab.output.renderOutput(dataTable, element);\n",
              "          const docLink = document.createElement('div');\n",
              "          docLink.innerHTML = docLinkHtml;\n",
              "          element.appendChild(docLink);\n",
              "        }\n",
              "      </script>\n",
              "    </div>\n",
              "  </div>\n",
              "  "
            ]
          },
          "metadata": {},
          "execution_count": 5
        }
      ]
    },
    {
      "cell_type": "markdown",
      "source": [
        "#### Separação da base de dados em X e y"
      ],
      "metadata": {
        "id": "OVOXYsGWU9RG"
      }
    },
    {
      "cell_type": "markdown",
      "source": [
        "Iniciando a separação da base de dados em X e y:"
      ],
      "metadata": {
        "id": "JGlPsRYN-Wmn"
      }
    },
    {
      "cell_type": "code",
      "source": [
        "X = base.iloc[:,0:8]\n",
        "y = base.iloc[:,-1]"
      ],
      "metadata": {
        "id": "zscOaG3m737u"
      },
      "execution_count": null,
      "outputs": []
    },
    {
      "cell_type": "code",
      "source": [
        "from google.colab import files\n",
        "X.to_csv('X.csv') \n",
        "files.download('X.csv')\n",
        "\n",
        "y.to_csv('y.csv') \n",
        "files.download('y.csv')"
      ],
      "metadata": {
        "colab": {
          "base_uri": "https://localhost:8080/",
          "height": 17
        },
        "id": "D1DbFsuPMFA-",
        "outputId": "80a19555-59a9-4920-fb88-96c418000167"
      },
      "execution_count": null,
      "outputs": [
        {
          "output_type": "display_data",
          "data": {
            "text/plain": [
              "<IPython.core.display.Javascript object>"
            ],
            "application/javascript": [
              "\n",
              "    async function download(id, filename, size) {\n",
              "      if (!google.colab.kernel.accessAllowed) {\n",
              "        return;\n",
              "      }\n",
              "      const div = document.createElement('div');\n",
              "      const label = document.createElement('label');\n",
              "      label.textContent = `Downloading \"${filename}\": `;\n",
              "      div.appendChild(label);\n",
              "      const progress = document.createElement('progress');\n",
              "      progress.max = size;\n",
              "      div.appendChild(progress);\n",
              "      document.body.appendChild(div);\n",
              "\n",
              "      const buffers = [];\n",
              "      let downloaded = 0;\n",
              "\n",
              "      const channel = await google.colab.kernel.comms.open(id);\n",
              "      // Send a message to notify the kernel that we're ready.\n",
              "      channel.send({})\n",
              "\n",
              "      for await (const message of channel.messages) {\n",
              "        // Send a message to notify the kernel that we're ready.\n",
              "        channel.send({})\n",
              "        if (message.buffers) {\n",
              "          for (const buffer of message.buffers) {\n",
              "            buffers.push(buffer);\n",
              "            downloaded += buffer.byteLength;\n",
              "            progress.value = downloaded;\n",
              "          }\n",
              "        }\n",
              "      }\n",
              "      const blob = new Blob(buffers, {type: 'application/binary'});\n",
              "      const a = document.createElement('a');\n",
              "      a.href = window.URL.createObjectURL(blob);\n",
              "      a.download = filename;\n",
              "      div.appendChild(a);\n",
              "      a.click();\n",
              "      div.remove();\n",
              "    }\n",
              "  "
            ]
          },
          "metadata": {}
        },
        {
          "output_type": "display_data",
          "data": {
            "text/plain": [
              "<IPython.core.display.Javascript object>"
            ],
            "application/javascript": [
              "download(\"download_aa915c43-ef1a-42b9-b42d-aea6b367a650\", \"X.csv\", 1790903)"
            ]
          },
          "metadata": {}
        },
        {
          "output_type": "display_data",
          "data": {
            "text/plain": [
              "<IPython.core.display.Javascript object>"
            ],
            "application/javascript": [
              "\n",
              "    async function download(id, filename, size) {\n",
              "      if (!google.colab.kernel.accessAllowed) {\n",
              "        return;\n",
              "      }\n",
              "      const div = document.createElement('div');\n",
              "      const label = document.createElement('label');\n",
              "      label.textContent = `Downloading \"${filename}\": `;\n",
              "      div.appendChild(label);\n",
              "      const progress = document.createElement('progress');\n",
              "      progress.max = size;\n",
              "      div.appendChild(progress);\n",
              "      document.body.appendChild(div);\n",
              "\n",
              "      const buffers = [];\n",
              "      let downloaded = 0;\n",
              "\n",
              "      const channel = await google.colab.kernel.comms.open(id);\n",
              "      // Send a message to notify the kernel that we're ready.\n",
              "      channel.send({})\n",
              "\n",
              "      for await (const message of channel.messages) {\n",
              "        // Send a message to notify the kernel that we're ready.\n",
              "        channel.send({})\n",
              "        if (message.buffers) {\n",
              "          for (const buffer of message.buffers) {\n",
              "            buffers.push(buffer);\n",
              "            downloaded += buffer.byteLength;\n",
              "            progress.value = downloaded;\n",
              "          }\n",
              "        }\n",
              "      }\n",
              "      const blob = new Blob(buffers, {type: 'application/binary'});\n",
              "      const a = document.createElement('a');\n",
              "      a.href = window.URL.createObjectURL(blob);\n",
              "      a.download = filename;\n",
              "      div.appendChild(a);\n",
              "      a.click();\n",
              "      div.remove();\n",
              "    }\n",
              "  "
            ]
          },
          "metadata": {}
        },
        {
          "output_type": "display_data",
          "data": {
            "text/plain": [
              "<IPython.core.display.Javascript object>"
            ],
            "application/javascript": [
              "download(\"download_81077e74-c920-4480-9b5b-4439cb5d3779\", \"y.csv\", 132077)"
            ]
          },
          "metadata": {}
        }
      ]
    },
    {
      "cell_type": "markdown",
      "source": [
        "#### Separação da base de dados em treinamento e teste"
      ],
      "metadata": {
        "id": "nj_z6uToU5hI"
      }
    },
    {
      "cell_type": "markdown",
      "source": [
        "Separando os dados em treinamento e teste com auxílio da biblioteca do scikit learn"
      ],
      "metadata": {
        "id": "I47zZCaZHd-v"
      }
    },
    {
      "cell_type": "code",
      "source": [
        "from sklearn.model_selection import train_test_split"
      ],
      "metadata": {
        "id": "thsmjHkYHpZx"
      },
      "execution_count": null,
      "outputs": []
    },
    {
      "cell_type": "code",
      "source": [
        "X_train, X_test, y_train, y_test = train_test_split(X, y, stratify=y, test_size = 0.2, random_state = 23)"
      ],
      "metadata": {
        "id": "o4kdmr9fHdda"
      },
      "execution_count": null,
      "outputs": []
    },
    {
      "cell_type": "code",
      "source": [
        "from google.colab import files\n",
        "X_train.to_csv('X_train.csv') \n",
        "files.download('X_train.csv')\n",
        "\n",
        "X_test.to_csv('X_test.csv') \n",
        "files.download('X_test.csv')\n",
        "\n",
        "y_train.to_csv('y_train.csv') \n",
        "files.download('y_train.csv')\n",
        "\n",
        "y_test.to_csv('y_test.csv') \n",
        "files.download('y_test.csv')"
      ],
      "metadata": {
        "colab": {
          "base_uri": "https://localhost:8080/",
          "height": 17
        },
        "id": "__e9l3WfMUJ7",
        "outputId": "a22eab12-557c-4d5a-9106-02f3798bf19c"
      },
      "execution_count": null,
      "outputs": [
        {
          "output_type": "display_data",
          "data": {
            "text/plain": [
              "<IPython.core.display.Javascript object>"
            ],
            "application/javascript": [
              "\n",
              "    async function download(id, filename, size) {\n",
              "      if (!google.colab.kernel.accessAllowed) {\n",
              "        return;\n",
              "      }\n",
              "      const div = document.createElement('div');\n",
              "      const label = document.createElement('label');\n",
              "      label.textContent = `Downloading \"${filename}\": `;\n",
              "      div.appendChild(label);\n",
              "      const progress = document.createElement('progress');\n",
              "      progress.max = size;\n",
              "      div.appendChild(progress);\n",
              "      document.body.appendChild(div);\n",
              "\n",
              "      const buffers = [];\n",
              "      let downloaded = 0;\n",
              "\n",
              "      const channel = await google.colab.kernel.comms.open(id);\n",
              "      // Send a message to notify the kernel that we're ready.\n",
              "      channel.send({})\n",
              "\n",
              "      for await (const message of channel.messages) {\n",
              "        // Send a message to notify the kernel that we're ready.\n",
              "        channel.send({})\n",
              "        if (message.buffers) {\n",
              "          for (const buffer of message.buffers) {\n",
              "            buffers.push(buffer);\n",
              "            downloaded += buffer.byteLength;\n",
              "            progress.value = downloaded;\n",
              "          }\n",
              "        }\n",
              "      }\n",
              "      const blob = new Blob(buffers, {type: 'application/binary'});\n",
              "      const a = document.createElement('a');\n",
              "      a.href = window.URL.createObjectURL(blob);\n",
              "      a.download = filename;\n",
              "      div.appendChild(a);\n",
              "      a.click();\n",
              "      div.remove();\n",
              "    }\n",
              "  "
            ]
          },
          "metadata": {}
        },
        {
          "output_type": "display_data",
          "data": {
            "text/plain": [
              "<IPython.core.display.Javascript object>"
            ],
            "application/javascript": [
              "download(\"download_e409a211-363f-438e-b98b-1c7e4c1c7c7f\", \"X_train.csv\", 1432764)"
            ]
          },
          "metadata": {}
        },
        {
          "output_type": "display_data",
          "data": {
            "text/plain": [
              "<IPython.core.display.Javascript object>"
            ],
            "application/javascript": [
              "\n",
              "    async function download(id, filename, size) {\n",
              "      if (!google.colab.kernel.accessAllowed) {\n",
              "        return;\n",
              "      }\n",
              "      const div = document.createElement('div');\n",
              "      const label = document.createElement('label');\n",
              "      label.textContent = `Downloading \"${filename}\": `;\n",
              "      div.appendChild(label);\n",
              "      const progress = document.createElement('progress');\n",
              "      progress.max = size;\n",
              "      div.appendChild(progress);\n",
              "      document.body.appendChild(div);\n",
              "\n",
              "      const buffers = [];\n",
              "      let downloaded = 0;\n",
              "\n",
              "      const channel = await google.colab.kernel.comms.open(id);\n",
              "      // Send a message to notify the kernel that we're ready.\n",
              "      channel.send({})\n",
              "\n",
              "      for await (const message of channel.messages) {\n",
              "        // Send a message to notify the kernel that we're ready.\n",
              "        channel.send({})\n",
              "        if (message.buffers) {\n",
              "          for (const buffer of message.buffers) {\n",
              "            buffers.push(buffer);\n",
              "            downloaded += buffer.byteLength;\n",
              "            progress.value = downloaded;\n",
              "          }\n",
              "        }\n",
              "      }\n",
              "      const blob = new Blob(buffers, {type: 'application/binary'});\n",
              "      const a = document.createElement('a');\n",
              "      a.href = window.URL.createObjectURL(blob);\n",
              "      a.download = filename;\n",
              "      div.appendChild(a);\n",
              "      a.click();\n",
              "      div.remove();\n",
              "    }\n",
              "  "
            ]
          },
          "metadata": {}
        },
        {
          "output_type": "display_data",
          "data": {
            "text/plain": [
              "<IPython.core.display.Javascript object>"
            ],
            "application/javascript": [
              "download(\"download_d1aad9fb-4721-4f61-bcf9-1c35181afb8e\", \"X_test.csv\", 358156)"
            ]
          },
          "metadata": {}
        },
        {
          "output_type": "display_data",
          "data": {
            "text/plain": [
              "<IPython.core.display.Javascript object>"
            ],
            "application/javascript": [
              "\n",
              "    async function download(id, filename, size) {\n",
              "      if (!google.colab.kernel.accessAllowed) {\n",
              "        return;\n",
              "      }\n",
              "      const div = document.createElement('div');\n",
              "      const label = document.createElement('label');\n",
              "      label.textContent = `Downloading \"${filename}\": `;\n",
              "      div.appendChild(label);\n",
              "      const progress = document.createElement('progress');\n",
              "      progress.max = size;\n",
              "      div.appendChild(progress);\n",
              "      document.body.appendChild(div);\n",
              "\n",
              "      const buffers = [];\n",
              "      let downloaded = 0;\n",
              "\n",
              "      const channel = await google.colab.kernel.comms.open(id);\n",
              "      // Send a message to notify the kernel that we're ready.\n",
              "      channel.send({})\n",
              "\n",
              "      for await (const message of channel.messages) {\n",
              "        // Send a message to notify the kernel that we're ready.\n",
              "        channel.send({})\n",
              "        if (message.buffers) {\n",
              "          for (const buffer of message.buffers) {\n",
              "            buffers.push(buffer);\n",
              "            downloaded += buffer.byteLength;\n",
              "            progress.value = downloaded;\n",
              "          }\n",
              "        }\n",
              "      }\n",
              "      const blob = new Blob(buffers, {type: 'application/binary'});\n",
              "      const a = document.createElement('a');\n",
              "      a.href = window.URL.createObjectURL(blob);\n",
              "      a.download = filename;\n",
              "      div.appendChild(a);\n",
              "      a.click();\n",
              "      div.remove();\n",
              "    }\n",
              "  "
            ]
          },
          "metadata": {}
        },
        {
          "output_type": "display_data",
          "data": {
            "text/plain": [
              "<IPython.core.display.Javascript object>"
            ],
            "application/javascript": [
              "download(\"download_8b34bdf0-f853-4556-86cf-40d6263fac14\", \"y_train.csv\", 105651)"
            ]
          },
          "metadata": {}
        },
        {
          "output_type": "display_data",
          "data": {
            "text/plain": [
              "<IPython.core.display.Javascript object>"
            ],
            "application/javascript": [
              "\n",
              "    async function download(id, filename, size) {\n",
              "      if (!google.colab.kernel.accessAllowed) {\n",
              "        return;\n",
              "      }\n",
              "      const div = document.createElement('div');\n",
              "      const label = document.createElement('label');\n",
              "      label.textContent = `Downloading \"${filename}\": `;\n",
              "      div.appendChild(label);\n",
              "      const progress = document.createElement('progress');\n",
              "      progress.max = size;\n",
              "      div.appendChild(progress);\n",
              "      document.body.appendChild(div);\n",
              "\n",
              "      const buffers = [];\n",
              "      let downloaded = 0;\n",
              "\n",
              "      const channel = await google.colab.kernel.comms.open(id);\n",
              "      // Send a message to notify the kernel that we're ready.\n",
              "      channel.send({})\n",
              "\n",
              "      for await (const message of channel.messages) {\n",
              "        // Send a message to notify the kernel that we're ready.\n",
              "        channel.send({})\n",
              "        if (message.buffers) {\n",
              "          for (const buffer of message.buffers) {\n",
              "            buffers.push(buffer);\n",
              "            downloaded += buffer.byteLength;\n",
              "            progress.value = downloaded;\n",
              "          }\n",
              "        }\n",
              "      }\n",
              "      const blob = new Blob(buffers, {type: 'application/binary'});\n",
              "      const a = document.createElement('a');\n",
              "      a.href = window.URL.createObjectURL(blob);\n",
              "      a.download = filename;\n",
              "      div.appendChild(a);\n",
              "      a.click();\n",
              "      div.remove();\n",
              "    }\n",
              "  "
            ]
          },
          "metadata": {}
        },
        {
          "output_type": "display_data",
          "data": {
            "text/plain": [
              "<IPython.core.display.Javascript object>"
            ],
            "application/javascript": [
              "download(\"download_645bf246-641b-4659-a717-a54e0282fc01\", \"y_test.csv\", 26429)"
            ]
          },
          "metadata": {}
        }
      ]
    },
    {
      "cell_type": "markdown",
      "source": [
        "#### Separação da base de dados em folds"
      ],
      "metadata": {
        "id": "UsVF8cNBUz4w"
      }
    },
    {
      "cell_type": "markdown",
      "source": [
        "Separação da base em 5 Folds para a obtenção dos hiperparâmetros"
      ],
      "metadata": {
        "id": "jzJ3FTq1BX8r"
      }
    },
    {
      "cell_type": "code",
      "source": [
        "from sklearn.model_selection import RepeatedStratifiedKFold\n",
        "\n",
        "cv1 = RepeatedStratifiedKFold(n_repeats = 30, n_splits=5, random_state=23)"
      ],
      "metadata": {
        "id": "IO1JRUzsBd5k"
      },
      "execution_count": null,
      "outputs": []
    },
    {
      "cell_type": "markdown",
      "source": [
        "Separação da base em 10 Folds de forma estratificada considerando 30 repetições"
      ],
      "metadata": {
        "id": "VMYp2HbLDZFl"
      }
    },
    {
      "cell_type": "code",
      "source": [
        "from sklearn.model_selection import RepeatedStratifiedKFold\n",
        "\n",
        "cv2 = RepeatedStratifiedKFold(n_repeats = 30, n_splits=10, random_state=23)"
      ],
      "metadata": {
        "id": "GPFkdGD4_raD"
      },
      "execution_count": null,
      "outputs": []
    },
    {
      "cell_type": "markdown",
      "source": [
        "### Funções auxiliares"
      ],
      "metadata": {
        "id": "2jsCdTTeUVIs"
      }
    },
    {
      "cell_type": "markdown",
      "source": [
        "Função para destrinchar uma matriz de acurácias em 10 modelos após a realização do RandomSearch"
      ],
      "metadata": {
        "id": "ZLA4ay9m4ucP"
      }
    },
    {
      "cell_type": "code",
      "source": [
        "def acuracia_kfolds (matriz_acuracias):\n",
        "  acuracia_modelo_0 = matriz_acuracias.T[0].values\n",
        "  acuracia_modelo_1 = matriz_acuracias.T[1].values\n",
        "  acuracia_modelo_2 = matriz_acuracias.T[2].values\n",
        "  acuracia_modelo_3 = matriz_acuracias.T[3].values\n",
        "  acuracia_modelo_4 = matriz_acuracias.T[4].values\n",
        "  acuracia_modelo_5 = matriz_acuracias.T[5].values\n",
        "  acuracia_modelo_6 = matriz_acuracias.T[6].values\n",
        "  acuracia_modelo_7 = matriz_acuracias.T[7].values\n",
        "  acuracia_modelo_8 = matriz_acuracias.T[8].values\n",
        "  acuracia_modelo_9 = matriz_acuracias.T[9].values\n",
        "  return acuracia_modelo_0, acuracia_modelo_1, acuracia_modelo_2, acuracia_modelo_3, acuracia_modelo_4, acuracia_modelo_5, acuracia_modelo_6,acuracia_modelo_7,acuracia_modelo_8,acuracia_modelo_9"
      ],
      "metadata": {
        "id": "47oRRyo7NJL7"
      },
      "execution_count": null,
      "outputs": []
    },
    {
      "cell_type": "markdown",
      "source": [
        "Função para o cálculo dos intervalos de confiança considerando a distribuição de T Student"
      ],
      "metadata": {
        "id": "w5zmeG_Z47TW"
      }
    },
    {
      "cell_type": "code",
      "source": [
        "import scipy.stats as st\n",
        "\n",
        "def define_confidence_interval(scores_accuracy, scores_precision, scores_recall, scores_f1, alpha):\n",
        "  accuracy_interval = st.t.interval(alpha, len(scores_accuracy)-1, loc=np.mean(scores_accuracy), scale=st.sem(scores_accuracy))\n",
        "  precision_interval = st.t.interval(alpha, len(scores_precision)-1, loc=np.mean(scores_precision), scale=st.sem(scores_precision))\n",
        "  recall_interval = st.t.interval(alpha, len(scores_recall)-1, loc=np.mean(scores_recall), scale=st.sem(scores_recall))\n",
        "  f1_interval = st.t.interval(alpha, len(scores_f1)-1, loc=np.mean(scores_f1), scale=st.sem(scores_f1))\n",
        "\n",
        "  return accuracy_interval, precision_interval, recall_interval, f1_interval"
      ],
      "metadata": {
        "id": "IjogmYJlUjNy"
      },
      "execution_count": null,
      "outputs": []
    },
    {
      "cell_type": "markdown",
      "source": [
        "Função para calcular a taxa e erro de cada classificador a partir dos valores de acurácia"
      ],
      "metadata": {
        "id": "zd40SLMJ5EDy"
      }
    },
    {
      "cell_type": "code",
      "source": [
        "def error_tax_model (scores_model, interval_accuracy_model):\n",
        "  error_tax_model = 1 - scores_model['test_accuracy'].mean()\n",
        "  error_tax_lower_interval_model = error_tax_model - (scores_model['test_accuracy'].mean() - interval_accuracy_model[0]) \n",
        "  error_tax_upper_interval_model = error_tax_model + (interval_accuracy_model[1] - scores_model['test_accuracy'].mean())\n",
        "  return error_tax_model, error_tax_lower_interval_model, error_tax_upper_interval_model\n"
      ],
      "metadata": {
        "id": "oTSNK5eUUjNy"
      },
      "execution_count": null,
      "outputs": []
    },
    {
      "cell_type": "markdown",
      "source": [
        "Função auxiliar para impressão dos parâmetros pontuais e intervalos na validação com intuito de evitar repetições"
      ],
      "metadata": {
        "id": "ybJ8tDkT5PYw"
      }
    },
    {
      "cell_type": "code",
      "source": [
        "def print_validation_evaluation (scores_model, accuracy_interval_model, precision_interval_model, recall_interval_model, f1_interval_model, error_tax_model, error_tax_lower_interval_model, error_tax_upper_interval_model):\n",
        "  print('Relatório de estimativas pontuais e intervalo de confiança na validação:')\n",
        "  print('\\n')\n",
        "  print('A acurácia obtida na validação foi de: %0.4f' % scores_model['test_accuracy'].mean())\n",
        "  print(f'O intervalo de confiança da acurácia obtida na validação foi de: {accuracy_interval_model}')\n",
        "  print('\\n')\n",
        "  print('A taxa de erro obtida na validação foi de: %0.4f' %  error_tax_model)\n",
        "  print(f'O intervalo de confiança da acurácia obtida na validação foi de ({error_tax_lower_interval_model}, {error_tax_upper_interval_model})')\n",
        "  print('\\n')\n",
        "  print('A precisão obtida na validação foi de: %0.4f' %scores_model['test_precision'].mean())\n",
        "  print(f'O intervalo de confiança da precisão obtida na validação foi de: {precision_interval_model}')\n",
        "  print('\\n')\n",
        "  print('A cobertura (recall) obtido na validação foi de: %0.4f' % scores_model['test_recall'].mean())\n",
        "  print(f'O intervalo de confiança do recall obtida na validação foi de: {recall_interval_model}')\n",
        "  print('\\n')\n",
        "  print('O f1-score obtido na validação foi de: %0.4f' % scores_model['test_f1'].mean())\n",
        "  print(f'O intervalo de confiança do f1-score obtida na validação foi de: {f1_interval_model}')"
      ],
      "metadata": {
        "id": "PRcIn5lwUjNy"
      },
      "execution_count": null,
      "outputs": []
    },
    {
      "cell_type": "markdown",
      "source": [
        "Função para obtenção de métricas na predição dos modelos"
      ],
      "metadata": {
        "id": "dFS-xBwa5Ztx"
      }
    },
    {
      "cell_type": "code",
      "source": [
        "from sklearn.metrics import accuracy_score\n",
        "from sklearn.metrics import confusion_matrix\n",
        "from sklearn.metrics import precision_score\n",
        "from sklearn.metrics import recall_score\n",
        "from sklearn.metrics import f1_score\n",
        "\n",
        "def test_evaluation(y_test, y_pred):\n",
        "  error_tax_model = 1 - accuracy_score(y_test,y_pred)\n",
        "  return accuracy_score(y_test, y_pred),precision_score(y_test, y_pred),recall_score(y_test, y_pred),f1_score(y_test, y_pred),confusion_matrix(y_test, y_pred), error_tax_model"
      ],
      "metadata": {
        "id": "dYVlbRbXUscF"
      },
      "execution_count": null,
      "outputs": []
    },
    {
      "cell_type": "markdown",
      "source": [
        "Função auxiliar para impressão dos parâmetros pontuais no teste com intuito de evitar repetições"
      ],
      "metadata": {
        "id": "TkCXBILR5e1F"
      }
    },
    {
      "cell_type": "code",
      "source": [
        "from sklearn.metrics import accuracy_score\n",
        "from sklearn.metrics import confusion_matrix\n",
        "from sklearn.metrics import precision_score\n",
        "from sklearn.metrics import recall_score\n",
        "from sklearn.metrics import f1_score\n",
        "\n",
        "def print_test_evaluation(y_test, y_pred, error_tax_model):\n",
        "  print('Relatório de estimativas pontuais no teste:')\n",
        "  print('\\n')\n",
        "  print('A acurácia obtida no teste foi de: %0.4f' % accuracy_score(y_test, y_pred))\n",
        "  print('\\n')\n",
        "  print('A taxa de erro obtida no teste foi de: %0.4f' %error_tax_model)\n",
        "  print('\\n')\n",
        "  print('A precisão obtida no teste foi de: %0.4f' %precision_score(y_test, y_pred))\n",
        "  print('\\n')\n",
        "  print('O recall obtido no teste foi de: %0.4f' % recall_score(y_test, y_pred))\n",
        "  print('\\n')\n",
        "  print('O f1-score obtido no teste foi de: %0.4f' % f1_score(y_test, y_pred))\n",
        "  print('\\n')"
      ],
      "metadata": {
        "id": "CowAlgMPVYii"
      },
      "execution_count": null,
      "outputs": []
    },
    {
      "cell_type": "markdown",
      "source": [
        "### Classificador Bayesiano Gaussiano"
      ],
      "metadata": {
        "id": "E9At2nJr7lW0"
      }
    },
    {
      "cell_type": "markdown",
      "source": [
        "Para aplicar o classificador bayesiano gaussiano foi considerada a função Gaussian NB do pacote scikit learn que já implementa o algoritmo considerando a estimativa por máxima verossimilhança como descrito em https://scikit-learn.org/stable/modules/naive_bayes.html\n",
        "\n",
        "https://scikit-learn.org/stable/modules/generated/sklearn.naive_bayes.GaussianNB.html#sklearn.naive_bayes.GaussianNB"
      ],
      "metadata": {
        "id": "yZIClGw0Tlf9"
      }
    },
    {
      "cell_type": "code",
      "source": [
        "from sklearn.naive_bayes import GaussianNB"
      ],
      "metadata": {
        "id": "tHOXzziWMPw0"
      },
      "execution_count": null,
      "outputs": []
    },
    {
      "cell_type": "code",
      "source": [
        "gnb = GaussianNB()"
      ],
      "metadata": {
        "id": "jn_DI9ZrMQCB"
      },
      "execution_count": null,
      "outputs": []
    },
    {
      "cell_type": "markdown",
      "source": [
        "#### Seleção de Melhor Modelo"
      ],
      "metadata": {
        "id": "wYRXYasaSpDx"
      }
    },
    {
      "cell_type": "markdown",
      "source": [
        "**Definição do dicionário para hiperparâmetros do classificador Bayesiano Gaussiano**\n",
        "\n",
        "Para a definição do dicionário que foi utilizado na função RandomizedSearchCV foram levados em considerações as informações da função GaussianNB:"
      ],
      "metadata": {
        "id": "QpcveFmGK40e"
      }
    },
    {
      "cell_type": "markdown",
      "source": [
        "Para explicar os parâmetros utilizados e o que foi considerado na criação do dicionário para escolha dos hiperparâmetros:\n",
        "\n",
        "**prior**: parâmetro que indica a probabilidade a priore das classes. Como não é especificado foi considerado o default None;\n",
        "\n",
        "**var_smoothing**: parâmetro que representa a porção de maior variância de todos os parâmetros que deve ser adicionada para o cálculo de estabilidade. Como o default da função é 1e-09, foi considerado na busca parâmetros entre 1e-4 a 1e-15 ;\n"
      ],
      "metadata": {
        "id": "j_ONQke5K40f"
      }
    },
    {
      "cell_type": "code",
      "source": [
        "from scipy.stats import randint\n",
        "\n",
        "gnb_params = {\n",
        "    'var_smoothing': [1e-3, 1e-4, 1e-5, 1e-6, 1e-7, 1e-8, 1e-9, 1e-10, 1e-11, 1e-12, 1e-13, 1e-14, 1e-15],\n",
        "}"
      ],
      "metadata": {
        "id": "irIpHlJ1K40f"
      },
      "execution_count": null,
      "outputs": []
    },
    {
      "cell_type": "markdown",
      "source": [
        "Para determinar os hiperparâmetros a serem utilizados no regressor linear será realizado um RandomSearch com a função RandomizedSearchCV\n",
        "\n",
        "https://scikit-learn.org/stable/modules/generated/sklearn.model_selection.RandomizedSearchCV.html"
      ],
      "metadata": {
        "id": "J3_5PcniK40f"
      }
    },
    {
      "cell_type": "code",
      "source": [
        "from sklearn.model_selection import RandomizedSearchCV\n",
        "\n",
        "search_gnb = RandomizedSearchCV(gnb, gnb_params, n_iter=10, n_jobs=-1, scoring='accuracy', cv=cv1, random_state = 23)"
      ],
      "metadata": {
        "id": "wEiMZIX8K40f"
      },
      "execution_count": null,
      "outputs": []
    },
    {
      "cell_type": "markdown",
      "source": [
        "##### Treinamento"
      ],
      "metadata": {
        "id": "n8aaXorOStXL"
      }
    },
    {
      "cell_type": "markdown",
      "source": [
        "Para fazer o treinamento da base e encontrar o melhor modelo, foi utilizada a função fit:"
      ],
      "metadata": {
        "id": "SwV_JYHpMtZ7"
      }
    },
    {
      "cell_type": "code",
      "source": [
        "results_gnb = search_gnb.fit(X_train, y_train)"
      ],
      "metadata": {
        "id": "oPJCUNoAMtZ7"
      },
      "execution_count": null,
      "outputs": []
    },
    {
      "cell_type": "markdown",
      "source": [
        "Para poder selecionar o melhor modelo, foi avaliada a validação de cada um dos modelos gerados"
      ],
      "metadata": {
        "id": "K64mO_8OMtZ7"
      }
    },
    {
      "cell_type": "code",
      "source": [
        "results_val_gnb = pd.DataFrame(results_gnb.cv_results_)\n",
        "results_val_gnb"
      ],
      "metadata": {
        "colab": {
          "base_uri": "https://localhost:8080/",
          "height": 630
        },
        "outputId": "c685411e-b960-48cd-8e30-cce3a38a133a",
        "id": "IVW1QQ58MtZ7"
      },
      "execution_count": null,
      "outputs": [
        {
          "output_type": "execute_result",
          "data": {
            "text/plain": [
              "   mean_fit_time  std_fit_time  mean_score_time  std_score_time  \\\n",
              "0       0.008567      0.002787         0.003528        0.001292   \n",
              "1       0.008896      0.002683         0.003735        0.001679   \n",
              "2       0.007935      0.001644         0.003346        0.001246   \n",
              "3       0.007821      0.001869         0.003208        0.000957   \n",
              "4       0.008594      0.002197         0.003560        0.001345   \n",
              "5       0.008995      0.003196         0.003760        0.001497   \n",
              "6       0.007851      0.001798         0.003177        0.000598   \n",
              "7       0.008753      0.002586         0.003745        0.001437   \n",
              "8       0.008775      0.002304         0.003711        0.001439   \n",
              "9       0.007573      0.001566         0.003176        0.000909   \n",
              "\n",
              "  param_var_smoothing                     params  split0_test_score  \\\n",
              "0                 0.0   {'var_smoothing': 1e-10}           0.944483   \n",
              "1              0.0001  {'var_smoothing': 0.0001}           0.945182   \n",
              "2             0.00001   {'var_smoothing': 1e-05}           0.945531   \n",
              "3                 0.0   {'var_smoothing': 1e-13}           0.944483   \n",
              "4                 0.0   {'var_smoothing': 1e-15}           0.944483   \n",
              "5                 0.0   {'var_smoothing': 1e-07}           0.944483   \n",
              "6                 0.0   {'var_smoothing': 1e-08}           0.944483   \n",
              "7               0.001   {'var_smoothing': 0.001}           0.940293   \n",
              "8                 0.0   {'var_smoothing': 1e-14}           0.944483   \n",
              "9                 0.0   {'var_smoothing': 1e-12}           0.944483   \n",
              "\n",
              "   split1_test_score  split2_test_score  split3_test_score  ...  \\\n",
              "0           0.945880           0.949022           0.942368  ...   \n",
              "1           0.944483           0.945531           0.942019  ...   \n",
              "2           0.943436           0.947626           0.943765  ...   \n",
              "3           0.945880           0.949022           0.942368  ...   \n",
              "4           0.945880           0.949022           0.942368  ...   \n",
              "5           0.945531           0.949022           0.942368  ...   \n",
              "6           0.945880           0.949022           0.942368  ...   \n",
              "7           0.938547           0.941690           0.935382  ...   \n",
              "8           0.945880           0.949022           0.942368  ...   \n",
              "9           0.945880           0.949022           0.942368  ...   \n",
              "\n",
              "   split143_test_score  split144_test_score  split145_test_score  \\\n",
              "0             0.948655             0.943765             0.948324   \n",
              "1             0.947607             0.943067             0.948324   \n",
              "2             0.947607             0.944115             0.949022   \n",
              "3             0.948655             0.943765             0.948324   \n",
              "4             0.948655             0.943765             0.948324   \n",
              "5             0.948306             0.943765             0.948673   \n",
              "6             0.948655             0.943765             0.948324   \n",
              "7             0.944115             0.936081             0.943087   \n",
              "8             0.948655             0.943765             0.948324   \n",
              "9             0.948655             0.943765             0.948324   \n",
              "\n",
              "   split146_test_score  split147_test_score  split148_test_score  \\\n",
              "0             0.947277             0.951466             0.942717   \n",
              "1             0.947277             0.947975             0.944464   \n",
              "2             0.948673             0.950070             0.943765   \n",
              "3             0.947277             0.951466             0.942717   \n",
              "4             0.947277             0.951466             0.942717   \n",
              "5             0.947277             0.951816             0.942717   \n",
              "6             0.947277             0.951466             0.942717   \n",
              "7             0.942039             0.941341             0.937827   \n",
              "8             0.947277             0.951466             0.942717   \n",
              "9             0.947277             0.951466             0.942717   \n",
              "\n",
              "   split149_test_score  mean_test_score  std_test_score  rank_test_score  \n",
              "0             0.939923         0.945986        0.004201                2  \n",
              "1             0.936081         0.944715        0.003970                9  \n",
              "2             0.937827         0.945914        0.004099                8  \n",
              "3             0.939923         0.945986        0.004201                2  \n",
              "4             0.939923         0.945986        0.004201                2  \n",
              "5             0.939923         0.945986        0.004213                7  \n",
              "6             0.939923         0.945989        0.004194                1  \n",
              "7             0.931890         0.939265        0.004023               10  \n",
              "8             0.939923         0.945986        0.004201                2  \n",
              "9             0.939923         0.945986        0.004201                2  \n",
              "\n",
              "[10 rows x 159 columns]"
            ],
            "text/html": [
              "\n",
              "  <div id=\"df-c3ee4b63-1dc6-4f42-8345-663130a31190\">\n",
              "    <div class=\"colab-df-container\">\n",
              "      <div>\n",
              "<style scoped>\n",
              "    .dataframe tbody tr th:only-of-type {\n",
              "        vertical-align: middle;\n",
              "    }\n",
              "\n",
              "    .dataframe tbody tr th {\n",
              "        vertical-align: top;\n",
              "    }\n",
              "\n",
              "    .dataframe thead th {\n",
              "        text-align: right;\n",
              "    }\n",
              "</style>\n",
              "<table border=\"1\" class=\"dataframe\">\n",
              "  <thead>\n",
              "    <tr style=\"text-align: right;\">\n",
              "      <th></th>\n",
              "      <th>mean_fit_time</th>\n",
              "      <th>std_fit_time</th>\n",
              "      <th>mean_score_time</th>\n",
              "      <th>std_score_time</th>\n",
              "      <th>param_var_smoothing</th>\n",
              "      <th>params</th>\n",
              "      <th>split0_test_score</th>\n",
              "      <th>split1_test_score</th>\n",
              "      <th>split2_test_score</th>\n",
              "      <th>split3_test_score</th>\n",
              "      <th>...</th>\n",
              "      <th>split143_test_score</th>\n",
              "      <th>split144_test_score</th>\n",
              "      <th>split145_test_score</th>\n",
              "      <th>split146_test_score</th>\n",
              "      <th>split147_test_score</th>\n",
              "      <th>split148_test_score</th>\n",
              "      <th>split149_test_score</th>\n",
              "      <th>mean_test_score</th>\n",
              "      <th>std_test_score</th>\n",
              "      <th>rank_test_score</th>\n",
              "    </tr>\n",
              "  </thead>\n",
              "  <tbody>\n",
              "    <tr>\n",
              "      <th>0</th>\n",
              "      <td>0.008567</td>\n",
              "      <td>0.002787</td>\n",
              "      <td>0.003528</td>\n",
              "      <td>0.001292</td>\n",
              "      <td>0.0</td>\n",
              "      <td>{'var_smoothing': 1e-10}</td>\n",
              "      <td>0.944483</td>\n",
              "      <td>0.945880</td>\n",
              "      <td>0.949022</td>\n",
              "      <td>0.942368</td>\n",
              "      <td>...</td>\n",
              "      <td>0.948655</td>\n",
              "      <td>0.943765</td>\n",
              "      <td>0.948324</td>\n",
              "      <td>0.947277</td>\n",
              "      <td>0.951466</td>\n",
              "      <td>0.942717</td>\n",
              "      <td>0.939923</td>\n",
              "      <td>0.945986</td>\n",
              "      <td>0.004201</td>\n",
              "      <td>2</td>\n",
              "    </tr>\n",
              "    <tr>\n",
              "      <th>1</th>\n",
              "      <td>0.008896</td>\n",
              "      <td>0.002683</td>\n",
              "      <td>0.003735</td>\n",
              "      <td>0.001679</td>\n",
              "      <td>0.0001</td>\n",
              "      <td>{'var_smoothing': 0.0001}</td>\n",
              "      <td>0.945182</td>\n",
              "      <td>0.944483</td>\n",
              "      <td>0.945531</td>\n",
              "      <td>0.942019</td>\n",
              "      <td>...</td>\n",
              "      <td>0.947607</td>\n",
              "      <td>0.943067</td>\n",
              "      <td>0.948324</td>\n",
              "      <td>0.947277</td>\n",
              "      <td>0.947975</td>\n",
              "      <td>0.944464</td>\n",
              "      <td>0.936081</td>\n",
              "      <td>0.944715</td>\n",
              "      <td>0.003970</td>\n",
              "      <td>9</td>\n",
              "    </tr>\n",
              "    <tr>\n",
              "      <th>2</th>\n",
              "      <td>0.007935</td>\n",
              "      <td>0.001644</td>\n",
              "      <td>0.003346</td>\n",
              "      <td>0.001246</td>\n",
              "      <td>0.00001</td>\n",
              "      <td>{'var_smoothing': 1e-05}</td>\n",
              "      <td>0.945531</td>\n",
              "      <td>0.943436</td>\n",
              "      <td>0.947626</td>\n",
              "      <td>0.943765</td>\n",
              "      <td>...</td>\n",
              "      <td>0.947607</td>\n",
              "      <td>0.944115</td>\n",
              "      <td>0.949022</td>\n",
              "      <td>0.948673</td>\n",
              "      <td>0.950070</td>\n",
              "      <td>0.943765</td>\n",
              "      <td>0.937827</td>\n",
              "      <td>0.945914</td>\n",
              "      <td>0.004099</td>\n",
              "      <td>8</td>\n",
              "    </tr>\n",
              "    <tr>\n",
              "      <th>3</th>\n",
              "      <td>0.007821</td>\n",
              "      <td>0.001869</td>\n",
              "      <td>0.003208</td>\n",
              "      <td>0.000957</td>\n",
              "      <td>0.0</td>\n",
              "      <td>{'var_smoothing': 1e-13}</td>\n",
              "      <td>0.944483</td>\n",
              "      <td>0.945880</td>\n",
              "      <td>0.949022</td>\n",
              "      <td>0.942368</td>\n",
              "      <td>...</td>\n",
              "      <td>0.948655</td>\n",
              "      <td>0.943765</td>\n",
              "      <td>0.948324</td>\n",
              "      <td>0.947277</td>\n",
              "      <td>0.951466</td>\n",
              "      <td>0.942717</td>\n",
              "      <td>0.939923</td>\n",
              "      <td>0.945986</td>\n",
              "      <td>0.004201</td>\n",
              "      <td>2</td>\n",
              "    </tr>\n",
              "    <tr>\n",
              "      <th>4</th>\n",
              "      <td>0.008594</td>\n",
              "      <td>0.002197</td>\n",
              "      <td>0.003560</td>\n",
              "      <td>0.001345</td>\n",
              "      <td>0.0</td>\n",
              "      <td>{'var_smoothing': 1e-15}</td>\n",
              "      <td>0.944483</td>\n",
              "      <td>0.945880</td>\n",
              "      <td>0.949022</td>\n",
              "      <td>0.942368</td>\n",
              "      <td>...</td>\n",
              "      <td>0.948655</td>\n",
              "      <td>0.943765</td>\n",
              "      <td>0.948324</td>\n",
              "      <td>0.947277</td>\n",
              "      <td>0.951466</td>\n",
              "      <td>0.942717</td>\n",
              "      <td>0.939923</td>\n",
              "      <td>0.945986</td>\n",
              "      <td>0.004201</td>\n",
              "      <td>2</td>\n",
              "    </tr>\n",
              "    <tr>\n",
              "      <th>5</th>\n",
              "      <td>0.008995</td>\n",
              "      <td>0.003196</td>\n",
              "      <td>0.003760</td>\n",
              "      <td>0.001497</td>\n",
              "      <td>0.0</td>\n",
              "      <td>{'var_smoothing': 1e-07}</td>\n",
              "      <td>0.944483</td>\n",
              "      <td>0.945531</td>\n",
              "      <td>0.949022</td>\n",
              "      <td>0.942368</td>\n",
              "      <td>...</td>\n",
              "      <td>0.948306</td>\n",
              "      <td>0.943765</td>\n",
              "      <td>0.948673</td>\n",
              "      <td>0.947277</td>\n",
              "      <td>0.951816</td>\n",
              "      <td>0.942717</td>\n",
              "      <td>0.939923</td>\n",
              "      <td>0.945986</td>\n",
              "      <td>0.004213</td>\n",
              "      <td>7</td>\n",
              "    </tr>\n",
              "    <tr>\n",
              "      <th>6</th>\n",
              "      <td>0.007851</td>\n",
              "      <td>0.001798</td>\n",
              "      <td>0.003177</td>\n",
              "      <td>0.000598</td>\n",
              "      <td>0.0</td>\n",
              "      <td>{'var_smoothing': 1e-08}</td>\n",
              "      <td>0.944483</td>\n",
              "      <td>0.945880</td>\n",
              "      <td>0.949022</td>\n",
              "      <td>0.942368</td>\n",
              "      <td>...</td>\n",
              "      <td>0.948655</td>\n",
              "      <td>0.943765</td>\n",
              "      <td>0.948324</td>\n",
              "      <td>0.947277</td>\n",
              "      <td>0.951466</td>\n",
              "      <td>0.942717</td>\n",
              "      <td>0.939923</td>\n",
              "      <td>0.945989</td>\n",
              "      <td>0.004194</td>\n",
              "      <td>1</td>\n",
              "    </tr>\n",
              "    <tr>\n",
              "      <th>7</th>\n",
              "      <td>0.008753</td>\n",
              "      <td>0.002586</td>\n",
              "      <td>0.003745</td>\n",
              "      <td>0.001437</td>\n",
              "      <td>0.001</td>\n",
              "      <td>{'var_smoothing': 0.001}</td>\n",
              "      <td>0.940293</td>\n",
              "      <td>0.938547</td>\n",
              "      <td>0.941690</td>\n",
              "      <td>0.935382</td>\n",
              "      <td>...</td>\n",
              "      <td>0.944115</td>\n",
              "      <td>0.936081</td>\n",
              "      <td>0.943087</td>\n",
              "      <td>0.942039</td>\n",
              "      <td>0.941341</td>\n",
              "      <td>0.937827</td>\n",
              "      <td>0.931890</td>\n",
              "      <td>0.939265</td>\n",
              "      <td>0.004023</td>\n",
              "      <td>10</td>\n",
              "    </tr>\n",
              "    <tr>\n",
              "      <th>8</th>\n",
              "      <td>0.008775</td>\n",
              "      <td>0.002304</td>\n",
              "      <td>0.003711</td>\n",
              "      <td>0.001439</td>\n",
              "      <td>0.0</td>\n",
              "      <td>{'var_smoothing': 1e-14}</td>\n",
              "      <td>0.944483</td>\n",
              "      <td>0.945880</td>\n",
              "      <td>0.949022</td>\n",
              "      <td>0.942368</td>\n",
              "      <td>...</td>\n",
              "      <td>0.948655</td>\n",
              "      <td>0.943765</td>\n",
              "      <td>0.948324</td>\n",
              "      <td>0.947277</td>\n",
              "      <td>0.951466</td>\n",
              "      <td>0.942717</td>\n",
              "      <td>0.939923</td>\n",
              "      <td>0.945986</td>\n",
              "      <td>0.004201</td>\n",
              "      <td>2</td>\n",
              "    </tr>\n",
              "    <tr>\n",
              "      <th>9</th>\n",
              "      <td>0.007573</td>\n",
              "      <td>0.001566</td>\n",
              "      <td>0.003176</td>\n",
              "      <td>0.000909</td>\n",
              "      <td>0.0</td>\n",
              "      <td>{'var_smoothing': 1e-12}</td>\n",
              "      <td>0.944483</td>\n",
              "      <td>0.945880</td>\n",
              "      <td>0.949022</td>\n",
              "      <td>0.942368</td>\n",
              "      <td>...</td>\n",
              "      <td>0.948655</td>\n",
              "      <td>0.943765</td>\n",
              "      <td>0.948324</td>\n",
              "      <td>0.947277</td>\n",
              "      <td>0.951466</td>\n",
              "      <td>0.942717</td>\n",
              "      <td>0.939923</td>\n",
              "      <td>0.945986</td>\n",
              "      <td>0.004201</td>\n",
              "      <td>2</td>\n",
              "    </tr>\n",
              "  </tbody>\n",
              "</table>\n",
              "<p>10 rows × 159 columns</p>\n",
              "</div>\n",
              "      <button class=\"colab-df-convert\" onclick=\"convertToInteractive('df-c3ee4b63-1dc6-4f42-8345-663130a31190')\"\n",
              "              title=\"Convert this dataframe to an interactive table.\"\n",
              "              style=\"display:none;\">\n",
              "        \n",
              "  <svg xmlns=\"http://www.w3.org/2000/svg\" height=\"24px\"viewBox=\"0 0 24 24\"\n",
              "       width=\"24px\">\n",
              "    <path d=\"M0 0h24v24H0V0z\" fill=\"none\"/>\n",
              "    <path d=\"M18.56 5.44l.94 2.06.94-2.06 2.06-.94-2.06-.94-.94-2.06-.94 2.06-2.06.94zm-11 1L8.5 8.5l.94-2.06 2.06-.94-2.06-.94L8.5 2.5l-.94 2.06-2.06.94zm10 10l.94 2.06.94-2.06 2.06-.94-2.06-.94-.94-2.06-.94 2.06-2.06.94z\"/><path d=\"M17.41 7.96l-1.37-1.37c-.4-.4-.92-.59-1.43-.59-.52 0-1.04.2-1.43.59L10.3 9.45l-7.72 7.72c-.78.78-.78 2.05 0 2.83L4 21.41c.39.39.9.59 1.41.59.51 0 1.02-.2 1.41-.59l7.78-7.78 2.81-2.81c.8-.78.8-2.07 0-2.86zM5.41 20L4 18.59l7.72-7.72 1.47 1.35L5.41 20z\"/>\n",
              "  </svg>\n",
              "      </button>\n",
              "      \n",
              "  <style>\n",
              "    .colab-df-container {\n",
              "      display:flex;\n",
              "      flex-wrap:wrap;\n",
              "      gap: 12px;\n",
              "    }\n",
              "\n",
              "    .colab-df-convert {\n",
              "      background-color: #E8F0FE;\n",
              "      border: none;\n",
              "      border-radius: 50%;\n",
              "      cursor: pointer;\n",
              "      display: none;\n",
              "      fill: #1967D2;\n",
              "      height: 32px;\n",
              "      padding: 0 0 0 0;\n",
              "      width: 32px;\n",
              "    }\n",
              "\n",
              "    .colab-df-convert:hover {\n",
              "      background-color: #E2EBFA;\n",
              "      box-shadow: 0px 1px 2px rgba(60, 64, 67, 0.3), 0px 1px 3px 1px rgba(60, 64, 67, 0.15);\n",
              "      fill: #174EA6;\n",
              "    }\n",
              "\n",
              "    [theme=dark] .colab-df-convert {\n",
              "      background-color: #3B4455;\n",
              "      fill: #D2E3FC;\n",
              "    }\n",
              "\n",
              "    [theme=dark] .colab-df-convert:hover {\n",
              "      background-color: #434B5C;\n",
              "      box-shadow: 0px 1px 3px 1px rgba(0, 0, 0, 0.15);\n",
              "      filter: drop-shadow(0px 1px 2px rgba(0, 0, 0, 0.3));\n",
              "      fill: #FFFFFF;\n",
              "    }\n",
              "  </style>\n",
              "\n",
              "      <script>\n",
              "        const buttonEl =\n",
              "          document.querySelector('#df-c3ee4b63-1dc6-4f42-8345-663130a31190 button.colab-df-convert');\n",
              "        buttonEl.style.display =\n",
              "          google.colab.kernel.accessAllowed ? 'block' : 'none';\n",
              "\n",
              "        async function convertToInteractive(key) {\n",
              "          const element = document.querySelector('#df-c3ee4b63-1dc6-4f42-8345-663130a31190');\n",
              "          const dataTable =\n",
              "            await google.colab.kernel.invokeFunction('convertToInteractive',\n",
              "                                                     [key], {});\n",
              "          if (!dataTable) return;\n",
              "\n",
              "          const docLinkHtml = 'Like what you see? Visit the ' +\n",
              "            '<a target=\"_blank\" href=https://colab.research.google.com/notebooks/data_table.ipynb>data table notebook</a>'\n",
              "            + ' to learn more about interactive tables.';\n",
              "          element.innerHTML = '';\n",
              "          dataTable['output_type'] = 'display_data';\n",
              "          await google.colab.output.renderOutput(dataTable, element);\n",
              "          const docLink = document.createElement('div');\n",
              "          docLink.innerHTML = docLinkHtml;\n",
              "          element.appendChild(docLink);\n",
              "        }\n",
              "      </script>\n",
              "    </div>\n",
              "  </div>\n",
              "  "
            ]
          },
          "metadata": {},
          "execution_count": 38
        }
      ]
    },
    {
      "cell_type": "code",
      "source": [
        "acuracia_modelos_gnb = results_val_gnb.iloc[:,-153:-3]"
      ],
      "metadata": {
        "id": "WPJ6ec3eMtZ7"
      },
      "execution_count": null,
      "outputs": []
    },
    {
      "cell_type": "code",
      "source": [
        "acuracia_gnb_m0, acuracia_gnb_m1, acuracia_gnb_m2, acuracia_gnb_m3, acuracia_gnb_m4, acuracia_gnb_m5, acuracia_gnb_m6, acuracia_gnb_m7, acuracia_gnb_m8, acuracia_gnb_m9  = acuracia_kfolds(acuracia_modelos_gnb )"
      ],
      "metadata": {
        "id": "iE-6sDMCN29y"
      },
      "execution_count": null,
      "outputs": []
    },
    {
      "cell_type": "markdown",
      "source": [
        "Para verificar se as acurácias encontradas pelos modelos são estatisticamente iguais foi utilizada a estatística de Kruskal-Wallis para verificar se o valor da mediana de todas as acurácias são iguais"
      ],
      "metadata": {
        "id": "RZMgBScEMtZ8"
      }
    },
    {
      "cell_type": "code",
      "source": [
        "from scipy import stats\n",
        "\n",
        "stats.kruskal(acuracia_gnb_m0, acuracia_gnb_m1, acuracia_gnb_m2, acuracia_gnb_m3, acuracia_gnb_m4, acuracia_gnb_m5, acuracia_gnb_m6, acuracia_gnb_m7, acuracia_gnb_m8, acuracia_gnb_m9)"
      ],
      "metadata": {
        "colab": {
          "base_uri": "https://localhost:8080/"
        },
        "outputId": "404ef543-1f6c-44f8-e2f0-a2d5a78712cc",
        "id": "endGeScmMtZ8"
      },
      "execution_count": null,
      "outputs": [
        {
          "output_type": "execute_result",
          "data": {
            "text/plain": [
              "KruskalResult(statistic=235.8412979151999, pvalue=9.673965102578152e-46)"
            ]
          },
          "metadata": {},
          "execution_count": 41
        }
      ]
    },
    {
      "cell_type": "markdown",
      "source": [
        "Como o p-valor encontrado foi menor do que 0.05, há evidências que recusa a hipótese nula e indica que os 10 modelos não obtiveram acurácias semelhantes."
      ],
      "metadata": {
        "id": "eWdgxwquMtZ8"
      }
    },
    {
      "cell_type": "code",
      "source": [
        "import seaborn as sns\n",
        "\n",
        "sns.boxplot(data=acuracia_modelos_gnb.T);"
      ],
      "metadata": {
        "colab": {
          "base_uri": "https://localhost:8080/",
          "height": 268
        },
        "outputId": "3ffe489c-40e7-4233-9424-c1dd7b01f0d3",
        "id": "9r-36plaMtZ8"
      },
      "execution_count": null,
      "outputs": [
        {
          "output_type": "display_data",
          "data": {
            "text/plain": [
              "<Figure size 432x288 with 1 Axes>"
            ],
            "image/png": "[encoded data removed]"
          },
          "metadata": {
            "needs_background": "light"
          }
        }
      ]
    },
    {
      "cell_type": "markdown",
      "source": [
        "Com isso, é possível ver que o melhor modelo foi o modelo 6, mas que a variação no parâmetro var_smoothing não apresentou grandes oscilações."
      ],
      "metadata": {
        "id": "D_6iM4w9MtZ8"
      }
    },
    {
      "cell_type": "code",
      "source": [
        "results_gnb.best_params_"
      ],
      "metadata": {
        "colab": {
          "base_uri": "https://localhost:8080/"
        },
        "outputId": "2504c653-7341-4617-9e41-cf7bc51e7df9",
        "id": "PnbRs_HSMtZ8"
      },
      "execution_count": null,
      "outputs": [
        {
          "output_type": "execute_result",
          "data": {
            "text/plain": [
              "{'var_smoothing': 1e-08}"
            ]
          },
          "metadata": {},
          "execution_count": 43
        }
      ]
    },
    {
      "cell_type": "code",
      "source": [
        "results_gnb.best_score_"
      ],
      "metadata": {
        "colab": {
          "base_uri": "https://localhost:8080/"
        },
        "outputId": "bce8eb7c-b120-49c8-9bfe-9f1b698ffcf7",
        "id": "hTgzJWftMtZ8"
      },
      "execution_count": null,
      "outputs": [
        {
          "output_type": "execute_result",
          "data": {
            "text/plain": [
              "0.9459887224207136"
            ]
          },
          "metadata": {},
          "execution_count": 44
        }
      ]
    },
    {
      "cell_type": "markdown",
      "source": [
        "##### Melhor Modelo"
      ],
      "metadata": {
        "id": "n2-h85odSvMH"
      }
    },
    {
      "cell_type": "markdown",
      "source": [
        "Melhor modelo obtido foi salvo como gnb_model"
      ],
      "metadata": {
        "id": "EIVCEnwzOtc1"
      }
    },
    {
      "cell_type": "code",
      "source": [
        "gnb_model = GaussianNB(var_smoothing=1e-8)"
      ],
      "metadata": {
        "id": "G6PKwcmnOtc1"
      },
      "execution_count": null,
      "outputs": []
    },
    {
      "cell_type": "markdown",
      "source": [
        "##### Estimativas pontuais e intervalo de confiança da validação"
      ],
      "metadata": {
        "id": "AFBlZRalSxMa"
      }
    },
    {
      "cell_type": "code",
      "source": [
        "scoring=['accuracy', 'precision', 'recall', 'f1']"
      ],
      "metadata": {
        "id": "spBi0D5nPEch"
      },
      "execution_count": null,
      "outputs": []
    },
    {
      "cell_type": "code",
      "source": [
        "from sklearn.model_selection import cross_validate\n",
        "\n",
        "scores_gnb=cross_validate(gnb_model, X_train, y_train, cv=cv2,scoring=scoring)"
      ],
      "metadata": {
        "id": "RA2fH32bPEch"
      },
      "execution_count": null,
      "outputs": []
    },
    {
      "cell_type": "code",
      "source": [
        "scores_gnb.keys()"
      ],
      "metadata": {
        "colab": {
          "base_uri": "https://localhost:8080/"
        },
        "outputId": "606a4e5b-fb96-4cc4-bfe6-a009409b47b0",
        "id": "9KyskEx_PEch"
      },
      "execution_count": null,
      "outputs": [
        {
          "output_type": "execute_result",
          "data": {
            "text/plain": [
              "dict_keys(['fit_time', 'score_time', 'test_accuracy', 'test_precision', 'test_recall', 'test_f1'])"
            ]
          },
          "metadata": {},
          "execution_count": 48
        }
      ]
    },
    {
      "cell_type": "code",
      "source": [
        "scores_gnb['test_accuracy'].mean()"
      ],
      "metadata": {
        "colab": {
          "base_uri": "https://localhost:8080/"
        },
        "outputId": "fb24bb99-ab32-489e-f244-deef6954a55a",
        "id": "Z3S15XdXPEci"
      },
      "execution_count": null,
      "outputs": [
        {
          "output_type": "execute_result",
          "data": {
            "text/plain": [
              "0.9459864766210292"
            ]
          },
          "metadata": {},
          "execution_count": 49
        }
      ]
    },
    {
      "cell_type": "markdown",
      "source": [
        "Para calcular os intervalos de confiança"
      ],
      "metadata": {
        "id": "YjhA_7vlPEci"
      }
    },
    {
      "cell_type": "code",
      "source": [
        "int_acuracia_gnb, int_precisao_gnb, int_recall_gnb, int_f1_gnb = define_confidence_interval(scores_gnb['test_accuracy'], scores_gnb['test_precision'], scores_gnb['test_recall'], scores_gnb['test_f1'], 0.95)"
      ],
      "metadata": {
        "id": "6Iud8ZRZPEci"
      },
      "execution_count": null,
      "outputs": []
    },
    {
      "cell_type": "code",
      "source": [
        "error_tax_gnb, error_tax_lower_interval_gnb, error_tax_upper_interval_gnb = error_tax_model(scores_gnb, int_acuracia_gnb)"
      ],
      "metadata": {
        "id": "0Gqx3cDQQYU6"
      },
      "execution_count": null,
      "outputs": []
    },
    {
      "cell_type": "markdown",
      "source": [
        "Relatório de estimativas de validação"
      ],
      "metadata": {
        "id": "4z87Qnl7XLKd"
      }
    },
    {
      "cell_type": "code",
      "source": [
        "print('Relatório referente a validação do classificador Bayesiano Gaussiano')\n",
        "\n",
        "print_validation_evaluation(scores_gnb, int_acuracia_gnb, int_precisao_gnb, int_recall_gnb, int_f1_gnb, error_tax_gnb, error_tax_lower_interval_gnb, error_tax_upper_interval_gnb)"
      ],
      "metadata": {
        "colab": {
          "base_uri": "https://localhost:8080/"
        },
        "id": "Q-1bgh4HT3qM",
        "outputId": "b4f746dd-efc0-4702-999c-4b3aed8716e8"
      },
      "execution_count": null,
      "outputs": [
        {
          "output_type": "stream",
          "name": "stdout",
          "text": [
            "Relatório referente a validação do classificador Bayesiano Gaussiano\n",
            "Relatório de estimativas pontuais e intervalo de confiança na validação:\n",
            "\n",
            "\n",
            "A acurácia obtida na validação foi de: 0.9460\n",
            "O intervalo de confiança da acurácia obtida na validação foi de: (0.9453171578724642, 0.9466557953695942)\n",
            "\n",
            "\n",
            "A taxa de erro obtida na validação foi de: 0.0540\n",
            "O intervalo de confiança da acurácia obtida na validação foi de (0.05334420463040579, 0.054682842127535825)\n",
            "\n",
            "\n",
            "A precisão obtida na validação foi de: 0.6591\n",
            "O intervalo de confiança da precisão obtida na validação foi de: (0.6557186347381206, 0.6625213108274238)\n",
            "\n",
            "\n",
            "A cobertura (recall) obtido na validação foi de: 0.8537\n",
            "O intervalo de confiança do recall obtida na validação foi de: (0.850175986143053, 0.8572871952895941)\n",
            "\n",
            "\n",
            "O f1-score obtido na validação foi de: 0.7434\n",
            "O intervalo de confiança do f1-score obtida na validação foi de: (0.7406156192028536, 0.7462702549468435)\n"
          ]
        }
      ]
    },
    {
      "cell_type": "markdown",
      "source": [
        "#### Predição"
      ],
      "metadata": {
        "id": "dpkvNRSqS11j"
      }
    },
    {
      "cell_type": "markdown",
      "source": [
        "Realizando a predição com o conjunto de teste (X_test)"
      ],
      "metadata": {
        "id": "I-U-p12lW-B3"
      }
    },
    {
      "cell_type": "code",
      "source": [
        "y_pred_gnb = search_gnb.predict(X_test)"
      ],
      "metadata": {
        "id": "Jzp9t5yRW-B3"
      },
      "execution_count": null,
      "outputs": []
    },
    {
      "cell_type": "markdown",
      "source": [
        "##### Métricas de erro do teste"
      ],
      "metadata": {
        "id": "A1S65_AFW-B3"
      }
    },
    {
      "cell_type": "code",
      "source": [
        "acuracia_gnb, precisao_gnb, recall_gnb, f1_score_gnb, matriz_confusao_gnb, error_gnb = test_evaluation(y_test, y_pred_gnb)"
      ],
      "metadata": {
        "id": "Jmf1nWPJWP4M"
      },
      "execution_count": null,
      "outputs": []
    },
    {
      "cell_type": "code",
      "source": [
        "print('Relatório referente ao do classificador Bayesiano Gaussiano')\n",
        "\n",
        "print_test_evaluation(y_test, y_pred_gnb, error_gnb)"
      ],
      "metadata": {
        "colab": {
          "base_uri": "https://localhost:8080/"
        },
        "id": "uVHitBgObXSs",
        "outputId": "73d84c3f-a300-4b35-c3a2-938614c1e7ce"
      },
      "execution_count": null,
      "outputs": [
        {
          "output_type": "stream",
          "name": "stdout",
          "text": [
            "Relatório referente ao do classificador Bayesiano Gaussiano\n",
            "Relatório de estimativas pontuais no teste:\n",
            "\n",
            "\n",
            "A acurácia obtida no teste foi de: 0.9430\n",
            "\n",
            "\n",
            "A taxa de erro obtida no teste foi de: 0.0570\n",
            "\n",
            "\n",
            "A precisão obtida no teste foi de: 0.6490\n",
            "\n",
            "\n",
            "O recall obtido no teste foi de: 0.8232\n",
            "\n",
            "\n",
            "O f1-score obtido no teste foi de: 0.7258\n",
            "\n",
            "\n"
          ]
        }
      ]
    },
    {
      "cell_type": "code",
      "source": [
        "from yellowbrick.classifier import ConfusionMatrix\n",
        "\n",
        "confusion_matrix_gnb = ConfusionMatrix(gnb_model)\n",
        "confusion_matrix_gnb.fit(X_train, y_train);\n",
        "confusion_matrix_gnb.score(X_test, y_test);"
      ],
      "metadata": {
        "colab": {
          "base_uri": "https://localhost:8080/",
          "height": 344
        },
        "id": "sW8IHyK7XcMu",
        "outputId": "0a290ade-b5a3-4408-caaa-04b78d6d1d42"
      },
      "execution_count": null,
      "outputs": [
        {
          "output_type": "display_data",
          "data": {
            "text/plain": [
              "<Figure size 576x396 with 1 Axes>"
            ],
            "image/png": "[encoded data removed]"
          },
          "metadata": {}
        }
      ]
    },
    {
      "cell_type": "markdown",
      "source": [
        "De forma estruturada, utilizamos a função classification_report:"
      ],
      "metadata": {
        "id": "-9wDz8SOW-B3"
      }
    },
    {
      "cell_type": "code",
      "source": [
        "from sklearn.metrics import accuracy_score, classification_report\n",
        "\n",
        "print(classification_report(y_test, y_pred_gnb))"
      ],
      "metadata": {
        "colab": {
          "base_uri": "https://localhost:8080/"
        },
        "outputId": "16baca76-7934-45c9-ba1c-05027e7ab096",
        "id": "BbQH-snyW-B3"
      },
      "execution_count": null,
      "outputs": [
        {
          "output_type": "stream",
          "name": "stdout",
          "text": [
            "              precision    recall  f1-score   support\n",
            "\n",
            "           0       0.98      0.96      0.97      3252\n",
            "           1       0.65      0.82      0.73       328\n",
            "\n",
            "    accuracy                           0.94      3580\n",
            "   macro avg       0.82      0.89      0.85      3580\n",
            "weighted avg       0.95      0.94      0.95      3580\n",
            "\n"
          ]
        }
      ]
    },
    {
      "cell_type": "markdown",
      "source": [
        "### Classificador Bayesiano baseado na janela de Parzen\n"
      ],
      "metadata": {
        "id": "wt2GmRjrDDb7"
      }
    },
    {
      "cell_type": "markdown",
      "source": [
        "Para a construção do classificador bayesiano baseado na janela de Parzen, foi utilizado como referência: \n",
        "\n",
        "https://jakevdp.github.io/PythonDataScienceHandbook/05.13-kernel-density-estimation.html"
      ],
      "metadata": {
        "id": "f9BVyIIQseAz"
      }
    },
    {
      "cell_type": "markdown",
      "source": [
        "Inicialmente foi implementada a classe KDEClassifier disponível no github citado"
      ],
      "metadata": {
        "id": "KUdxu6sWsns5"
      }
    },
    {
      "cell_type": "code",
      "source": [
        "from sklearn.base import BaseEstimator, ClassifierMixin\n",
        "from sklearn.neighbors import KernelDensity\n",
        "\n",
        "class KDEClassifier(BaseEstimator, ClassifierMixin):\n",
        "    \"\"\"Bayesian generative classification based on KDE\n",
        "    \n",
        "    Parameters\n",
        "    ----------\n",
        "    bandwidth : float\n",
        "        the kernel bandwidth within each class\n",
        "    kernel : str\n",
        "        the kernel name, passed to KernelDensity\n",
        "    \"\"\"\n",
        "    def __init__(self, bandwidth=1.0, kernel='gaussian'):\n",
        "        self.bandwidth = bandwidth\n",
        "        self.kernel = kernel\n",
        "        \n",
        "    def fit(self, X, y):\n",
        "        self.classes_ = np.sort(np.unique(y))\n",
        "        training_sets = [X[y == yi] for yi in self.classes_]\n",
        "        self.models_ = [KernelDensity(bandwidth=self.bandwidth,\n",
        "                                      kernel=self.kernel).fit(Xi)\n",
        "                        for Xi in training_sets]\n",
        "        self.logpriors_ = [np.log(Xi.shape[0] / X.shape[0])\n",
        "                           for Xi in training_sets]\n",
        "        return self\n",
        "        \n",
        "    def predict_proba(self, X):\n",
        "        logprobs = np.array([model.score_samples(X)\n",
        "                             for model in self.models_]).T\n",
        "        result = np.exp(logprobs + self.logpriors_)\n",
        "        return result / result.sum(1, keepdims=True)\n",
        "        \n",
        "    def predict(self, X):\n",
        "        return self.classes_[np.argmax(self.predict_proba(X), 1)]"
      ],
      "metadata": {
        "id": "-DK3CWkMs02x"
      },
      "execution_count": null,
      "outputs": []
    },
    {
      "cell_type": "markdown",
      "source": [
        "Explicando em mais detalhes a classe implementada:\n",
        "\n",
        "* BaseEstimator copia o estimador que será utilizado no procedimento de cross-validation\n",
        "* ClassifierMixin define o método de avaliação que será utilizado\n",
        "\n",
        "Sobre a inicialização do método:\n",
        "\n",
        "* Define uma largura de banda e qual kernel será utilizado, que nesse caso é o gaussiano"
      ],
      "metadata": {
        "id": "QQpglKKitWan"
      }
    },
    {
      "cell_type": "code",
      "source": [
        "parzen = KDEClassifier()"
      ],
      "metadata": {
        "id": "oDLjWrt9viTX"
      },
      "execution_count": null,
      "outputs": []
    },
    {
      "cell_type": "markdown",
      "source": [
        "##### Seleção de Melhor Modelo"
      ],
      "metadata": {
        "id": "c54L-rFnTIWf"
      }
    },
    {
      "cell_type": "markdown",
      "source": [
        "**Definição do dicionário para hiperparâmetros do classificador Bayesiano baseado na janela de Parzen**\n",
        "\n",
        "Para a definição do dicionário que foi utilizado na função RandomizedSearchCV foram levados em considerações as informações da classe KDEClassifier:"
      ],
      "metadata": {
        "id": "BLC029JbvNGt"
      }
    },
    {
      "cell_type": "code",
      "source": [
        "from scipy.stats import randint\n",
        "\n",
        "parzen_params = {\n",
        "    'bandwidth': 10**np.linspace(-1,1,100),\n",
        "}"
      ],
      "metadata": {
        "id": "3UO8EE2ItBIR"
      },
      "execution_count": null,
      "outputs": []
    },
    {
      "cell_type": "markdown",
      "source": [
        "Para determinar os hiperparâmetros a serem utilizados no regressor linear será realizado um RandomSearch com a função RandomizedSearchCV\n",
        "\n",
        "https://scikit-learn.org/stable/modules/generated/sklearn.model_selection.RandomizedSearchCV.html"
      ],
      "metadata": {
        "id": "tVueY7fxvBpy"
      }
    },
    {
      "cell_type": "code",
      "source": [
        "from sklearn.model_selection import RandomizedSearchCV\n",
        "\n",
        "search_parzen = RandomizedSearchCV(parzen, parzen_params, n_iter=10, n_jobs=-1, scoring='accuracy', cv=cv1, random_state = 23)"
      ],
      "metadata": {
        "id": "j58o7J-6vBpy"
      },
      "execution_count": null,
      "outputs": []
    },
    {
      "cell_type": "markdown",
      "source": [
        "###### Treinamento"
      ],
      "metadata": {
        "id": "U07Ug_E2TNAj"
      }
    },
    {
      "cell_type": "markdown",
      "source": [
        "Para fazer o treinamento da base e encontrar o melhor modelo, foi utilizada a função fit:"
      ],
      "metadata": {
        "id": "HcXzqa9KvzsX"
      }
    },
    {
      "cell_type": "code",
      "source": [
        "from sklearn.neighbors import KernelDensity"
      ],
      "metadata": {
        "id": "1suPnTfdwJxu"
      },
      "execution_count": null,
      "outputs": []
    },
    {
      "cell_type": "code",
      "source": [
        "results_parzen = search_parzen.fit(X_train, y_train)"
      ],
      "metadata": {
        "id": "CMjf_8a-vzsY"
      },
      "execution_count": null,
      "outputs": []
    },
    {
      "cell_type": "markdown",
      "source": [
        "O fit com parzen durou 30 min"
      ],
      "metadata": {
        "id": "AswqjL8s7lyU"
      }
    },
    {
      "cell_type": "markdown",
      "source": [
        "Para poder selecionar o melhor modelo, foi avaliada a validação de cada um dos modelos gerados"
      ],
      "metadata": {
        "id": "0rQr5mIXvzsZ"
      }
    },
    {
      "cell_type": "code",
      "source": [
        "results_val_parzen = pd.DataFrame(results_parzen.cv_results_)\n",
        "results_val_parzen"
      ],
      "metadata": {
        "colab": {
          "base_uri": "https://localhost:8080/",
          "height": 630
        },
        "outputId": "a32d968e-084c-4133-fedc-3b285d6653d4",
        "id": "6s_Dqk2ovzsZ"
      },
      "execution_count": null,
      "outputs": [
        {
          "output_type": "execute_result",
          "data": {
            "text/plain": [
              "   mean_fit_time  std_fit_time  mean_score_time  std_score_time  \\\n",
              "0       0.026411      0.004343         1.869042        0.045900   \n",
              "1       0.025127      0.002278         3.339478        0.051375   \n",
              "2       0.025028      0.002233         3.438810        0.057575   \n",
              "3       0.024783      0.002021         2.795143        0.052840   \n",
              "4       0.025517      0.003887         3.171749        0.054278   \n",
              "5       0.024808      0.002461         2.152409        0.059576   \n",
              "6       0.024720      0.002460         1.068190        0.044808   \n",
              "7       0.025157      0.003689         2.467918        0.056439   \n",
              "8       0.024847      0.002947         1.701998        0.053922   \n",
              "9       0.024835      0.003000         1.601234        0.062743   \n",
              "\n",
              "  param_bandwidth                              params  split0_test_score  \\\n",
              "0         0.33516  {'bandwidth': 0.33516026509388425}           0.946927   \n",
              "1        4.132012    {'bandwidth': 4.132012400115339}           0.968575   \n",
              "2        4.534879   {'bandwidth': 4.5348785081285845}           0.969274   \n",
              "3        2.364489   {'bandwidth': 2.3644894126454084}           0.966480   \n",
              "4        3.593814   {'bandwidth': 3.5938136638046276}           0.969274   \n",
              "5        0.559081   {'bandwidth': 0.5590810182512224}           0.948324   \n",
              "6        0.114976  {'bandwidth': 0.11497569953977356}           0.917249   \n",
              "7         1.29155    {'bandwidth': 1.291549665014884}           0.959148   \n",
              "8        0.253536   {'bandwidth': 0.2535364493970112}           0.944483   \n",
              "9        0.220513  {'bandwidth': 0.22051307399030456}           0.945880   \n",
              "\n",
              "   split1_test_score  split2_test_score  split3_test_score  ...  \\\n",
              "0           0.954260           0.957402           0.951100  ...   \n",
              "1           0.970321           0.978003           0.972057  ...   \n",
              "2           0.970321           0.977654           0.972057  ...   \n",
              "3           0.968226           0.975908           0.970311  ...   \n",
              "4           0.970670           0.977304           0.970311  ...   \n",
              "5           0.961941           0.963687           0.958086  ...   \n",
              "6           0.918296           0.921089           0.917220  ...   \n",
              "7           0.965084           0.972416           0.966119  ...   \n",
              "8           0.946927           0.953561           0.947258  ...   \n",
              "9           0.942388           0.950768           0.940971  ...   \n",
              "\n",
              "   split143_test_score  split144_test_score  split145_test_score  \\\n",
              "0             0.952497             0.948306             0.955307   \n",
              "1             0.973804             0.968215             0.973464   \n",
              "2             0.973804             0.968914             0.974162   \n",
              "3             0.972407             0.967517             0.972416   \n",
              "4             0.972756             0.968215             0.973115   \n",
              "5             0.961229             0.955292             0.962291   \n",
              "6             0.915823             0.912679             0.918645   \n",
              "7             0.966469             0.962277             0.970321   \n",
              "8             0.948655             0.943067             0.946229   \n",
              "9             0.942717             0.940971             0.945182   \n",
              "\n",
              "   split146_test_score  split147_test_score  split148_test_score  \\\n",
              "0             0.961243             0.945880             0.950052   \n",
              "1             0.974511             0.972416             0.977646   \n",
              "2             0.973813             0.972416             0.977995   \n",
              "3             0.974860             0.970321             0.973804   \n",
              "4             0.974162             0.972416             0.976947   \n",
              "5             0.962291             0.953911             0.958086   \n",
              "6             0.923534             0.916201             0.913727   \n",
              "7             0.970321             0.964735             0.966818   \n",
              "8             0.958799             0.942039             0.941320   \n",
              "9             0.953561             0.940642             0.937478   \n",
              "\n",
              "   split149_test_score  mean_test_score  std_test_score  rank_test_score  \n",
              "0             0.950402         0.953471        0.003413                7  \n",
              "1             0.964373         0.972759        0.002608                2  \n",
              "2             0.965072         0.972908        0.002600                1  \n",
              "3             0.965072         0.971297        0.002512                4  \n",
              "4             0.964373         0.972671        0.002628                3  \n",
              "5             0.955641         0.958812        0.003166                6  \n",
              "6             0.917220         0.918590        0.003384               10  \n",
              "7             0.961229         0.966040        0.002709                5  \n",
              "8             0.943416         0.948638        0.003584                8  \n",
              "9             0.941320         0.944548        0.003715                9  \n",
              "\n",
              "[10 rows x 159 columns]"
            ],
            "text/html": [
              "\n",
              "  <div id=\"df-df6596a6-3650-499d-ac81-5ad8e015d123\">\n",
              "    <div class=\"colab-df-container\">\n",
              "      <div>\n",
              "<style scoped>\n",
              "    .dataframe tbody tr th:only-of-type {\n",
              "        vertical-align: middle;\n",
              "    }\n",
              "\n",
              "    .dataframe tbody tr th {\n",
              "        vertical-align: top;\n",
              "    }\n",
              "\n",
              "    .dataframe thead th {\n",
              "        text-align: right;\n",
              "    }\n",
              "</style>\n",
              "<table border=\"1\" class=\"dataframe\">\n",
              "  <thead>\n",
              "    <tr style=\"text-align: right;\">\n",
              "      <th></th>\n",
              "      <th>mean_fit_time</th>\n",
              "      <th>std_fit_time</th>\n",
              "      <th>mean_score_time</th>\n",
              "      <th>std_score_time</th>\n",
              "      <th>param_bandwidth</th>\n",
              "      <th>params</th>\n",
              "      <th>split0_test_score</th>\n",
              "      <th>split1_test_score</th>\n",
              "      <th>split2_test_score</th>\n",
              "      <th>split3_test_score</th>\n",
              "      <th>...</th>\n",
              "      <th>split143_test_score</th>\n",
              "      <th>split144_test_score</th>\n",
              "      <th>split145_test_score</th>\n",
              "      <th>split146_test_score</th>\n",
              "      <th>split147_test_score</th>\n",
              "      <th>split148_test_score</th>\n",
              "      <th>split149_test_score</th>\n",
              "      <th>mean_test_score</th>\n",
              "      <th>std_test_score</th>\n",
              "      <th>rank_test_score</th>\n",
              "    </tr>\n",
              "  </thead>\n",
              "  <tbody>\n",
              "    <tr>\n",
              "      <th>0</th>\n",
              "      <td>0.026411</td>\n",
              "      <td>0.004343</td>\n",
              "      <td>1.869042</td>\n",
              "      <td>0.045900</td>\n",
              "      <td>0.33516</td>\n",
              "      <td>{'bandwidth': 0.33516026509388425}</td>\n",
              "      <td>0.946927</td>\n",
              "      <td>0.954260</td>\n",
              "      <td>0.957402</td>\n",
              "      <td>0.951100</td>\n",
              "      <td>...</td>\n",
              "      <td>0.952497</td>\n",
              "      <td>0.948306</td>\n",
              "      <td>0.955307</td>\n",
              "      <td>0.961243</td>\n",
              "      <td>0.945880</td>\n",
              "      <td>0.950052</td>\n",
              "      <td>0.950402</td>\n",
              "      <td>0.953471</td>\n",
              "      <td>0.003413</td>\n",
              "      <td>7</td>\n",
              "    </tr>\n",
              "    <tr>\n",
              "      <th>1</th>\n",
              "      <td>0.025127</td>\n",
              "      <td>0.002278</td>\n",
              "      <td>3.339478</td>\n",
              "      <td>0.051375</td>\n",
              "      <td>4.132012</td>\n",
              "      <td>{'bandwidth': 4.132012400115339}</td>\n",
              "      <td>0.968575</td>\n",
              "      <td>0.970321</td>\n",
              "      <td>0.978003</td>\n",
              "      <td>0.972057</td>\n",
              "      <td>...</td>\n",
              "      <td>0.973804</td>\n",
              "      <td>0.968215</td>\n",
              "      <td>0.973464</td>\n",
              "      <td>0.974511</td>\n",
              "      <td>0.972416</td>\n",
              "      <td>0.977646</td>\n",
              "      <td>0.964373</td>\n",
              "      <td>0.972759</td>\n",
              "      <td>0.002608</td>\n",
              "      <td>2</td>\n",
              "    </tr>\n",
              "    <tr>\n",
              "      <th>2</th>\n",
              "      <td>0.025028</td>\n",
              "      <td>0.002233</td>\n",
              "      <td>3.438810</td>\n",
              "      <td>0.057575</td>\n",
              "      <td>4.534879</td>\n",
              "      <td>{'bandwidth': 4.5348785081285845}</td>\n",
              "      <td>0.969274</td>\n",
              "      <td>0.970321</td>\n",
              "      <td>0.977654</td>\n",
              "      <td>0.972057</td>\n",
              "      <td>...</td>\n",
              "      <td>0.973804</td>\n",
              "      <td>0.968914</td>\n",
              "      <td>0.974162</td>\n",
              "      <td>0.973813</td>\n",
              "      <td>0.972416</td>\n",
              "      <td>0.977995</td>\n",
              "      <td>0.965072</td>\n",
              "      <td>0.972908</td>\n",
              "      <td>0.002600</td>\n",
              "      <td>1</td>\n",
              "    </tr>\n",
              "    <tr>\n",
              "      <th>3</th>\n",
              "      <td>0.024783</td>\n",
              "      <td>0.002021</td>\n",
              "      <td>2.795143</td>\n",
              "      <td>0.052840</td>\n",
              "      <td>2.364489</td>\n",
              "      <td>{'bandwidth': 2.3644894126454084}</td>\n",
              "      <td>0.966480</td>\n",
              "      <td>0.968226</td>\n",
              "      <td>0.975908</td>\n",
              "      <td>0.970311</td>\n",
              "      <td>...</td>\n",
              "      <td>0.972407</td>\n",
              "      <td>0.967517</td>\n",
              "      <td>0.972416</td>\n",
              "      <td>0.974860</td>\n",
              "      <td>0.970321</td>\n",
              "      <td>0.973804</td>\n",
              "      <td>0.965072</td>\n",
              "      <td>0.971297</td>\n",
              "      <td>0.002512</td>\n",
              "      <td>4</td>\n",
              "    </tr>\n",
              "    <tr>\n",
              "      <th>4</th>\n",
              "      <td>0.025517</td>\n",
              "      <td>0.003887</td>\n",
              "      <td>3.171749</td>\n",
              "      <td>0.054278</td>\n",
              "      <td>3.593814</td>\n",
              "      <td>{'bandwidth': 3.5938136638046276}</td>\n",
              "      <td>0.969274</td>\n",
              "      <td>0.970670</td>\n",
              "      <td>0.977304</td>\n",
              "      <td>0.970311</td>\n",
              "      <td>...</td>\n",
              "      <td>0.972756</td>\n",
              "      <td>0.968215</td>\n",
              "      <td>0.973115</td>\n",
              "      <td>0.974162</td>\n",
              "      <td>0.972416</td>\n",
              "      <td>0.976947</td>\n",
              "      <td>0.964373</td>\n",
              "      <td>0.972671</td>\n",
              "      <td>0.002628</td>\n",
              "      <td>3</td>\n",
              "    </tr>\n",
              "    <tr>\n",
              "      <th>5</th>\n",
              "      <td>0.024808</td>\n",
              "      <td>0.002461</td>\n",
              "      <td>2.152409</td>\n",
              "      <td>0.059576</td>\n",
              "      <td>0.559081</td>\n",
              "      <td>{'bandwidth': 0.5590810182512224}</td>\n",
              "      <td>0.948324</td>\n",
              "      <td>0.961941</td>\n",
              "      <td>0.963687</td>\n",
              "      <td>0.958086</td>\n",
              "      <td>...</td>\n",
              "      <td>0.961229</td>\n",
              "      <td>0.955292</td>\n",
              "      <td>0.962291</td>\n",
              "      <td>0.962291</td>\n",
              "      <td>0.953911</td>\n",
              "      <td>0.958086</td>\n",
              "      <td>0.955641</td>\n",
              "      <td>0.958812</td>\n",
              "      <td>0.003166</td>\n",
              "      <td>6</td>\n",
              "    </tr>\n",
              "    <tr>\n",
              "      <th>6</th>\n",
              "      <td>0.024720</td>\n",
              "      <td>0.002460</td>\n",
              "      <td>1.068190</td>\n",
              "      <td>0.044808</td>\n",
              "      <td>0.114976</td>\n",
              "      <td>{'bandwidth': 0.11497569953977356}</td>\n",
              "      <td>0.917249</td>\n",
              "      <td>0.918296</td>\n",
              "      <td>0.921089</td>\n",
              "      <td>0.917220</td>\n",
              "      <td>...</td>\n",
              "      <td>0.915823</td>\n",
              "      <td>0.912679</td>\n",
              "      <td>0.918645</td>\n",
              "      <td>0.923534</td>\n",
              "      <td>0.916201</td>\n",
              "      <td>0.913727</td>\n",
              "      <td>0.917220</td>\n",
              "      <td>0.918590</td>\n",
              "      <td>0.003384</td>\n",
              "      <td>10</td>\n",
              "    </tr>\n",
              "    <tr>\n",
              "      <th>7</th>\n",
              "      <td>0.025157</td>\n",
              "      <td>0.003689</td>\n",
              "      <td>2.467918</td>\n",
              "      <td>0.056439</td>\n",
              "      <td>1.29155</td>\n",
              "      <td>{'bandwidth': 1.291549665014884}</td>\n",
              "      <td>0.959148</td>\n",
              "      <td>0.965084</td>\n",
              "      <td>0.972416</td>\n",
              "      <td>0.966119</td>\n",
              "      <td>...</td>\n",
              "      <td>0.966469</td>\n",
              "      <td>0.962277</td>\n",
              "      <td>0.970321</td>\n",
              "      <td>0.970321</td>\n",
              "      <td>0.964735</td>\n",
              "      <td>0.966818</td>\n",
              "      <td>0.961229</td>\n",
              "      <td>0.966040</td>\n",
              "      <td>0.002709</td>\n",
              "      <td>5</td>\n",
              "    </tr>\n",
              "    <tr>\n",
              "      <th>8</th>\n",
              "      <td>0.024847</td>\n",
              "      <td>0.002947</td>\n",
              "      <td>1.701998</td>\n",
              "      <td>0.053922</td>\n",
              "      <td>0.253536</td>\n",
              "      <td>{'bandwidth': 0.2535364493970112}</td>\n",
              "      <td>0.944483</td>\n",
              "      <td>0.946927</td>\n",
              "      <td>0.953561</td>\n",
              "      <td>0.947258</td>\n",
              "      <td>...</td>\n",
              "      <td>0.948655</td>\n",
              "      <td>0.943067</td>\n",
              "      <td>0.946229</td>\n",
              "      <td>0.958799</td>\n",
              "      <td>0.942039</td>\n",
              "      <td>0.941320</td>\n",
              "      <td>0.943416</td>\n",
              "      <td>0.948638</td>\n",
              "      <td>0.003584</td>\n",
              "      <td>8</td>\n",
              "    </tr>\n",
              "    <tr>\n",
              "      <th>9</th>\n",
              "      <td>0.024835</td>\n",
              "      <td>0.003000</td>\n",
              "      <td>1.601234</td>\n",
              "      <td>0.062743</td>\n",
              "      <td>0.220513</td>\n",
              "      <td>{'bandwidth': 0.22051307399030456}</td>\n",
              "      <td>0.945880</td>\n",
              "      <td>0.942388</td>\n",
              "      <td>0.950768</td>\n",
              "      <td>0.940971</td>\n",
              "      <td>...</td>\n",
              "      <td>0.942717</td>\n",
              "      <td>0.940971</td>\n",
              "      <td>0.945182</td>\n",
              "      <td>0.953561</td>\n",
              "      <td>0.940642</td>\n",
              "      <td>0.937478</td>\n",
              "      <td>0.941320</td>\n",
              "      <td>0.944548</td>\n",
              "      <td>0.003715</td>\n",
              "      <td>9</td>\n",
              "    </tr>\n",
              "  </tbody>\n",
              "</table>\n",
              "<p>10 rows × 159 columns</p>\n",
              "</div>\n",
              "      <button class=\"colab-df-convert\" onclick=\"convertToInteractive('df-df6596a6-3650-499d-ac81-5ad8e015d123')\"\n",
              "              title=\"Convert this dataframe to an interactive table.\"\n",
              "              style=\"display:none;\">\n",
              "        \n",
              "  <svg xmlns=\"http://www.w3.org/2000/svg\" height=\"24px\"viewBox=\"0 0 24 24\"\n",
              "       width=\"24px\">\n",
              "    <path d=\"M0 0h24v24H0V0z\" fill=\"none\"/>\n",
              "    <path d=\"M18.56 5.44l.94 2.06.94-2.06 2.06-.94-2.06-.94-.94-2.06-.94 2.06-2.06.94zm-11 1L8.5 8.5l.94-2.06 2.06-.94-2.06-.94L8.5 2.5l-.94 2.06-2.06.94zm10 10l.94 2.06.94-2.06 2.06-.94-2.06-.94-.94-2.06-.94 2.06-2.06.94z\"/><path d=\"M17.41 7.96l-1.37-1.37c-.4-.4-.92-.59-1.43-.59-.52 0-1.04.2-1.43.59L10.3 9.45l-7.72 7.72c-.78.78-.78 2.05 0 2.83L4 21.41c.39.39.9.59 1.41.59.51 0 1.02-.2 1.41-.59l7.78-7.78 2.81-2.81c.8-.78.8-2.07 0-2.86zM5.41 20L4 18.59l7.72-7.72 1.47 1.35L5.41 20z\"/>\n",
              "  </svg>\n",
              "      </button>\n",
              "      \n",
              "  <style>\n",
              "    .colab-df-container {\n",
              "      display:flex;\n",
              "      flex-wrap:wrap;\n",
              "      gap: 12px;\n",
              "    }\n",
              "\n",
              "    .colab-df-convert {\n",
              "      background-color: #E8F0FE;\n",
              "      border: none;\n",
              "      border-radius: 50%;\n",
              "      cursor: pointer;\n",
              "      display: none;\n",
              "      fill: #1967D2;\n",
              "      height: 32px;\n",
              "      padding: 0 0 0 0;\n",
              "      width: 32px;\n",
              "    }\n",
              "\n",
              "    .colab-df-convert:hover {\n",
              "      background-color: #E2EBFA;\n",
              "      box-shadow: 0px 1px 2px rgba(60, 64, 67, 0.3), 0px 1px 3px 1px rgba(60, 64, 67, 0.15);\n",
              "      fill: #174EA6;\n",
              "    }\n",
              "\n",
              "    [theme=dark] .colab-df-convert {\n",
              "      background-color: #3B4455;\n",
              "      fill: #D2E3FC;\n",
              "    }\n",
              "\n",
              "    [theme=dark] .colab-df-convert:hover {\n",
              "      background-color: #434B5C;\n",
              "      box-shadow: 0px 1px 3px 1px rgba(0, 0, 0, 0.15);\n",
              "      filter: drop-shadow(0px 1px 2px rgba(0, 0, 0, 0.3));\n",
              "      fill: #FFFFFF;\n",
              "    }\n",
              "  </style>\n",
              "\n",
              "      <script>\n",
              "        const buttonEl =\n",
              "          document.querySelector('#df-df6596a6-3650-499d-ac81-5ad8e015d123 button.colab-df-convert');\n",
              "        buttonEl.style.display =\n",
              "          google.colab.kernel.accessAllowed ? 'block' : 'none';\n",
              "\n",
              "        async function convertToInteractive(key) {\n",
              "          const element = document.querySelector('#df-df6596a6-3650-499d-ac81-5ad8e015d123');\n",
              "          const dataTable =\n",
              "            await google.colab.kernel.invokeFunction('convertToInteractive',\n",
              "                                                     [key], {});\n",
              "          if (!dataTable) return;\n",
              "\n",
              "          const docLinkHtml = 'Like what you see? Visit the ' +\n",
              "            '<a target=\"_blank\" href=https://colab.research.google.com/notebooks/data_table.ipynb>data table notebook</a>'\n",
              "            + ' to learn more about interactive tables.';\n",
              "          element.innerHTML = '';\n",
              "          dataTable['output_type'] = 'display_data';\n",
              "          await google.colab.output.renderOutput(dataTable, element);\n",
              "          const docLink = document.createElement('div');\n",
              "          docLink.innerHTML = docLinkHtml;\n",
              "          element.appendChild(docLink);\n",
              "        }\n",
              "      </script>\n",
              "    </div>\n",
              "  </div>\n",
              "  "
            ]
          },
          "metadata": {},
          "execution_count": 68
        }
      ]
    },
    {
      "cell_type": "code",
      "source": [
        "acuracia_modelos_parzen = results_val_parzen.iloc[:,-153:-3]"
      ],
      "metadata": {
        "id": "y-umDnq5vzsZ"
      },
      "execution_count": null,
      "outputs": []
    },
    {
      "cell_type": "code",
      "source": [
        "acuracia_parzen_m0, acuracia_parzen_m1, acuracia_parzen_m2, acuracia_parzen_m3, acuracia_parzen_m4, acuracia_parzen_m5, acuracia_parzen_m6, acuracia_parzen_m7, acuracia_parzen_m8, acuracia_parzen_m9  = acuracia_kfolds(acuracia_modelos_parzen)"
      ],
      "metadata": {
        "id": "miokubJAvzsZ"
      },
      "execution_count": null,
      "outputs": []
    },
    {
      "cell_type": "markdown",
      "source": [
        "Para verificar se as acurácias encontradas pelos modelos são estatisticamente iguais foi utilizada a estatística de Kruskal-Wallis para verificar se o valor da mediana de todas as acurácias são iguais"
      ],
      "metadata": {
        "id": "GW16a-Zwvzsa"
      }
    },
    {
      "cell_type": "code",
      "source": [
        "from scipy import stats\n",
        "\n",
        "stats.kruskal(acuracia_parzen_m0, acuracia_parzen_m1, acuracia_parzen_m2, acuracia_parzen_m3, acuracia_parzen_m4, acuracia_parzen_m5, acuracia_parzen_m6, acuracia_parzen_m7, acuracia_parzen_m8, acuracia_parzen_m9)"
      ],
      "metadata": {
        "colab": {
          "base_uri": "https://localhost:8080/"
        },
        "outputId": "9549bf21-b3e3-43ce-9e63-57f7f54a7183",
        "id": "6DrWttPYvzsa"
      },
      "execution_count": null,
      "outputs": [
        {
          "output_type": "execute_result",
          "data": {
            "text/plain": [
              "KruskalResult(statistic=1361.2898490697098, pvalue=1.7843444741382027e-287)"
            ]
          },
          "metadata": {},
          "execution_count": 71
        }
      ]
    },
    {
      "cell_type": "markdown",
      "source": [
        "Como o p-valor encontrado foi menor do que 0.05, há evidências que recusa a hispótese nula e indica que os 10 modelos não obtiveram acurácias semelhantes."
      ],
      "metadata": {
        "id": "fwnoP-Qgvzsa"
      }
    },
    {
      "cell_type": "code",
      "source": [
        "import seaborn as sns\n",
        "\n",
        "sns.boxplot(data=acuracia_modelos_parzen.T);"
      ],
      "metadata": {
        "colab": {
          "base_uri": "https://localhost:8080/",
          "height": 347
        },
        "outputId": "7fadeacd-2e40-483a-cd01-b054a646b437",
        "id": "UsWtdZplvzsa"
      },
      "execution_count": null,
      "outputs": [
        {
          "output_type": "display_data",
          "data": {
            "text/plain": [
              "<Figure size 576x396 with 1 Axes>"
            ],
            "image/png": "[encoded data removed]"
          },
          "metadata": {}
        }
      ]
    },
    {
      "cell_type": "markdown",
      "source": [
        "Com isso, é possível ver que o melhor modelo foi o modelo 2."
      ],
      "metadata": {
        "id": "_xwh-LWRvzsa"
      }
    },
    {
      "cell_type": "code",
      "source": [
        "results_parzen.best_params_"
      ],
      "metadata": {
        "colab": {
          "base_uri": "https://localhost:8080/"
        },
        "outputId": "d34e34a2-ecd5-44fe-db30-c6d9b8ea2629",
        "id": "Kz47D5EWvzsa"
      },
      "execution_count": null,
      "outputs": [
        {
          "output_type": "execute_result",
          "data": {
            "text/plain": [
              "{'bandwidth': 4.5348785081285845}"
            ]
          },
          "metadata": {},
          "execution_count": 73
        }
      ]
    },
    {
      "cell_type": "code",
      "source": [
        "results_parzen.best_score_"
      ],
      "metadata": {
        "colab": {
          "base_uri": "https://localhost:8080/"
        },
        "outputId": "fe7b8057-f9a0-41f3-b477-799cb1e185c4",
        "id": "BaJ3Zlhpvzsb"
      },
      "execution_count": null,
      "outputs": [
        {
          "output_type": "execute_result",
          "data": {
            "text/plain": [
              "0.9729082662896741"
            ]
          },
          "metadata": {},
          "execution_count": 74
        }
      ]
    },
    {
      "cell_type": "markdown",
      "source": [
        "###### Melhor Modelo"
      ],
      "metadata": {
        "id": "_Gioi6AuTNAj"
      }
    },
    {
      "cell_type": "code",
      "source": [
        "parzen_model = KDEClassifier(bandwidth = 4.5348785081285845)"
      ],
      "metadata": {
        "id": "2ddfYZsk8trH"
      },
      "execution_count": null,
      "outputs": []
    },
    {
      "cell_type": "markdown",
      "source": [
        "###### Estimativas pontuais e intervalo de confiança da validação"
      ],
      "metadata": {
        "id": "arHdcAtOTNAk"
      }
    },
    {
      "cell_type": "code",
      "source": [
        "scoring=['accuracy', 'precision', 'recall', 'f1']"
      ],
      "metadata": {
        "id": "YyR2Myck9ECi"
      },
      "execution_count": null,
      "outputs": []
    },
    {
      "cell_type": "code",
      "source": [
        "from sklearn.model_selection import cross_validate\n",
        "\n",
        "scores_parzen=cross_validate(parzen_model, X_train, y_train, cv=cv2,scoring=scoring)"
      ],
      "metadata": {
        "id": "KgDVP0849ECj"
      },
      "execution_count": null,
      "outputs": []
    },
    {
      "cell_type": "code",
      "source": [
        "scores_parzen.keys()"
      ],
      "metadata": {
        "colab": {
          "base_uri": "https://localhost:8080/"
        },
        "outputId": "57c08356-1eb3-4d3a-af73-901d50c62d30",
        "id": "r2jtP_B79ECj"
      },
      "execution_count": null,
      "outputs": [
        {
          "output_type": "execute_result",
          "data": {
            "text/plain": [
              "dict_keys(['fit_time', 'score_time', 'test_accuracy', 'test_precision', 'test_recall', 'test_f1'])"
            ]
          },
          "metadata": {},
          "execution_count": 78
        }
      ]
    },
    {
      "cell_type": "code",
      "source": [
        "scores_parzen['test_accuracy'].mean()"
      ],
      "metadata": {
        "colab": {
          "base_uri": "https://localhost:8080/"
        },
        "outputId": "b417ca76-5ba3-4601-f8f0-2390717d8632",
        "id": "JXxd-ySh9ECj"
      },
      "execution_count": null,
      "outputs": [
        {
          "output_type": "execute_result",
          "data": {
            "text/plain": [
              "0.9729757940365439"
            ]
          },
          "metadata": {},
          "execution_count": 79
        }
      ]
    },
    {
      "cell_type": "markdown",
      "source": [
        "Para calcular os intervalos de confiança"
      ],
      "metadata": {
        "id": "I1x59TmZ9ECj"
      }
    },
    {
      "cell_type": "code",
      "source": [
        "int_acuracia_parzen, int_precisao_parzen, int_recall_parzen, int_f1_parzen = define_confidence_interval(scores_parzen['test_accuracy'], scores_parzen['test_precision'], scores_parzen['test_recall'], scores_parzen['test_f1'], 0.95)"
      ],
      "metadata": {
        "id": "S8jVRhWF9ECj"
      },
      "execution_count": null,
      "outputs": []
    },
    {
      "cell_type": "code",
      "source": [
        "error_tax_parzen, error_tax_lower_interval_parzen, error_tax_upper_interval_parzen = error_tax_model(scores_parzen, int_acuracia_parzen)"
      ],
      "metadata": {
        "id": "uYL4DvIU9ECk"
      },
      "execution_count": null,
      "outputs": []
    },
    {
      "cell_type": "markdown",
      "source": [
        "Relatório de estimativas de validação"
      ],
      "metadata": {
        "id": "SjvLuKRg9ECk"
      }
    },
    {
      "cell_type": "code",
      "source": [
        "print('Relatório a respeito da validação do classificador Bayesiano baseado na janela de Parzen \\n')\n",
        "\n",
        "print_validation_evaluation(scores_parzen, int_acuracia_parzen, int_precisao_parzen, int_recall_parzen, int_f1_parzen, error_tax_parzen, error_tax_lower_interval_parzen, error_tax_upper_interval_parzen)"
      ],
      "metadata": {
        "colab": {
          "base_uri": "https://localhost:8080/"
        },
        "outputId": "28ed1844-c9b2-4109-f8dc-323723ccf3a0",
        "id": "6Df45ByI9ECk"
      },
      "execution_count": null,
      "outputs": [
        {
          "output_type": "stream",
          "name": "stdout",
          "text": [
            "Relatório a respeito da validação do classificador Bayesiano baseado na janela de Parzen \n",
            "\n",
            "Relatório de estimativas pontuais e intervalo de confiança na validação:\n",
            "\n",
            "\n",
            "A acurácia obtida na validação foi de: 0.9730\n",
            "O intervalo de confiança da acurácia obtida na validação foi de: (0.9725288202546628, 0.973422767818425)\n",
            "\n",
            "\n",
            "A taxa de erro obtida na validação foi de: 0.0270\n",
            "O intervalo de confiança da acurácia obtida na validação foi de (0.02657723218157504, 0.027471179745337193)\n",
            "\n",
            "\n",
            "A precisão obtida na validação foi de: 0.9155\n",
            "O intervalo de confiança da precisão obtida na validação foi de: (0.9128318646019432, 0.9182282589246237)\n",
            "\n",
            "\n",
            "A cobertura (recall) obtido na validação foi de: 0.7769\n",
            "O intervalo de confiança do recall obtida na validação foi de: (0.7727638948050044, 0.781129234965988)\n",
            "\n",
            "\n",
            "O f1-score obtido na validação foi de: 0.8400\n",
            "O intervalo de confiança do f1-score obtida na validação foi de: (0.8371770165164664, 0.8429007938006338)\n"
          ]
        }
      ]
    },
    {
      "cell_type": "markdown",
      "source": [
        "#### Predição"
      ],
      "metadata": {
        "id": "XmND3haZ9ECk"
      }
    },
    {
      "cell_type": "markdown",
      "source": [
        "Realizando a predição com o conjunto de teste (X_test)"
      ],
      "metadata": {
        "id": "Gdg_1oar9ECk"
      }
    },
    {
      "cell_type": "code",
      "source": [
        "y_pred_parzen = search_parzen.predict(X_test)"
      ],
      "metadata": {
        "id": "gnsK4X3P9ECk"
      },
      "execution_count": null,
      "outputs": []
    },
    {
      "cell_type": "markdown",
      "source": [
        "##### Métricas de erro do teste"
      ],
      "metadata": {
        "id": "pbRm2YzI9ECk"
      }
    },
    {
      "cell_type": "code",
      "source": [
        "acuracia_parzen, precisao_parzen, recall_parzen, f1_score_parzen, matriz_confusao_parzen, error_parzen = test_evaluation(y_test, y_pred_parzen)"
      ],
      "metadata": {
        "id": "P6fdphkH9ECk"
      },
      "execution_count": null,
      "outputs": []
    },
    {
      "cell_type": "code",
      "source": [
        "print('Relatório a respeito do teste do classificador Bayesiano baseado na janela de Parzen \\n')\n",
        "\n",
        "print_test_evaluation(y_test, y_pred_parzen, error_parzen)"
      ],
      "metadata": {
        "colab": {
          "base_uri": "https://localhost:8080/"
        },
        "outputId": "e010bda9-23a2-4050-b715-ca89d5dc7f55",
        "id": "FZNCaImt9ECk"
      },
      "execution_count": null,
      "outputs": [
        {
          "output_type": "stream",
          "name": "stdout",
          "text": [
            "Relatório a respeito do teste do classificador Bayesiano baseado na janela de Parzen \n",
            "\n",
            "Relatório de estimativas pontuais no teste:\n",
            "\n",
            "\n",
            "A acurácia obtida no teste foi de: 0.9715\n",
            "\n",
            "\n",
            "A taxa de erro obtida no teste foi de: 0.0285\n",
            "\n",
            "\n",
            "A precisão obtida no teste foi de: 0.9346\n",
            "\n",
            "\n",
            "O recall obtido no teste foi de: 0.7409\n",
            "\n",
            "\n",
            "O f1-score obtido no teste foi de: 0.8265\n",
            "\n",
            "\n"
          ]
        }
      ]
    },
    {
      "cell_type": "code",
      "source": [
        "from yellowbrick.classifier import ConfusionMatrix\n",
        "\n",
        "confusion_matrix_parzen = ConfusionMatrix(parzen_model)\n",
        "confusion_matrix_parzen.fit(X_train, y_train);\n",
        "confusion_matrix_parzen.score(X_test, y_test);"
      ],
      "metadata": {
        "colab": {
          "base_uri": "https://localhost:8080/",
          "height": 344
        },
        "outputId": "874dc35d-1786-4bf0-d740-b979370ff86e",
        "id": "kdi85VE09ECl"
      },
      "execution_count": null,
      "outputs": [
        {
          "output_type": "display_data",
          "data": {
            "text/plain": [
              "<Figure size 576x396 with 1 Axes>"
            ],
            "image/png": "[encoded data removed]"
          },
          "metadata": {}
        }
      ]
    },
    {
      "cell_type": "markdown",
      "source": [
        "De forma estruturada, utilizamos a função classification_report:"
      ],
      "metadata": {
        "id": "2Y66yNBj9ECl"
      }
    },
    {
      "cell_type": "code",
      "source": [
        "from sklearn.metrics import accuracy_score, classification_report\n",
        "\n",
        "print(classification_report(y_test, y_pred_parzen))"
      ],
      "metadata": {
        "colab": {
          "base_uri": "https://localhost:8080/"
        },
        "outputId": "6712dbac-e5ef-4fea-9d3d-2deaf5354c5c",
        "id": "QW-sB4iv9ECl"
      },
      "execution_count": null,
      "outputs": [
        {
          "output_type": "stream",
          "name": "stdout",
          "text": [
            "              precision    recall  f1-score   support\n",
            "\n",
            "           0       0.97      0.99      0.98      3252\n",
            "           1       0.93      0.74      0.83       328\n",
            "\n",
            "    accuracy                           0.97      3580\n",
            "   macro avg       0.95      0.87      0.91      3580\n",
            "weighted avg       0.97      0.97      0.97      3580\n",
            "\n"
          ]
        }
      ]
    },
    {
      "cell_type": "markdown",
      "source": [
        "### Classificador baseado em Regressão Logística\n",
        "\n",
        "Aplicação do classificador baseado em regressão logística utilizando a abordagem \"um contra todos\""
      ],
      "metadata": {
        "id": "iuD_t93JDKGi"
      }
    },
    {
      "cell_type": "markdown",
      "source": [
        "Para a utilização do classificador de regressão logística, foi utilizada a biblioteca LogisticRegression do pacote Scikit Learn\n",
        "\n",
        "https://scikit-learn.org/stable/modules/generated/sklearn.linear_model.LogisticRegression.html"
      ],
      "metadata": {
        "id": "NjesWTFGMlXm"
      }
    },
    {
      "cell_type": "code",
      "source": [
        "from sklearn.linear_model import LogisticRegression"
      ],
      "metadata": {
        "id": "7a0iKevTMl0e"
      },
      "execution_count": null,
      "outputs": []
    },
    {
      "cell_type": "code",
      "source": [
        "lr = LogisticRegression()"
      ],
      "metadata": {
        "id": "2T7zElljNg9y"
      },
      "execution_count": null,
      "outputs": []
    },
    {
      "cell_type": "markdown",
      "source": [
        "#### Seleção de Melhor Modelo"
      ],
      "metadata": {
        "id": "22ptHBAH8Wpt"
      }
    },
    {
      "cell_type": "markdown",
      "source": [
        "**Definição do dicionário para hiperparâmetros do classificador de Logistic Regression**\n",
        "\n",
        "Para a definição do dicionário que foi utilizado na função RandomizedSearchCV foram levados em considerações as informações da função LogistiRegression:"
      ],
      "metadata": {
        "id": "wjZkEhPFNoTT"
      }
    },
    {
      "cell_type": "markdown",
      "source": [
        "Para explicar os parâmetros utilizados e o que foi considerado na criação do dicionário para escolha dos hiperparâmetros:\n",
        "\n",
        "**penalty**: parâmetro que especifica a norma da penalidade que será aplicada podendo assumir 4 valores: 'l1', 'l2', 'elasticnet' e 'none'. Para o dicionário foi considerado apenas 'l2' e 'none';\n",
        "\n",
        "**dual**: parâmetro booleano que indica se a formulação usada será primária ou dual. Para a busca de hiperparâmetros, foi considerado o valor default False;\n",
        "\n",
        "**tol**: parâmetro que indica a tolerância de critério de parada que tem um default de 1e-4. Para a busca de hiperparâmetros, foi considerado um vetor de [1e-3, 1e-4, 1e-5, 1e-6];\n",
        "\n",
        "**C**: parâmetro inverso da força de regularização que precisa ser um float positivo em que menores valores indicam uma regularização mais forte e seu default é 1. Para a busca de hiperparâmetros, foi considerado um valor aleatório com auxílio da função randint entre 1 e 10;\n",
        "\n",
        "**fit_intercept**: parâmetro que especifica se a constante bias ou intercept deverão ser adicionadas na função de decisão. Para a busca de hiper parâmetros, foi considerado o default True;\n",
        "\n",
        "**intercept_scaling**: parâmetro utilizado quando o solver utilizado foi 'liblinear' e por isso foi considerado o default 1;\n",
        "\n",
        "**class_weight**: parâmetro de pesos associados com classes que não foi fornecido (default = None), o que indica que todas as classes tem um peso 1;\n",
        "\n",
        "**random_state**: parâmetro que indica o RandomState a ser utilizado que foi setado em 23 para repetibilidade dos resultados;\n",
        "\n",
        "**solver**: parâmetro que indica o algoritmo a ser usado para otimização de problema que depende do parâmetro de penalidade escolhido. Para a busca de hiperparâmetros, foram considerados [lbfgs', 'liblinear', 'newton-cg', 'sag', 'saga'];\n",
        "\n",
        "**max_iter**: parâmetro que indica o número máximo de iterações que devem ser realizadas para atingir a convergência. Para a busca de hiperparâmetros, foi considerado o vetor [50, 75, 100, 150, 200];\n",
        "\n",
        "**multi_class**: parâmetro que indica se o problema é binário ou de múltiplas classes. Como o dataset fornecido é binário, foi setada a opção 'ovr' como indicada pela biblioteca;\n",
        "\n",
        "**verbose**: parâmetro é um booleano que indica se serão apresentadas informações a respeito do uso do algoritmo no terminal. Para isso, foi considerado o default False;\n",
        "\n",
        "**warm_start**: parâmetro booleano que quando verdadeiro reutiliza a solução de um fit prévio. Para este modelo, foi optado utilizar o default False;\n",
        "\n",
        "**n_jobs**: parâmetro setado como -1 para representar o uso de todos os processadores disponíveis;\n",
        "\n",
        "**l1_ratio**: parâmetro utilizado quando a penalidade aplicada for do tipo 'elasticnet'. Por isso, para este modelo, foi utilizada a opção default None."
      ],
      "metadata": {
        "id": "iUxwzNqsN8FK"
      }
    },
    {
      "cell_type": "code",
      "source": [
        "from scipy.stats import randint\n",
        "\n",
        "lr_params = {\n",
        "    'penalty': [ 'l2', 'none'],\n",
        "    'tol': [1e-3, 1e-4, 1e-5, 1e-6],\n",
        "    'C': randint(1,10),\n",
        "    'random_state': [23],\n",
        "    'solver': ['lbfgs', 'liblinear', 'newton-cg', 'sag', 'saga'],\n",
        "    'max_iter': [50, 75, 100, 150, 200],\n",
        "    'multi_class': ['ovr'],\n",
        "    'n_jobs': [-1],\n",
        "}"
      ],
      "metadata": {
        "id": "AQY8JnETGbUI"
      },
      "execution_count": null,
      "outputs": []
    },
    {
      "cell_type": "markdown",
      "source": [
        "Para determinar os hiperparâmetros a serem utilizados no regressor linear será realizado um RandomSearch com a função RandomizedSearchCV\n",
        "\n",
        "https://scikit-learn.org/stable/modules/generated/sklearn.model_selection.RandomizedSearchCV.html"
      ],
      "metadata": {
        "id": "2FUY0P18MTQF"
      }
    },
    {
      "cell_type": "code",
      "source": [
        "from sklearn.model_selection import RandomizedSearchCV\n",
        "\n",
        "search_lr = RandomizedSearchCV(lr, lr_params, n_iter=10, n_jobs=-1, scoring='accuracy', cv=cv1, random_state = 23)"
      ],
      "metadata": {
        "id": "KQxFPMN5GacH"
      },
      "execution_count": null,
      "outputs": []
    },
    {
      "cell_type": "markdown",
      "source": [
        "##### Treinamento"
      ],
      "metadata": {
        "id": "er148w0k8b9k"
      }
    },
    {
      "cell_type": "markdown",
      "source": [
        "Para fazer o treinamento da base e encontrar o melhor modelo, foi utilizada a função fit:"
      ],
      "metadata": {
        "id": "USJN2B22dSyn"
      }
    },
    {
      "cell_type": "code",
      "source": [
        "results_lr = search_lr.fit(X_train, y_train)"
      ],
      "metadata": {
        "colab": {
          "base_uri": "https://localhost:8080/"
        },
        "id": "3cx5mdeDdSyn",
        "outputId": "b1a98728-f806-4693-a94c-428ad697a440"
      },
      "execution_count": null,
      "outputs": [
        {
          "output_type": "stream",
          "name": "stderr",
          "text": [
            "/usr/local/lib/python3.8/dist-packages/sklearn/linear_model/_logistic.py:1483: UserWarning: Setting penalty='none' will ignore the C and l1_ratio parameters\n",
            "  warnings.warn(\n"
          ]
        }
      ]
    },
    {
      "cell_type": "markdown",
      "source": [
        "Para poder selecionar o melhor modelo, foi avaliada a validação de cada um dos modelos gerados"
      ],
      "metadata": {
        "id": "FSjUrVOVdSyn"
      }
    },
    {
      "cell_type": "code",
      "source": [
        "results_val_lr = pd.DataFrame(results_lr.cv_results_)\n",
        "results_val_lr"
      ],
      "metadata": {
        "colab": {
          "base_uri": "https://localhost:8080/",
          "height": 456
        },
        "outputId": "432f3425-c7e9-47dc-9e96-cb8c6444a86d",
        "id": "YRN-Xxc8dSyn"
      },
      "execution_count": null,
      "outputs": [
        {
          "output_type": "execute_result",
          "data": {
            "text/plain": [
              "   mean_fit_time  std_fit_time  mean_score_time  std_score_time param_C  \\\n",
              "0       0.113806      0.010430         0.003271        0.001502       4   \n",
              "1       0.351927      0.014162         0.003246        0.001588       8   \n",
              "2       0.204822      0.011078         0.003324        0.001182       2   \n",
              "3       0.443789      0.027422         0.003144        0.000397       6   \n",
              "4       0.293108      0.011027         0.002980        0.000648       4   \n",
              "5       0.685518      0.019619         0.003019        0.000322       2   \n",
              "6       0.586610      0.040929         0.003201        0.000801       7   \n",
              "7       0.200238      0.009025         0.003036        0.000728       4   \n",
              "8       0.112989      0.007592         0.003079        0.000585       7   \n",
              "9       0.582616      0.054811         0.003141        0.000410       1   \n",
              "\n",
              "  param_max_iter param_multi_class param_n_jobs param_penalty  \\\n",
              "0             50               ovr           -1          none   \n",
              "1            100               ovr           -1          none   \n",
              "2            100               ovr           -1          none   \n",
              "3             50               ovr           -1          none   \n",
              "4             75               ovr           -1          none   \n",
              "5            200               ovr           -1          none   \n",
              "6             75               ovr           -1            l2   \n",
              "7             50               ovr           -1            l2   \n",
              "8             50               ovr           -1          none   \n",
              "9            150               ovr           -1            l2   \n",
              "\n",
              "  param_random_state  ... split143_test_score split144_test_score  \\\n",
              "0                 23  ...            0.974852            0.974502   \n",
              "1                 23  ...            0.974502            0.969263   \n",
              "2                 23  ...            0.978344            0.975201   \n",
              "3                 23  ...            0.980440            0.977297   \n",
              "4                 23  ...            0.974153            0.967866   \n",
              "5                 23  ...            0.974502            0.970660   \n",
              "6                 23  ...            0.980789            0.976947   \n",
              "7                 23  ...            0.974153            0.966818   \n",
              "8                 23  ...            0.974852            0.974502   \n",
              "9                 23  ...            0.980091            0.976947   \n",
              "\n",
              "  split145_test_score  split146_test_score  split147_test_score  \\\n",
              "0            0.978701             0.976257             0.976955   \n",
              "1            0.975209             0.973813             0.973813   \n",
              "2            0.978701             0.977304             0.982193   \n",
              "3            0.979399             0.978003             0.982891   \n",
              "4            0.973813             0.973115             0.971020   \n",
              "5            0.975559             0.975908             0.975209   \n",
              "6            0.979399             0.978003             0.982891   \n",
              "7            0.973464             0.973464             0.969623   \n",
              "8            0.978701             0.976257             0.976955   \n",
              "9            0.978701             0.978003             0.982542   \n",
              "\n",
              "   split148_test_score  split149_test_score  mean_test_score  std_test_score  \\\n",
              "0             0.978694             0.968564         0.975793        0.002540   \n",
              "1             0.975899             0.969263         0.973642        0.002728   \n",
              "2             0.981837             0.974153         0.978749        0.002381   \n",
              "3             0.982187             0.974502         0.979446        0.002357   \n",
              "4             0.976249             0.967866         0.972177        0.002755   \n",
              "5             0.976249             0.968564         0.974470        0.002711   \n",
              "6             0.981488             0.974502         0.979397        0.002368   \n",
              "7             0.974502             0.966469         0.971388        0.002805   \n",
              "8             0.978694             0.968564         0.975793        0.002540   \n",
              "9             0.981837             0.973804         0.979124        0.002392   \n",
              "\n",
              "   rank_test_score  \n",
              "0                5  \n",
              "1                8  \n",
              "2                4  \n",
              "3                1  \n",
              "4                9  \n",
              "5                7  \n",
              "6                2  \n",
              "7               10  \n",
              "8                5  \n",
              "9                3  \n",
              "\n",
              "[10 rows x 166 columns]"
            ],
            "text/html": [
              "\n",
              "  <div id=\"df-df47439e-d2b4-4bb7-93d1-e2c92dbe5227\">\n",
              "    <div class=\"colab-df-container\">\n",
              "      <div>\n",
              "<style scoped>\n",
              "    .dataframe tbody tr th:only-of-type {\n",
              "        vertical-align: middle;\n",
              "    }\n",
              "\n",
              "    .dataframe tbody tr th {\n",
              "        vertical-align: top;\n",
              "    }\n",
              "\n",
              "    .dataframe thead th {\n",
              "        text-align: right;\n",
              "    }\n",
              "</style>\n",
              "<table border=\"1\" class=\"dataframe\">\n",
              "  <thead>\n",
              "    <tr style=\"text-align: right;\">\n",
              "      <th></th>\n",
              "      <th>mean_fit_time</th>\n",
              "      <th>std_fit_time</th>\n",
              "      <th>mean_score_time</th>\n",
              "      <th>std_score_time</th>\n",
              "      <th>param_C</th>\n",
              "      <th>param_max_iter</th>\n",
              "      <th>param_multi_class</th>\n",
              "      <th>param_n_jobs</th>\n",
              "      <th>param_penalty</th>\n",
              "      <th>param_random_state</th>\n",
              "      <th>...</th>\n",
              "      <th>split143_test_score</th>\n",
              "      <th>split144_test_score</th>\n",
              "      <th>split145_test_score</th>\n",
              "      <th>split146_test_score</th>\n",
              "      <th>split147_test_score</th>\n",
              "      <th>split148_test_score</th>\n",
              "      <th>split149_test_score</th>\n",
              "      <th>mean_test_score</th>\n",
              "      <th>std_test_score</th>\n",
              "      <th>rank_test_score</th>\n",
              "    </tr>\n",
              "  </thead>\n",
              "  <tbody>\n",
              "    <tr>\n",
              "      <th>0</th>\n",
              "      <td>0.113806</td>\n",
              "      <td>0.010430</td>\n",
              "      <td>0.003271</td>\n",
              "      <td>0.001502</td>\n",
              "      <td>4</td>\n",
              "      <td>50</td>\n",
              "      <td>ovr</td>\n",
              "      <td>-1</td>\n",
              "      <td>none</td>\n",
              "      <td>23</td>\n",
              "      <td>...</td>\n",
              "      <td>0.974852</td>\n",
              "      <td>0.974502</td>\n",
              "      <td>0.978701</td>\n",
              "      <td>0.976257</td>\n",
              "      <td>0.976955</td>\n",
              "      <td>0.978694</td>\n",
              "      <td>0.968564</td>\n",
              "      <td>0.975793</td>\n",
              "      <td>0.002540</td>\n",
              "      <td>5</td>\n",
              "    </tr>\n",
              "    <tr>\n",
              "      <th>1</th>\n",
              "      <td>0.351927</td>\n",
              "      <td>0.014162</td>\n",
              "      <td>0.003246</td>\n",
              "      <td>0.001588</td>\n",
              "      <td>8</td>\n",
              "      <td>100</td>\n",
              "      <td>ovr</td>\n",
              "      <td>-1</td>\n",
              "      <td>none</td>\n",
              "      <td>23</td>\n",
              "      <td>...</td>\n",
              "      <td>0.974502</td>\n",
              "      <td>0.969263</td>\n",
              "      <td>0.975209</td>\n",
              "      <td>0.973813</td>\n",
              "      <td>0.973813</td>\n",
              "      <td>0.975899</td>\n",
              "      <td>0.969263</td>\n",
              "      <td>0.973642</td>\n",
              "      <td>0.002728</td>\n",
              "      <td>8</td>\n",
              "    </tr>\n",
              "    <tr>\n",
              "      <th>2</th>\n",
              "      <td>0.204822</td>\n",
              "      <td>0.011078</td>\n",
              "      <td>0.003324</td>\n",
              "      <td>0.001182</td>\n",
              "      <td>2</td>\n",
              "      <td>100</td>\n",
              "      <td>ovr</td>\n",
              "      <td>-1</td>\n",
              "      <td>none</td>\n",
              "      <td>23</td>\n",
              "      <td>...</td>\n",
              "      <td>0.978344</td>\n",
              "      <td>0.975201</td>\n",
              "      <td>0.978701</td>\n",
              "      <td>0.977304</td>\n",
              "      <td>0.982193</td>\n",
              "      <td>0.981837</td>\n",
              "      <td>0.974153</td>\n",
              "      <td>0.978749</td>\n",
              "      <td>0.002381</td>\n",
              "      <td>4</td>\n",
              "    </tr>\n",
              "    <tr>\n",
              "      <th>3</th>\n",
              "      <td>0.443789</td>\n",
              "      <td>0.027422</td>\n",
              "      <td>0.003144</td>\n",
              "      <td>0.000397</td>\n",
              "      <td>6</td>\n",
              "      <td>50</td>\n",
              "      <td>ovr</td>\n",
              "      <td>-1</td>\n",
              "      <td>none</td>\n",
              "      <td>23</td>\n",
              "      <td>...</td>\n",
              "      <td>0.980440</td>\n",
              "      <td>0.977297</td>\n",
              "      <td>0.979399</td>\n",
              "      <td>0.978003</td>\n",
              "      <td>0.982891</td>\n",
              "      <td>0.982187</td>\n",
              "      <td>0.974502</td>\n",
              "      <td>0.979446</td>\n",
              "      <td>0.002357</td>\n",
              "      <td>1</td>\n",
              "    </tr>\n",
              "    <tr>\n",
              "      <th>4</th>\n",
              "      <td>0.293108</td>\n",
              "      <td>0.011027</td>\n",
              "      <td>0.002980</td>\n",
              "      <td>0.000648</td>\n",
              "      <td>4</td>\n",
              "      <td>75</td>\n",
              "      <td>ovr</td>\n",
              "      <td>-1</td>\n",
              "      <td>none</td>\n",
              "      <td>23</td>\n",
              "      <td>...</td>\n",
              "      <td>0.974153</td>\n",
              "      <td>0.967866</td>\n",
              "      <td>0.973813</td>\n",
              "      <td>0.973115</td>\n",
              "      <td>0.971020</td>\n",
              "      <td>0.976249</td>\n",
              "      <td>0.967866</td>\n",
              "      <td>0.972177</td>\n",
              "      <td>0.002755</td>\n",
              "      <td>9</td>\n",
              "    </tr>\n",
              "    <tr>\n",
              "      <th>5</th>\n",
              "      <td>0.685518</td>\n",
              "      <td>0.019619</td>\n",
              "      <td>0.003019</td>\n",
              "      <td>0.000322</td>\n",
              "      <td>2</td>\n",
              "      <td>200</td>\n",
              "      <td>ovr</td>\n",
              "      <td>-1</td>\n",
              "      <td>none</td>\n",
              "      <td>23</td>\n",
              "      <td>...</td>\n",
              "      <td>0.974502</td>\n",
              "      <td>0.970660</td>\n",
              "      <td>0.975559</td>\n",
              "      <td>0.975908</td>\n",
              "      <td>0.975209</td>\n",
              "      <td>0.976249</td>\n",
              "      <td>0.968564</td>\n",
              "      <td>0.974470</td>\n",
              "      <td>0.002711</td>\n",
              "      <td>7</td>\n",
              "    </tr>\n",
              "    <tr>\n",
              "      <th>6</th>\n",
              "      <td>0.586610</td>\n",
              "      <td>0.040929</td>\n",
              "      <td>0.003201</td>\n",
              "      <td>0.000801</td>\n",
              "      <td>7</td>\n",
              "      <td>75</td>\n",
              "      <td>ovr</td>\n",
              "      <td>-1</td>\n",
              "      <td>l2</td>\n",
              "      <td>23</td>\n",
              "      <td>...</td>\n",
              "      <td>0.980789</td>\n",
              "      <td>0.976947</td>\n",
              "      <td>0.979399</td>\n",
              "      <td>0.978003</td>\n",
              "      <td>0.982891</td>\n",
              "      <td>0.981488</td>\n",
              "      <td>0.974502</td>\n",
              "      <td>0.979397</td>\n",
              "      <td>0.002368</td>\n",
              "      <td>2</td>\n",
              "    </tr>\n",
              "    <tr>\n",
              "      <th>7</th>\n",
              "      <td>0.200238</td>\n",
              "      <td>0.009025</td>\n",
              "      <td>0.003036</td>\n",
              "      <td>0.000728</td>\n",
              "      <td>4</td>\n",
              "      <td>50</td>\n",
              "      <td>ovr</td>\n",
              "      <td>-1</td>\n",
              "      <td>l2</td>\n",
              "      <td>23</td>\n",
              "      <td>...</td>\n",
              "      <td>0.974153</td>\n",
              "      <td>0.966818</td>\n",
              "      <td>0.973464</td>\n",
              "      <td>0.973464</td>\n",
              "      <td>0.969623</td>\n",
              "      <td>0.974502</td>\n",
              "      <td>0.966469</td>\n",
              "      <td>0.971388</td>\n",
              "      <td>0.002805</td>\n",
              "      <td>10</td>\n",
              "    </tr>\n",
              "    <tr>\n",
              "      <th>8</th>\n",
              "      <td>0.112989</td>\n",
              "      <td>0.007592</td>\n",
              "      <td>0.003079</td>\n",
              "      <td>0.000585</td>\n",
              "      <td>7</td>\n",
              "      <td>50</td>\n",
              "      <td>ovr</td>\n",
              "      <td>-1</td>\n",
              "      <td>none</td>\n",
              "      <td>23</td>\n",
              "      <td>...</td>\n",
              "      <td>0.974852</td>\n",
              "      <td>0.974502</td>\n",
              "      <td>0.978701</td>\n",
              "      <td>0.976257</td>\n",
              "      <td>0.976955</td>\n",
              "      <td>0.978694</td>\n",
              "      <td>0.968564</td>\n",
              "      <td>0.975793</td>\n",
              "      <td>0.002540</td>\n",
              "      <td>5</td>\n",
              "    </tr>\n",
              "    <tr>\n",
              "      <th>9</th>\n",
              "      <td>0.582616</td>\n",
              "      <td>0.054811</td>\n",
              "      <td>0.003141</td>\n",
              "      <td>0.000410</td>\n",
              "      <td>1</td>\n",
              "      <td>150</td>\n",
              "      <td>ovr</td>\n",
              "      <td>-1</td>\n",
              "      <td>l2</td>\n",
              "      <td>23</td>\n",
              "      <td>...</td>\n",
              "      <td>0.980091</td>\n",
              "      <td>0.976947</td>\n",
              "      <td>0.978701</td>\n",
              "      <td>0.978003</td>\n",
              "      <td>0.982542</td>\n",
              "      <td>0.981837</td>\n",
              "      <td>0.973804</td>\n",
              "      <td>0.979124</td>\n",
              "      <td>0.002392</td>\n",
              "      <td>3</td>\n",
              "    </tr>\n",
              "  </tbody>\n",
              "</table>\n",
              "<p>10 rows × 166 columns</p>\n",
              "</div>\n",
              "      <button class=\"colab-df-convert\" onclick=\"convertToInteractive('df-df47439e-d2b4-4bb7-93d1-e2c92dbe5227')\"\n",
              "              title=\"Convert this dataframe to an interactive table.\"\n",
              "              style=\"display:none;\">\n",
              "        \n",
              "  <svg xmlns=\"http://www.w3.org/2000/svg\" height=\"24px\"viewBox=\"0 0 24 24\"\n",
              "       width=\"24px\">\n",
              "    <path d=\"M0 0h24v24H0V0z\" fill=\"none\"/>\n",
              "    <path d=\"M18.56 5.44l.94 2.06.94-2.06 2.06-.94-2.06-.94-.94-2.06-.94 2.06-2.06.94zm-11 1L8.5 8.5l.94-2.06 2.06-.94-2.06-.94L8.5 2.5l-.94 2.06-2.06.94zm10 10l.94 2.06.94-2.06 2.06-.94-2.06-.94-.94-2.06-.94 2.06-2.06.94z\"/><path d=\"M17.41 7.96l-1.37-1.37c-.4-.4-.92-.59-1.43-.59-.52 0-1.04.2-1.43.59L10.3 9.45l-7.72 7.72c-.78.78-.78 2.05 0 2.83L4 21.41c.39.39.9.59 1.41.59.51 0 1.02-.2 1.41-.59l7.78-7.78 2.81-2.81c.8-.78.8-2.07 0-2.86zM5.41 20L4 18.59l7.72-7.72 1.47 1.35L5.41 20z\"/>\n",
              "  </svg>\n",
              "      </button>\n",
              "      \n",
              "  <style>\n",
              "    .colab-df-container {\n",
              "      display:flex;\n",
              "      flex-wrap:wrap;\n",
              "      gap: 12px;\n",
              "    }\n",
              "\n",
              "    .colab-df-convert {\n",
              "      background-color: #E8F0FE;\n",
              "      border: none;\n",
              "      border-radius: 50%;\n",
              "      cursor: pointer;\n",
              "      display: none;\n",
              "      fill: #1967D2;\n",
              "      height: 32px;\n",
              "      padding: 0 0 0 0;\n",
              "      width: 32px;\n",
              "    }\n",
              "\n",
              "    .colab-df-convert:hover {\n",
              "      background-color: #E2EBFA;\n",
              "      box-shadow: 0px 1px 2px rgba(60, 64, 67, 0.3), 0px 1px 3px 1px rgba(60, 64, 67, 0.15);\n",
              "      fill: #174EA6;\n",
              "    }\n",
              "\n",
              "    [theme=dark] .colab-df-convert {\n",
              "      background-color: #3B4455;\n",
              "      fill: #D2E3FC;\n",
              "    }\n",
              "\n",
              "    [theme=dark] .colab-df-convert:hover {\n",
              "      background-color: #434B5C;\n",
              "      box-shadow: 0px 1px 3px 1px rgba(0, 0, 0, 0.15);\n",
              "      filter: drop-shadow(0px 1px 2px rgba(0, 0, 0, 0.3));\n",
              "      fill: #FFFFFF;\n",
              "    }\n",
              "  </style>\n",
              "\n",
              "      <script>\n",
              "        const buttonEl =\n",
              "          document.querySelector('#df-df47439e-d2b4-4bb7-93d1-e2c92dbe5227 button.colab-df-convert');\n",
              "        buttonEl.style.display =\n",
              "          google.colab.kernel.accessAllowed ? 'block' : 'none';\n",
              "\n",
              "        async function convertToInteractive(key) {\n",
              "          const element = document.querySelector('#df-df47439e-d2b4-4bb7-93d1-e2c92dbe5227');\n",
              "          const dataTable =\n",
              "            await google.colab.kernel.invokeFunction('convertToInteractive',\n",
              "                                                     [key], {});\n",
              "          if (!dataTable) return;\n",
              "\n",
              "          const docLinkHtml = 'Like what you see? Visit the ' +\n",
              "            '<a target=\"_blank\" href=https://colab.research.google.com/notebooks/data_table.ipynb>data table notebook</a>'\n",
              "            + ' to learn more about interactive tables.';\n",
              "          element.innerHTML = '';\n",
              "          dataTable['output_type'] = 'display_data';\n",
              "          await google.colab.output.renderOutput(dataTable, element);\n",
              "          const docLink = document.createElement('div');\n",
              "          docLink.innerHTML = docLinkHtml;\n",
              "          element.appendChild(docLink);\n",
              "        }\n",
              "      </script>\n",
              "    </div>\n",
              "  </div>\n",
              "  "
            ]
          },
          "metadata": {},
          "execution_count": 93
        }
      ]
    },
    {
      "cell_type": "code",
      "source": [
        "acuracia_modelos_lr = results_val_lr.iloc[:,-153:-3]"
      ],
      "metadata": {
        "id": "MwmXdBCUdSyo"
      },
      "execution_count": null,
      "outputs": []
    },
    {
      "cell_type": "code",
      "source": [
        "acuracia_lr_m0, acuracia_lr_m1, acuracia_lr_m2, acuracia_lr_m3, acuracia_lr_m4, acuracia_lr_m5, acuracia_lr_m6, acuracia_lr_m7, acuracia_lr_m8, acuracia_lr_m9  = acuracia_kfolds(acuracia_modelos_gnb )"
      ],
      "metadata": {
        "id": "tSi4YdsjdSyo"
      },
      "execution_count": null,
      "outputs": []
    },
    {
      "cell_type": "markdown",
      "source": [
        "Para verificar se as acurácias encontradas pelos modelos são estatisticamente iguais foi utilizada a estatística de Kruskal-Wallis para verificar se o valor da mediana de todas as acurácias são iguais"
      ],
      "metadata": {
        "id": "d-ym1UixdSyo"
      }
    },
    {
      "cell_type": "code",
      "source": [
        "from scipy import stats\n",
        "\n",
        "stats.kruskal(acuracia_lr_m0, acuracia_lr_m1, acuracia_lr_m2, acuracia_lr_m3, acuracia_lr_m4, acuracia_lr_m5, acuracia_lr_m6, acuracia_lr_m7, acuracia_lr_m8, acuracia_lr_m9)"
      ],
      "metadata": {
        "colab": {
          "base_uri": "https://localhost:8080/"
        },
        "outputId": "e9c69151-7524-4e38-ea55-870d345805c3",
        "id": "LTpRBqhRdSyo"
      },
      "execution_count": null,
      "outputs": [
        {
          "output_type": "execute_result",
          "data": {
            "text/plain": [
              "KruskalResult(statistic=235.8412979151999, pvalue=9.673965102578152e-46)"
            ]
          },
          "metadata": {},
          "execution_count": 96
        }
      ]
    },
    {
      "cell_type": "markdown",
      "source": [
        "Como o p-valor encontrado foi menor do que 0.05, há evidências que recusa a hispótese nula e indica que os 10 modelos não obtiveram acurácias semelhantes."
      ],
      "metadata": {
        "id": "DGXOKC_jdSyo"
      }
    },
    {
      "cell_type": "code",
      "source": [
        "import seaborn as sns\n",
        "\n",
        "sns.boxplot(data=acuracia_modelos_lr.T);"
      ],
      "metadata": {
        "colab": {
          "base_uri": "https://localhost:8080/",
          "height": 347
        },
        "outputId": "2bdf3561-e841-4218-e8fd-912e026b22cc",
        "id": "hrIDpQzzdSyo"
      },
      "execution_count": null,
      "outputs": [
        {
          "output_type": "display_data",
          "data": {
            "text/plain": [
              "<Figure size 576x396 with 1 Axes>"
            ],
            "image/png": "[encoded data removed]"
          },
          "metadata": {}
        }
      ]
    },
    {
      "cell_type": "markdown",
      "source": [
        "Com isso, é possível ver que o melhor modelo foi o modelo 3."
      ],
      "metadata": {
        "id": "M9WyzcNPdSyo"
      }
    },
    {
      "cell_type": "code",
      "source": [
        "results_lr.best_params_"
      ],
      "metadata": {
        "colab": {
          "base_uri": "https://localhost:8080/"
        },
        "outputId": "7c90980a-d1e9-4bdd-b1ba-6b344ed1c4e2",
        "id": "HtUH4pnadSyo"
      },
      "execution_count": null,
      "outputs": [
        {
          "output_type": "execute_result",
          "data": {
            "text/plain": [
              "{'C': 6,\n",
              " 'max_iter': 50,\n",
              " 'multi_class': 'ovr',\n",
              " 'n_jobs': -1,\n",
              " 'penalty': 'none',\n",
              " 'random_state': 23,\n",
              " 'solver': 'newton-cg',\n",
              " 'tol': 1e-05}"
            ]
          },
          "metadata": {},
          "execution_count": 98
        }
      ]
    },
    {
      "cell_type": "code",
      "source": [
        "results_lr.best_score_"
      ],
      "metadata": {
        "colab": {
          "base_uri": "https://localhost:8080/"
        },
        "outputId": "648a3825-2e38-458f-c3cc-52489c80b5fd",
        "id": "P4dmsyradSyo"
      },
      "execution_count": null,
      "outputs": [
        {
          "output_type": "execute_result",
          "data": {
            "text/plain": [
              "0.9794455173923253"
            ]
          },
          "metadata": {},
          "execution_count": 99
        }
      ]
    },
    {
      "cell_type": "markdown",
      "source": [
        "##### Melhor Modelo"
      ],
      "metadata": {
        "id": "bBi7GxmxdSyo"
      }
    },
    {
      "cell_type": "markdown",
      "source": [
        "Melhor modelo obtido foi salvo como lr_model"
      ],
      "metadata": {
        "id": "rigB6hVv7QPC"
      }
    },
    {
      "cell_type": "code",
      "source": [
        "lr_model = LogisticRegression(C=6, max_iter=50, multi_class='ovr', n_jobs=-1, penalty = 'none', random_state = 23, solver = 'newton-cg', tol = 1e-05 )"
      ],
      "metadata": {
        "id": "EpcjMBNdPxE5"
      },
      "execution_count": null,
      "outputs": []
    },
    {
      "cell_type": "markdown",
      "source": [
        "##### Estimativas pontuais e intervalo de confiança da validação"
      ],
      "metadata": {
        "id": "COhbSlj0dSyp"
      }
    },
    {
      "cell_type": "code",
      "source": [
        "scoring=['accuracy', 'precision', 'recall', 'f1']"
      ],
      "metadata": {
        "id": "4qBcmLiSdSyp"
      },
      "execution_count": null,
      "outputs": []
    },
    {
      "cell_type": "code",
      "source": [
        "from sklearn.model_selection import cross_validate\n",
        "\n",
        "scores_lr=cross_validate(lr_model, X_train, y_train, cv=cv2,scoring=scoring)"
      ],
      "metadata": {
        "id": "qzw1QcP8dSyp"
      },
      "execution_count": null,
      "outputs": []
    },
    {
      "cell_type": "code",
      "source": [
        "scores_lr.keys()"
      ],
      "metadata": {
        "colab": {
          "base_uri": "https://localhost:8080/"
        },
        "outputId": "d93c9e85-e033-49ba-e362-b0a75f9d25ef",
        "id": "j2hRM2rydSyp"
      },
      "execution_count": null,
      "outputs": [
        {
          "output_type": "execute_result",
          "data": {
            "text/plain": [
              "dict_keys(['fit_time', 'score_time', 'test_accuracy', 'test_precision', 'test_recall', 'test_f1'])"
            ]
          },
          "metadata": {},
          "execution_count": 103
        }
      ]
    },
    {
      "cell_type": "code",
      "source": [
        "scores_lr['test_accuracy'].mean()"
      ],
      "metadata": {
        "colab": {
          "base_uri": "https://localhost:8080/"
        },
        "outputId": "cbefca93-4539-4e6a-d4b5-ca45e4d6c521",
        "id": "IuQiR-9DdSyp"
      },
      "execution_count": null,
      "outputs": [
        {
          "output_type": "execute_result",
          "data": {
            "text/plain": [
              "0.9793896277166804"
            ]
          },
          "metadata": {},
          "execution_count": 104
        }
      ]
    },
    {
      "cell_type": "markdown",
      "source": [
        "Para calcular os intervalos de confiança"
      ],
      "metadata": {
        "id": "h6HWDnIbdSyp"
      }
    },
    {
      "cell_type": "code",
      "source": [
        "int_acuracia_lr, int_precisao_lr, int_recall_lr, int_f1_lr = define_confidence_interval(scores_lr['test_accuracy'], scores_lr['test_precision'], scores_lr['test_recall'], scores_lr['test_f1'], 0.95)"
      ],
      "metadata": {
        "id": "rrpdC0VMdSyp"
      },
      "execution_count": null,
      "outputs": []
    },
    {
      "cell_type": "code",
      "source": [
        "error_tax_lr, error_tax_lower_interval_lr, error_tax_upper_interval_lr = error_tax_model(scores_lr, int_acuracia_lr)"
      ],
      "metadata": {
        "id": "y2miJuLUdSyp"
      },
      "execution_count": null,
      "outputs": []
    },
    {
      "cell_type": "markdown",
      "source": [
        "Relatório de estimativas de validação"
      ],
      "metadata": {
        "id": "_KRiusNWdSyp"
      }
    },
    {
      "cell_type": "code",
      "source": [
        "print('Relatório referente a validação do Classificador de Regressão Logística \\n')\n",
        "\n",
        "print_validation_evaluation(scores_lr, int_acuracia_lr, int_precisao_lr, int_recall_lr, int_f1_lr, error_tax_lr, error_tax_lower_interval_lr, error_tax_upper_interval_lr)"
      ],
      "metadata": {
        "colab": {
          "base_uri": "https://localhost:8080/"
        },
        "outputId": "59426708-c271-47f2-d4c5-ac6980ca9c27",
        "id": "RbPy-6UpdSyq"
      },
      "execution_count": null,
      "outputs": [
        {
          "output_type": "stream",
          "name": "stdout",
          "text": [
            "Relatório referente a validação do Classificador de Regressão Logística \n",
            "\n",
            "Relatório de estimativas pontuais e intervalo de confiança na validação:\n",
            "\n",
            "\n",
            "A acurácia obtida na validação foi de: 0.9794\n",
            "O intervalo de confiança da acurácia obtida na validação foi de: (0.9789979117454857, 0.9797813436878751)\n",
            "\n",
            "\n",
            "A taxa de erro obtida na validação foi de: 0.0206\n",
            "O intervalo de confiança da acurácia obtida na validação foi de (0.02021865631212494, 0.02100208825451433)\n",
            "\n",
            "\n",
            "A precisão obtida na validação foi de: 0.9377\n",
            "O intervalo de confiança da precisão obtida na validação foi de: (0.9351953733945003, 0.9402719753353549)\n",
            "\n",
            "\n",
            "A cobertura (recall) obtido na validação foi de: 0.8305\n",
            "O intervalo de confiança do recall obtida na validação foi de: (0.8268485144370954, 0.8341762368929995)\n",
            "\n",
            "\n",
            "O f1-score obtido na validação foi de: 0.8804\n",
            "O intervalo de confiança do f1-score obtida na validação foi de: (0.8780367397297021, 0.8828380899104437)\n"
          ]
        }
      ]
    },
    {
      "cell_type": "markdown",
      "source": [
        "#### Predição"
      ],
      "metadata": {
        "id": "zl5fsGeBdSyq"
      }
    },
    {
      "cell_type": "markdown",
      "source": [
        "Realizando a predição com o conjunto de teste (X_test)"
      ],
      "metadata": {
        "id": "WnM-DQcLdSyq"
      }
    },
    {
      "cell_type": "code",
      "source": [
        "y_pred_lr = search_lr.predict(X_test)"
      ],
      "metadata": {
        "id": "a0HNdBIbdSyq"
      },
      "execution_count": null,
      "outputs": []
    },
    {
      "cell_type": "markdown",
      "source": [
        "##### Métricas de erro do teste"
      ],
      "metadata": {
        "id": "kgC7QOXIdSyq"
      }
    },
    {
      "cell_type": "code",
      "source": [
        "acuracia_lr, precisao_lr, recall_lr, f1_score_lr, matriz_confusao_lr, error_lr = test_evaluation(y_test, y_pred_lr)"
      ],
      "metadata": {
        "id": "xXR37UVndSyq"
      },
      "execution_count": null,
      "outputs": []
    },
    {
      "cell_type": "code",
      "source": [
        "print('Relatório referente ao teste do Classificador de Regressão Logística \\n')\n",
        "\n",
        "print_test_evaluation(y_test, y_pred_lr, error_lr)"
      ],
      "metadata": {
        "colab": {
          "base_uri": "https://localhost:8080/"
        },
        "outputId": "aa379131-7ad0-43ad-88cb-63be8ba2374c",
        "id": "BL-oNkP2dSyq"
      },
      "execution_count": null,
      "outputs": [
        {
          "output_type": "stream",
          "name": "stdout",
          "text": [
            "Relatório referente ao teste do Classificador de Regressão Logística \n",
            "\n",
            "Relatório de estimativas pontuais no teste:\n",
            "\n",
            "\n",
            "A acurácia obtida no teste foi de: 0.9777\n",
            "\n",
            "\n",
            "A taxa de erro obtida no teste foi de: 0.0223\n",
            "\n",
            "\n",
            "A precisão obtida no teste foi de: 0.9526\n",
            "\n",
            "\n",
            "O recall obtido no teste foi de: 0.7957\n",
            "\n",
            "\n",
            "O f1-score obtido no teste foi de: 0.8671\n",
            "\n",
            "\n"
          ]
        }
      ]
    },
    {
      "cell_type": "code",
      "source": [
        "from yellowbrick.classifier import ConfusionMatrix\n",
        "\n",
        "confusion_matrix_lr = ConfusionMatrix(lr_model)\n",
        "confusion_matrix_lr.fit(X_train, y_train);\n",
        "confusion_matrix_lr.score(X_test, y_test);"
      ],
      "metadata": {
        "colab": {
          "base_uri": "https://localhost:8080/",
          "height": 399
        },
        "outputId": "e8fcf755-3b31-476c-b3b0-ac0b6463e878",
        "id": "Q64TpDv0dSyq"
      },
      "execution_count": null,
      "outputs": [
        {
          "output_type": "stream",
          "name": "stderr",
          "text": [
            "/usr/local/lib/python3.8/dist-packages/sklearn/linear_model/_logistic.py:1483: UserWarning: Setting penalty='none' will ignore the C and l1_ratio parameters\n",
            "  warnings.warn(\n"
          ]
        },
        {
          "output_type": "display_data",
          "data": {
            "text/plain": [
              "<Figure size 576x396 with 1 Axes>"
            ],
            "image/png": "[encoded data removed]"
          },
          "metadata": {}
        }
      ]
    },
    {
      "cell_type": "markdown",
      "source": [
        "De forma estruturada, utilizamos a função classification_report:"
      ],
      "metadata": {
        "id": "NbqqsiAqdSyq"
      }
    },
    {
      "cell_type": "code",
      "source": [
        "from sklearn.metrics import accuracy_score, classification_report\n",
        "\n",
        "print(classification_report(y_test, y_pred_lr))"
      ],
      "metadata": {
        "colab": {
          "base_uri": "https://localhost:8080/"
        },
        "outputId": "4b08d7ed-c55f-4104-c0ca-e85f78159c54",
        "id": "snapr4_AdSyq"
      },
      "execution_count": null,
      "outputs": [
        {
          "output_type": "stream",
          "name": "stdout",
          "text": [
            "              precision    recall  f1-score   support\n",
            "\n",
            "           0       0.98      1.00      0.99      3252\n",
            "           1       0.95      0.80      0.87       328\n",
            "\n",
            "    accuracy                           0.98      3580\n",
            "   macro avg       0.97      0.90      0.93      3580\n",
            "weighted avg       0.98      0.98      0.98      3580\n",
            "\n"
          ]
        }
      ]
    },
    {
      "cell_type": "markdown",
      "source": [
        "### Comparação entre os classificadores"
      ],
      "metadata": {
        "id": "Pze18GE1SBxk"
      }
    },
    {
      "cell_type": "markdown",
      "source": [
        "Para fazer comparações entre os classificadores, foi utilizado o teste de Friedman utilizando o pacote scipy.stats\n",
        "\n",
        "https://docs.scipy.org/doc/scipy/reference/generated/scipy.stats.friedmanchisquare.html"
      ],
      "metadata": {
        "id": "v-K5U9gpDf9n"
      }
    },
    {
      "cell_type": "code",
      "source": [
        "from scipy import stats"
      ],
      "metadata": {
        "id": "uRqMAka4D2Th"
      },
      "execution_count": null,
      "outputs": []
    },
    {
      "cell_type": "markdown",
      "source": [
        "De acordo com a acurácia obtida na validação dos melhores modelos selecionados"
      ],
      "metadata": {
        "id": "Dzk7pOKoDr9D"
      }
    },
    {
      "cell_type": "code",
      "source": [
        "stats.friedmanchisquare(scores_gnb['test_accuracy'],scores_parzen['test_accuracy'],scores_lr['test_accuracy'])"
      ],
      "metadata": {
        "colab": {
          "base_uri": "https://localhost:8080/"
        },
        "id": "vlhca4akD-U2",
        "outputId": "e062e6c0-40ce-48cc-fc15-dacf766fb5bd"
      },
      "execution_count": null,
      "outputs": [
        {
          "output_type": "execute_result",
          "data": {
            "text/plain": [
              "FriedmanchisquareResult(statistic=593.0951585976627, pvalue=1.6256336811529216e-129)"
            ]
          },
          "metadata": {},
          "execution_count": 116
        }
      ]
    },
    {
      "cell_type": "markdown",
      "source": [
        "Como p-valor (1.6256336811529216e-129) é muito menor do que 0.05, podemos rejeitar a hipótese nula de que a acurácia média entre modelos é semelhante."
      ],
      "metadata": {
        "id": "4hOhkexyELd3"
      }
    },
    {
      "cell_type": "markdown",
      "source": [
        "De acordo com a precisão obtida na validação dos melhores modelos selecionados"
      ],
      "metadata": {
        "id": "jOlbPgzpEZAX"
      }
    },
    {
      "cell_type": "code",
      "source": [
        "stats.friedmanchisquare(scores_gnb['test_precision'],scores_parzen['test_precision'],scores_lr['test_precision'])"
      ],
      "metadata": {
        "colab": {
          "base_uri": "https://localhost:8080/"
        },
        "outputId": "b3da7031-00af-452c-edd7-a15ff71832bb",
        "id": "cO42gRqBEZAX"
      },
      "execution_count": null,
      "outputs": [
        {
          "output_type": "execute_result",
          "data": {
            "text/plain": [
              "FriedmanchisquareResult(statistic=518.8714524207016, pvalue=2.13056946399385e-113)"
            ]
          },
          "metadata": {},
          "execution_count": 117
        }
      ]
    },
    {
      "cell_type": "markdown",
      "source": [
        "Como p-valor (2.13056946399385e-113) é muito menor do que 0.05, podemos rejeitar a hipótese nula de que a precisão média entre modelos é semelhante."
      ],
      "metadata": {
        "id": "k652es6cEZAY"
      }
    },
    {
      "cell_type": "markdown",
      "source": [
        "De acordo com o recall obtida na validação dos melhores modelos selecionados"
      ],
      "metadata": {
        "id": "L6awxaHOEqd2"
      }
    },
    {
      "cell_type": "code",
      "source": [
        "stats.friedmanchisquare(scores_gnb['test_recall'],scores_parzen['test_recall'],scores_lr['test_recall'])"
      ],
      "metadata": {
        "colab": {
          "base_uri": "https://localhost:8080/"
        },
        "outputId": "f7acade1-8f5a-40ad-ad0e-64f42b1dbd1c",
        "id": "P10jjSK1Eqd2"
      },
      "execution_count": null,
      "outputs": [
        {
          "output_type": "execute_result",
          "data": {
            "text/plain": [
              "FriedmanchisquareResult(statistic=552.575576430402, pvalue=1.0226762278752532e-120)"
            ]
          },
          "metadata": {},
          "execution_count": 118
        }
      ]
    },
    {
      "cell_type": "markdown",
      "source": [
        "Como p-valor (1.0226762278752532e-120) é muito menor do que 0.05, podemos rejeitar a hipótese nula de que o recall médio entre modelos é semelhante."
      ],
      "metadata": {
        "id": "Gsw4VnHNEqd2"
      }
    },
    {
      "cell_type": "markdown",
      "source": [
        "De acordo com a f1-score obtida na validação dos melhores modelos selecionados"
      ],
      "metadata": {
        "id": "-SstSOLGEqd3"
      }
    },
    {
      "cell_type": "code",
      "source": [
        "stats.friedmanchisquare(scores_gnb['test_f1'],scores_parzen['test_f1'],scores_lr['test_f1'])"
      ],
      "metadata": {
        "colab": {
          "base_uri": "https://localhost:8080/"
        },
        "outputId": "19af5260-d356-451e-840a-1f306824e50b",
        "id": "62N9piuYEqd3"
      },
      "execution_count": null,
      "outputs": [
        {
          "output_type": "execute_result",
          "data": {
            "text/plain": [
              "FriedmanchisquareResult(statistic=593.5763135946625, pvalue=1.2780304716473901e-129)"
            ]
          },
          "metadata": {},
          "execution_count": 119
        }
      ]
    },
    {
      "cell_type": "markdown",
      "source": [
        "Como p-valor (1.2780304716473901e-129) é muito menor do que 0.05, podemos rejeitar a hipótese nula de que o f1-score médio entre modelos é semelhante."
      ],
      "metadata": {
        "id": "QHdb1QzLEqd3"
      }
    },
    {
      "cell_type": "markdown",
      "source": [
        "Dessa forma, utilizando 4 métricas de erro e o teste estatístico de Friedman, podemos verificar que os 3 classificadores são diferentes entre si"
      ],
      "metadata": {
        "id": "7tSbkzUIFMYb"
      }
    },
    {
      "cell_type": "markdown",
      "source": [
        "Para verificar exatamente quais grupos são diferentes, foi aplicado o Nemenyyi post-hoc test como indicado por https://www.statology.org/nemenyi-test-python/"
      ],
      "metadata": {
        "id": "1UvACgLzFkbJ"
      }
    },
    {
      "cell_type": "code",
      "source": [
        "pip install scikit-posthocs"
      ],
      "metadata": {
        "id": "X0jHVcoCFtLR",
        "colab": {
          "base_uri": "https://localhost:8080/"
        },
        "outputId": "c187e039-bd11-4abc-b838-bb6479d4ca49"
      },
      "execution_count": null,
      "outputs": [
        {
          "output_type": "stream",
          "name": "stdout",
          "text": [
            "Looking in indexes: https://pypi.org/simple, https://us-python.pkg.dev/colab-wheels/public/simple/\n",
            "Collecting scikit-posthocs\n",
            "  Downloading scikit_posthocs-0.7.0-py3-none-any.whl (38 kB)\n",
            "Requirement already satisfied: numpy in /usr/local/lib/python3.8/dist-packages (from scikit-posthocs) (1.21.6)\n",
            "Requirement already satisfied: pandas>=0.20.0 in /usr/local/lib/python3.8/dist-packages (from scikit-posthocs) (1.3.5)\n",
            "Requirement already satisfied: scipy in /usr/local/lib/python3.8/dist-packages (from scikit-posthocs) (1.7.3)\n",
            "Requirement already satisfied: statsmodels in /usr/local/lib/python3.8/dist-packages (from scikit-posthocs) (0.12.2)\n",
            "Requirement already satisfied: matplotlib in /usr/local/lib/python3.8/dist-packages (from scikit-posthocs) (3.2.2)\n",
            "Requirement already satisfied: seaborn in /usr/local/lib/python3.8/dist-packages (from scikit-posthocs) (0.11.2)\n",
            "Requirement already satisfied: pytz>=2017.3 in /usr/local/lib/python3.8/dist-packages (from pandas>=0.20.0->scikit-posthocs) (2022.6)\n",
            "Requirement already satisfied: python-dateutil>=2.7.3 in /usr/local/lib/python3.8/dist-packages (from pandas>=0.20.0->scikit-posthocs) (2.8.2)\n",
            "Requirement already satisfied: six>=1.5 in /usr/local/lib/python3.8/dist-packages (from python-dateutil>=2.7.3->pandas>=0.20.0->scikit-posthocs) (1.15.0)\n",
            "Requirement already satisfied: cycler>=0.10 in /usr/local/lib/python3.8/dist-packages (from matplotlib->scikit-posthocs) (0.11.0)\n",
            "Requirement already satisfied: pyparsing!=2.0.4,!=2.1.2,!=2.1.6,>=2.0.1 in /usr/local/lib/python3.8/dist-packages (from matplotlib->scikit-posthocs) (3.0.9)\n",
            "Requirement already satisfied: kiwisolver>=1.0.1 in /usr/local/lib/python3.8/dist-packages (from matplotlib->scikit-posthocs) (1.4.4)\n",
            "Requirement already satisfied: patsy>=0.5 in /usr/local/lib/python3.8/dist-packages (from statsmodels->scikit-posthocs) (0.5.3)\n",
            "Installing collected packages: scikit-posthocs\n",
            "Successfully installed scikit-posthocs-0.7.0\n"
          ]
        }
      ]
    },
    {
      "cell_type": "code",
      "source": [
        "import scikit_posthocs as sp"
      ],
      "metadata": {
        "id": "E0K5gmF5F0sL"
      },
      "execution_count": null,
      "outputs": []
    },
    {
      "cell_type": "markdown",
      "source": [
        "Para a acurácia obtida pelos modelos, temos:"
      ],
      "metadata": {
        "id": "HjlYItEQF4MX"
      }
    },
    {
      "cell_type": "code",
      "source": [
        "acuracias = np.array([scores_gnb['test_accuracy'],scores_parzen['test_accuracy'],scores_lr['test_accuracy']])\n",
        "\n",
        "sp.posthoc_nemenyi_friedman(acuracias.T)"
      ],
      "metadata": {
        "colab": {
          "base_uri": "https://localhost:8080/",
          "height": 143
        },
        "id": "ckbHGZSEF8iP",
        "outputId": "9a44d5aa-ec71-4f50-d48c-1e1379eb5864"
      },
      "execution_count": null,
      "outputs": [
        {
          "output_type": "execute_result",
          "data": {
            "text/plain": [
              "       0      1      2\n",
              "0  1.000  0.001  0.001\n",
              "1  0.001  1.000  0.001\n",
              "2  0.001  0.001  1.000"
            ],
            "text/html": [
              "\n",
              "  <div id=\"df-be6a5e86-54e5-47e8-987b-7c073dd54433\">\n",
              "    <div class=\"colab-df-container\">\n",
              "      <div>\n",
              "<style scoped>\n",
              "    .dataframe tbody tr th:only-of-type {\n",
              "        vertical-align: middle;\n",
              "    }\n",
              "\n",
              "    .dataframe tbody tr th {\n",
              "        vertical-align: top;\n",
              "    }\n",
              "\n",
              "    .dataframe thead th {\n",
              "        text-align: right;\n",
              "    }\n",
              "</style>\n",
              "<table border=\"1\" class=\"dataframe\">\n",
              "  <thead>\n",
              "    <tr style=\"text-align: right;\">\n",
              "      <th></th>\n",
              "      <th>0</th>\n",
              "      <th>1</th>\n",
              "      <th>2</th>\n",
              "    </tr>\n",
              "  </thead>\n",
              "  <tbody>\n",
              "    <tr>\n",
              "      <th>0</th>\n",
              "      <td>1.000</td>\n",
              "      <td>0.001</td>\n",
              "      <td>0.001</td>\n",
              "    </tr>\n",
              "    <tr>\n",
              "      <th>1</th>\n",
              "      <td>0.001</td>\n",
              "      <td>1.000</td>\n",
              "      <td>0.001</td>\n",
              "    </tr>\n",
              "    <tr>\n",
              "      <th>2</th>\n",
              "      <td>0.001</td>\n",
              "      <td>0.001</td>\n",
              "      <td>1.000</td>\n",
              "    </tr>\n",
              "  </tbody>\n",
              "</table>\n",
              "</div>\n",
              "      <button class=\"colab-df-convert\" onclick=\"convertToInteractive('df-be6a5e86-54e5-47e8-987b-7c073dd54433')\"\n",
              "              title=\"Convert this dataframe to an interactive table.\"\n",
              "              style=\"display:none;\">\n",
              "        \n",
              "  <svg xmlns=\"http://www.w3.org/2000/svg\" height=\"24px\"viewBox=\"0 0 24 24\"\n",
              "       width=\"24px\">\n",
              "    <path d=\"M0 0h24v24H0V0z\" fill=\"none\"/>\n",
              "    <path d=\"M18.56 5.44l.94 2.06.94-2.06 2.06-.94-2.06-.94-.94-2.06-.94 2.06-2.06.94zm-11 1L8.5 8.5l.94-2.06 2.06-.94-2.06-.94L8.5 2.5l-.94 2.06-2.06.94zm10 10l.94 2.06.94-2.06 2.06-.94-2.06-.94-.94-2.06-.94 2.06-2.06.94z\"/><path d=\"M17.41 7.96l-1.37-1.37c-.4-.4-.92-.59-1.43-.59-.52 0-1.04.2-1.43.59L10.3 9.45l-7.72 7.72c-.78.78-.78 2.05 0 2.83L4 21.41c.39.39.9.59 1.41.59.51 0 1.02-.2 1.41-.59l7.78-7.78 2.81-2.81c.8-.78.8-2.07 0-2.86zM5.41 20L4 18.59l7.72-7.72 1.47 1.35L5.41 20z\"/>\n",
              "  </svg>\n",
              "      </button>\n",
              "      \n",
              "  <style>\n",
              "    .colab-df-container {\n",
              "      display:flex;\n",
              "      flex-wrap:wrap;\n",
              "      gap: 12px;\n",
              "    }\n",
              "\n",
              "    .colab-df-convert {\n",
              "      background-color: #E8F0FE;\n",
              "      border: none;\n",
              "      border-radius: 50%;\n",
              "      cursor: pointer;\n",
              "      display: none;\n",
              "      fill: #1967D2;\n",
              "      height: 32px;\n",
              "      padding: 0 0 0 0;\n",
              "      width: 32px;\n",
              "    }\n",
              "\n",
              "    .colab-df-convert:hover {\n",
              "      background-color: #E2EBFA;\n",
              "      box-shadow: 0px 1px 2px rgba(60, 64, 67, 0.3), 0px 1px 3px 1px rgba(60, 64, 67, 0.15);\n",
              "      fill: #174EA6;\n",
              "    }\n",
              "\n",
              "    [theme=dark] .colab-df-convert {\n",
              "      background-color: #3B4455;\n",
              "      fill: #D2E3FC;\n",
              "    }\n",
              "\n",
              "    [theme=dark] .colab-df-convert:hover {\n",
              "      background-color: #434B5C;\n",
              "      box-shadow: 0px 1px 3px 1px rgba(0, 0, 0, 0.15);\n",
              "      filter: drop-shadow(0px 1px 2px rgba(0, 0, 0, 0.3));\n",
              "      fill: #FFFFFF;\n",
              "    }\n",
              "  </style>\n",
              "\n",
              "      <script>\n",
              "        const buttonEl =\n",
              "          document.querySelector('#df-be6a5e86-54e5-47e8-987b-7c073dd54433 button.colab-df-convert');\n",
              "        buttonEl.style.display =\n",
              "          google.colab.kernel.accessAllowed ? 'block' : 'none';\n",
              "\n",
              "        async function convertToInteractive(key) {\n",
              "          const element = document.querySelector('#df-be6a5e86-54e5-47e8-987b-7c073dd54433');\n",
              "          const dataTable =\n",
              "            await google.colab.kernel.invokeFunction('convertToInteractive',\n",
              "                                                     [key], {});\n",
              "          if (!dataTable) return;\n",
              "\n",
              "          const docLinkHtml = 'Like what you see? Visit the ' +\n",
              "            '<a target=\"_blank\" href=https://colab.research.google.com/notebooks/data_table.ipynb>data table notebook</a>'\n",
              "            + ' to learn more about interactive tables.';\n",
              "          element.innerHTML = '';\n",
              "          dataTable['output_type'] = 'display_data';\n",
              "          await google.colab.output.renderOutput(dataTable, element);\n",
              "          const docLink = document.createElement('div');\n",
              "          docLink.innerHTML = docLinkHtml;\n",
              "          element.appendChild(docLink);\n",
              "        }\n",
              "      </script>\n",
              "    </div>\n",
              "  </div>\n",
              "  "
            ]
          },
          "metadata": {},
          "execution_count": 122
        }
      ]
    },
    {
      "cell_type": "markdown",
      "source": [
        "Interpretando as informações, temos que:\n",
        "\n",
        "* o p-valor entre a acurácia refente ao classificador gnb e a acurácia referente ao classificador parzen foi de 0.001;\n",
        "* o p-valor entre a acurácia refente ao classificador gnb e a acurácia referente ao classificador lr foi de 0.001;\n",
        "* o p-valor entre a acurácia refente ao classificador parzen e a acurácia referente ao classificador lr foi de 0.001.\n",
        "\n",
        "Como todos os p-valores foram menores do que 0.05, podemos dizer, com 95% de confiança de que todos os classificadores são estatisticamente diferentes quanto a acurácia"
      ],
      "metadata": {
        "id": "Q0Q-8w2pGQx7"
      }
    },
    {
      "cell_type": "markdown",
      "source": [
        "Para a precisão obtida pelos modelos, temos:"
      ],
      "metadata": {
        "id": "IZ548qbrG4fa"
      }
    },
    {
      "cell_type": "code",
      "source": [
        "precisoes = np.array([scores_gnb['test_precision'],scores_parzen['test_precision'],scores_lr['test_precision']])\n",
        "\n",
        "sp.posthoc_nemenyi_friedman(precisoes.T)"
      ],
      "metadata": {
        "colab": {
          "base_uri": "https://localhost:8080/",
          "height": 143
        },
        "outputId": "46ac5993-dd2a-480e-dcaa-67dfc4561b38",
        "id": "C6uL-HY0G4fb"
      },
      "execution_count": null,
      "outputs": [
        {
          "output_type": "execute_result",
          "data": {
            "text/plain": [
              "       0      1      2\n",
              "0  1.000  0.001  0.001\n",
              "1  0.001  1.000  0.001\n",
              "2  0.001  0.001  1.000"
            ],
            "text/html": [
              "\n",
              "  <div id=\"df-946e2fd1-cc70-481e-8449-9b0a39a34bdd\">\n",
              "    <div class=\"colab-df-container\">\n",
              "      <div>\n",
              "<style scoped>\n",
              "    .dataframe tbody tr th:only-of-type {\n",
              "        vertical-align: middle;\n",
              "    }\n",
              "\n",
              "    .dataframe tbody tr th {\n",
              "        vertical-align: top;\n",
              "    }\n",
              "\n",
              "    .dataframe thead th {\n",
              "        text-align: right;\n",
              "    }\n",
              "</style>\n",
              "<table border=\"1\" class=\"dataframe\">\n",
              "  <thead>\n",
              "    <tr style=\"text-align: right;\">\n",
              "      <th></th>\n",
              "      <th>0</th>\n",
              "      <th>1</th>\n",
              "      <th>2</th>\n",
              "    </tr>\n",
              "  </thead>\n",
              "  <tbody>\n",
              "    <tr>\n",
              "      <th>0</th>\n",
              "      <td>1.000</td>\n",
              "      <td>0.001</td>\n",
              "      <td>0.001</td>\n",
              "    </tr>\n",
              "    <tr>\n",
              "      <th>1</th>\n",
              "      <td>0.001</td>\n",
              "      <td>1.000</td>\n",
              "      <td>0.001</td>\n",
              "    </tr>\n",
              "    <tr>\n",
              "      <th>2</th>\n",
              "      <td>0.001</td>\n",
              "      <td>0.001</td>\n",
              "      <td>1.000</td>\n",
              "    </tr>\n",
              "  </tbody>\n",
              "</table>\n",
              "</div>\n",
              "      <button class=\"colab-df-convert\" onclick=\"convertToInteractive('df-946e2fd1-cc70-481e-8449-9b0a39a34bdd')\"\n",
              "              title=\"Convert this dataframe to an interactive table.\"\n",
              "              style=\"display:none;\">\n",
              "        \n",
              "  <svg xmlns=\"http://www.w3.org/2000/svg\" height=\"24px\"viewBox=\"0 0 24 24\"\n",
              "       width=\"24px\">\n",
              "    <path d=\"M0 0h24v24H0V0z\" fill=\"none\"/>\n",
              "    <path d=\"M18.56 5.44l.94 2.06.94-2.06 2.06-.94-2.06-.94-.94-2.06-.94 2.06-2.06.94zm-11 1L8.5 8.5l.94-2.06 2.06-.94-2.06-.94L8.5 2.5l-.94 2.06-2.06.94zm10 10l.94 2.06.94-2.06 2.06-.94-2.06-.94-.94-2.06-.94 2.06-2.06.94z\"/><path d=\"M17.41 7.96l-1.37-1.37c-.4-.4-.92-.59-1.43-.59-.52 0-1.04.2-1.43.59L10.3 9.45l-7.72 7.72c-.78.78-.78 2.05 0 2.83L4 21.41c.39.39.9.59 1.41.59.51 0 1.02-.2 1.41-.59l7.78-7.78 2.81-2.81c.8-.78.8-2.07 0-2.86zM5.41 20L4 18.59l7.72-7.72 1.47 1.35L5.41 20z\"/>\n",
              "  </svg>\n",
              "      </button>\n",
              "      \n",
              "  <style>\n",
              "    .colab-df-container {\n",
              "      display:flex;\n",
              "      flex-wrap:wrap;\n",
              "      gap: 12px;\n",
              "    }\n",
              "\n",
              "    .colab-df-convert {\n",
              "      background-color: #E8F0FE;\n",
              "      border: none;\n",
              "      border-radius: 50%;\n",
              "      cursor: pointer;\n",
              "      display: none;\n",
              "      fill: #1967D2;\n",
              "      height: 32px;\n",
              "      padding: 0 0 0 0;\n",
              "      width: 32px;\n",
              "    }\n",
              "\n",
              "    .colab-df-convert:hover {\n",
              "      background-color: #E2EBFA;\n",
              "      box-shadow: 0px 1px 2px rgba(60, 64, 67, 0.3), 0px 1px 3px 1px rgba(60, 64, 67, 0.15);\n",
              "      fill: #174EA6;\n",
              "    }\n",
              "\n",
              "    [theme=dark] .colab-df-convert {\n",
              "      background-color: #3B4455;\n",
              "      fill: #D2E3FC;\n",
              "    }\n",
              "\n",
              "    [theme=dark] .colab-df-convert:hover {\n",
              "      background-color: #434B5C;\n",
              "      box-shadow: 0px 1px 3px 1px rgba(0, 0, 0, 0.15);\n",
              "      filter: drop-shadow(0px 1px 2px rgba(0, 0, 0, 0.3));\n",
              "      fill: #FFFFFF;\n",
              "    }\n",
              "  </style>\n",
              "\n",
              "      <script>\n",
              "        const buttonEl =\n",
              "          document.querySelector('#df-946e2fd1-cc70-481e-8449-9b0a39a34bdd button.colab-df-convert');\n",
              "        buttonEl.style.display =\n",
              "          google.colab.kernel.accessAllowed ? 'block' : 'none';\n",
              "\n",
              "        async function convertToInteractive(key) {\n",
              "          const element = document.querySelector('#df-946e2fd1-cc70-481e-8449-9b0a39a34bdd');\n",
              "          const dataTable =\n",
              "            await google.colab.kernel.invokeFunction('convertToInteractive',\n",
              "                                                     [key], {});\n",
              "          if (!dataTable) return;\n",
              "\n",
              "          const docLinkHtml = 'Like what you see? Visit the ' +\n",
              "            '<a target=\"_blank\" href=https://colab.research.google.com/notebooks/data_table.ipynb>data table notebook</a>'\n",
              "            + ' to learn more about interactive tables.';\n",
              "          element.innerHTML = '';\n",
              "          dataTable['output_type'] = 'display_data';\n",
              "          await google.colab.output.renderOutput(dataTable, element);\n",
              "          const docLink = document.createElement('div');\n",
              "          docLink.innerHTML = docLinkHtml;\n",
              "          element.appendChild(docLink);\n",
              "        }\n",
              "      </script>\n",
              "    </div>\n",
              "  </div>\n",
              "  "
            ]
          },
          "metadata": {},
          "execution_count": 123
        }
      ]
    },
    {
      "cell_type": "markdown",
      "source": [
        "Interpretando as informações, temos que:\n",
        "\n",
        "* o p-valor entre a precisão refente ao classificador gnb e a acurácia referente ao classificador parzen foi de 0.001;\n",
        "* o p-valor entre a precisão refente ao classificador gnb e a acurácia referente ao classificador lr foi de 0.001;\n",
        "* o p-valor entre a precisão refente ao classificador parzen e a acurácia referente ao classificador lr foi de 0.001.\n",
        "\n",
        "Como todos os p-valores foram menores do que 0.05, podemos dizer, com 95% de confiança de que todos os classificadores são estatisticamente diferentes quanto a precisão"
      ],
      "metadata": {
        "id": "DmuDUqgLG4fb"
      }
    },
    {
      "cell_type": "markdown",
      "source": [
        "Para o recall obtida pelos modelos, temos:"
      ],
      "metadata": {
        "id": "4qlT2CdoHQRf"
      }
    },
    {
      "cell_type": "code",
      "source": [
        "recalls = np.array([scores_gnb['test_recall'],scores_parzen['test_recall'],scores_lr['test_recall']])\n",
        "\n",
        "sp.posthoc_nemenyi_friedman(recalls.T)"
      ],
      "metadata": {
        "colab": {
          "base_uri": "https://localhost:8080/",
          "height": 143
        },
        "outputId": "805f199d-8ec5-4544-a721-9e1de4a5e087",
        "id": "14hqc3beHQRg"
      },
      "execution_count": null,
      "outputs": [
        {
          "output_type": "execute_result",
          "data": {
            "text/plain": [
              "       0      1      2\n",
              "0  1.000  0.001  0.001\n",
              "1  0.001  1.000  0.001\n",
              "2  0.001  0.001  1.000"
            ],
            "text/html": [
              "\n",
              "  <div id=\"df-016ba179-c315-4c00-bdf5-d523111bc0fe\">\n",
              "    <div class=\"colab-df-container\">\n",
              "      <div>\n",
              "<style scoped>\n",
              "    .dataframe tbody tr th:only-of-type {\n",
              "        vertical-align: middle;\n",
              "    }\n",
              "\n",
              "    .dataframe tbody tr th {\n",
              "        vertical-align: top;\n",
              "    }\n",
              "\n",
              "    .dataframe thead th {\n",
              "        text-align: right;\n",
              "    }\n",
              "</style>\n",
              "<table border=\"1\" class=\"dataframe\">\n",
              "  <thead>\n",
              "    <tr style=\"text-align: right;\">\n",
              "      <th></th>\n",
              "      <th>0</th>\n",
              "      <th>1</th>\n",
              "      <th>2</th>\n",
              "    </tr>\n",
              "  </thead>\n",
              "  <tbody>\n",
              "    <tr>\n",
              "      <th>0</th>\n",
              "      <td>1.000</td>\n",
              "      <td>0.001</td>\n",
              "      <td>0.001</td>\n",
              "    </tr>\n",
              "    <tr>\n",
              "      <th>1</th>\n",
              "      <td>0.001</td>\n",
              "      <td>1.000</td>\n",
              "      <td>0.001</td>\n",
              "    </tr>\n",
              "    <tr>\n",
              "      <th>2</th>\n",
              "      <td>0.001</td>\n",
              "      <td>0.001</td>\n",
              "      <td>1.000</td>\n",
              "    </tr>\n",
              "  </tbody>\n",
              "</table>\n",
              "</div>\n",
              "      <button class=\"colab-df-convert\" onclick=\"convertToInteractive('df-016ba179-c315-4c00-bdf5-d523111bc0fe')\"\n",
              "              title=\"Convert this dataframe to an interactive table.\"\n",
              "              style=\"display:none;\">\n",
              "        \n",
              "  <svg xmlns=\"http://www.w3.org/2000/svg\" height=\"24px\"viewBox=\"0 0 24 24\"\n",
              "       width=\"24px\">\n",
              "    <path d=\"M0 0h24v24H0V0z\" fill=\"none\"/>\n",
              "    <path d=\"M18.56 5.44l.94 2.06.94-2.06 2.06-.94-2.06-.94-.94-2.06-.94 2.06-2.06.94zm-11 1L8.5 8.5l.94-2.06 2.06-.94-2.06-.94L8.5 2.5l-.94 2.06-2.06.94zm10 10l.94 2.06.94-2.06 2.06-.94-2.06-.94-.94-2.06-.94 2.06-2.06.94z\"/><path d=\"M17.41 7.96l-1.37-1.37c-.4-.4-.92-.59-1.43-.59-.52 0-1.04.2-1.43.59L10.3 9.45l-7.72 7.72c-.78.78-.78 2.05 0 2.83L4 21.41c.39.39.9.59 1.41.59.51 0 1.02-.2 1.41-.59l7.78-7.78 2.81-2.81c.8-.78.8-2.07 0-2.86zM5.41 20L4 18.59l7.72-7.72 1.47 1.35L5.41 20z\"/>\n",
              "  </svg>\n",
              "      </button>\n",
              "      \n",
              "  <style>\n",
              "    .colab-df-container {\n",
              "      display:flex;\n",
              "      flex-wrap:wrap;\n",
              "      gap: 12px;\n",
              "    }\n",
              "\n",
              "    .colab-df-convert {\n",
              "      background-color: #E8F0FE;\n",
              "      border: none;\n",
              "      border-radius: 50%;\n",
              "      cursor: pointer;\n",
              "      display: none;\n",
              "      fill: #1967D2;\n",
              "      height: 32px;\n",
              "      padding: 0 0 0 0;\n",
              "      width: 32px;\n",
              "    }\n",
              "\n",
              "    .colab-df-convert:hover {\n",
              "      background-color: #E2EBFA;\n",
              "      box-shadow: 0px 1px 2px rgba(60, 64, 67, 0.3), 0px 1px 3px 1px rgba(60, 64, 67, 0.15);\n",
              "      fill: #174EA6;\n",
              "    }\n",
              "\n",
              "    [theme=dark] .colab-df-convert {\n",
              "      background-color: #3B4455;\n",
              "      fill: #D2E3FC;\n",
              "    }\n",
              "\n",
              "    [theme=dark] .colab-df-convert:hover {\n",
              "      background-color: #434B5C;\n",
              "      box-shadow: 0px 1px 3px 1px rgba(0, 0, 0, 0.15);\n",
              "      filter: drop-shadow(0px 1px 2px rgba(0, 0, 0, 0.3));\n",
              "      fill: #FFFFFF;\n",
              "    }\n",
              "  </style>\n",
              "\n",
              "      <script>\n",
              "        const buttonEl =\n",
              "          document.querySelector('#df-016ba179-c315-4c00-bdf5-d523111bc0fe button.colab-df-convert');\n",
              "        buttonEl.style.display =\n",
              "          google.colab.kernel.accessAllowed ? 'block' : 'none';\n",
              "\n",
              "        async function convertToInteractive(key) {\n",
              "          const element = document.querySelector('#df-016ba179-c315-4c00-bdf5-d523111bc0fe');\n",
              "          const dataTable =\n",
              "            await google.colab.kernel.invokeFunction('convertToInteractive',\n",
              "                                                     [key], {});\n",
              "          if (!dataTable) return;\n",
              "\n",
              "          const docLinkHtml = 'Like what you see? Visit the ' +\n",
              "            '<a target=\"_blank\" href=https://colab.research.google.com/notebooks/data_table.ipynb>data table notebook</a>'\n",
              "            + ' to learn more about interactive tables.';\n",
              "          element.innerHTML = '';\n",
              "          dataTable['output_type'] = 'display_data';\n",
              "          await google.colab.output.renderOutput(dataTable, element);\n",
              "          const docLink = document.createElement('div');\n",
              "          docLink.innerHTML = docLinkHtml;\n",
              "          element.appendChild(docLink);\n",
              "        }\n",
              "      </script>\n",
              "    </div>\n",
              "  </div>\n",
              "  "
            ]
          },
          "metadata": {},
          "execution_count": 124
        }
      ]
    },
    {
      "cell_type": "markdown",
      "source": [
        "Interpretando as informações, temos que:\n",
        "\n",
        "* o p-valor entre o recall refente ao classificador gnb e a acurácia referente ao classificador parzen foi de 0.001;\n",
        "* o p-valor entre o recall refente ao classificador gnb e a acurácia referente ao classificador lr foi de 0.001;\n",
        "* o p-valor entre o recall refente ao classificador parzen e a acurácia referente ao classificador lr foi de 0.001.\n",
        "\n",
        "Como todos os p-valores foram menores do que 0.05, podemos dizer, com 95% de confiança de que todos os classificadores são estatisticamente diferentes quanto ao recall"
      ],
      "metadata": {
        "id": "p4i_OaIQHQRg"
      }
    },
    {
      "cell_type": "markdown",
      "source": [
        "Para o f1-score obtida pelos modelos, temos:"
      ],
      "metadata": {
        "id": "Ldz3p72sHQRg"
      }
    },
    {
      "cell_type": "code",
      "source": [
        "f1s = np.array([scores_gnb['test_f1'],scores_parzen['test_f1'],scores_lr['test_f1']])\n",
        "\n",
        "sp.posthoc_nemenyi_friedman(f1s.T)"
      ],
      "metadata": {
        "colab": {
          "base_uri": "https://localhost:8080/",
          "height": 143
        },
        "outputId": "36f0ca01-a4ff-4354-8fa0-1568dcc89b2a",
        "id": "S9oojokkHQRg"
      },
      "execution_count": null,
      "outputs": [
        {
          "output_type": "execute_result",
          "data": {
            "text/plain": [
              "       0      1      2\n",
              "0  1.000  0.001  0.001\n",
              "1  0.001  1.000  0.001\n",
              "2  0.001  0.001  1.000"
            ],
            "text/html": [
              "\n",
              "  <div id=\"df-5d3d2284-4ab6-4d98-8db8-38096c5fac59\">\n",
              "    <div class=\"colab-df-container\">\n",
              "      <div>\n",
              "<style scoped>\n",
              "    .dataframe tbody tr th:only-of-type {\n",
              "        vertical-align: middle;\n",
              "    }\n",
              "\n",
              "    .dataframe tbody tr th {\n",
              "        vertical-align: top;\n",
              "    }\n",
              "\n",
              "    .dataframe thead th {\n",
              "        text-align: right;\n",
              "    }\n",
              "</style>\n",
              "<table border=\"1\" class=\"dataframe\">\n",
              "  <thead>\n",
              "    <tr style=\"text-align: right;\">\n",
              "      <th></th>\n",
              "      <th>0</th>\n",
              "      <th>1</th>\n",
              "      <th>2</th>\n",
              "    </tr>\n",
              "  </thead>\n",
              "  <tbody>\n",
              "    <tr>\n",
              "      <th>0</th>\n",
              "      <td>1.000</td>\n",
              "      <td>0.001</td>\n",
              "      <td>0.001</td>\n",
              "    </tr>\n",
              "    <tr>\n",
              "      <th>1</th>\n",
              "      <td>0.001</td>\n",
              "      <td>1.000</td>\n",
              "      <td>0.001</td>\n",
              "    </tr>\n",
              "    <tr>\n",
              "      <th>2</th>\n",
              "      <td>0.001</td>\n",
              "      <td>0.001</td>\n",
              "      <td>1.000</td>\n",
              "    </tr>\n",
              "  </tbody>\n",
              "</table>\n",
              "</div>\n",
              "      <button class=\"colab-df-convert\" onclick=\"convertToInteractive('df-5d3d2284-4ab6-4d98-8db8-38096c5fac59')\"\n",
              "              title=\"Convert this dataframe to an interactive table.\"\n",
              "              style=\"display:none;\">\n",
              "        \n",
              "  <svg xmlns=\"http://www.w3.org/2000/svg\" height=\"24px\"viewBox=\"0 0 24 24\"\n",
              "       width=\"24px\">\n",
              "    <path d=\"M0 0h24v24H0V0z\" fill=\"none\"/>\n",
              "    <path d=\"M18.56 5.44l.94 2.06.94-2.06 2.06-.94-2.06-.94-.94-2.06-.94 2.06-2.06.94zm-11 1L8.5 8.5l.94-2.06 2.06-.94-2.06-.94L8.5 2.5l-.94 2.06-2.06.94zm10 10l.94 2.06.94-2.06 2.06-.94-2.06-.94-.94-2.06-.94 2.06-2.06.94z\"/><path d=\"M17.41 7.96l-1.37-1.37c-.4-.4-.92-.59-1.43-.59-.52 0-1.04.2-1.43.59L10.3 9.45l-7.72 7.72c-.78.78-.78 2.05 0 2.83L4 21.41c.39.39.9.59 1.41.59.51 0 1.02-.2 1.41-.59l7.78-7.78 2.81-2.81c.8-.78.8-2.07 0-2.86zM5.41 20L4 18.59l7.72-7.72 1.47 1.35L5.41 20z\"/>\n",
              "  </svg>\n",
              "      </button>\n",
              "      \n",
              "  <style>\n",
              "    .colab-df-container {\n",
              "      display:flex;\n",
              "      flex-wrap:wrap;\n",
              "      gap: 12px;\n",
              "    }\n",
              "\n",
              "    .colab-df-convert {\n",
              "      background-color: #E8F0FE;\n",
              "      border: none;\n",
              "      border-radius: 50%;\n",
              "      cursor: pointer;\n",
              "      display: none;\n",
              "      fill: #1967D2;\n",
              "      height: 32px;\n",
              "      padding: 0 0 0 0;\n",
              "      width: 32px;\n",
              "    }\n",
              "\n",
              "    .colab-df-convert:hover {\n",
              "      background-color: #E2EBFA;\n",
              "      box-shadow: 0px 1px 2px rgba(60, 64, 67, 0.3), 0px 1px 3px 1px rgba(60, 64, 67, 0.15);\n",
              "      fill: #174EA6;\n",
              "    }\n",
              "\n",
              "    [theme=dark] .colab-df-convert {\n",
              "      background-color: #3B4455;\n",
              "      fill: #D2E3FC;\n",
              "    }\n",
              "\n",
              "    [theme=dark] .colab-df-convert:hover {\n",
              "      background-color: #434B5C;\n",
              "      box-shadow: 0px 1px 3px 1px rgba(0, 0, 0, 0.15);\n",
              "      filter: drop-shadow(0px 1px 2px rgba(0, 0, 0, 0.3));\n",
              "      fill: #FFFFFF;\n",
              "    }\n",
              "  </style>\n",
              "\n",
              "      <script>\n",
              "        const buttonEl =\n",
              "          document.querySelector('#df-5d3d2284-4ab6-4d98-8db8-38096c5fac59 button.colab-df-convert');\n",
              "        buttonEl.style.display =\n",
              "          google.colab.kernel.accessAllowed ? 'block' : 'none';\n",
              "\n",
              "        async function convertToInteractive(key) {\n",
              "          const element = document.querySelector('#df-5d3d2284-4ab6-4d98-8db8-38096c5fac59');\n",
              "          const dataTable =\n",
              "            await google.colab.kernel.invokeFunction('convertToInteractive',\n",
              "                                                     [key], {});\n",
              "          if (!dataTable) return;\n",
              "\n",
              "          const docLinkHtml = 'Like what you see? Visit the ' +\n",
              "            '<a target=\"_blank\" href=https://colab.research.google.com/notebooks/data_table.ipynb>data table notebook</a>'\n",
              "            + ' to learn more about interactive tables.';\n",
              "          element.innerHTML = '';\n",
              "          dataTable['output_type'] = 'display_data';\n",
              "          await google.colab.output.renderOutput(dataTable, element);\n",
              "          const docLink = document.createElement('div');\n",
              "          docLink.innerHTML = docLinkHtml;\n",
              "          element.appendChild(docLink);\n",
              "        }\n",
              "      </script>\n",
              "    </div>\n",
              "  </div>\n",
              "  "
            ]
          },
          "metadata": {},
          "execution_count": 125
        }
      ]
    },
    {
      "cell_type": "markdown",
      "source": [
        "Interpretando as informações, temos que:\n",
        "\n",
        "* o p-valor entre ao f1-score refente ao classificador gnb e a acurácia referente ao classificador parzen foi de 0.001;\n",
        "* o p-valor entre ao f1-score refente ao classificador gnb e a acurácia referente ao classificador lr foi de 0.001;\n",
        "* o p-valor entre ao f1-score refente ao classificador parzen e a acurácia referente ao classificador lr foi de 0.001.\n",
        "\n",
        "Como todos os p-valores foram menores do que 0.05, podemos dizer, com 95% de confiança de que todos os classificadores são estatisticamente diferentes quanto ao f1-score"
      ],
      "metadata": {
        "id": "9Q7TAHDXHQRg"
      }
    },
    {
      "cell_type": "markdown",
      "source": [
        "A respeito do desempenho, foi possível observar que o classificador de regressão logística alcançou a melhor acurácia, taxa de erro, precisão e f1-score na validação enquanto o classificador Bayesiano Gaussiano atingiu uma melhor métrica de recall."
      ],
      "metadata": {
        "id": "RiQg8jMWHz1b"
      }
    }
  ]
}