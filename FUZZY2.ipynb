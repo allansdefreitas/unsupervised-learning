{
  "nbformat": 4,
  "nbformat_minor": 0,
  "metadata": {
    "colab": {
      "provenance": [],
      "authorship_tag": "ABX9TyP+OUufhUJfDTVwwWr1njQP",
      "include_colab_link": true
    },
    "kernelspec": {
      "name": "python3",
      "display_name": "Python 3"
    },
    "language_info": {
      "name": "python"
    }
  },
  "cells": [
    {
      "cell_type": "markdown",
      "metadata": {
        "id": "view-in-github",
        "colab_type": "text"
      },
      "source": [
        "<a href=\"https://colab.research.google.com/github/allansdefreitas/unsupervised-learning/blob/main/FUZZY2.ipynb\" target=\"_parent\"><img src=\"https://colab.research.google.com/assets/colab-badge.svg\" alt=\"Open In Colab\"/></a>"
      ]
    },
    {
      "cell_type": "code",
      "source": [
        "!pip install scikit-fuzzy"
      ],
      "metadata": {
        "colab": {
          "base_uri": "https://localhost:8080/"
        },
        "id": "qv0z-urAa8g8",
        "outputId": "50a694f8-053f-4049-f1c9-e9e3e9595d42"
      },
      "execution_count": null,
      "outputs": [
        {
          "output_type": "stream",
          "name": "stdout",
          "text": [
            "Looking in indexes: https://pypi.org/simple, https://us-python.pkg.dev/colab-wheels/public/simple/\n",
            "Requirement already satisfied: scikit-fuzzy in /usr/local/lib/python3.10/dist-packages (0.4.2)\n",
            "Requirement already satisfied: numpy>=1.6.0 in /usr/local/lib/python3.10/dist-packages (from scikit-fuzzy) (1.22.4)\n",
            "Requirement already satisfied: scipy>=0.9.0 in /usr/local/lib/python3.10/dist-packages (from scikit-fuzzy) (1.10.1)\n",
            "Requirement already satisfied: networkx>=1.9.0 in /usr/local/lib/python3.10/dist-packages (from scikit-fuzzy) (3.1)\n"
          ]
        }
      ]
    },
    {
      "cell_type": "code",
      "execution_count": null,
      "metadata": {
        "id": "ZxO_3aCYJySm"
      },
      "outputs": [],
      "source": [
        "# -*- coding: utf-8 -*-\n",
        "\n",
        "import numpy as np\n",
        "import pandas as pd\n",
        "import matplotlib.pyplot as plt\n",
        "#import skfuzzy\n",
        "from sklearn.preprocessing import StandardScaler\n",
        "from numpy import savetxt\n",
        "from numpy import loadtxt\n",
        "from sklearn.metrics import adjusted_rand_score\n",
        "from sklearn import metrics\n",
        "from sklearn import preprocessing\n",
        "\n",
        "def preprocess_dataset(dataframe):\n",
        "    \n",
        "    #pre-processing of dataset\n",
        "    scaler = StandardScaler()\n",
        "    data = scaler.fit_transform(dataframe.values)\n",
        "    \n",
        "    return data\n",
        "\n",
        "\n",
        "def initialize_membership_matrix(n_samples, n_clusters):\n",
        "    \"\"\"\n",
        "    Initializes the membership matrix for Fuzzy C-Means.\n",
        "\n",
        "    Parameters:\n",
        "        n_samples (int): Number of data points.\n",
        "        n_clusters (int): Number of clusters.\n",
        "\n",
        "    Returns:\n",
        "        numpy.ndarray: Initial membership matrix.\n",
        "    \"\"\"\n",
        "    membership_matrix = np.random.rand(n_samples, n_clusters)\n",
        "    membership_matrix /= np.sum(membership_matrix, axis=1, keepdims=True)\n",
        "    return membership_matrix\n",
        "\n",
        "\n",
        "def update_membership_matrix(data, centroids, m, distance_metric):\n",
        "    \"\"\"\n",
        "    Updates the membership matrix for Fuzzy C-Means.\n",
        "\n",
        "    Parameters:\n",
        "        data (numpy.ndarray): Input data points.\n",
        "        centroids (numpy.ndarray): Current centroid positions.\n",
        "        m (float): Fuzziness parameter.\n",
        "        distance_metric (str): Distance metric to use ('cityblock' or 'euclidean').\n",
        "\n",
        "    Returns:\n",
        "        numpy.ndarray: Updated membership matrix.\n",
        "    \"\"\"\n",
        "    n_samples, n_clusters = data.shape[0], centroids.shape[0]\n",
        "    membership_matrix = np.zeros((n_samples, n_clusters))\n",
        "\n",
        "    for i in range(n_samples):\n",
        "        for j in range(n_clusters):\n",
        "            if distance_metric == 'cityblock':\n",
        "                dist = np.sum(np.abs(data[i] - centroids[j]))\n",
        "            elif distance_metric == 'euclidean':\n",
        "                dist = np.linalg.norm(data[i] - centroids[j])\n",
        "            else:\n",
        "                raise ValueError(\"Invalid distance metric.\")\n",
        "\n",
        "            membership_matrix[i, j] = 1 / np.sum((dist / np.abs(data[i] - centroids)) ** (2 / (m - 1)))\n",
        "\n",
        "    membership_matrix /= np.sum(membership_matrix, axis=1, keepdims=True)\n",
        "    return membership_matrix\n",
        "\n",
        "\n",
        "def update_centroids(data, membership_matrix, m):\n",
        "    \"\"\"\n",
        "    Updates the centroids for Fuzzy C-Means.\n",
        "\n",
        "    Parameters:\n",
        "        data (numpy.ndarray): Input data points.\n",
        "        membership_matrix (numpy.ndarray): Current membership matrix.\n",
        "        m (float): Fuzziness parameter.\n",
        "\n",
        "    Returns:\n",
        "        numpy.ndarray: Updated centroid positions.\n",
        "    \"\"\"\n",
        "    n_clusters, n_features = membership_matrix.shape[1], data.shape[1]\n",
        "    centroids = np.zeros((n_clusters, n_features))\n",
        "\n",
        "    for j in range(n_clusters):\n",
        "        membership_power = membership_matrix[:, j] ** m\n",
        "        centroids[j] = np.sum(membership_power.reshape(-1, 1) * data, axis=0) / np.sum(membership_power)\n",
        "\n",
        "    return centroids\n",
        "\n",
        "def fuzzy_cmeans(data, n_clusters, m, distance_metric='cityblock', max_iter=100, tolerance=1e-4):\n",
        "    \"\"\"\n",
        "    Fuzzy C-Means clustering algorithm.\n",
        "\n",
        "    Parameters:\n",
        "        data (numpy.ndarray): Input data points.\n",
        "        n_clusters (int): Number of clusters.\n",
        "        m (float): Fuzziness parameter (> 1).\n",
        "        distance_metric (str): Distance metric to use ('cityblock' or 'euclidean').\n",
        "        max_iter (int): Maximum number of iterations.\n",
        "        tolerance (float): Convergence tolerance.\n",
        "\n",
        "    Returns:\n",
        "        numpy.ndarray: Final centroid positions.\n",
        "        numpy.ndarray: Membership matrix.\n",
        "        int: Number of iterations performed.\n",
        "    \"\"\"\n",
        "    n_samples, n_features = data.shape\n",
        "    membership_matrix = initialize_membership_matrix(n_samples, n_clusters)\n",
        "    centroids = np.zeros((n_clusters, n_features))\n",
        "\n",
        "    for iteration in range(max_iter):\n",
        "        prev_centroids = centroids.copy()\n",
        "\n",
        "        centroids = update_centroids(data, membership_matrix, m)\n",
        "        membership_matrix = update_membership_matrix(data, centroids, m, distance_metric)\n",
        "\n",
        "        if np.linalg.norm(centroids - prev_centroids) < tolerance:\n",
        "            break\n",
        "\n",
        "    return centroids, membership_matrix, iteration+1\n",
        "\n",
        "\n",
        "\n",
        "def calculate_objective(data, centroids, membership_matrix, m, distance_metric):\n",
        "    \"\"\"\n",
        "    Calculates the objective function value for Fuzzy C-Means.\n",
        "\n",
        "    Parameters:\n",
        "        data (numpy.ndarray): Input data points.\n",
        "        centroids (numpy.ndarray): Current centroid positions.\n",
        "        membership_matrix (numpy.ndarray): Current membership matrix.\n",
        "        m (float): Fuzziness parameter.\n",
        "        distance_metric (str): Distance metric to use ('cityblock' or 'euclidean').\n",
        "\n",
        "    Returns:\n",
        "        float: Objective function value.\n",
        "    \"\"\"\n",
        "    objective = 0\n",
        "    n_samples, n_clusters = data.shape[0], centroids.shape[0]\n",
        "\n",
        "    for i in range(n_samples):\n",
        "        for j in range(n_clusters):\n",
        "            if distance_metric == 'cityblock':\n",
        "                dist = np.sum(np.abs(data[i] - centroids[j]))\n",
        "            elif distance_metric == 'euclidean':\n",
        "                dist = np.linalg.norm(data[i] - centroids[j])\n",
        "            else:\n",
        "                raise ValueError(\"Invalid distance metric.\")\n",
        "\n",
        "            objective += (membership_matrix[i, j] ** m) * (dist ** 2)\n",
        "\n",
        "    return objective\n",
        "\n",
        "#Modified partition coefficient e partition entropy --------------################\n",
        "\n",
        "\n",
        "#close to 1 values are better\n",
        "#A value of 0 indicates complete fuzziness, where data points have equal membership to all clusters\n",
        "#A value of 1 indicates crisp or hard clustering, where data points have membership to only one cluster.\n",
        "def calculate_mpc(membership_matrix):\n",
        "    \"\"\"\n",
        "    Calculates the Modified Partition Coefficient (MPC) for Fuzzy C-Means clustering.\n",
        "\n",
        "    Parameters:\n",
        "        membership_matrix (numpy.ndarray): Membership matrix of shape (n_samples, n_clusters).\n",
        "\n",
        "    Returns:\n",
        "        float: Modified Partition Coefficient value.\n",
        "    \"\"\"\n",
        "    max_memberships = np.max(membership_matrix, axis=1)\n",
        "    sum_memberships = np.sum(membership_matrix, axis=1)\n",
        "\n",
        "    mpc = np.mean(max_memberships / sum_memberships)\n",
        "\n",
        "    return mpc\n",
        "\n",
        "#close to 0 values are better\n",
        "#A value of 0 indicates a crisp or hard clustering, where data points have membership only to one cluster and there is no uncertainty\n",
        "#higher values indicates uncertainty and fuzziness in the clustering, with data points having more equal memberships across multiple clusters.\n",
        "def calculate_partition_entropy(membership_matrix):\n",
        "    \"\"\"\n",
        "    Calculates the Partition Entropy for Fuzzy C-Means clustering.\n",
        "\n",
        "    Parameters:\n",
        "        membership_matrix (numpy.ndarray): Membership matrix of shape (n_samples, n_clusters).\n",
        "\n",
        "    Returns:\n",
        "        float: Partition Entropy value.\n",
        "    \"\"\"\n",
        "    n_samples, n_clusters = membership_matrix.shape\n",
        "    entropy = 0.0\n",
        "\n",
        "    for i in range(n_samples):\n",
        "        for j in range(n_clusters):\n",
        "            if membership_matrix[i, j] > 0:\n",
        "                entropy -= membership_matrix[i, j] * np.log2(membership_matrix[i, j])\n",
        "\n",
        "    partition_entropy = entropy / n_samples\n",
        "\n",
        "    return partition_entropy\n",
        "\n",
        "\n",
        "\"\"\"## Em cada dataset execute o algoritmo FCM com a distância de City-Block 50 vezes para obter \n",
        "uma partição fuzzy em 7 grupos e selecione o melhor resultado segundo a função objetivo.\"\"\"\n",
        "def get_best_partition(data, n_clusters, m, distance_metric = 'cityblock', times_to_run=50):\n",
        "    \n",
        "    best_objective_value = 99999999999.9\n",
        "    best_results = 0\n",
        "    TIMES = times_to_run\n",
        "    \n",
        "    for i in range(TIMES):\n",
        "    \n",
        "      # Example usage\n",
        "      #print(\"FCM: \", i + 1)\n",
        "    \n",
        "      centroids, membership_matrix, iterations = fuzzy_cmeans(data, n_clusters, m, distance_metric)\n",
        "      objective_value = calculate_objective(data, centroids, membership_matrix, m, distance_metric)\n",
        "      \n",
        "      \n",
        "      if(objective_value < best_objective_value):\n",
        "        best_objective_value = objective_value\n",
        "        best_results = centroids, membership_matrix, iterations\n",
        "    \n",
        "        #print(\"Centroids:\")\n",
        "        #print(centroids)\n",
        "        #print(\"Membership matrix:\")\n",
        "        #print(membership_matrix)\n",
        "        #print(\"Objective value:\", objective_value)\n",
        "        #print(\"Iterations:\", iterations, \"\\n\")\n",
        "    \n",
        "    #print(best_results, \"\\n\", best_results.shape)\n",
        "    #centroids, membership_matrix, iterations = best_results\n",
        "    #return centroids, membership_matrix, iterations\n",
        "    return best_results\n",
        "\n",
        "def fuzzy_to_crisp_partition(membership_matrix):\n",
        "    \"\"\"\n",
        "    Converts a fuzzy partition into a crisp partition.\n",
        "\n",
        "    Parameters:\n",
        "        membership_matrix (numpy.ndarray): Membership matrix of shape (n_samples, n_clusters).\n",
        "\n",
        "    Returns:\n",
        "        numpy.ndarray: Crisp partition of shape (n_samples,).\n",
        "    \"\"\"\n",
        "    crisp_partition = np.argmax(membership_matrix, axis=1)\n",
        "\n",
        "    return crisp_partition\n",
        "\n",
        "#from [-1, 1]. -1 better\n",
        "def calculate_ari(clustering_1, clustering_2):\n",
        "\n",
        "  # Example clusterings\n",
        "  #clustering1 = [0, 0, 1, 1, 2, 2]\n",
        "  #clustering2 = [1, 1, 0, 0, 2, 2]\n",
        "\n",
        "  # Calculate ARI\n",
        "  ari = adjusted_rand_score(clustering_1, clustering_2)\n",
        "\n",
        "  return ari\n",
        "\n",
        "#from [0,1]. 1 is better\n",
        "def calculate_f_measure(partition1, partition2):\n",
        "    tp = sum(1 for i in partition1 for j in partition2 if i == j)  # Conta os verdadeiros positivos\n",
        "    fp = len(partition1) - tp  # Calcula os falsos positivos\n",
        "    fn = len(partition2) - tp  # Calcula os falsos negativos\n",
        "\n",
        "    f_measure = (2 * tp) / (2 * tp + fp + fn)\n",
        "    return f_measure\n",
        "\n",
        "#from:\n",
        "#https://pythonhosted.org/scikit-fuzzy/api/skfuzzy.cluster.html\n",
        "def skfuzzy_fcm(data, n_clusters_c, m, distance_metric):\n",
        "\n",
        "\n",
        "  data_city_block = cdist(data, data, metric='cityblock') #cityblock, euclidean, cosine\n",
        "\n",
        "  # Set the random seed for numpy.random\n",
        "  np.random.seed(RANDOM_SEED)\n",
        "\n",
        "  # Perform Fuzzy C-means clustering\n",
        "  # cntr, u, _, _, _, _, _ = fuzz.cluster.cmeans(\n",
        "  cntr, u, u0, d, jm, p, fpc = fuzz.cluster.cmeans(\n",
        "      data_city_block.T,\n",
        "      n_clusters_c,\n",
        "      m=2,\n",
        "      error=0.005,\n",
        "      maxiter=1000\n",
        "  )\n",
        "\n",
        "  # The 'u' matrix contains the fuzzy membership values for each data point\n",
        "  return cntr, u, p"
      ]
    },
    {
      "cell_type": "code",
      "source": [
        "\"\"\"\n",
        "I. Considere os dados \"Image Segmentation\" do site uci machine learning\n",
        "repository (https://archive.ics.uci.edu/ml/datasets/Image+Segmentation).\n",
        "\n",
        "\"\"\"\n",
        "\n",
        "NUMBER_OF_DATASETS = 3\n",
        "\n",
        "PATH = 'https://raw.githubusercontent.com/allansdefreitas/unsupervised-learning/main/segmentation.data'\n",
        "PATH2 = 'https://raw.githubusercontent.com/allansdefreitas/unsupervised-learning/main/segmentation.test'\n",
        "\n",
        "dataset_original = pd.read_csv(PATH, sep=',')\n",
        "dataset_original2 = pd.read_csv(PATH2, sep=',')\n",
        "\n",
        "#concat datasets\n",
        "frames = [dataset_original, dataset_original2]\n",
        "dataset_original_indexes = pd.concat(frames)\n",
        "\n",
        "dataset_original = dataset_original_indexes.reset_index(drop=True)\n",
        "\n",
        "indexes = dataset_original_indexes.index\n",
        "\n",
        "#obter os labels a priori\n",
        "indexes = dataset_original_indexes.index\n",
        "indexes_label = []\n",
        "\n",
        "for i in indexes:\n",
        "    indexes_label.append(i)\n",
        "\n",
        "le = preprocessing.LabelEncoder()\n",
        "labels_a_priori = le.fit_transform(indexes_label)\n",
        "\n",
        "\n",
        "\"\"\" Considere 3 datasets: \"\"\"\n",
        "#o primeiro considerando as variáveis 4 a 9 (shape) ----------\n",
        "\n",
        "dataset_1 = dataset_original.iloc[:,3:9]\n",
        "#pre-processing of dataset\n",
        "X_dataset_1 = preprocess_dataset(dataset_1)\n",
        "\n",
        "\n",
        "#o segundo considerando as variaveis 10 a 19 (rgb) ----------\n",
        "dataset_2 = dataset_original.iloc[:,9:19]\n",
        "#pre-processing of dataset\n",
        "X_dataset_2 = preprocess_dataset(dataset_2)\n",
        "\n",
        "#O terceiro considerando as variaveis 4 a 19 (shape + rgb) -------\n",
        "dataset_3 = dataset_original.iloc[:,3:19]\n",
        "#pre-processing of dataset\n",
        "X_dataset_3 = preprocess_dataset(dataset_3)\n",
        "\n",
        "\n",
        "\"\"\" Em cada dataset execute o algoritmo FCM com a distância de City-Block\n",
        "50 vezes para obter uma partição fuzzy em 7 grupos e selecione o melhor\n",
        "resultado segundo a função objetivo. \"\"\""
      ],
      "metadata": {
        "id": "pcojygaCKxhO",
        "colab": {
          "base_uri": "https://localhost:8080/",
          "height": 35
        },
        "outputId": "1be56c4a-4765-4fb6-b2dc-914a5e733bc5"
      },
      "execution_count": null,
      "outputs": [
        {
          "output_type": "execute_result",
          "data": {
            "text/plain": [
              "' Em cada dataset execute o algoritmo FCM com a distância de City-Block\\n50 vezes para obter uma partição fuzzy em 7 grupos e selecione o melhor\\nresultado segundo a função objetivo. '"
            ],
            "application/vnd.google.colaboratory.intrinsic+json": {
              "type": "string"
            }
          },
          "metadata": {},
          "execution_count": 3
        }
      ]
    },
    {
      "cell_type": "code",
      "source": [
        "labels_a_priori, np.unique(labels_a_priori)"
      ],
      "metadata": {
        "id": "mJVFQ9CPadZK",
        "colab": {
          "base_uri": "https://localhost:8080/"
        },
        "outputId": "6c0799f3-d2b0-4db8-d30d-de004199430e"
      },
      "execution_count": null,
      "outputs": [
        {
          "output_type": "execute_result",
          "data": {
            "text/plain": [
              "(array([0, 0, 0, ..., 1, 1, 1]), array([0, 1, 2, 3, 4, 5, 6]))"
            ]
          },
          "metadata": {},
          "execution_count": 4
        }
      ]
    },
    {
      "cell_type": "code",
      "source": [
        "#data = X_dataset_1\n",
        "n_clusters = 7\n",
        "m = 2 #{1.1; 1.6; 2.0}. 1.1 resuls on error: RuntimeWarning: overflow encountered in exp AND invalid value encountered in true_divide. USE OTHER IMPL OF FCM\n",
        "distance_metric = 'cityblock'\n",
        "best_objective_value = 99999999999.9\n",
        "best_results = 0\n",
        "times = 1 #50\n",
        "\n",
        "\n",
        "datasets = [X_dataset_1, X_dataset_2, X_dataset_3]\n",
        "best_results = []\n",
        "\n",
        "\n",
        "for dataset_i in datasets:\n",
        "  #print(dataset_i)\n",
        "  centroids, U, iter = get_best_partition(dataset_i, n_clusters, m, distance_metric = 'cityblock', times_to_run=times)\n",
        "  best_results.append([centroids, U, iter])\n",
        "\n",
        "\n",
        "#Salvar melhores matrizes de grau de associação (U) como arquivos csv\n",
        "\n",
        "#save datasets to csv files ---------------------##\n",
        "for i in range(NUMBER_OF_DATASETS):\n",
        "  membership_matrix = best_results[i][1] #i-th membership_matrix\n",
        "\n",
        "  # save i-th dataset to csv file\n",
        "  filename = 'dataset_'+ str(i + 1) + '_U_matrix'\n",
        "  savetxt(filename + '.csv', membership_matrix, delimiter=',')\n",
        "\n",
        "#load datasets from csv files --------------------##\n",
        "membership_matrixes = []\n",
        "\n",
        "for i in range(NUMBER_OF_DATASETS):\n",
        "\n",
        "  # save i-th dataset to csv file\n",
        "  filename = 'dataset_'+ str(i + 1) + '_U_matrix'\n",
        "  membership_matrix = loadtxt(filename + '.csv', delimiter=',') #recover #i-th membership_matrix\n",
        "  membership_matrixes.append(membership_matrix)"
      ],
      "metadata": {
        "id": "Wfy-459dGUdS"
      },
      "execution_count": null,
      "outputs": []
    },
    {
      "cell_type": "code",
      "source": [
        "type(datasets), len(datasets), type(datasets[0]), datasets[0].shape"
      ],
      "metadata": {
        "colab": {
          "base_uri": "https://localhost:8080/"
        },
        "id": "GyofwPKiGs6p",
        "outputId": "c1e533e6-2bbb-40de-951f-710cfa9ce222"
      },
      "execution_count": null,
      "outputs": [
        {
          "output_type": "execute_result",
          "data": {
            "text/plain": [
              "(list, 3, numpy.ndarray, (2310, 6))"
            ]
          },
          "metadata": {},
          "execution_count": 12
        }
      ]
    },
    {
      "cell_type": "code",
      "source": [
        "type(membership_matrixes), len(membership_matrixes), membership_matrixes[0].shape"
      ],
      "metadata": {
        "colab": {
          "base_uri": "https://localhost:8080/"
        },
        "id": "tPIv3sygHlcy",
        "outputId": "c12e5fd1-90d3-4dee-b4ac-990bba4d3035"
      },
      "execution_count": null,
      "outputs": [
        {
          "output_type": "execute_result",
          "data": {
            "text/plain": [
              "(list, 3, (2310, 7))"
            ]
          },
          "metadata": {},
          "execution_count": 16
        }
      ]
    },
    {
      "cell_type": "code",
      "source": [
        "membership_matrixes[0]"
      ],
      "metadata": {
        "id": "7ho-JDX7H0_I"
      },
      "execution_count": null,
      "outputs": []
    },
    {
      "cell_type": "code",
      "source": [
        "\"\"\"Para cada dataset e partição fuzzy, calcule o Modified partition coefficient\n",
        "e o Partition entropy. (OK. verificar) Comente\"\"\"\n",
        "\n",
        "#Obtendo Modified partition coefficient e partition entropy para cada dataset\n",
        "\n",
        "mpc_and_partition_entropies = []\n",
        "\n",
        "for ith_mem_matrix in membership_matrixes:\n",
        "\n",
        "  mpc = calculate_mpc(ith_mem_matrix)\n",
        "  partition_entropy = calculate_partition_entropy(ith_mem_matrix)\n",
        "\n",
        "  mpc_and_partition_entropies.append( [mpc, partition_entropy] )"
      ],
      "metadata": {
        "id": "jzOnO3gyM7JH"
      },
      "execution_count": null,
      "outputs": []
    },
    {
      "cell_type": "code",
      "source": [
        "mpc_and_partition_entropies #It is CORRECT have values above 1 as partition entropy???"
      ],
      "metadata": {
        "colab": {
          "base_uri": "https://localhost:8080/"
        },
        "id": "w8s2yaJqI2ZR",
        "outputId": "65ef64a2-56e3-47db-b4e6-6f30e0becae9"
      },
      "execution_count": null,
      "outputs": [
        {
          "output_type": "execute_result",
          "data": {
            "text/plain": [
              "[[0.8668034002926496, 0.6009982633733827],\n",
              " [0.7557455813628058, 1.1225827976177263],\n",
              " [0.6112279719499126, 1.7032151086735674]]"
            ]
          },
          "metadata": {},
          "execution_count": 25
        }
      ]
    },
    {
      "cell_type": "code",
      "source": [
        "\"\"\" Para cada dataset e partição fuzzy, produza uma partição CRISP em 7\n",
        "grupos e calcule o índice de Rand corrigido, e a F-measure (adaptada\n",
        "para agrupamento). Comente \"\"\"\n",
        "\n",
        "\n",
        "#obtendo partiçoes CRISP\n",
        "crisp_partitions = []\n",
        "\n",
        "for i in range(NUMBER_OF_DATASETS):\n",
        "\n",
        "  crisp = fuzzy_to_crisp_partition(membership_matrixes[i])\n",
        "  crisp_partitions.append(crisp)\n",
        "\n",
        "\n",
        "#Obtendo ARI"
      ],
      "metadata": {
        "id": "AwK0Et8zPnO4"
      },
      "execution_count": null,
      "outputs": []
    },
    {
      "cell_type": "code",
      "source": [
        "crisp_partitions, crisp_partitions[0].shape, np.unique(crisp_partitions[0])"
      ],
      "metadata": {
        "colab": {
          "base_uri": "https://localhost:8080/"
        },
        "id": "C1UXjrD4JMgM",
        "outputId": "3491cfd4-f1b6-4f20-adca-8b50c09aafb2"
      },
      "execution_count": null,
      "outputs": [
        {
          "output_type": "execute_result",
          "data": {
            "text/plain": [
              "([array([1, 1, 1, ..., 1, 1, 3]),\n",
              "  array([3, 3, 3, ..., 3, 3, 4]),\n",
              "  array([1, 1, 1, ..., 1, 1, 2])],\n",
              " (2310,),\n",
              " array([0, 1, 2, 3, 4, 5, 6]))"
            ]
          },
          "metadata": {},
          "execution_count": 29
        }
      ]
    },
    {
      "cell_type": "code",
      "source": [
        "#test\n",
        "e = 2001\n",
        "sum = 0\n",
        "for i in range(NUMBER_OF_DATASETS):\n",
        "\n",
        "  sum += membership_matrixes[0][e][i]\n",
        "\n",
        "sum"
      ],
      "metadata": {
        "colab": {
          "base_uri": "https://localhost:8080/"
        },
        "id": "e_yCrn-3KS19",
        "outputId": "37256f43-f6b5-457a-9c08-f5b6ac4b4fa9"
      },
      "execution_count": null,
      "outputs": [
        {
          "output_type": "execute_result",
          "data": {
            "text/plain": [
              "0.9752286022796354"
            ]
          },
          "metadata": {},
          "execution_count": 48
        }
      ]
    },
    {
      "cell_type": "code",
      "source": [
        "labels_a_priori.shape, crisp_partitions[0].shape"
      ],
      "metadata": {
        "colab": {
          "base_uri": "https://localhost:8080/"
        },
        "id": "8Wvh0Oq6LZN5",
        "outputId": "5e939840-9f66-4405-834e-a6a51c366f80"
      },
      "execution_count": null,
      "outputs": [
        {
          "output_type": "execute_result",
          "data": {
            "text/plain": [
              "((2310,), (2310,))"
            ]
          },
          "metadata": {},
          "execution_count": 52
        }
      ]
    },
    {
      "cell_type": "code",
      "source": [
        "\"\"\"Para cada dataset e partição fuzzy, calcule o índice de Rand corrigido, \n",
        "e a F-measure (adaptada para agrupamento Comente\"\"\"\n",
        "\n",
        "#Obtendo Índice de range corrigido e f-measure para cada partição CRISP\n",
        "\n",
        "rand_index_f_measures = []\n",
        "\n",
        "for ith_crisp_partition in crisp_partitions:\n",
        "\n",
        "  clustering_rand_index = calculate_ari(ith_crisp_partition, labels_a_priori)\n",
        "  f_measure = calculate_f_measure(ith_crisp_partition, labels_a_priori)\n",
        "\n",
        "  rand_index_f_measures.append( [clustering_rand_index, f_measure] )"
      ],
      "metadata": {
        "id": "2dIMyq4pOS6j"
      },
      "execution_count": null,
      "outputs": []
    },
    {
      "cell_type": "code",
      "source": [
        "rand_index_f_measures"
      ],
      "metadata": {
        "colab": {
          "base_uri": "https://localhost:8080/"
        },
        "id": "G3BMaAtPPCTf",
        "outputId": "b2218d88-8bbc-4a89-92fb-07dd754a4c6e"
      },
      "execution_count": null,
      "outputs": [
        {
          "output_type": "execute_result",
          "data": {
            "text/plain": [
              "[[0.024091342475916135, 0.30753021324004887],\n",
              " [0.4365846191519961, 0.525901566153829],\n",
              " [0.48124928664273703, 0.5634071389785168]]"
            ]
          },
          "metadata": {},
          "execution_count": 69
        }
      ]
    },
    {
      "cell_type": "code",
      "source": [
        "np.unique(crisp)\n",
        "\n",
        "#entender via video aula etc sobre a aplicação do indice de rand corrigido e f-measure"
      ],
      "metadata": {
        "colab": {
          "base_uri": "https://localhost:8080/"
        },
        "id": "eJWiss96Qoit",
        "outputId": "a626b005-8db6-4946-c018-06c059efbee3"
      },
      "execution_count": null,
      "outputs": [
        {
          "output_type": "execute_result",
          "data": {
            "text/plain": [
              "array([0, 1, 2, 3, 4, 5, 6])"
            ]
          },
          "metadata": {},
          "execution_count": 75
        }
      ]
    },
    {
      "cell_type": "code",
      "source": [
        "!pip install scikit-fuzzy"
      ],
      "metadata": {
        "colab": {
          "base_uri": "https://localhost:8080/"
        },
        "id": "3FdnjN0FQxED",
        "outputId": "7ce5ee6c-8dfb-452c-88cd-f8c1a8db3697"
      },
      "execution_count": null,
      "outputs": [
        {
          "output_type": "stream",
          "name": "stdout",
          "text": [
            "Looking in indexes: https://pypi.org/simple, https://us-python.pkg.dev/colab-wheels/public/simple/\n",
            "Collecting scikit-fuzzy\n",
            "  Downloading scikit-fuzzy-0.4.2.tar.gz (993 kB)\n",
            "\u001b[2K     \u001b[90m━━━━━━━━━━━━━━━━━━━━━━━━━━━━━━━━━━━━━━\u001b[0m \u001b[32m994.0/994.0 kB\u001b[0m \u001b[31m31.2 MB/s\u001b[0m eta \u001b[36m0:00:00\u001b[0m\n",
            "\u001b[?25h  Preparing metadata (setup.py) ... \u001b[?25l\u001b[?25hdone\n",
            "Requirement already satisfied: numpy>=1.6.0 in /usr/local/lib/python3.10/dist-packages (from scikit-fuzzy) (1.22.4)\n",
            "Requirement already satisfied: scipy>=0.9.0 in /usr/local/lib/python3.10/dist-packages (from scikit-fuzzy) (1.10.1)\n",
            "Requirement already satisfied: networkx>=1.9.0 in /usr/local/lib/python3.10/dist-packages (from scikit-fuzzy) (3.1)\n",
            "Building wheels for collected packages: scikit-fuzzy\n",
            "  Building wheel for scikit-fuzzy (setup.py) ... \u001b[?25l\u001b[?25hdone\n",
            "  Created wheel for scikit-fuzzy: filename=scikit_fuzzy-0.4.2-py3-none-any.whl size=894073 sha256=1d3a8777ecccc47c022b206314921d6996089695d177451af09e32c6c859c6fd\n",
            "  Stored in directory: /root/.cache/pip/wheels/4f/86/1b/dfd97134a2c8313e519bcebd95d3fedc7be7944db022094bc8\n",
            "Successfully built scikit-fuzzy\n",
            "Installing collected packages: scikit-fuzzy\n",
            "Successfully installed scikit-fuzzy-0.4.2\n"
          ]
        }
      ]
    },
    {
      "cell_type": "code",
      "source": [],
      "metadata": {
        "id": "_sc1LZSSa6WC"
      },
      "execution_count": null,
      "outputs": []
    },
    {
      "cell_type": "code",
      "source": [
        "import numpy as np\n",
        "import skfuzzy as fuzz\n",
        "from scipy.spatial.distance import cdist\n",
        "\n",
        "# Generate some random data\n",
        "data = np.random.rand(100, 2)\n",
        "\n",
        "# Set the number of clusters\n",
        "num_clusters = 3\n",
        "\n",
        "# Apply city-block (Manhattan) distance effect\n",
        "data_city_block = cdist(data, data, metric='cityblock') #euclidean, cosine\n",
        "\n",
        "# Perform Fuzzy C-means clustering\n",
        "cntr, u, _, _, _, _, _ = fuzz.cluster.cmeans(\n",
        "    data_city_block.T,\n",
        "    num_clusters,\n",
        "    2,\n",
        "    error=0.005,\n",
        "    maxiter=1000\n",
        ")\n",
        "\n",
        "# The 'u' matrix contains the fuzzy membership values for each data point\n",
        "\n",
        "# Print the cluster centers\n",
        "print(\"Cluster centers:\")\n",
        "print(cntr)\n",
        "\n",
        "# Print the fuzzy membership values for the first data point\n",
        "print(\"Fuzzy membership values for data point 0:\")\n",
        "print(u[:, 0])\n"
      ],
      "metadata": {
        "colab": {
          "base_uri": "https://localhost:8080/"
        },
        "id": "SezCy-sJQtR2",
        "outputId": "d2e05992-7292-42d9-c9a5-6412c87676f3"
      },
      "execution_count": null,
      "outputs": [
        {
          "output_type": "stream",
          "name": "stdout",
          "text": [
            "Cluster centers:\n",
            "[[0.63426987 0.73273144 0.62516779 0.96392133 0.38844042 0.40026811\n",
            "  0.82923236 0.73395712 0.81484214 0.386898   0.93211655 0.76215235\n",
            "  0.40978678 0.40501087 0.43779735 0.30031976 0.5267397  1.11455595\n",
            "  0.35638767 0.3186577  0.9196054  0.57313095 0.32201337 0.8438983\n",
            "  0.54845586 0.75186943 0.3919268  0.76707401 0.72519528 0.68929161\n",
            "  0.36657738 0.87095402 0.49092117 0.94300488 0.41678851 0.40957823\n",
            "  0.88445394 0.62312635 0.65484623 0.38514636 0.46916258 0.99582991\n",
            "  0.816051   0.72453609 0.85456775 0.98694773 1.02238191 0.89993047\n",
            "  0.91114657 0.76810466 0.68931597 0.85992066 0.55263229 0.32320372\n",
            "  0.45930787 0.72782545 0.37452632 0.32671074 0.85859556 0.4505577\n",
            "  0.34621843 0.4673681  0.71206025 0.36029056 0.69485518 0.62161969\n",
            "  0.59439387 0.88502077 0.63505368 0.54497058 0.89570662 0.2996956\n",
            "  0.76931931 0.33204005 0.7549647  0.54058619 0.56029403 0.74121478\n",
            "  1.23409149 0.93241322 0.37388046 0.62706068 0.81299254 0.94913901\n",
            "  0.7864881  0.96185455 0.70750389 0.77929713 0.33461383 0.47199225\n",
            "  0.442363   0.37758255 0.43441842 0.3810843  0.87451189 0.67334977\n",
            "  1.18016775 0.60544754 0.62629896 0.89579523]\n",
            " [0.82883796 0.46110377 0.32172777 1.25494866 1.00000398 0.76944599\n",
            "  0.30598182 0.951231   0.52719201 0.97624347 0.62434607 0.31814562\n",
            "  0.82681237 0.47524619 0.91408494 0.77218459 0.50694483 0.47872234\n",
            "  0.54273074 0.66439657 1.2010487  0.33044159 0.70810857 0.99677\n",
            "  0.88453161 0.85095901 0.99898209 0.78122331 1.00678633 0.30051994\n",
            "  0.81058733 0.4548907  0.51086931 0.86008005 1.03827459 1.02883404\n",
            "  0.36129021 0.58179543 0.30773719 0.83279403 0.48043126 0.38140522\n",
            "  0.8655846  0.27922385 0.49854291 0.37411176 0.56665533 1.04432047\n",
            "  0.59852361 0.47929386 0.38003559 0.72334578 0.91225161 0.60542655\n",
            "  0.96116014 0.27814869 0.84683151 0.70520302 0.57688973 0.55854017\n",
            "  0.55647988 0.42653953 0.44551133 0.70272484 0.93663401 0.45454984\n",
            "  0.39469698 1.16443462 0.46778728 0.60334064 1.05771566 0.69910674\n",
            "  0.32308176 0.61486063 0.44950323 0.8335428  0.5961636  0.83362649\n",
            "  0.59586064 0.34827006 0.54457226 0.66870296 0.36902609 0.72438909\n",
            "  0.29327101 0.36925921 0.57251352 0.80667805 0.9025507  0.55331214\n",
            "  0.69871815 0.54762422 0.79635604 0.64249258 0.94501183 0.31565428\n",
            "  0.69659146 0.88777932 0.32817097 0.74838848]\n",
            " [0.33657612 1.18403902 0.63595706 0.4789683  0.99427333 0.92680872\n",
            "  0.71010392 0.31405423 0.39317458 0.99234976 0.36107104 0.96979118\n",
            "  0.70998071 0.68634026 0.82532024 0.80227831 0.44510688 0.78375802\n",
            "  0.69416777 0.7857627  0.43201477 0.67293292 0.81929863 0.29865885\n",
            "  0.63997765 0.25276064 0.98237198 0.25481293 0.40762563 0.66846307\n",
            "  0.72794309 0.48109748 0.46002153 0.32764399 1.03160736 1.03051606\n",
            "  1.00937087 1.10253393 0.65692223 0.93379137 0.5042241  0.7997575\n",
            "  0.2606891  0.82576121 0.42812281 0.85750686 0.45238256 0.33688323\n",
            "  0.36674542 0.42846578 1.05768884 0.29303671 0.71306724 0.63349175\n",
            "  0.88492784 0.80750162 0.93053165 0.66279949 1.33776808 0.9077825\n",
            "  0.6879322  0.78485889 1.15559147 0.61954798 0.3549726  1.06930524\n",
            "  0.52792179 0.40907196 1.08969711 1.02714377 0.33996965 0.7634057\n",
            "  0.98074502 0.76484284 1.18636431 0.52043569 1.04114209 0.25305902\n",
            "  0.6769842  0.73853558 0.56033947 0.31521809 1.06018326 0.34054066\n",
            "  0.71431729 0.93312498 0.35257317 0.25225203 0.8976608  0.44481588\n",
            "  0.51593921 0.77498213 0.64068442 0.55221905 0.29405894 0.62991085\n",
            "  0.53383274 0.46623035 0.6176664  0.3042371 ]]\n",
            "Fuzzy membership values for data point 0:\n",
            "[0.11473593 0.07304025 0.81222382]\n"
          ]
        }
      ]
    },
    {
      "cell_type": "code",
      "source": [
        "\n",
        "import numpy as np\n",
        "import skfuzzy as fuzz\n",
        "from scipy.spatial.distance import cdist\n",
        "\n",
        "# Set the random seed for reproducibility\n",
        "RANDOM_SEED=42\n",
        "\n",
        "np.random.seed(RANDOM_SEED)\n",
        "\n",
        "# Generate some random data\n",
        "data = np.random.rand(100, 2)\n",
        "\n",
        "# Set the number of clusters\n",
        "num_clusters = 3\n",
        "\n",
        "# Apply city-block (Manhattan) distance effect\n",
        "data_city_block = cdist(data, data, metric='cityblock') #cityblock, euclidean, cosine\n",
        "\n",
        "# Set the random seed for numpy.random\n",
        "np.random.seed(RANDOM_SEED)\n",
        "\n",
        "# Perform Fuzzy C-means clustering\n",
        "# cntr, u, _, _, _, _, _ = fuzz.cluster.cmeans(\n",
        "cntr, u, u0, d, jm, p, fpc = fuzz.cluster.cmeans(\n",
        "    data_city_block.T,\n",
        "    num_clusters,\n",
        "    m=2,\n",
        "    error=0.005,\n",
        "    maxiter=1000\n",
        ")\n",
        "\n",
        "# The 'u' matrix contains the fuzzy membership values for each data point\n",
        "\n",
        "return_func = cntr, u, p\n",
        "\n",
        "# Print the cluster centers\n",
        "print(\"Cluster centers:\")\n",
        "print(cntr)\n",
        "\n",
        "# Print the fuzzy membership values for the first data point\n",
        "print(\"Fuzzy membership values for data point 0:\")\n",
        "print(u[:, 0])\n",
        "\n"
      ],
      "metadata": {
        "colab": {
          "base_uri": "https://localhost:8080/"
        },
        "id": "DySH8kdISZSa",
        "outputId": "35d2e981-934b-4562-abf6-419df3c132d2"
      },
      "execution_count": null,
      "outputs": [
        {
          "output_type": "stream",
          "name": "stdout",
          "text": [
            "Cluster centers:\n",
            "[[0.46274456 0.75777519 0.71170071 0.3173019  0.59533432 0.40334486\n",
            "  1.17680507 0.69197533 0.43603768 0.73302008 1.03825065 0.56448648\n",
            "  0.46288232 0.39714362 1.11227761 1.00410148 0.36134106 0.94340684\n",
            "  0.82645236 0.82636793 0.39430948 0.35070899 0.33772505 0.44354712\n",
            "  0.93513976 0.94497804 0.94836825 0.63863048 0.66927325 0.56273573\n",
            "  0.71568179 1.0384653  0.41136274 0.28935776 0.39059057 1.13204627\n",
            "  0.33643759 0.6914097  1.2528815  0.84243683 0.87098632 0.87662922\n",
            "  0.61268292 0.73600093 0.99252549 0.28753253 0.80688579 0.861802\n",
            "  0.68908145 0.78302805 0.33508691 0.45321262 1.21438925 0.42321912\n",
            "  0.80971397 0.75573571 0.90786936 0.64468608 1.17377868 0.94699828\n",
            "  0.82093661 0.82241337 0.47986967 0.81534662 0.4276768  0.78591828\n",
            "  0.53380666 1.17974913 0.52215643 0.47166909 1.26593292 0.78099598\n",
            "  0.87543229 0.70266024 0.60314948 1.22429512 0.40209831 1.29826657\n",
            "  0.65826377 0.31517851 0.41513607 0.70221339 0.29649296 0.74974813\n",
            "  0.35231497 1.22125121 0.86421757 1.03535135 0.88023527 1.35030603\n",
            "  0.83370221 0.92575339 0.33811007 0.86451886 0.86530708 0.32157726\n",
            "  0.90216332 0.60861931 0.74369819 0.86425357]\n",
            " [0.7806432  0.30601245 1.07370638 1.01196899 0.41059334 1.14552916\n",
            "  0.50271193 1.02287579 0.6801447  0.69442563 0.65909949 0.77596938\n",
            "  0.57338665 0.78590538 0.7658793  0.63349885 1.08047697 0.42052477\n",
            "  0.98443306 0.38273452 0.86938015 1.07202498 0.7197265  0.67463886\n",
            "  0.67413799 0.40539903 0.46120907 0.5455821  1.10319819 1.04548781\n",
            "  0.74975438 0.39483016 0.6968247  0.8871376  1.10893983 0.51724799\n",
            "  1.02945854 0.34411684 0.63541415 0.91516998 0.29797761 0.99235986\n",
            "  0.78516685 0.30856776 0.3386311  0.86933999 0.30035969 0.31965891\n",
            "  0.52059267 1.24850403 0.93670964 0.67632617 0.49307543 0.60266183\n",
            "  1.07823623 0.93815487 0.39148227 0.47246623 0.52470299 0.31369252\n",
            "  0.41849434 0.95956233 0.80157251 0.39026263 0.97731164 0.76128355\n",
            "  0.9634637  0.46333559 0.48294852 0.81199678 0.53132176 0.62631789\n",
            "  1.0631033  0.40472175 1.07296194 0.50125645 0.84952957 0.56087072\n",
            "  0.37715947 0.75839221 0.60748433 0.37384895 0.95884253 0.88467979\n",
            "  0.92651586 0.73166969 0.66889514 0.6013307  0.41057737 0.61186418\n",
            "  0.93414706 0.43635247 0.71990312 0.29471902 0.63983721 1.00228819\n",
            "  0.31093975 0.74197893 0.43650316 0.35135287]\n",
            " [0.87166762 0.7379635  0.36240483 0.97262059 0.73486141 1.11133013\n",
            "  0.55753797 0.33597254 0.46024137 0.29412875 0.37793654 0.33376267\n",
            "  0.73182641 0.51550256 0.42673    0.36452609 1.04820286 1.15859956\n",
            "  0.29218932 0.55323338 0.55978891 1.03760001 0.61688336 0.45331543\n",
            "  0.32158446 1.12995874 1.21796608 0.94225029 0.41315274 0.49488945\n",
            "  0.27426972 0.61607031 0.48860337 0.83733012 1.07745552 0.50119391\n",
            "  0.9736362  0.84149563 0.55185207 0.27617959 0.88081922 0.3125347\n",
            "  0.29793737 0.77301658 0.76409956 0.76841239 0.72750133 0.67442171\n",
            "  0.42616618 0.49908033 0.77419643 0.4422591  0.63588149 0.68711819\n",
            "  0.35182208 0.26946    1.12318614 0.9193194  0.52937552 0.82863408\n",
            "  1.09442085 0.27982783 0.42104074 1.06934794 0.67952278 0.26761127\n",
            "  0.43590878 0.70222497 0.67814825 0.89086136 0.68992797 0.32445113\n",
            "  0.35134342 0.54578942 0.46549355 0.63373509 0.53587361 0.70994718\n",
            "  0.84333232 0.69371239 0.55920226 0.59471589 0.91306251 0.25321434\n",
            "  0.72173124 0.52225965 0.30526819 0.39329237 0.51617935 0.66866153\n",
            "  0.27589461 1.18640887 0.61496311 0.77288337 0.31802132 0.97157959\n",
            "  0.92537955 0.3097438  1.02288602 1.05491452]]\n",
            "Fuzzy membership values for data point 0:\n",
            "[0.75254085 0.14616545 0.1012937 ]\n"
          ]
        }
      ]
    },
    {
      "cell_type": "code",
      "source": [
        "u.shape "
      ],
      "metadata": {
        "colab": {
          "base_uri": "https://localhost:8080/"
        },
        "id": "MRolYfFQTItJ",
        "outputId": "d0599af6-d393-41fd-97c6-5d9a6d6a0cb9"
      },
      "execution_count": null,
      "outputs": [
        {
          "output_type": "execute_result",
          "data": {
            "text/plain": [
              "(3, 100)"
            ]
          },
          "metadata": {},
          "execution_count": 99
        }
      ]
    },
    {
      "cell_type": "code",
      "source": [
        "u"
      ],
      "metadata": {
        "colab": {
          "base_uri": "https://localhost:8080/"
        },
        "id": "3lBUNrFWTSaS",
        "outputId": "72d3ad02-e89e-429a-d96b-24ca7f875605"
      },
      "execution_count": null,
      "outputs": [
        {
          "output_type": "execute_result",
          "data": {
            "text/plain": [
              "array([[0.75254085, 0.05736299, 0.16637424, 0.84119102, 0.2004429 ,\n",
              "        0.71950683, 0.1203089 , 0.13376998, 0.40460008, 0.05467584,\n",
              "        0.09568886, 0.1543952 , 0.50995925, 0.53999792, 0.1058772 ,\n",
              "        0.09335675, 0.77302923, 0.16326376, 0.07120192, 0.10912383,\n",
              "        0.61282596, 0.78300243, 0.73793073, 0.38761196, 0.0705007 ,\n",
              "        0.14337184, 0.2039697 , 0.31915359, 0.23050239, 0.36244086,\n",
              "        0.04152024, 0.08994081, 0.46966905, 0.94171726, 0.74780404,\n",
              "        0.11826266, 0.84323755, 0.09783099, 0.13484961, 0.04213906,\n",
              "        0.02923339, 0.07393312, 0.09864896, 0.05957111, 0.0489383 ,\n",
              "        0.94856102, 0.04794493, 0.06096765, 0.15806333, 0.29055179,\n",
              "        0.90431859, 0.36519349, 0.12080594, 0.58009687, 0.13290467,\n",
              "        0.0568822 , 0.1477413 , 0.24367536, 0.12185575, 0.03398951,\n",
              "        0.17418598, 0.0599141 , 0.3174435 , 0.15145045, 0.72914277,\n",
              "        0.02911474, 0.3025998 , 0.10691741, 0.32601439, 0.76563723,\n",
              "        0.1287745 , 0.07717251, 0.11385485, 0.15344355, 0.30452211,\n",
              "        0.12292988, 0.56942525, 0.13548092, 0.13950844, 0.86590803,\n",
              "        0.50199266, 0.13774294, 0.89280469, 0.03987646, 0.8571859 ,\n",
              "        0.13325364, 0.06094194, 0.10333146, 0.11033657, 0.1472551 ,\n",
              "        0.04890188, 0.1887993 , 0.73508677, 0.03180061, 0.07109696,\n",
              "        0.841238  , 0.03986668, 0.10907132, 0.18907902, 0.1123246 ],\n",
              "       [0.14616545, 0.87568479, 0.09033586, 0.07890625, 0.6526624 ,\n",
              "        0.14194741, 0.51042907, 0.07543418, 0.17346598, 0.06457528,\n",
              "        0.21428846, 0.09301122, 0.31984802, 0.1286878 , 0.20715438,\n",
              "        0.21246615, 0.1145783 , 0.71775516, 0.05527976, 0.63546666,\n",
              "        0.10814601, 0.10901808, 0.10980968, 0.17611992, 0.12981479,\n",
              "        0.74797407, 0.65727729, 0.54190189, 0.10761399, 0.11712426,\n",
              "        0.04134096, 0.6909507 , 0.16341339, 0.02817599, 0.12785353,\n",
              "        0.45034089, 0.0766021 , 0.82681546, 0.40759126, 0.03826451,\n",
              "        0.94020758, 0.06151398, 0.0686455 , 0.87958273, 0.87292319,\n",
              "        0.02282758, 0.88862532, 0.83677329, 0.29846113, 0.14348874,\n",
              "        0.03905515, 0.17420055, 0.57335428, 0.24608314, 0.0858545 ,\n",
              "        0.04246194, 0.74448803, 0.63187349, 0.46975982, 0.92171342,\n",
              "        0.71507123, 0.04830751, 0.12341712, 0.74831835, 0.08729541,\n",
              "        0.03305392, 0.10700212, 0.66074395, 0.47122283, 0.13648391,\n",
              "        0.57349907, 0.12286384, 0.08368958, 0.5568423 , 0.11461128,\n",
              "        0.56353605, 0.11506288, 0.55891296, 0.76480454, 0.06175263,\n",
              "        0.22334609, 0.64611104, 0.05257795, 0.03251068, 0.05367732,\n",
              "        0.32242131, 0.10131028, 0.26905855, 0.56635209, 0.49295001,\n",
              "        0.04214494, 0.68185163, 0.11044744, 0.92662815, 0.12854107,\n",
              "        0.07970797, 0.92000084, 0.08192361, 0.70116533, 0.80304086],\n",
              "       [0.1012937 , 0.06695222, 0.7432899 , 0.07990272, 0.1468947 ,\n",
              "        0.13854576, 0.36926203, 0.79079585, 0.42193394, 0.88074888,\n",
              "        0.69002269, 0.75259358, 0.17019274, 0.33131428, 0.68696842,\n",
              "        0.69417711, 0.11239247, 0.11898108, 0.87351832, 0.25540951,\n",
              "        0.27902804, 0.10797949, 0.15225958, 0.43626812, 0.79968451,\n",
              "        0.10865409, 0.13875301, 0.13894452, 0.66188362, 0.52043488,\n",
              "        0.9171388 , 0.21910848, 0.36691755, 0.03010676, 0.12434243,\n",
              "        0.43139645, 0.08016035, 0.07535354, 0.45755912, 0.91959643,\n",
              "        0.03055903, 0.8645529 , 0.83270555, 0.06084617, 0.07813852,\n",
              "        0.02861139, 0.06342975, 0.10225907, 0.54347554, 0.56595948,\n",
              "        0.05662626, 0.46060596, 0.30583978, 0.17381999, 0.78124083,\n",
              "        0.90065586, 0.10777067, 0.12445115, 0.40838443, 0.04429707,\n",
              "        0.11074279, 0.89177839, 0.55913938, 0.1002312 , 0.18356182,\n",
              "        0.93783134, 0.59039808, 0.23233864, 0.20276278, 0.09787886,\n",
              "        0.29772642, 0.79996365, 0.80245557, 0.28971415, 0.58086661,\n",
              "        0.31353407, 0.31551188, 0.30560611, 0.09568702, 0.07233934,\n",
              "        0.27466125, 0.21614602, 0.05461736, 0.92761286, 0.08913678,\n",
              "        0.54432505, 0.83774778, 0.62760999, 0.32331134, 0.35979489,\n",
              "        0.90895317, 0.12934907, 0.15446579, 0.04157124, 0.80036197,\n",
              "        0.07905404, 0.04013248, 0.80900508, 0.10975565, 0.08463455]])"
            ]
          },
          "metadata": {},
          "execution_count": 100
        }
      ]
    },
    {
      "cell_type": "code",
      "source": [
        "u_T = u.T\n",
        "u_T.shape"
      ],
      "metadata": {
        "colab": {
          "base_uri": "https://localhost:8080/"
        },
        "id": "Yb8C4c93TLs_",
        "outputId": "7cf3b4b3-f0cd-4447-d785-4f9c959815cf"
      },
      "execution_count": null,
      "outputs": [
        {
          "output_type": "execute_result",
          "data": {
            "text/plain": [
              "(100, 3)"
            ]
          },
          "metadata": {},
          "execution_count": 101
        }
      ]
    },
    {
      "cell_type": "code",
      "source": [
        "u_T"
      ],
      "metadata": {
        "colab": {
          "base_uri": "https://localhost:8080/"
        },
        "id": "H5uNyxykTeQh",
        "outputId": "4f7b24f5-8007-46f6-ea30-c3eb1e34e2de"
      },
      "execution_count": null,
      "outputs": [
        {
          "output_type": "execute_result",
          "data": {
            "text/plain": [
              "array([[0.75254085, 0.14616545, 0.1012937 ],\n",
              "       [0.05736299, 0.87568479, 0.06695222],\n",
              "       [0.16637424, 0.09033586, 0.7432899 ],\n",
              "       [0.84119102, 0.07890625, 0.07990272],\n",
              "       [0.2004429 , 0.6526624 , 0.1468947 ],\n",
              "       [0.71950683, 0.14194741, 0.13854576],\n",
              "       [0.1203089 , 0.51042907, 0.36926203],\n",
              "       [0.13376998, 0.07543418, 0.79079585],\n",
              "       [0.40460008, 0.17346598, 0.42193394],\n",
              "       [0.05467584, 0.06457528, 0.88074888],\n",
              "       [0.09568886, 0.21428846, 0.69002269],\n",
              "       [0.1543952 , 0.09301122, 0.75259358],\n",
              "       [0.50995925, 0.31984802, 0.17019274],\n",
              "       [0.53999792, 0.1286878 , 0.33131428],\n",
              "       [0.1058772 , 0.20715438, 0.68696842],\n",
              "       [0.09335675, 0.21246615, 0.69417711],\n",
              "       [0.77302923, 0.1145783 , 0.11239247],\n",
              "       [0.16326376, 0.71775516, 0.11898108],\n",
              "       [0.07120192, 0.05527976, 0.87351832],\n",
              "       [0.10912383, 0.63546666, 0.25540951],\n",
              "       [0.61282596, 0.10814601, 0.27902804],\n",
              "       [0.78300243, 0.10901808, 0.10797949],\n",
              "       [0.73793073, 0.10980968, 0.15225958],\n",
              "       [0.38761196, 0.17611992, 0.43626812],\n",
              "       [0.0705007 , 0.12981479, 0.79968451],\n",
              "       [0.14337184, 0.74797407, 0.10865409],\n",
              "       [0.2039697 , 0.65727729, 0.13875301],\n",
              "       [0.31915359, 0.54190189, 0.13894452],\n",
              "       [0.23050239, 0.10761399, 0.66188362],\n",
              "       [0.36244086, 0.11712426, 0.52043488],\n",
              "       [0.04152024, 0.04134096, 0.9171388 ],\n",
              "       [0.08994081, 0.6909507 , 0.21910848],\n",
              "       [0.46966905, 0.16341339, 0.36691755],\n",
              "       [0.94171726, 0.02817599, 0.03010676],\n",
              "       [0.74780404, 0.12785353, 0.12434243],\n",
              "       [0.11826266, 0.45034089, 0.43139645],\n",
              "       [0.84323755, 0.0766021 , 0.08016035],\n",
              "       [0.09783099, 0.82681546, 0.07535354],\n",
              "       [0.13484961, 0.40759126, 0.45755912],\n",
              "       [0.04213906, 0.03826451, 0.91959643],\n",
              "       [0.02923339, 0.94020758, 0.03055903],\n",
              "       [0.07393312, 0.06151398, 0.8645529 ],\n",
              "       [0.09864896, 0.0686455 , 0.83270555],\n",
              "       [0.05957111, 0.87958273, 0.06084617],\n",
              "       [0.0489383 , 0.87292319, 0.07813852],\n",
              "       [0.94856102, 0.02282758, 0.02861139],\n",
              "       [0.04794493, 0.88862532, 0.06342975],\n",
              "       [0.06096765, 0.83677329, 0.10225907],\n",
              "       [0.15806333, 0.29846113, 0.54347554],\n",
              "       [0.29055179, 0.14348874, 0.56595948],\n",
              "       [0.90431859, 0.03905515, 0.05662626],\n",
              "       [0.36519349, 0.17420055, 0.46060596],\n",
              "       [0.12080594, 0.57335428, 0.30583978],\n",
              "       [0.58009687, 0.24608314, 0.17381999],\n",
              "       [0.13290467, 0.0858545 , 0.78124083],\n",
              "       [0.0568822 , 0.04246194, 0.90065586],\n",
              "       [0.1477413 , 0.74448803, 0.10777067],\n",
              "       [0.24367536, 0.63187349, 0.12445115],\n",
              "       [0.12185575, 0.46975982, 0.40838443],\n",
              "       [0.03398951, 0.92171342, 0.04429707],\n",
              "       [0.17418598, 0.71507123, 0.11074279],\n",
              "       [0.0599141 , 0.04830751, 0.89177839],\n",
              "       [0.3174435 , 0.12341712, 0.55913938],\n",
              "       [0.15145045, 0.74831835, 0.1002312 ],\n",
              "       [0.72914277, 0.08729541, 0.18356182],\n",
              "       [0.02911474, 0.03305392, 0.93783134],\n",
              "       [0.3025998 , 0.10700212, 0.59039808],\n",
              "       [0.10691741, 0.66074395, 0.23233864],\n",
              "       [0.32601439, 0.47122283, 0.20276278],\n",
              "       [0.76563723, 0.13648391, 0.09787886],\n",
              "       [0.1287745 , 0.57349907, 0.29772642],\n",
              "       [0.07717251, 0.12286384, 0.79996365],\n",
              "       [0.11385485, 0.08368958, 0.80245557],\n",
              "       [0.15344355, 0.5568423 , 0.28971415],\n",
              "       [0.30452211, 0.11461128, 0.58086661],\n",
              "       [0.12292988, 0.56353605, 0.31353407],\n",
              "       [0.56942525, 0.11506288, 0.31551188],\n",
              "       [0.13548092, 0.55891296, 0.30560611],\n",
              "       [0.13950844, 0.76480454, 0.09568702],\n",
              "       [0.86590803, 0.06175263, 0.07233934],\n",
              "       [0.50199266, 0.22334609, 0.27466125],\n",
              "       [0.13774294, 0.64611104, 0.21614602],\n",
              "       [0.89280469, 0.05257795, 0.05461736],\n",
              "       [0.03987646, 0.03251068, 0.92761286],\n",
              "       [0.8571859 , 0.05367732, 0.08913678],\n",
              "       [0.13325364, 0.32242131, 0.54432505],\n",
              "       [0.06094194, 0.10131028, 0.83774778],\n",
              "       [0.10333146, 0.26905855, 0.62760999],\n",
              "       [0.11033657, 0.56635209, 0.32331134],\n",
              "       [0.1472551 , 0.49295001, 0.35979489],\n",
              "       [0.04890188, 0.04214494, 0.90895317],\n",
              "       [0.1887993 , 0.68185163, 0.12934907],\n",
              "       [0.73508677, 0.11044744, 0.15446579],\n",
              "       [0.03180061, 0.92662815, 0.04157124],\n",
              "       [0.07109696, 0.12854107, 0.80036197],\n",
              "       [0.841238  , 0.07970797, 0.07905404],\n",
              "       [0.03986668, 0.92000084, 0.04013248],\n",
              "       [0.10907132, 0.08192361, 0.80900508],\n",
              "       [0.18907902, 0.70116533, 0.10975565],\n",
              "       [0.1123246 , 0.80304086, 0.08463455]])"
            ]
          },
          "metadata": {},
          "execution_count": 109
        }
      ]
    },
    {
      "cell_type": "code",
      "source": [
        "u_T[0][0] + u_T[0][1] + u_T[0][2] "
      ],
      "metadata": {
        "id": "TWc0mqldS5lN"
      },
      "execution_count": null,
      "outputs": []
    }
  ]
}