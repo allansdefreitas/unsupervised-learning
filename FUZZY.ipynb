{
  "nbformat": 4,
  "nbformat_minor": 0,
  "metadata": {
    "colab": {
      "provenance": [],
      "authorship_tag": "ABX9TyMrHCMSWSRi/Y1fpozDKllo",
      "include_colab_link": true
    },
    "kernelspec": {
      "name": "python3",
      "display_name": "Python 3"
    },
    "language_info": {
      "name": "python"
    }
  },
  "cells": [
    {
      "cell_type": "markdown",
      "metadata": {
        "id": "view-in-github",
        "colab_type": "text"
      },
      "source": [
        "<a href=\"https://colab.research.google.com/github/allansdefreitas/unsupervised-learning/blob/main/FUZZY.ipynb\" target=\"_parent\"><img src=\"https://colab.research.google.com/assets/colab-badge.svg\" alt=\"Open In Colab\"/></a>"
      ]
    },
    {
      "cell_type": "code",
      "execution_count": 59,
      "metadata": {
        "id": "ZxO_3aCYJySm"
      },
      "outputs": [],
      "source": [
        "import pandas as pd"
      ]
    },
    {
      "cell_type": "code",
      "source": [
        "from google.colab import drive\n",
        "drive.mount('/content/drive/')"
      ],
      "metadata": {
        "colab": {
          "base_uri": "https://localhost:8080/"
        },
        "id": "pcojygaCKxhO",
        "outputId": "b665b6ee-d835-4767-f892-1436085ed9f3"
      },
      "execution_count": 60,
      "outputs": [
        {
          "output_type": "stream",
          "name": "stdout",
          "text": [
            "Drive already mounted at /content/drive/; to attempt to forcibly remount, call drive.mount(\"/content/drive/\", force_remount=True).\n"
          ]
        }
      ]
    },
    {
      "cell_type": "code",
      "source": [
        "\"\"\"\n",
        "I. Considere os dados \"Image Segmentation\" do site uci machine learning\n",
        "repository (https://archive.ics.uci.edu/ml/datasets/Image+Segmentation).\n",
        "\n",
        "\n",
        "\"\"\""
      ],
      "metadata": {
        "colab": {
          "base_uri": "https://localhost:8080/",
          "height": 35
        },
        "id": "OeD0paPJO82A",
        "outputId": "8d22bdf0-2c6f-4811-8520-3fcc41f7e198"
      },
      "execution_count": 61,
      "outputs": [
        {
          "output_type": "execute_result",
          "data": {
            "text/plain": [
              "'\\nI. Considere os dados \"Image Segmentation\" do site uci machine learning\\nrepository (https://archive.ics.uci.edu/ml/datasets/Image+Segmentation).\\n\\n\\n'"
            ],
            "application/vnd.google.colaboratory.intrinsic+json": {
              "type": "string"
            }
          },
          "metadata": {},
          "execution_count": 61
        }
      ]
    },
    {
      "cell_type": "code",
      "source": [
        "PATH = 'https://raw.githubusercontent.com/allansdefreitas/unsupervised-learning/main/segmentation.data'"
      ],
      "metadata": {
        "id": "A2uAyHVlJ8wx"
      },
      "execution_count": 62,
      "outputs": []
    },
    {
      "cell_type": "code",
      "source": [
        "\n",
        "dataset_original = pd.read_csv(PATH, sep=',').reset_index(drop=True)\n",
        "dataset_original"
      ],
      "metadata": {
        "colab": {
          "base_uri": "https://localhost:8080/",
          "height": 540
        },
        "id": "FIn4g3DAJ93-",
        "outputId": "4fa9ec70-00d8-4114-a837-dfea94d9867e"
      },
      "execution_count": 63,
      "outputs": [
        {
          "output_type": "execute_result",
          "data": {
            "text/plain": [
              "     REGION-CENTROID-COL  REGION-CENTROID-ROW  REGION-PIXEL-COUNT  \\\n",
              "0                  140.0                125.0                   9   \n",
              "1                  188.0                133.0                   9   \n",
              "2                  105.0                139.0                   9   \n",
              "3                   34.0                137.0                   9   \n",
              "4                   39.0                111.0                   9   \n",
              "..                   ...                  ...                 ...   \n",
              "205                 36.0                243.0                   9   \n",
              "206                186.0                218.0                   9   \n",
              "207                197.0                236.0                   9   \n",
              "208                208.0                240.0                   9   \n",
              "209                223.0                185.0                   9   \n",
              "\n",
              "     SHORT-LINE-DENSITY-5  SHORT-LINE-DENSITY-2  VEDGE-MEAN  VEDGE-SD  \\\n",
              "0                0.000000                   0.0    0.277778  0.062963   \n",
              "1                0.000000                   0.0    0.333333  0.266667   \n",
              "2                0.000000                   0.0    0.277778  0.107407   \n",
              "3                0.000000                   0.0    0.500000  0.166667   \n",
              "4                0.000000                   0.0    0.722222  0.374074   \n",
              "..                    ...                   ...         ...       ...   \n",
              "205              0.111111                   0.0    1.888889  1.851851   \n",
              "206              0.000000                   0.0    1.166667  0.744444   \n",
              "207              0.000000                   0.0    2.444444  6.829628   \n",
              "208              0.111111                   0.0    1.055556  0.862963   \n",
              "209              0.000000                   0.0    0.500000  0.349603   \n",
              "\n",
              "     HEDGE-MEAN  HEDGE-SD  INTENSITY-MEAN  RAWRED-MEAN  RAWBLUE-MEAN  \\\n",
              "0      0.666667  0.311111        6.185185     7.333334      7.666666   \n",
              "1      0.500000  0.077778        6.666666     8.333334      7.777778   \n",
              "2      0.833333  0.522222        6.111111     7.555555      7.222222   \n",
              "3      1.111111  0.474074        5.851852     7.777778      6.444445   \n",
              "4      0.888889  0.429629        6.037037     7.000000      7.666666   \n",
              "..          ...       ...             ...          ...           ...   \n",
              "205    2.000000  0.711110       13.333333     9.888889     12.111111   \n",
              "206    1.166667  0.655555       13.703704    10.666667     12.666667   \n",
              "207    3.333333  7.599998       16.074074    13.111111     16.666668   \n",
              "208    2.444444  5.007407       14.148149    10.888889     13.000000   \n",
              "209    2.388889  2.080776       12.962963    11.555555      9.777778   \n",
              "\n",
              "     RAWGREEN-MEAN  EXRED-MEAN  EXBLUE-MEAN  EXGREEN-MEAN  VALUE-MEAN  \\\n",
              "0         3.555556    3.444444     4.444445     -7.888889    7.777778   \n",
              "1         3.888889    5.000000     3.333333     -8.333333    8.444445   \n",
              "2         3.555556    4.333334     3.333333     -7.666666    7.555555   \n",
              "3         3.333333    5.777778     1.777778     -7.555555    7.777778   \n",
              "4         3.444444    2.888889     4.888889     -7.777778    7.888889   \n",
              "..             ...         ...          ...           ...         ...   \n",
              "205      18.000000  -10.333333    -3.666667     14.000000   18.000000   \n",
              "206      17.777779   -9.111111    -3.111111     12.222222   17.777779   \n",
              "207      18.444445   -8.888889     1.777778      7.111111   18.555555   \n",
              "208      18.555555   -9.777778    -3.444444     13.222222   18.555555   \n",
              "209      17.555555   -4.222222    -9.555555     13.777778   17.555555   \n",
              "\n",
              "     SATURATION-MEAN  HUE-MEAN  \n",
              "0           0.545635 -1.121818  \n",
              "1           0.538580 -0.924817  \n",
              "2           0.532628 -0.965946  \n",
              "3           0.573633 -0.744272  \n",
              "4           0.562919 -1.175773  \n",
              "..               ...       ...  \n",
              "205         0.452229  2.368311  \n",
              "206         0.401347  2.382684  \n",
              "207         0.292729  2.789800  \n",
              "208         0.421621  2.392487  \n",
              "209         0.445418  1.838850  \n",
              "\n",
              "[210 rows x 19 columns]"
            ],
            "text/html": [
              "\n",
              "  <div id=\"df-4f9d6448-f4b7-4180-afc6-b1b5afe3fb78\">\n",
              "    <div class=\"colab-df-container\">\n",
              "      <div>\n",
              "<style scoped>\n",
              "    .dataframe tbody tr th:only-of-type {\n",
              "        vertical-align: middle;\n",
              "    }\n",
              "\n",
              "    .dataframe tbody tr th {\n",
              "        vertical-align: top;\n",
              "    }\n",
              "\n",
              "    .dataframe thead th {\n",
              "        text-align: right;\n",
              "    }\n",
              "</style>\n",
              "<table border=\"1\" class=\"dataframe\">\n",
              "  <thead>\n",
              "    <tr style=\"text-align: right;\">\n",
              "      <th></th>\n",
              "      <th>REGION-CENTROID-COL</th>\n",
              "      <th>REGION-CENTROID-ROW</th>\n",
              "      <th>REGION-PIXEL-COUNT</th>\n",
              "      <th>SHORT-LINE-DENSITY-5</th>\n",
              "      <th>SHORT-LINE-DENSITY-2</th>\n",
              "      <th>VEDGE-MEAN</th>\n",
              "      <th>VEDGE-SD</th>\n",
              "      <th>HEDGE-MEAN</th>\n",
              "      <th>HEDGE-SD</th>\n",
              "      <th>INTENSITY-MEAN</th>\n",
              "      <th>RAWRED-MEAN</th>\n",
              "      <th>RAWBLUE-MEAN</th>\n",
              "      <th>RAWGREEN-MEAN</th>\n",
              "      <th>EXRED-MEAN</th>\n",
              "      <th>EXBLUE-MEAN</th>\n",
              "      <th>EXGREEN-MEAN</th>\n",
              "      <th>VALUE-MEAN</th>\n",
              "      <th>SATURATION-MEAN</th>\n",
              "      <th>HUE-MEAN</th>\n",
              "    </tr>\n",
              "  </thead>\n",
              "  <tbody>\n",
              "    <tr>\n",
              "      <th>0</th>\n",
              "      <td>140.0</td>\n",
              "      <td>125.0</td>\n",
              "      <td>9</td>\n",
              "      <td>0.000000</td>\n",
              "      <td>0.0</td>\n",
              "      <td>0.277778</td>\n",
              "      <td>0.062963</td>\n",
              "      <td>0.666667</td>\n",
              "      <td>0.311111</td>\n",
              "      <td>6.185185</td>\n",
              "      <td>7.333334</td>\n",
              "      <td>7.666666</td>\n",
              "      <td>3.555556</td>\n",
              "      <td>3.444444</td>\n",
              "      <td>4.444445</td>\n",
              "      <td>-7.888889</td>\n",
              "      <td>7.777778</td>\n",
              "      <td>0.545635</td>\n",
              "      <td>-1.121818</td>\n",
              "    </tr>\n",
              "    <tr>\n",
              "      <th>1</th>\n",
              "      <td>188.0</td>\n",
              "      <td>133.0</td>\n",
              "      <td>9</td>\n",
              "      <td>0.000000</td>\n",
              "      <td>0.0</td>\n",
              "      <td>0.333333</td>\n",
              "      <td>0.266667</td>\n",
              "      <td>0.500000</td>\n",
              "      <td>0.077778</td>\n",
              "      <td>6.666666</td>\n",
              "      <td>8.333334</td>\n",
              "      <td>7.777778</td>\n",
              "      <td>3.888889</td>\n",
              "      <td>5.000000</td>\n",
              "      <td>3.333333</td>\n",
              "      <td>-8.333333</td>\n",
              "      <td>8.444445</td>\n",
              "      <td>0.538580</td>\n",
              "      <td>-0.924817</td>\n",
              "    </tr>\n",
              "    <tr>\n",
              "      <th>2</th>\n",
              "      <td>105.0</td>\n",
              "      <td>139.0</td>\n",
              "      <td>9</td>\n",
              "      <td>0.000000</td>\n",
              "      <td>0.0</td>\n",
              "      <td>0.277778</td>\n",
              "      <td>0.107407</td>\n",
              "      <td>0.833333</td>\n",
              "      <td>0.522222</td>\n",
              "      <td>6.111111</td>\n",
              "      <td>7.555555</td>\n",
              "      <td>7.222222</td>\n",
              "      <td>3.555556</td>\n",
              "      <td>4.333334</td>\n",
              "      <td>3.333333</td>\n",
              "      <td>-7.666666</td>\n",
              "      <td>7.555555</td>\n",
              "      <td>0.532628</td>\n",
              "      <td>-0.965946</td>\n",
              "    </tr>\n",
              "    <tr>\n",
              "      <th>3</th>\n",
              "      <td>34.0</td>\n",
              "      <td>137.0</td>\n",
              "      <td>9</td>\n",
              "      <td>0.000000</td>\n",
              "      <td>0.0</td>\n",
              "      <td>0.500000</td>\n",
              "      <td>0.166667</td>\n",
              "      <td>1.111111</td>\n",
              "      <td>0.474074</td>\n",
              "      <td>5.851852</td>\n",
              "      <td>7.777778</td>\n",
              "      <td>6.444445</td>\n",
              "      <td>3.333333</td>\n",
              "      <td>5.777778</td>\n",
              "      <td>1.777778</td>\n",
              "      <td>-7.555555</td>\n",
              "      <td>7.777778</td>\n",
              "      <td>0.573633</td>\n",
              "      <td>-0.744272</td>\n",
              "    </tr>\n",
              "    <tr>\n",
              "      <th>4</th>\n",
              "      <td>39.0</td>\n",
              "      <td>111.0</td>\n",
              "      <td>9</td>\n",
              "      <td>0.000000</td>\n",
              "      <td>0.0</td>\n",
              "      <td>0.722222</td>\n",
              "      <td>0.374074</td>\n",
              "      <td>0.888889</td>\n",
              "      <td>0.429629</td>\n",
              "      <td>6.037037</td>\n",
              "      <td>7.000000</td>\n",
              "      <td>7.666666</td>\n",
              "      <td>3.444444</td>\n",
              "      <td>2.888889</td>\n",
              "      <td>4.888889</td>\n",
              "      <td>-7.777778</td>\n",
              "      <td>7.888889</td>\n",
              "      <td>0.562919</td>\n",
              "      <td>-1.175773</td>\n",
              "    </tr>\n",
              "    <tr>\n",
              "      <th>...</th>\n",
              "      <td>...</td>\n",
              "      <td>...</td>\n",
              "      <td>...</td>\n",
              "      <td>...</td>\n",
              "      <td>...</td>\n",
              "      <td>...</td>\n",
              "      <td>...</td>\n",
              "      <td>...</td>\n",
              "      <td>...</td>\n",
              "      <td>...</td>\n",
              "      <td>...</td>\n",
              "      <td>...</td>\n",
              "      <td>...</td>\n",
              "      <td>...</td>\n",
              "      <td>...</td>\n",
              "      <td>...</td>\n",
              "      <td>...</td>\n",
              "      <td>...</td>\n",
              "      <td>...</td>\n",
              "    </tr>\n",
              "    <tr>\n",
              "      <th>205</th>\n",
              "      <td>36.0</td>\n",
              "      <td>243.0</td>\n",
              "      <td>9</td>\n",
              "      <td>0.111111</td>\n",
              "      <td>0.0</td>\n",
              "      <td>1.888889</td>\n",
              "      <td>1.851851</td>\n",
              "      <td>2.000000</td>\n",
              "      <td>0.711110</td>\n",
              "      <td>13.333333</td>\n",
              "      <td>9.888889</td>\n",
              "      <td>12.111111</td>\n",
              "      <td>18.000000</td>\n",
              "      <td>-10.333333</td>\n",
              "      <td>-3.666667</td>\n",
              "      <td>14.000000</td>\n",
              "      <td>18.000000</td>\n",
              "      <td>0.452229</td>\n",
              "      <td>2.368311</td>\n",
              "    </tr>\n",
              "    <tr>\n",
              "      <th>206</th>\n",
              "      <td>186.0</td>\n",
              "      <td>218.0</td>\n",
              "      <td>9</td>\n",
              "      <td>0.000000</td>\n",
              "      <td>0.0</td>\n",
              "      <td>1.166667</td>\n",
              "      <td>0.744444</td>\n",
              "      <td>1.166667</td>\n",
              "      <td>0.655555</td>\n",
              "      <td>13.703704</td>\n",
              "      <td>10.666667</td>\n",
              "      <td>12.666667</td>\n",
              "      <td>17.777779</td>\n",
              "      <td>-9.111111</td>\n",
              "      <td>-3.111111</td>\n",
              "      <td>12.222222</td>\n",
              "      <td>17.777779</td>\n",
              "      <td>0.401347</td>\n",
              "      <td>2.382684</td>\n",
              "    </tr>\n",
              "    <tr>\n",
              "      <th>207</th>\n",
              "      <td>197.0</td>\n",
              "      <td>236.0</td>\n",
              "      <td>9</td>\n",
              "      <td>0.000000</td>\n",
              "      <td>0.0</td>\n",
              "      <td>2.444444</td>\n",
              "      <td>6.829628</td>\n",
              "      <td>3.333333</td>\n",
              "      <td>7.599998</td>\n",
              "      <td>16.074074</td>\n",
              "      <td>13.111111</td>\n",
              "      <td>16.666668</td>\n",
              "      <td>18.444445</td>\n",
              "      <td>-8.888889</td>\n",
              "      <td>1.777778</td>\n",
              "      <td>7.111111</td>\n",
              "      <td>18.555555</td>\n",
              "      <td>0.292729</td>\n",
              "      <td>2.789800</td>\n",
              "    </tr>\n",
              "    <tr>\n",
              "      <th>208</th>\n",
              "      <td>208.0</td>\n",
              "      <td>240.0</td>\n",
              "      <td>9</td>\n",
              "      <td>0.111111</td>\n",
              "      <td>0.0</td>\n",
              "      <td>1.055556</td>\n",
              "      <td>0.862963</td>\n",
              "      <td>2.444444</td>\n",
              "      <td>5.007407</td>\n",
              "      <td>14.148149</td>\n",
              "      <td>10.888889</td>\n",
              "      <td>13.000000</td>\n",
              "      <td>18.555555</td>\n",
              "      <td>-9.777778</td>\n",
              "      <td>-3.444444</td>\n",
              "      <td>13.222222</td>\n",
              "      <td>18.555555</td>\n",
              "      <td>0.421621</td>\n",
              "      <td>2.392487</td>\n",
              "    </tr>\n",
              "    <tr>\n",
              "      <th>209</th>\n",
              "      <td>223.0</td>\n",
              "      <td>185.0</td>\n",
              "      <td>9</td>\n",
              "      <td>0.000000</td>\n",
              "      <td>0.0</td>\n",
              "      <td>0.500000</td>\n",
              "      <td>0.349603</td>\n",
              "      <td>2.388889</td>\n",
              "      <td>2.080776</td>\n",
              "      <td>12.962963</td>\n",
              "      <td>11.555555</td>\n",
              "      <td>9.777778</td>\n",
              "      <td>17.555555</td>\n",
              "      <td>-4.222222</td>\n",
              "      <td>-9.555555</td>\n",
              "      <td>13.777778</td>\n",
              "      <td>17.555555</td>\n",
              "      <td>0.445418</td>\n",
              "      <td>1.838850</td>\n",
              "    </tr>\n",
              "  </tbody>\n",
              "</table>\n",
              "<p>210 rows × 19 columns</p>\n",
              "</div>\n",
              "      <button class=\"colab-df-convert\" onclick=\"convertToInteractive('df-4f9d6448-f4b7-4180-afc6-b1b5afe3fb78')\"\n",
              "              title=\"Convert this dataframe to an interactive table.\"\n",
              "              style=\"display:none;\">\n",
              "        \n",
              "  <svg xmlns=\"http://www.w3.org/2000/svg\" height=\"24px\"viewBox=\"0 0 24 24\"\n",
              "       width=\"24px\">\n",
              "    <path d=\"M0 0h24v24H0V0z\" fill=\"none\"/>\n",
              "    <path d=\"M18.56 5.44l.94 2.06.94-2.06 2.06-.94-2.06-.94-.94-2.06-.94 2.06-2.06.94zm-11 1L8.5 8.5l.94-2.06 2.06-.94-2.06-.94L8.5 2.5l-.94 2.06-2.06.94zm10 10l.94 2.06.94-2.06 2.06-.94-2.06-.94-.94-2.06-.94 2.06-2.06.94z\"/><path d=\"M17.41 7.96l-1.37-1.37c-.4-.4-.92-.59-1.43-.59-.52 0-1.04.2-1.43.59L10.3 9.45l-7.72 7.72c-.78.78-.78 2.05 0 2.83L4 21.41c.39.39.9.59 1.41.59.51 0 1.02-.2 1.41-.59l7.78-7.78 2.81-2.81c.8-.78.8-2.07 0-2.86zM5.41 20L4 18.59l7.72-7.72 1.47 1.35L5.41 20z\"/>\n",
              "  </svg>\n",
              "      </button>\n",
              "      \n",
              "  <style>\n",
              "    .colab-df-container {\n",
              "      display:flex;\n",
              "      flex-wrap:wrap;\n",
              "      gap: 12px;\n",
              "    }\n",
              "\n",
              "    .colab-df-convert {\n",
              "      background-color: #E8F0FE;\n",
              "      border: none;\n",
              "      border-radius: 50%;\n",
              "      cursor: pointer;\n",
              "      display: none;\n",
              "      fill: #1967D2;\n",
              "      height: 32px;\n",
              "      padding: 0 0 0 0;\n",
              "      width: 32px;\n",
              "    }\n",
              "\n",
              "    .colab-df-convert:hover {\n",
              "      background-color: #E2EBFA;\n",
              "      box-shadow: 0px 1px 2px rgba(60, 64, 67, 0.3), 0px 1px 3px 1px rgba(60, 64, 67, 0.15);\n",
              "      fill: #174EA6;\n",
              "    }\n",
              "\n",
              "    [theme=dark] .colab-df-convert {\n",
              "      background-color: #3B4455;\n",
              "      fill: #D2E3FC;\n",
              "    }\n",
              "\n",
              "    [theme=dark] .colab-df-convert:hover {\n",
              "      background-color: #434B5C;\n",
              "      box-shadow: 0px 1px 3px 1px rgba(0, 0, 0, 0.15);\n",
              "      filter: drop-shadow(0px 1px 2px rgba(0, 0, 0, 0.3));\n",
              "      fill: #FFFFFF;\n",
              "    }\n",
              "  </style>\n",
              "\n",
              "      <script>\n",
              "        const buttonEl =\n",
              "          document.querySelector('#df-4f9d6448-f4b7-4180-afc6-b1b5afe3fb78 button.colab-df-convert');\n",
              "        buttonEl.style.display =\n",
              "          google.colab.kernel.accessAllowed ? 'block' : 'none';\n",
              "\n",
              "        async function convertToInteractive(key) {\n",
              "          const element = document.querySelector('#df-4f9d6448-f4b7-4180-afc6-b1b5afe3fb78');\n",
              "          const dataTable =\n",
              "            await google.colab.kernel.invokeFunction('convertToInteractive',\n",
              "                                                     [key], {});\n",
              "          if (!dataTable) return;\n",
              "\n",
              "          const docLinkHtml = 'Like what you see? Visit the ' +\n",
              "            '<a target=\"_blank\" href=https://colab.research.google.com/notebooks/data_table.ipynb>data table notebook</a>'\n",
              "            + ' to learn more about interactive tables.';\n",
              "          element.innerHTML = '';\n",
              "          dataTable['output_type'] = 'display_data';\n",
              "          await google.colab.output.renderOutput(dataTable, element);\n",
              "          const docLink = document.createElement('div');\n",
              "          docLink.innerHTML = docLinkHtml;\n",
              "          element.appendChild(docLink);\n",
              "        }\n",
              "      </script>\n",
              "    </div>\n",
              "  </div>\n",
              "  "
            ]
          },
          "metadata": {},
          "execution_count": 63
        }
      ]
    },
    {
      "cell_type": "code",
      "source": [
        "\"\"\"\n",
        "Considere 3 datasets: \n",
        "\n",
        "o primeiro considerando as variáveis 4 a 9 (shape)\n",
        "\n",
        "\"\"\"\n",
        "\n",
        "dataset_1_shape = dataset_original.iloc[:,3:9]\n",
        "dataset_1_shape"
      ],
      "metadata": {
        "colab": {
          "base_uri": "https://localhost:8080/",
          "height": 424
        },
        "id": "ANHyf5AeND4z",
        "outputId": "1b6c1949-d72f-476e-ad74-923f831c2c30"
      },
      "execution_count": 64,
      "outputs": [
        {
          "output_type": "execute_result",
          "data": {
            "text/plain": [
              "     SHORT-LINE-DENSITY-5  SHORT-LINE-DENSITY-2  VEDGE-MEAN  VEDGE-SD  \\\n",
              "0                0.000000                   0.0    0.277778  0.062963   \n",
              "1                0.000000                   0.0    0.333333  0.266667   \n",
              "2                0.000000                   0.0    0.277778  0.107407   \n",
              "3                0.000000                   0.0    0.500000  0.166667   \n",
              "4                0.000000                   0.0    0.722222  0.374074   \n",
              "..                    ...                   ...         ...       ...   \n",
              "205              0.111111                   0.0    1.888889  1.851851   \n",
              "206              0.000000                   0.0    1.166667  0.744444   \n",
              "207              0.000000                   0.0    2.444444  6.829628   \n",
              "208              0.111111                   0.0    1.055556  0.862963   \n",
              "209              0.000000                   0.0    0.500000  0.349603   \n",
              "\n",
              "     HEDGE-MEAN  HEDGE-SD  \n",
              "0      0.666667  0.311111  \n",
              "1      0.500000  0.077778  \n",
              "2      0.833333  0.522222  \n",
              "3      1.111111  0.474074  \n",
              "4      0.888889  0.429629  \n",
              "..          ...       ...  \n",
              "205    2.000000  0.711110  \n",
              "206    1.166667  0.655555  \n",
              "207    3.333333  7.599998  \n",
              "208    2.444444  5.007407  \n",
              "209    2.388889  2.080776  \n",
              "\n",
              "[210 rows x 6 columns]"
            ],
            "text/html": [
              "\n",
              "  <div id=\"df-fefd2609-8f07-4fa5-8877-bc4f1541659d\">\n",
              "    <div class=\"colab-df-container\">\n",
              "      <div>\n",
              "<style scoped>\n",
              "    .dataframe tbody tr th:only-of-type {\n",
              "        vertical-align: middle;\n",
              "    }\n",
              "\n",
              "    .dataframe tbody tr th {\n",
              "        vertical-align: top;\n",
              "    }\n",
              "\n",
              "    .dataframe thead th {\n",
              "        text-align: right;\n",
              "    }\n",
              "</style>\n",
              "<table border=\"1\" class=\"dataframe\">\n",
              "  <thead>\n",
              "    <tr style=\"text-align: right;\">\n",
              "      <th></th>\n",
              "      <th>SHORT-LINE-DENSITY-5</th>\n",
              "      <th>SHORT-LINE-DENSITY-2</th>\n",
              "      <th>VEDGE-MEAN</th>\n",
              "      <th>VEDGE-SD</th>\n",
              "      <th>HEDGE-MEAN</th>\n",
              "      <th>HEDGE-SD</th>\n",
              "    </tr>\n",
              "  </thead>\n",
              "  <tbody>\n",
              "    <tr>\n",
              "      <th>0</th>\n",
              "      <td>0.000000</td>\n",
              "      <td>0.0</td>\n",
              "      <td>0.277778</td>\n",
              "      <td>0.062963</td>\n",
              "      <td>0.666667</td>\n",
              "      <td>0.311111</td>\n",
              "    </tr>\n",
              "    <tr>\n",
              "      <th>1</th>\n",
              "      <td>0.000000</td>\n",
              "      <td>0.0</td>\n",
              "      <td>0.333333</td>\n",
              "      <td>0.266667</td>\n",
              "      <td>0.500000</td>\n",
              "      <td>0.077778</td>\n",
              "    </tr>\n",
              "    <tr>\n",
              "      <th>2</th>\n",
              "      <td>0.000000</td>\n",
              "      <td>0.0</td>\n",
              "      <td>0.277778</td>\n",
              "      <td>0.107407</td>\n",
              "      <td>0.833333</td>\n",
              "      <td>0.522222</td>\n",
              "    </tr>\n",
              "    <tr>\n",
              "      <th>3</th>\n",
              "      <td>0.000000</td>\n",
              "      <td>0.0</td>\n",
              "      <td>0.500000</td>\n",
              "      <td>0.166667</td>\n",
              "      <td>1.111111</td>\n",
              "      <td>0.474074</td>\n",
              "    </tr>\n",
              "    <tr>\n",
              "      <th>4</th>\n",
              "      <td>0.000000</td>\n",
              "      <td>0.0</td>\n",
              "      <td>0.722222</td>\n",
              "      <td>0.374074</td>\n",
              "      <td>0.888889</td>\n",
              "      <td>0.429629</td>\n",
              "    </tr>\n",
              "    <tr>\n",
              "      <th>...</th>\n",
              "      <td>...</td>\n",
              "      <td>...</td>\n",
              "      <td>...</td>\n",
              "      <td>...</td>\n",
              "      <td>...</td>\n",
              "      <td>...</td>\n",
              "    </tr>\n",
              "    <tr>\n",
              "      <th>205</th>\n",
              "      <td>0.111111</td>\n",
              "      <td>0.0</td>\n",
              "      <td>1.888889</td>\n",
              "      <td>1.851851</td>\n",
              "      <td>2.000000</td>\n",
              "      <td>0.711110</td>\n",
              "    </tr>\n",
              "    <tr>\n",
              "      <th>206</th>\n",
              "      <td>0.000000</td>\n",
              "      <td>0.0</td>\n",
              "      <td>1.166667</td>\n",
              "      <td>0.744444</td>\n",
              "      <td>1.166667</td>\n",
              "      <td>0.655555</td>\n",
              "    </tr>\n",
              "    <tr>\n",
              "      <th>207</th>\n",
              "      <td>0.000000</td>\n",
              "      <td>0.0</td>\n",
              "      <td>2.444444</td>\n",
              "      <td>6.829628</td>\n",
              "      <td>3.333333</td>\n",
              "      <td>7.599998</td>\n",
              "    </tr>\n",
              "    <tr>\n",
              "      <th>208</th>\n",
              "      <td>0.111111</td>\n",
              "      <td>0.0</td>\n",
              "      <td>1.055556</td>\n",
              "      <td>0.862963</td>\n",
              "      <td>2.444444</td>\n",
              "      <td>5.007407</td>\n",
              "    </tr>\n",
              "    <tr>\n",
              "      <th>209</th>\n",
              "      <td>0.000000</td>\n",
              "      <td>0.0</td>\n",
              "      <td>0.500000</td>\n",
              "      <td>0.349603</td>\n",
              "      <td>2.388889</td>\n",
              "      <td>2.080776</td>\n",
              "    </tr>\n",
              "  </tbody>\n",
              "</table>\n",
              "<p>210 rows × 6 columns</p>\n",
              "</div>\n",
              "      <button class=\"colab-df-convert\" onclick=\"convertToInteractive('df-fefd2609-8f07-4fa5-8877-bc4f1541659d')\"\n",
              "              title=\"Convert this dataframe to an interactive table.\"\n",
              "              style=\"display:none;\">\n",
              "        \n",
              "  <svg xmlns=\"http://www.w3.org/2000/svg\" height=\"24px\"viewBox=\"0 0 24 24\"\n",
              "       width=\"24px\">\n",
              "    <path d=\"M0 0h24v24H0V0z\" fill=\"none\"/>\n",
              "    <path d=\"M18.56 5.44l.94 2.06.94-2.06 2.06-.94-2.06-.94-.94-2.06-.94 2.06-2.06.94zm-11 1L8.5 8.5l.94-2.06 2.06-.94-2.06-.94L8.5 2.5l-.94 2.06-2.06.94zm10 10l.94 2.06.94-2.06 2.06-.94-2.06-.94-.94-2.06-.94 2.06-2.06.94z\"/><path d=\"M17.41 7.96l-1.37-1.37c-.4-.4-.92-.59-1.43-.59-.52 0-1.04.2-1.43.59L10.3 9.45l-7.72 7.72c-.78.78-.78 2.05 0 2.83L4 21.41c.39.39.9.59 1.41.59.51 0 1.02-.2 1.41-.59l7.78-7.78 2.81-2.81c.8-.78.8-2.07 0-2.86zM5.41 20L4 18.59l7.72-7.72 1.47 1.35L5.41 20z\"/>\n",
              "  </svg>\n",
              "      </button>\n",
              "      \n",
              "  <style>\n",
              "    .colab-df-container {\n",
              "      display:flex;\n",
              "      flex-wrap:wrap;\n",
              "      gap: 12px;\n",
              "    }\n",
              "\n",
              "    .colab-df-convert {\n",
              "      background-color: #E8F0FE;\n",
              "      border: none;\n",
              "      border-radius: 50%;\n",
              "      cursor: pointer;\n",
              "      display: none;\n",
              "      fill: #1967D2;\n",
              "      height: 32px;\n",
              "      padding: 0 0 0 0;\n",
              "      width: 32px;\n",
              "    }\n",
              "\n",
              "    .colab-df-convert:hover {\n",
              "      background-color: #E2EBFA;\n",
              "      box-shadow: 0px 1px 2px rgba(60, 64, 67, 0.3), 0px 1px 3px 1px rgba(60, 64, 67, 0.15);\n",
              "      fill: #174EA6;\n",
              "    }\n",
              "\n",
              "    [theme=dark] .colab-df-convert {\n",
              "      background-color: #3B4455;\n",
              "      fill: #D2E3FC;\n",
              "    }\n",
              "\n",
              "    [theme=dark] .colab-df-convert:hover {\n",
              "      background-color: #434B5C;\n",
              "      box-shadow: 0px 1px 3px 1px rgba(0, 0, 0, 0.15);\n",
              "      filter: drop-shadow(0px 1px 2px rgba(0, 0, 0, 0.3));\n",
              "      fill: #FFFFFF;\n",
              "    }\n",
              "  </style>\n",
              "\n",
              "      <script>\n",
              "        const buttonEl =\n",
              "          document.querySelector('#df-fefd2609-8f07-4fa5-8877-bc4f1541659d button.colab-df-convert');\n",
              "        buttonEl.style.display =\n",
              "          google.colab.kernel.accessAllowed ? 'block' : 'none';\n",
              "\n",
              "        async function convertToInteractive(key) {\n",
              "          const element = document.querySelector('#df-fefd2609-8f07-4fa5-8877-bc4f1541659d');\n",
              "          const dataTable =\n",
              "            await google.colab.kernel.invokeFunction('convertToInteractive',\n",
              "                                                     [key], {});\n",
              "          if (!dataTable) return;\n",
              "\n",
              "          const docLinkHtml = 'Like what you see? Visit the ' +\n",
              "            '<a target=\"_blank\" href=https://colab.research.google.com/notebooks/data_table.ipynb>data table notebook</a>'\n",
              "            + ' to learn more about interactive tables.';\n",
              "          element.innerHTML = '';\n",
              "          dataTable['output_type'] = 'display_data';\n",
              "          await google.colab.output.renderOutput(dataTable, element);\n",
              "          const docLink = document.createElement('div');\n",
              "          docLink.innerHTML = docLinkHtml;\n",
              "          element.appendChild(docLink);\n",
              "        }\n",
              "      </script>\n",
              "    </div>\n",
              "  </div>\n",
              "  "
            ]
          },
          "metadata": {},
          "execution_count": 64
        }
      ]
    },
    {
      "cell_type": "code",
      "source": [
        "\"\"\"\n",
        "\n",
        "o segundo considerando as variaveis 10 a 19 (rgb), \n",
        "\n",
        "\"\"\"\n",
        "\n",
        "dataset_2_rgb = dataset_original.iloc[:,9:19]\n",
        "dataset_2_rgb"
      ],
      "metadata": {
        "colab": {
          "base_uri": "https://localhost:8080/",
          "height": 424
        },
        "id": "2GvDjvHVNlWo",
        "outputId": "d6c97c40-ec64-4b7f-ca1d-d4424e197a3a"
      },
      "execution_count": 65,
      "outputs": [
        {
          "output_type": "execute_result",
          "data": {
            "text/plain": [
              "     INTENSITY-MEAN  RAWRED-MEAN  RAWBLUE-MEAN  RAWGREEN-MEAN  EXRED-MEAN  \\\n",
              "0          6.185185     7.333334      7.666666       3.555556    3.444444   \n",
              "1          6.666666     8.333334      7.777778       3.888889    5.000000   \n",
              "2          6.111111     7.555555      7.222222       3.555556    4.333334   \n",
              "3          5.851852     7.777778      6.444445       3.333333    5.777778   \n",
              "4          6.037037     7.000000      7.666666       3.444444    2.888889   \n",
              "..              ...          ...           ...            ...         ...   \n",
              "205       13.333333     9.888889     12.111111      18.000000  -10.333333   \n",
              "206       13.703704    10.666667     12.666667      17.777779   -9.111111   \n",
              "207       16.074074    13.111111     16.666668      18.444445   -8.888889   \n",
              "208       14.148149    10.888889     13.000000      18.555555   -9.777778   \n",
              "209       12.962963    11.555555      9.777778      17.555555   -4.222222   \n",
              "\n",
              "     EXBLUE-MEAN  EXGREEN-MEAN  VALUE-MEAN  SATURATION-MEAN  HUE-MEAN  \n",
              "0       4.444445     -7.888889    7.777778         0.545635 -1.121818  \n",
              "1       3.333333     -8.333333    8.444445         0.538580 -0.924817  \n",
              "2       3.333333     -7.666666    7.555555         0.532628 -0.965946  \n",
              "3       1.777778     -7.555555    7.777778         0.573633 -0.744272  \n",
              "4       4.888889     -7.777778    7.888889         0.562919 -1.175773  \n",
              "..           ...           ...         ...              ...       ...  \n",
              "205    -3.666667     14.000000   18.000000         0.452229  2.368311  \n",
              "206    -3.111111     12.222222   17.777779         0.401347  2.382684  \n",
              "207     1.777778      7.111111   18.555555         0.292729  2.789800  \n",
              "208    -3.444444     13.222222   18.555555         0.421621  2.392487  \n",
              "209    -9.555555     13.777778   17.555555         0.445418  1.838850  \n",
              "\n",
              "[210 rows x 10 columns]"
            ],
            "text/html": [
              "\n",
              "  <div id=\"df-462c7c71-ba83-456f-990d-d5eecf10eaf2\">\n",
              "    <div class=\"colab-df-container\">\n",
              "      <div>\n",
              "<style scoped>\n",
              "    .dataframe tbody tr th:only-of-type {\n",
              "        vertical-align: middle;\n",
              "    }\n",
              "\n",
              "    .dataframe tbody tr th {\n",
              "        vertical-align: top;\n",
              "    }\n",
              "\n",
              "    .dataframe thead th {\n",
              "        text-align: right;\n",
              "    }\n",
              "</style>\n",
              "<table border=\"1\" class=\"dataframe\">\n",
              "  <thead>\n",
              "    <tr style=\"text-align: right;\">\n",
              "      <th></th>\n",
              "      <th>INTENSITY-MEAN</th>\n",
              "      <th>RAWRED-MEAN</th>\n",
              "      <th>RAWBLUE-MEAN</th>\n",
              "      <th>RAWGREEN-MEAN</th>\n",
              "      <th>EXRED-MEAN</th>\n",
              "      <th>EXBLUE-MEAN</th>\n",
              "      <th>EXGREEN-MEAN</th>\n",
              "      <th>VALUE-MEAN</th>\n",
              "      <th>SATURATION-MEAN</th>\n",
              "      <th>HUE-MEAN</th>\n",
              "    </tr>\n",
              "  </thead>\n",
              "  <tbody>\n",
              "    <tr>\n",
              "      <th>0</th>\n",
              "      <td>6.185185</td>\n",
              "      <td>7.333334</td>\n",
              "      <td>7.666666</td>\n",
              "      <td>3.555556</td>\n",
              "      <td>3.444444</td>\n",
              "      <td>4.444445</td>\n",
              "      <td>-7.888889</td>\n",
              "      <td>7.777778</td>\n",
              "      <td>0.545635</td>\n",
              "      <td>-1.121818</td>\n",
              "    </tr>\n",
              "    <tr>\n",
              "      <th>1</th>\n",
              "      <td>6.666666</td>\n",
              "      <td>8.333334</td>\n",
              "      <td>7.777778</td>\n",
              "      <td>3.888889</td>\n",
              "      <td>5.000000</td>\n",
              "      <td>3.333333</td>\n",
              "      <td>-8.333333</td>\n",
              "      <td>8.444445</td>\n",
              "      <td>0.538580</td>\n",
              "      <td>-0.924817</td>\n",
              "    </tr>\n",
              "    <tr>\n",
              "      <th>2</th>\n",
              "      <td>6.111111</td>\n",
              "      <td>7.555555</td>\n",
              "      <td>7.222222</td>\n",
              "      <td>3.555556</td>\n",
              "      <td>4.333334</td>\n",
              "      <td>3.333333</td>\n",
              "      <td>-7.666666</td>\n",
              "      <td>7.555555</td>\n",
              "      <td>0.532628</td>\n",
              "      <td>-0.965946</td>\n",
              "    </tr>\n",
              "    <tr>\n",
              "      <th>3</th>\n",
              "      <td>5.851852</td>\n",
              "      <td>7.777778</td>\n",
              "      <td>6.444445</td>\n",
              "      <td>3.333333</td>\n",
              "      <td>5.777778</td>\n",
              "      <td>1.777778</td>\n",
              "      <td>-7.555555</td>\n",
              "      <td>7.777778</td>\n",
              "      <td>0.573633</td>\n",
              "      <td>-0.744272</td>\n",
              "    </tr>\n",
              "    <tr>\n",
              "      <th>4</th>\n",
              "      <td>6.037037</td>\n",
              "      <td>7.000000</td>\n",
              "      <td>7.666666</td>\n",
              "      <td>3.444444</td>\n",
              "      <td>2.888889</td>\n",
              "      <td>4.888889</td>\n",
              "      <td>-7.777778</td>\n",
              "      <td>7.888889</td>\n",
              "      <td>0.562919</td>\n",
              "      <td>-1.175773</td>\n",
              "    </tr>\n",
              "    <tr>\n",
              "      <th>...</th>\n",
              "      <td>...</td>\n",
              "      <td>...</td>\n",
              "      <td>...</td>\n",
              "      <td>...</td>\n",
              "      <td>...</td>\n",
              "      <td>...</td>\n",
              "      <td>...</td>\n",
              "      <td>...</td>\n",
              "      <td>...</td>\n",
              "      <td>...</td>\n",
              "    </tr>\n",
              "    <tr>\n",
              "      <th>205</th>\n",
              "      <td>13.333333</td>\n",
              "      <td>9.888889</td>\n",
              "      <td>12.111111</td>\n",
              "      <td>18.000000</td>\n",
              "      <td>-10.333333</td>\n",
              "      <td>-3.666667</td>\n",
              "      <td>14.000000</td>\n",
              "      <td>18.000000</td>\n",
              "      <td>0.452229</td>\n",
              "      <td>2.368311</td>\n",
              "    </tr>\n",
              "    <tr>\n",
              "      <th>206</th>\n",
              "      <td>13.703704</td>\n",
              "      <td>10.666667</td>\n",
              "      <td>12.666667</td>\n",
              "      <td>17.777779</td>\n",
              "      <td>-9.111111</td>\n",
              "      <td>-3.111111</td>\n",
              "      <td>12.222222</td>\n",
              "      <td>17.777779</td>\n",
              "      <td>0.401347</td>\n",
              "      <td>2.382684</td>\n",
              "    </tr>\n",
              "    <tr>\n",
              "      <th>207</th>\n",
              "      <td>16.074074</td>\n",
              "      <td>13.111111</td>\n",
              "      <td>16.666668</td>\n",
              "      <td>18.444445</td>\n",
              "      <td>-8.888889</td>\n",
              "      <td>1.777778</td>\n",
              "      <td>7.111111</td>\n",
              "      <td>18.555555</td>\n",
              "      <td>0.292729</td>\n",
              "      <td>2.789800</td>\n",
              "    </tr>\n",
              "    <tr>\n",
              "      <th>208</th>\n",
              "      <td>14.148149</td>\n",
              "      <td>10.888889</td>\n",
              "      <td>13.000000</td>\n",
              "      <td>18.555555</td>\n",
              "      <td>-9.777778</td>\n",
              "      <td>-3.444444</td>\n",
              "      <td>13.222222</td>\n",
              "      <td>18.555555</td>\n",
              "      <td>0.421621</td>\n",
              "      <td>2.392487</td>\n",
              "    </tr>\n",
              "    <tr>\n",
              "      <th>209</th>\n",
              "      <td>12.962963</td>\n",
              "      <td>11.555555</td>\n",
              "      <td>9.777778</td>\n",
              "      <td>17.555555</td>\n",
              "      <td>-4.222222</td>\n",
              "      <td>-9.555555</td>\n",
              "      <td>13.777778</td>\n",
              "      <td>17.555555</td>\n",
              "      <td>0.445418</td>\n",
              "      <td>1.838850</td>\n",
              "    </tr>\n",
              "  </tbody>\n",
              "</table>\n",
              "<p>210 rows × 10 columns</p>\n",
              "</div>\n",
              "      <button class=\"colab-df-convert\" onclick=\"convertToInteractive('df-462c7c71-ba83-456f-990d-d5eecf10eaf2')\"\n",
              "              title=\"Convert this dataframe to an interactive table.\"\n",
              "              style=\"display:none;\">\n",
              "        \n",
              "  <svg xmlns=\"http://www.w3.org/2000/svg\" height=\"24px\"viewBox=\"0 0 24 24\"\n",
              "       width=\"24px\">\n",
              "    <path d=\"M0 0h24v24H0V0z\" fill=\"none\"/>\n",
              "    <path d=\"M18.56 5.44l.94 2.06.94-2.06 2.06-.94-2.06-.94-.94-2.06-.94 2.06-2.06.94zm-11 1L8.5 8.5l.94-2.06 2.06-.94-2.06-.94L8.5 2.5l-.94 2.06-2.06.94zm10 10l.94 2.06.94-2.06 2.06-.94-2.06-.94-.94-2.06-.94 2.06-2.06.94z\"/><path d=\"M17.41 7.96l-1.37-1.37c-.4-.4-.92-.59-1.43-.59-.52 0-1.04.2-1.43.59L10.3 9.45l-7.72 7.72c-.78.78-.78 2.05 0 2.83L4 21.41c.39.39.9.59 1.41.59.51 0 1.02-.2 1.41-.59l7.78-7.78 2.81-2.81c.8-.78.8-2.07 0-2.86zM5.41 20L4 18.59l7.72-7.72 1.47 1.35L5.41 20z\"/>\n",
              "  </svg>\n",
              "      </button>\n",
              "      \n",
              "  <style>\n",
              "    .colab-df-container {\n",
              "      display:flex;\n",
              "      flex-wrap:wrap;\n",
              "      gap: 12px;\n",
              "    }\n",
              "\n",
              "    .colab-df-convert {\n",
              "      background-color: #E8F0FE;\n",
              "      border: none;\n",
              "      border-radius: 50%;\n",
              "      cursor: pointer;\n",
              "      display: none;\n",
              "      fill: #1967D2;\n",
              "      height: 32px;\n",
              "      padding: 0 0 0 0;\n",
              "      width: 32px;\n",
              "    }\n",
              "\n",
              "    .colab-df-convert:hover {\n",
              "      background-color: #E2EBFA;\n",
              "      box-shadow: 0px 1px 2px rgba(60, 64, 67, 0.3), 0px 1px 3px 1px rgba(60, 64, 67, 0.15);\n",
              "      fill: #174EA6;\n",
              "    }\n",
              "\n",
              "    [theme=dark] .colab-df-convert {\n",
              "      background-color: #3B4455;\n",
              "      fill: #D2E3FC;\n",
              "    }\n",
              "\n",
              "    [theme=dark] .colab-df-convert:hover {\n",
              "      background-color: #434B5C;\n",
              "      box-shadow: 0px 1px 3px 1px rgba(0, 0, 0, 0.15);\n",
              "      filter: drop-shadow(0px 1px 2px rgba(0, 0, 0, 0.3));\n",
              "      fill: #FFFFFF;\n",
              "    }\n",
              "  </style>\n",
              "\n",
              "      <script>\n",
              "        const buttonEl =\n",
              "          document.querySelector('#df-462c7c71-ba83-456f-990d-d5eecf10eaf2 button.colab-df-convert');\n",
              "        buttonEl.style.display =\n",
              "          google.colab.kernel.accessAllowed ? 'block' : 'none';\n",
              "\n",
              "        async function convertToInteractive(key) {\n",
              "          const element = document.querySelector('#df-462c7c71-ba83-456f-990d-d5eecf10eaf2');\n",
              "          const dataTable =\n",
              "            await google.colab.kernel.invokeFunction('convertToInteractive',\n",
              "                                                     [key], {});\n",
              "          if (!dataTable) return;\n",
              "\n",
              "          const docLinkHtml = 'Like what you see? Visit the ' +\n",
              "            '<a target=\"_blank\" href=https://colab.research.google.com/notebooks/data_table.ipynb>data table notebook</a>'\n",
              "            + ' to learn more about interactive tables.';\n",
              "          element.innerHTML = '';\n",
              "          dataTable['output_type'] = 'display_data';\n",
              "          await google.colab.output.renderOutput(dataTable, element);\n",
              "          const docLink = document.createElement('div');\n",
              "          docLink.innerHTML = docLinkHtml;\n",
              "          element.appendChild(docLink);\n",
              "        }\n",
              "      </script>\n",
              "    </div>\n",
              "  </div>\n",
              "  "
            ]
          },
          "metadata": {},
          "execution_count": 65
        }
      ]
    },
    {
      "cell_type": "code",
      "source": [
        "\"\"\"\n",
        "o terceiro considerando as variaveis 4 a 19 (shape + rgb)\n",
        "\n",
        "\"\"\"\n",
        "\n",
        "dataset_shape_rgb = dataset_original.iloc[:,3:19]\n",
        "dataset_shape_rgb"
      ],
      "metadata": {
        "colab": {
          "base_uri": "https://localhost:8080/",
          "height": 540
        },
        "id": "wErS9S4hN4Li",
        "outputId": "69f13b45-60ad-4e2b-aa12-b8e731f0c6b4"
      },
      "execution_count": 66,
      "outputs": [
        {
          "output_type": "execute_result",
          "data": {
            "text/plain": [
              "     SHORT-LINE-DENSITY-5  SHORT-LINE-DENSITY-2  VEDGE-MEAN  VEDGE-SD  \\\n",
              "0                0.000000                   0.0    0.277778  0.062963   \n",
              "1                0.000000                   0.0    0.333333  0.266667   \n",
              "2                0.000000                   0.0    0.277778  0.107407   \n",
              "3                0.000000                   0.0    0.500000  0.166667   \n",
              "4                0.000000                   0.0    0.722222  0.374074   \n",
              "..                    ...                   ...         ...       ...   \n",
              "205              0.111111                   0.0    1.888889  1.851851   \n",
              "206              0.000000                   0.0    1.166667  0.744444   \n",
              "207              0.000000                   0.0    2.444444  6.829628   \n",
              "208              0.111111                   0.0    1.055556  0.862963   \n",
              "209              0.000000                   0.0    0.500000  0.349603   \n",
              "\n",
              "     HEDGE-MEAN  HEDGE-SD  INTENSITY-MEAN  RAWRED-MEAN  RAWBLUE-MEAN  \\\n",
              "0      0.666667  0.311111        6.185185     7.333334      7.666666   \n",
              "1      0.500000  0.077778        6.666666     8.333334      7.777778   \n",
              "2      0.833333  0.522222        6.111111     7.555555      7.222222   \n",
              "3      1.111111  0.474074        5.851852     7.777778      6.444445   \n",
              "4      0.888889  0.429629        6.037037     7.000000      7.666666   \n",
              "..          ...       ...             ...          ...           ...   \n",
              "205    2.000000  0.711110       13.333333     9.888889     12.111111   \n",
              "206    1.166667  0.655555       13.703704    10.666667     12.666667   \n",
              "207    3.333333  7.599998       16.074074    13.111111     16.666668   \n",
              "208    2.444444  5.007407       14.148149    10.888889     13.000000   \n",
              "209    2.388889  2.080776       12.962963    11.555555      9.777778   \n",
              "\n",
              "     RAWGREEN-MEAN  EXRED-MEAN  EXBLUE-MEAN  EXGREEN-MEAN  VALUE-MEAN  \\\n",
              "0         3.555556    3.444444     4.444445     -7.888889    7.777778   \n",
              "1         3.888889    5.000000     3.333333     -8.333333    8.444445   \n",
              "2         3.555556    4.333334     3.333333     -7.666666    7.555555   \n",
              "3         3.333333    5.777778     1.777778     -7.555555    7.777778   \n",
              "4         3.444444    2.888889     4.888889     -7.777778    7.888889   \n",
              "..             ...         ...          ...           ...         ...   \n",
              "205      18.000000  -10.333333    -3.666667     14.000000   18.000000   \n",
              "206      17.777779   -9.111111    -3.111111     12.222222   17.777779   \n",
              "207      18.444445   -8.888889     1.777778      7.111111   18.555555   \n",
              "208      18.555555   -9.777778    -3.444444     13.222222   18.555555   \n",
              "209      17.555555   -4.222222    -9.555555     13.777778   17.555555   \n",
              "\n",
              "     SATURATION-MEAN  HUE-MEAN  \n",
              "0           0.545635 -1.121818  \n",
              "1           0.538580 -0.924817  \n",
              "2           0.532628 -0.965946  \n",
              "3           0.573633 -0.744272  \n",
              "4           0.562919 -1.175773  \n",
              "..               ...       ...  \n",
              "205         0.452229  2.368311  \n",
              "206         0.401347  2.382684  \n",
              "207         0.292729  2.789800  \n",
              "208         0.421621  2.392487  \n",
              "209         0.445418  1.838850  \n",
              "\n",
              "[210 rows x 16 columns]"
            ],
            "text/html": [
              "\n",
              "  <div id=\"df-654601cf-fd6e-4ffb-aec5-365ea5170cf9\">\n",
              "    <div class=\"colab-df-container\">\n",
              "      <div>\n",
              "<style scoped>\n",
              "    .dataframe tbody tr th:only-of-type {\n",
              "        vertical-align: middle;\n",
              "    }\n",
              "\n",
              "    .dataframe tbody tr th {\n",
              "        vertical-align: top;\n",
              "    }\n",
              "\n",
              "    .dataframe thead th {\n",
              "        text-align: right;\n",
              "    }\n",
              "</style>\n",
              "<table border=\"1\" class=\"dataframe\">\n",
              "  <thead>\n",
              "    <tr style=\"text-align: right;\">\n",
              "      <th></th>\n",
              "      <th>SHORT-LINE-DENSITY-5</th>\n",
              "      <th>SHORT-LINE-DENSITY-2</th>\n",
              "      <th>VEDGE-MEAN</th>\n",
              "      <th>VEDGE-SD</th>\n",
              "      <th>HEDGE-MEAN</th>\n",
              "      <th>HEDGE-SD</th>\n",
              "      <th>INTENSITY-MEAN</th>\n",
              "      <th>RAWRED-MEAN</th>\n",
              "      <th>RAWBLUE-MEAN</th>\n",
              "      <th>RAWGREEN-MEAN</th>\n",
              "      <th>EXRED-MEAN</th>\n",
              "      <th>EXBLUE-MEAN</th>\n",
              "      <th>EXGREEN-MEAN</th>\n",
              "      <th>VALUE-MEAN</th>\n",
              "      <th>SATURATION-MEAN</th>\n",
              "      <th>HUE-MEAN</th>\n",
              "    </tr>\n",
              "  </thead>\n",
              "  <tbody>\n",
              "    <tr>\n",
              "      <th>0</th>\n",
              "      <td>0.000000</td>\n",
              "      <td>0.0</td>\n",
              "      <td>0.277778</td>\n",
              "      <td>0.062963</td>\n",
              "      <td>0.666667</td>\n",
              "      <td>0.311111</td>\n",
              "      <td>6.185185</td>\n",
              "      <td>7.333334</td>\n",
              "      <td>7.666666</td>\n",
              "      <td>3.555556</td>\n",
              "      <td>3.444444</td>\n",
              "      <td>4.444445</td>\n",
              "      <td>-7.888889</td>\n",
              "      <td>7.777778</td>\n",
              "      <td>0.545635</td>\n",
              "      <td>-1.121818</td>\n",
              "    </tr>\n",
              "    <tr>\n",
              "      <th>1</th>\n",
              "      <td>0.000000</td>\n",
              "      <td>0.0</td>\n",
              "      <td>0.333333</td>\n",
              "      <td>0.266667</td>\n",
              "      <td>0.500000</td>\n",
              "      <td>0.077778</td>\n",
              "      <td>6.666666</td>\n",
              "      <td>8.333334</td>\n",
              "      <td>7.777778</td>\n",
              "      <td>3.888889</td>\n",
              "      <td>5.000000</td>\n",
              "      <td>3.333333</td>\n",
              "      <td>-8.333333</td>\n",
              "      <td>8.444445</td>\n",
              "      <td>0.538580</td>\n",
              "      <td>-0.924817</td>\n",
              "    </tr>\n",
              "    <tr>\n",
              "      <th>2</th>\n",
              "      <td>0.000000</td>\n",
              "      <td>0.0</td>\n",
              "      <td>0.277778</td>\n",
              "      <td>0.107407</td>\n",
              "      <td>0.833333</td>\n",
              "      <td>0.522222</td>\n",
              "      <td>6.111111</td>\n",
              "      <td>7.555555</td>\n",
              "      <td>7.222222</td>\n",
              "      <td>3.555556</td>\n",
              "      <td>4.333334</td>\n",
              "      <td>3.333333</td>\n",
              "      <td>-7.666666</td>\n",
              "      <td>7.555555</td>\n",
              "      <td>0.532628</td>\n",
              "      <td>-0.965946</td>\n",
              "    </tr>\n",
              "    <tr>\n",
              "      <th>3</th>\n",
              "      <td>0.000000</td>\n",
              "      <td>0.0</td>\n",
              "      <td>0.500000</td>\n",
              "      <td>0.166667</td>\n",
              "      <td>1.111111</td>\n",
              "      <td>0.474074</td>\n",
              "      <td>5.851852</td>\n",
              "      <td>7.777778</td>\n",
              "      <td>6.444445</td>\n",
              "      <td>3.333333</td>\n",
              "      <td>5.777778</td>\n",
              "      <td>1.777778</td>\n",
              "      <td>-7.555555</td>\n",
              "      <td>7.777778</td>\n",
              "      <td>0.573633</td>\n",
              "      <td>-0.744272</td>\n",
              "    </tr>\n",
              "    <tr>\n",
              "      <th>4</th>\n",
              "      <td>0.000000</td>\n",
              "      <td>0.0</td>\n",
              "      <td>0.722222</td>\n",
              "      <td>0.374074</td>\n",
              "      <td>0.888889</td>\n",
              "      <td>0.429629</td>\n",
              "      <td>6.037037</td>\n",
              "      <td>7.000000</td>\n",
              "      <td>7.666666</td>\n",
              "      <td>3.444444</td>\n",
              "      <td>2.888889</td>\n",
              "      <td>4.888889</td>\n",
              "      <td>-7.777778</td>\n",
              "      <td>7.888889</td>\n",
              "      <td>0.562919</td>\n",
              "      <td>-1.175773</td>\n",
              "    </tr>\n",
              "    <tr>\n",
              "      <th>...</th>\n",
              "      <td>...</td>\n",
              "      <td>...</td>\n",
              "      <td>...</td>\n",
              "      <td>...</td>\n",
              "      <td>...</td>\n",
              "      <td>...</td>\n",
              "      <td>...</td>\n",
              "      <td>...</td>\n",
              "      <td>...</td>\n",
              "      <td>...</td>\n",
              "      <td>...</td>\n",
              "      <td>...</td>\n",
              "      <td>...</td>\n",
              "      <td>...</td>\n",
              "      <td>...</td>\n",
              "      <td>...</td>\n",
              "    </tr>\n",
              "    <tr>\n",
              "      <th>205</th>\n",
              "      <td>0.111111</td>\n",
              "      <td>0.0</td>\n",
              "      <td>1.888889</td>\n",
              "      <td>1.851851</td>\n",
              "      <td>2.000000</td>\n",
              "      <td>0.711110</td>\n",
              "      <td>13.333333</td>\n",
              "      <td>9.888889</td>\n",
              "      <td>12.111111</td>\n",
              "      <td>18.000000</td>\n",
              "      <td>-10.333333</td>\n",
              "      <td>-3.666667</td>\n",
              "      <td>14.000000</td>\n",
              "      <td>18.000000</td>\n",
              "      <td>0.452229</td>\n",
              "      <td>2.368311</td>\n",
              "    </tr>\n",
              "    <tr>\n",
              "      <th>206</th>\n",
              "      <td>0.000000</td>\n",
              "      <td>0.0</td>\n",
              "      <td>1.166667</td>\n",
              "      <td>0.744444</td>\n",
              "      <td>1.166667</td>\n",
              "      <td>0.655555</td>\n",
              "      <td>13.703704</td>\n",
              "      <td>10.666667</td>\n",
              "      <td>12.666667</td>\n",
              "      <td>17.777779</td>\n",
              "      <td>-9.111111</td>\n",
              "      <td>-3.111111</td>\n",
              "      <td>12.222222</td>\n",
              "      <td>17.777779</td>\n",
              "      <td>0.401347</td>\n",
              "      <td>2.382684</td>\n",
              "    </tr>\n",
              "    <tr>\n",
              "      <th>207</th>\n",
              "      <td>0.000000</td>\n",
              "      <td>0.0</td>\n",
              "      <td>2.444444</td>\n",
              "      <td>6.829628</td>\n",
              "      <td>3.333333</td>\n",
              "      <td>7.599998</td>\n",
              "      <td>16.074074</td>\n",
              "      <td>13.111111</td>\n",
              "      <td>16.666668</td>\n",
              "      <td>18.444445</td>\n",
              "      <td>-8.888889</td>\n",
              "      <td>1.777778</td>\n",
              "      <td>7.111111</td>\n",
              "      <td>18.555555</td>\n",
              "      <td>0.292729</td>\n",
              "      <td>2.789800</td>\n",
              "    </tr>\n",
              "    <tr>\n",
              "      <th>208</th>\n",
              "      <td>0.111111</td>\n",
              "      <td>0.0</td>\n",
              "      <td>1.055556</td>\n",
              "      <td>0.862963</td>\n",
              "      <td>2.444444</td>\n",
              "      <td>5.007407</td>\n",
              "      <td>14.148149</td>\n",
              "      <td>10.888889</td>\n",
              "      <td>13.000000</td>\n",
              "      <td>18.555555</td>\n",
              "      <td>-9.777778</td>\n",
              "      <td>-3.444444</td>\n",
              "      <td>13.222222</td>\n",
              "      <td>18.555555</td>\n",
              "      <td>0.421621</td>\n",
              "      <td>2.392487</td>\n",
              "    </tr>\n",
              "    <tr>\n",
              "      <th>209</th>\n",
              "      <td>0.000000</td>\n",
              "      <td>0.0</td>\n",
              "      <td>0.500000</td>\n",
              "      <td>0.349603</td>\n",
              "      <td>2.388889</td>\n",
              "      <td>2.080776</td>\n",
              "      <td>12.962963</td>\n",
              "      <td>11.555555</td>\n",
              "      <td>9.777778</td>\n",
              "      <td>17.555555</td>\n",
              "      <td>-4.222222</td>\n",
              "      <td>-9.555555</td>\n",
              "      <td>13.777778</td>\n",
              "      <td>17.555555</td>\n",
              "      <td>0.445418</td>\n",
              "      <td>1.838850</td>\n",
              "    </tr>\n",
              "  </tbody>\n",
              "</table>\n",
              "<p>210 rows × 16 columns</p>\n",
              "</div>\n",
              "      <button class=\"colab-df-convert\" onclick=\"convertToInteractive('df-654601cf-fd6e-4ffb-aec5-365ea5170cf9')\"\n",
              "              title=\"Convert this dataframe to an interactive table.\"\n",
              "              style=\"display:none;\">\n",
              "        \n",
              "  <svg xmlns=\"http://www.w3.org/2000/svg\" height=\"24px\"viewBox=\"0 0 24 24\"\n",
              "       width=\"24px\">\n",
              "    <path d=\"M0 0h24v24H0V0z\" fill=\"none\"/>\n",
              "    <path d=\"M18.56 5.44l.94 2.06.94-2.06 2.06-.94-2.06-.94-.94-2.06-.94 2.06-2.06.94zm-11 1L8.5 8.5l.94-2.06 2.06-.94-2.06-.94L8.5 2.5l-.94 2.06-2.06.94zm10 10l.94 2.06.94-2.06 2.06-.94-2.06-.94-.94-2.06-.94 2.06-2.06.94z\"/><path d=\"M17.41 7.96l-1.37-1.37c-.4-.4-.92-.59-1.43-.59-.52 0-1.04.2-1.43.59L10.3 9.45l-7.72 7.72c-.78.78-.78 2.05 0 2.83L4 21.41c.39.39.9.59 1.41.59.51 0 1.02-.2 1.41-.59l7.78-7.78 2.81-2.81c.8-.78.8-2.07 0-2.86zM5.41 20L4 18.59l7.72-7.72 1.47 1.35L5.41 20z\"/>\n",
              "  </svg>\n",
              "      </button>\n",
              "      \n",
              "  <style>\n",
              "    .colab-df-container {\n",
              "      display:flex;\n",
              "      flex-wrap:wrap;\n",
              "      gap: 12px;\n",
              "    }\n",
              "\n",
              "    .colab-df-convert {\n",
              "      background-color: #E8F0FE;\n",
              "      border: none;\n",
              "      border-radius: 50%;\n",
              "      cursor: pointer;\n",
              "      display: none;\n",
              "      fill: #1967D2;\n",
              "      height: 32px;\n",
              "      padding: 0 0 0 0;\n",
              "      width: 32px;\n",
              "    }\n",
              "\n",
              "    .colab-df-convert:hover {\n",
              "      background-color: #E2EBFA;\n",
              "      box-shadow: 0px 1px 2px rgba(60, 64, 67, 0.3), 0px 1px 3px 1px rgba(60, 64, 67, 0.15);\n",
              "      fill: #174EA6;\n",
              "    }\n",
              "\n",
              "    [theme=dark] .colab-df-convert {\n",
              "      background-color: #3B4455;\n",
              "      fill: #D2E3FC;\n",
              "    }\n",
              "\n",
              "    [theme=dark] .colab-df-convert:hover {\n",
              "      background-color: #434B5C;\n",
              "      box-shadow: 0px 1px 3px 1px rgba(0, 0, 0, 0.15);\n",
              "      filter: drop-shadow(0px 1px 2px rgba(0, 0, 0, 0.3));\n",
              "      fill: #FFFFFF;\n",
              "    }\n",
              "  </style>\n",
              "\n",
              "      <script>\n",
              "        const buttonEl =\n",
              "          document.querySelector('#df-654601cf-fd6e-4ffb-aec5-365ea5170cf9 button.colab-df-convert');\n",
              "        buttonEl.style.display =\n",
              "          google.colab.kernel.accessAllowed ? 'block' : 'none';\n",
              "\n",
              "        async function convertToInteractive(key) {\n",
              "          const element = document.querySelector('#df-654601cf-fd6e-4ffb-aec5-365ea5170cf9');\n",
              "          const dataTable =\n",
              "            await google.colab.kernel.invokeFunction('convertToInteractive',\n",
              "                                                     [key], {});\n",
              "          if (!dataTable) return;\n",
              "\n",
              "          const docLinkHtml = 'Like what you see? Visit the ' +\n",
              "            '<a target=\"_blank\" href=https://colab.research.google.com/notebooks/data_table.ipynb>data table notebook</a>'\n",
              "            + ' to learn more about interactive tables.';\n",
              "          element.innerHTML = '';\n",
              "          dataTable['output_type'] = 'display_data';\n",
              "          await google.colab.output.renderOutput(dataTable, element);\n",
              "          const docLink = document.createElement('div');\n",
              "          docLink.innerHTML = docLinkHtml;\n",
              "          element.appendChild(docLink);\n",
              "        }\n",
              "      </script>\n",
              "    </div>\n",
              "  </div>\n",
              "  "
            ]
          },
          "metadata": {},
          "execution_count": 66
        }
      ]
    },
    {
      "cell_type": "code",
      "source": [
        "\"\"\"\n",
        "Em cada dataset execute o algoritmo FCM com a distância de City-Block\n",
        "50 vezes para obter uma partição fuzzy em 7 grupos e selecione o melhor\n",
        "resultado segundo a função objetivo.\n",
        "\n",
        "\n",
        "#PARA dataset_1_shape (features 4 a 9)\n",
        "\n",
        "\"\"\""
      ],
      "metadata": {
        "colab": {
          "base_uri": "https://localhost:8080/",
          "height": 53
        },
        "id": "eqzhnq8kNj-h",
        "outputId": "aa6d5ab2-1758-4ed8-8504-d9fc64b467cb"
      },
      "execution_count": 67,
      "outputs": [
        {
          "output_type": "execute_result",
          "data": {
            "text/plain": [
              "'\\nEm cada dataset execute o algoritmo FCM com a distância de City-Block\\n50 vezes para obter uma partição fuzzy em 7 grupos e selecione o melhor\\nresultado segundo a função objetivo.\\n\\n'"
            ],
            "application/vnd.google.colaboratory.intrinsic+json": {
              "type": "string"
            }
          },
          "metadata": {},
          "execution_count": 67
        }
      ]
    },
    {
      "cell_type": "code",
      "source": [
        "!pip install -U scikit-fuzzy"
      ],
      "metadata": {
        "colab": {
          "base_uri": "https://localhost:8080/"
        },
        "id": "dzzpPso4O3sy",
        "outputId": "85cbde64-a37c-4f77-c841-e38ae0b97eb6"
      },
      "execution_count": 68,
      "outputs": [
        {
          "output_type": "stream",
          "name": "stdout",
          "text": [
            "Looking in indexes: https://pypi.org/simple, https://us-python.pkg.dev/colab-wheels/public/simple/\n",
            "Requirement already satisfied: scikit-fuzzy in /usr/local/lib/python3.10/dist-packages (0.4.2)\n",
            "Requirement already satisfied: numpy>=1.6.0 in /usr/local/lib/python3.10/dist-packages (from scikit-fuzzy) (1.22.4)\n",
            "Requirement already satisfied: scipy>=0.9.0 in /usr/local/lib/python3.10/dist-packages (from scikit-fuzzy) (1.10.1)\n",
            "Requirement already satisfied: networkx>=1.9.0 in /usr/local/lib/python3.10/dist-packages (from scikit-fuzzy) (3.1)\n"
          ]
        }
      ]
    },
    {
      "cell_type": "code",
      "source": [
        "import numpy as np\n",
        "import matplotlib.pyplot as plt\n",
        "import skfuzzy\n",
        "from sklearn.preprocessing import StandardScaler"
      ],
      "metadata": {
        "id": "yeW-hEMrTbUH"
      },
      "execution_count": 186,
      "outputs": []
    },
    {
      "cell_type": "code",
      "source": [
        "X_dataset_1_shape = dataset_1_shape.values\n",
        "\n",
        "X_dataset_1_shape, X_dataset_1_shape.shape"
      ],
      "metadata": {
        "colab": {
          "base_uri": "https://localhost:8080/"
        },
        "id": "gxs3gIz4__Dr",
        "outputId": "6f7cf079-ffc3-448d-f24d-f62c8e48cbe7"
      },
      "execution_count": 189,
      "outputs": [
        {
          "output_type": "execute_result",
          "data": {
            "text/plain": [
              "(array([[0.        , 0.        , 0.2777779 , 0.06296301, 0.66666675,\n",
              "         0.31111118],\n",
              "        [0.        , 0.        , 0.33333334, 0.26666674, 0.5       ,\n",
              "         0.07777774],\n",
              "        [0.        , 0.        , 0.27777782, 0.10740744, 0.83333325,\n",
              "         0.52222216],\n",
              "        ...,\n",
              "        [0.        , 0.        , 2.4444444 , 6.829628  , 3.3333333 ,\n",
              "         7.599998  ],\n",
              "        [0.11111111, 0.        , 1.0555557 , 0.86296326, 2.4444444 ,\n",
              "         5.007407  ],\n",
              "        [0.        , 0.        , 0.5       , 0.34960312, 2.3888886 ,\n",
              "         2.0807757 ]]),\n",
              " (210, 6))"
            ]
          },
          "metadata": {},
          "execution_count": 189
        }
      ]
    },
    {
      "cell_type": "code",
      "source": [
        "scaler = StandardScaler()\n",
        "X_dataset_1_shape = scaler.fit_transform(X_dataset_1_shape)\n",
        "X_dataset_1_shape"
      ],
      "metadata": {
        "colab": {
          "base_uri": "https://localhost:8080/"
        },
        "id": "XBSfg_QEUP6W",
        "outputId": "c74608d5-ead4-46bc-8e64-6f8c09bbbbd5"
      },
      "execution_count": 190,
      "outputs": [
        {
          "output_type": "execute_result",
          "data": {
            "text/plain": [
              "array([[-0.28718326, -0.21160368, -0.52285631, -0.13035889, -0.40477019,\n",
              "        -0.11658619],\n",
              "       [-0.28718326, -0.21160368, -0.50522349, -0.12566442, -0.43958796,\n",
              "        -0.11898778],\n",
              "       [-0.28718326, -0.21160368, -0.52285634, -0.12933464, -0.36995247,\n",
              "        -0.11441333],\n",
              "       ...,\n",
              "       [-0.28718326, -0.21160368,  0.16482524,  0.02558287,  0.15231385,\n",
              "        -0.04156512],\n",
              "       [ 3.48209707, -0.21160368, -0.27599624, -0.11192241, -0.03338084,\n",
              "        -0.06824944],\n",
              "       [-0.28718326, -0.21160368, -0.4523249 , -0.1237531 , -0.04498681,\n",
              "        -0.09837187]])"
            ]
          },
          "metadata": {},
          "execution_count": 190
        }
      ]
    },
    {
      "cell_type": "code",
      "source": [
        "R_dataset_1_shape = skfuzzy.cmeans(data = X_dataset_1_shape.T, c = 7, m = 2, error=0.005, maxiter= 1000, init=None)\n",
        "R_dataset_1_shape"
      ],
      "metadata": {
        "colab": {
          "base_uri": "https://localhost:8080/"
        },
        "id": "vYXDzCBfTvB-",
        "outputId": "890144af-6af6-4abc-9e6e-94300edd2b07"
      },
      "execution_count": 191,
      "outputs": [
        {
          "output_type": "execute_result",
          "data": {
            "text/plain": [
              "(array([[-0.26054884, -0.10859623,  0.27271664,  0.18989937,  2.96393131,\n",
              "          0.6254767 ],\n",
              "        [-0.28401226, -0.2029365 , -0.01820271, -0.0759004 , -0.06181919,\n",
              "         -0.08801484],\n",
              "        [-0.13269726,  3.73498196,  0.26465827,  0.03333839,  0.488444  ,\n",
              "          0.04404456],\n",
              "        [-0.28592539, -0.20822037, -0.37082195, -0.11660505, -0.36426354,\n",
              "         -0.10977644],\n",
              "        [-0.25440156,  3.42368004,  6.13783008,  0.63489675,  5.00366711,\n",
              "          0.50684533],\n",
              "        [-0.27321795, -0.17167412,  0.72743608,  0.0234998 ,  0.2588684 ,\n",
              "         -0.01609859],\n",
              "        [ 3.46292122, -0.17446602, -0.12171755, -0.07604862, -0.07976145,\n",
              "         -0.08096511]]),\n",
              " array([[1.82370525e-03, 1.72397112e-03, 1.73717513e-03, ...,\n",
              "         7.48518825e-03, 1.21055086e-03, 6.38952408e-03],\n",
              "        [6.13090978e-02, 5.77966961e-02, 6.10191324e-02, ...,\n",
              "         6.84228045e-01, 2.02786014e-03, 3.41246267e-01],\n",
              "        [1.35101820e-03, 1.29553246e-03, 1.26737645e-03, ...,\n",
              "         3.99728797e-03, 9.88430552e-04, 3.96860903e-03],\n",
              "        ...,\n",
              "        [2.62644313e-04, 2.51978032e-04, 2.46554968e-04, ...,\n",
              "         8.60131743e-04, 3.05604457e-04, 7.85482794e-04],\n",
              "        [1.13092495e-02, 1.08527343e-02, 1.08131258e-02, ...,\n",
              "         1.90345606e-01, 1.89930148e-03, 4.30900061e-02],\n",
              "        [1.60873506e-03, 1.54480222e-03, 1.50593287e-03, ...,\n",
              "         4.42401201e-03, 9.91549686e-01, 4.60268663e-03]]),\n",
              " array([[0.06961645, 0.00773339, 0.243481  , ..., 0.08479779, 0.04543054,\n",
              "         0.18209041],\n",
              "        [0.11340956, 0.04466225, 0.0680591 , ..., 0.12296466, 0.26751676,\n",
              "         0.0166619 ],\n",
              "        [0.15160641, 0.0405869 , 0.25734615, ..., 0.08656343, 0.13080578,\n",
              "         0.24737758],\n",
              "        ...,\n",
              "        [0.01907711, 0.08507798, 0.18212588, ..., 0.13160606, 0.08522074,\n",
              "         0.1782748 ],\n",
              "        [0.25943641, 0.10178589, 0.12567658, ..., 0.1560764 , 0.05178779,\n",
              "         0.24481252],\n",
              "        [0.15527578, 0.32589828, 0.0452044 , ..., 0.17341655, 0.1349997 ,\n",
              "         0.02395585]]),\n",
              " array([[3.55606929, 3.5852841 , 3.52255376, ..., 2.89829224, 4.88623856,\n",
              "         3.19576721],\n",
              "        [0.6133171 , 0.61920872, 0.59435568, ..., 0.3031399 , 3.77526279,\n",
              "         0.43729593],\n",
              "        [4.13158735, 4.13584657, 4.12407558, ..., 3.96607406, 5.40745739,\n",
              "         4.05499416],\n",
              "        ...,\n",
              "        [9.37051667, 9.37793523, 9.35023557, ..., 8.5499003 , 9.72492687,\n",
              "         9.11467218],\n",
              "        [1.42800802, 1.42895642, 1.41189956, ..., 0.57474091, 3.90093966,\n",
              "         1.23061191],\n",
              "        [3.78621503, 3.7874955 , 3.78335092, ..., 3.76994826, 0.17072965,\n",
              "         3.76533558]]),\n",
              " array([250.86475735, 179.31327473, 175.97693704, 169.23282276,\n",
              "        163.3391118 , 156.0122278 , 140.5579603 , 135.8393147 ,\n",
              "        134.06710555, 132.76881552, 132.06975882, 131.52592451,\n",
              "        130.60784623, 128.6064435 , 125.44471386, 122.17600287,\n",
              "        120.49095402, 119.72664285, 119.48352382, 119.43349919,\n",
              "        119.4186649 , 119.41185742, 119.40833357, 119.40646927,\n",
              "        119.40547449, 119.40493848, 119.40464595, 119.40448379,\n",
              "        119.40439226, 119.40433957, 119.40430863, 119.40429009]),\n",
              " 32,\n",
              " 0.7106437263847137)"
            ]
          },
          "metadata": {},
          "execution_count": 191
        }
      ]
    },
    {
      "cell_type": "code",
      "source": [
        "type(R_dataset_1_shape)"
      ],
      "metadata": {
        "colab": {
          "base_uri": "https://localhost:8080/"
        },
        "id": "EsoXrF5m9tWp",
        "outputId": "bad7f56b-165d-4622-ae05-d89c48b2c5de"
      },
      "execution_count": 192,
      "outputs": [
        {
          "output_type": "execute_result",
          "data": {
            "text/plain": [
              "tuple"
            ]
          },
          "metadata": {},
          "execution_count": 192
        }
      ]
    },
    {
      "cell_type": "code",
      "source": [
        "#matrix of probabilities\n",
        "U = R_dataset_1_shape[1]\n",
        "U"
      ],
      "metadata": {
        "colab": {
          "base_uri": "https://localhost:8080/"
        },
        "id": "Fi3EAtmn3uBK",
        "outputId": "9a989d4a-39cc-44c5-c1ce-b2b2d7db52b9"
      },
      "execution_count": 194,
      "outputs": [
        {
          "output_type": "execute_result",
          "data": {
            "text/plain": [
              "array([[1.82370525e-03, 1.72397112e-03, 1.73717513e-03, ...,\n",
              "        7.48518825e-03, 1.21055086e-03, 6.38952408e-03],\n",
              "       [6.13090978e-02, 5.77966961e-02, 6.10191324e-02, ...,\n",
              "        6.84228045e-01, 2.02786014e-03, 3.41246267e-01],\n",
              "       [1.35101820e-03, 1.29553246e-03, 1.26737645e-03, ...,\n",
              "        3.99728797e-03, 9.88430552e-04, 3.96860903e-03],\n",
              "       ...,\n",
              "       [2.62644313e-04, 2.51978032e-04, 2.46554968e-04, ...,\n",
              "        8.60131743e-04, 3.05604457e-04, 7.85482794e-04],\n",
              "       [1.13092495e-02, 1.08527343e-02, 1.08131258e-02, ...,\n",
              "        1.90345606e-01, 1.89930148e-03, 4.30900061e-02],\n",
              "       [1.60873506e-03, 1.54480222e-03, 1.50593287e-03, ...,\n",
              "        4.42401201e-03, 9.91549686e-01, 4.60268663e-03]])"
            ]
          },
          "metadata": {},
          "execution_count": 194
        }
      ]
    },
    {
      "cell_type": "code",
      "source": [
        "U.shape"
      ],
      "metadata": {
        "colab": {
          "base_uri": "https://localhost:8080/"
        },
        "id": "lJKycLmp43us",
        "outputId": "d64b6ea3-90df-4955-bf39-0923b7cd9d7c"
      },
      "execution_count": 201,
      "outputs": [
        {
          "output_type": "execute_result",
          "data": {
            "text/plain": [
              "(7, 210)"
            ]
          },
          "metadata": {},
          "execution_count": 201
        }
      ]
    },
    {
      "cell_type": "code",
      "source": [
        "U[6][0]"
      ],
      "metadata": {
        "colab": {
          "base_uri": "https://localhost:8080/"
        },
        "id": "t1zNDy_u6Q7T",
        "outputId": "a302be21-d5bf-4c16-d960-19418ffff5f5"
      },
      "execution_count": 202,
      "outputs": [
        {
          "output_type": "execute_result",
          "data": {
            "text/plain": [
              "0.0016087350560813406"
            ]
          },
          "metadata": {},
          "execution_count": 202
        }
      ]
    },
    {
      "cell_type": "code",
      "source": [
        "sum = 0\n",
        "for i in range(7):\n",
        "  sum +=  U[i][0]\n",
        "\n",
        "print(sum)"
      ],
      "metadata": {
        "colab": {
          "base_uri": "https://localhost:8080/"
        },
        "id": "UgKAERDj4-x3",
        "outputId": "e3055183-be9a-4deb-9956-66d7460fa42e"
      },
      "execution_count": 203,
      "outputs": [
        {
          "output_type": "stream",
          "name": "stdout",
          "text": [
            "1.0\n"
          ]
        }
      ]
    },
    {
      "cell_type": "code",
      "source": [
        "#to which group each i-th element belongs\n",
        "predictions = U.argmax(0)\n",
        "predictions"
      ],
      "metadata": {
        "colab": {
          "base_uri": "https://localhost:8080/"
        },
        "id": "EwZ5siPH867Y",
        "outputId": "b5986ee4-5258-49bc-92ba-e2092042c041"
      },
      "execution_count": 204,
      "outputs": [
        {
          "output_type": "execute_result",
          "data": {
            "text/plain": [
              "array([3, 3, 3, 3, 3, 3, 6, 1, 3, 3, 3, 1, 3, 1, 1, 3, 3, 1, 3, 3, 3, 1,\n",
              "       3, 3, 1, 1, 3, 3, 1, 1, 3, 3, 3, 3, 3, 3, 1, 3, 6, 1, 3, 3, 3, 3,\n",
              "       3, 3, 3, 3, 3, 3, 3, 3, 3, 3, 3, 3, 1, 3, 3, 6, 6, 3, 3, 1, 3, 3,\n",
              "       4, 3, 1, 0, 2, 3, 4, 3, 3, 3, 3, 4, 3, 5, 3, 5, 3, 0, 3, 1, 1, 3,\n",
              "       3, 3, 3, 3, 1, 1, 1, 1, 5, 3, 5, 1, 5, 1, 3, 3, 1, 6, 1, 3, 1, 1,\n",
              "       1, 3, 3, 3, 5, 5, 2, 5, 3, 0, 3, 3, 3, 1, 3, 3, 3, 1, 1, 3, 3, 3,\n",
              "       0, 3, 3, 3, 3, 3, 3, 3, 1, 3, 3, 3, 3, 3, 3, 1, 3, 3, 6, 0, 1, 5,\n",
              "       2, 3, 1, 5, 6, 5, 5, 1, 0, 1, 1, 5, 6, 0, 5, 1, 2, 1, 5, 2, 1, 1,\n",
              "       5, 2, 1, 1, 3, 6, 6, 3, 3, 1, 1, 1, 1, 1, 1, 1, 1, 3, 5, 1, 6, 1,\n",
              "       3, 3, 6, 6, 3, 3, 3, 6, 3, 1, 6, 3])"
            ]
          },
          "metadata": {},
          "execution_count": 204
        }
      ]
    },
    {
      "cell_type": "code",
      "source": [
        "type(X_dataset_1_shape), X_dataset_1_shape.shape"
      ],
      "metadata": {
        "colab": {
          "base_uri": "https://localhost:8080/"
        },
        "id": "1T0watNW93ra",
        "outputId": "65b864c7-0a62-4832-84a2-fb751f173720"
      },
      "execution_count": 205,
      "outputs": [
        {
          "output_type": "execute_result",
          "data": {
            "text/plain": [
              "(numpy.ndarray, (210, 6))"
            ]
          },
          "metadata": {},
          "execution_count": 205
        }
      ]
    },
    {
      "cell_type": "code",
      "source": [
        "X_dataset_1_shape"
      ],
      "metadata": {
        "colab": {
          "base_uri": "https://localhost:8080/"
        },
        "id": "EAof4KGw_JXR",
        "outputId": "08520c87-3397-4a5e-c24b-e9bc781e681e"
      },
      "execution_count": 206,
      "outputs": [
        {
          "output_type": "execute_result",
          "data": {
            "text/plain": [
              "array([[-0.28718326, -0.21160368, -0.52285631, -0.13035889, -0.40477019,\n",
              "        -0.11658619],\n",
              "       [-0.28718326, -0.21160368, -0.50522349, -0.12566442, -0.43958796,\n",
              "        -0.11898778],\n",
              "       [-0.28718326, -0.21160368, -0.52285634, -0.12933464, -0.36995247,\n",
              "        -0.11441333],\n",
              "       ...,\n",
              "       [-0.28718326, -0.21160368,  0.16482524,  0.02558287,  0.15231385,\n",
              "        -0.04156512],\n",
              "       [ 3.48209707, -0.21160368, -0.27599624, -0.11192241, -0.03338084,\n",
              "        -0.06824944],\n",
              "       [-0.28718326, -0.21160368, -0.4523249 , -0.1237531 , -0.04498681,\n",
              "        -0.09837187]])"
            ]
          },
          "metadata": {},
          "execution_count": 206
        }
      ]
    },
    {
      "cell_type": "code",
      "source": [
        "X = X_dataset_1_shape\n",
        "preds = predictions"
      ],
      "metadata": {
        "id": "411vL-AX-VG5"
      },
      "execution_count": 226,
      "outputs": []
    },
    {
      "cell_type": "code",
      "source": [
        "#let's see\n",
        "colors = ['blue', 'orange', 'green', 'red', 'brown', 'pink', 'gray']\n",
        "for i in range(7):\n",
        "  print(i)\n",
        "  plt.scatter(X[preds == i, 0], X[preds == i, 1], s=100, c = colors[i], label='Cluster ' + str(i + 1))"
      ],
      "metadata": {
        "colab": {
          "base_uri": "https://localhost:8080/",
          "height": 552
        },
        "id": "_Jq-CRbT8gjy",
        "outputId": "3546e4e8-f540-42d2-af08-48cac7ac29f9"
      },
      "execution_count": 233,
      "outputs": [
        {
          "output_type": "stream",
          "name": "stdout",
          "text": [
            "0\n",
            "1\n",
            "2\n",
            "3\n",
            "4\n",
            "5\n",
            "6\n"
          ]
        },
        {
          "output_type": "display_data",
          "data": {
            "text/plain": [
              "<Figure size 640x480 with 1 Axes>"
            ],
            "image/png": "[encoded data removed]"
          },
          "metadata": {}
        }
      ]
    },
    {
      "cell_type": "code",
      "source": [
        "R_dataset_1_shape = np.asarray(R_dataset_1_shape)\n",
        "R_dataset_1_shape.shape, type(R_dataset_1_shape)"
      ],
      "metadata": {
        "colab": {
          "base_uri": "https://localhost:8080/"
        },
        "id": "nep1AE_a1Emn",
        "outputId": "d43544bd-6350-4262-c485-e03ba064a4a3"
      },
      "execution_count": 209,
      "outputs": [
        {
          "output_type": "stream",
          "name": "stderr",
          "text": [
            "<ipython-input-209-d831f6b5820c>:1: VisibleDeprecationWarning: Creating an ndarray from ragged nested sequences (which is a list-or-tuple of lists-or-tuples-or ndarrays with different lengths or shapes) is deprecated. If you meant to do this, you must specify 'dtype=object' when creating the ndarray.\n",
            "  R_dataset_1_shape = np.asarray(R_dataset_1_shape)\n"
          ]
        },
        {
          "output_type": "execute_result",
          "data": {
            "text/plain": [
              "((7,), numpy.ndarray)"
            ]
          },
          "metadata": {},
          "execution_count": 209
        }
      ]
    },
    {
      "cell_type": "code",
      "source": [
        "R_dataset_1_shape[0][6][0]"
      ],
      "metadata": {
        "colab": {
          "base_uri": "https://localhost:8080/"
        },
        "id": "vfvVBXt81i4V",
        "outputId": "0628945f-3663-45cb-8997-9f1a7b67828f"
      },
      "execution_count": 210,
      "outputs": [
        {
          "output_type": "execute_result",
          "data": {
            "text/plain": [
              "3.4629212161050678"
            ]
          },
          "metadata": {},
          "execution_count": 210
        }
      ]
    },
    {
      "cell_type": "code",
      "source": [
        "sum = 0\n",
        "for i in range(5):\n",
        "  sum = R_dataset_1_shape[0][i][0]\n",
        "\n",
        "print(sum)"
      ],
      "metadata": {
        "colab": {
          "base_uri": "https://localhost:8080/"
        },
        "id": "a_OJZ2n6VV7G",
        "outputId": "7a7b1120-16d3-4bf1-ae69-edbe49239fb0"
      },
      "execution_count": 211,
      "outputs": [
        {
          "output_type": "stream",
          "name": "stdout",
          "text": [
            "-0.25440155980875623\n"
          ]
        }
      ]
    },
    {
      "cell_type": "code",
      "source": [],
      "metadata": {
        "id": "CEM3f3P6xR4X"
      },
      "execution_count": 211,
      "outputs": []
    },
    {
      "cell_type": "code",
      "source": [
        "import numpy as np\n",
        "\n",
        "\n",
        "def initialize_membership_matrix(n_samples, n_clusters):\n",
        "    \"\"\"\n",
        "    Initializes the membership matrix for Fuzzy C-Means.\n",
        "\n",
        "    Parameters:\n",
        "        n_samples (int): Number of data points.\n",
        "        n_clusters (int): Number of clusters.\n",
        "\n",
        "    Returns:\n",
        "        numpy.ndarray: Initial membership matrix.\n",
        "    \"\"\"\n",
        "    membership_matrix = np.random.rand(n_samples, n_clusters)\n",
        "    membership_matrix /= np.sum(membership_matrix, axis=1, keepdims=True)\n",
        "    return membership_matrix\n",
        "\n",
        "\n",
        "def update_membership_matrix(data, centroids, m, distance_metric):\n",
        "    \"\"\"\n",
        "    Updates the membership matrix for Fuzzy C-Means.\n",
        "\n",
        "    Parameters:\n",
        "        data (numpy.ndarray): Input data points.\n",
        "        centroids (numpy.ndarray): Current centroid positions.\n",
        "        m (float): Fuzziness parameter.\n",
        "        distance_metric (str): Distance metric to use ('cityblock' or 'euclidean').\n",
        "\n",
        "    Returns:\n",
        "        numpy.ndarray: Updated membership matrix.\n",
        "    \"\"\"\n",
        "    n_samples, n_clusters = data.shape[0], centroids.shape[0]\n",
        "    membership_matrix = np.zeros((n_samples, n_clusters))\n",
        "\n",
        "    for i in range(n_samples):\n",
        "        for j in range(n_clusters):\n",
        "            if distance_metric == 'cityblock':\n",
        "                dist = np.sum(np.abs(data[i] - centroids[j]))\n",
        "            elif distance_metric == 'euclidean':\n",
        "                dist = np.linalg.norm(data[i] - centroids[j])\n",
        "            else:\n",
        "                raise ValueError(\"Invalid distance metric.\")\n",
        "\n",
        "            membership_matrix[i, j] = 1 / np.sum((dist / np.abs(data[i] - centroids)) ** (2 / (m - 1)))\n",
        "\n",
        "    membership_matrix /= np.sum(membership_matrix, axis=1, keepdims=True)\n",
        "    return membership_matrix\n",
        "\n",
        "\n",
        "def update_centroids(data, membership_matrix, m):\n",
        "    \"\"\"\n",
        "    Updates the centroids for Fuzzy C-Means.\n",
        "\n",
        "    Parameters:\n",
        "        data (numpy.ndarray): Input data points.\n",
        "        membership_matrix (numpy.ndarray): Current membership matrix.\n",
        "        m (float): Fuzziness parameter.\n",
        "\n",
        "    Returns:\n",
        "        numpy.ndarray: Updated centroid positions.\n",
        "    \"\"\"\n",
        "    n_clusters, n_features = membership_matrix.shape[1], data.shape[1]\n",
        "    centroids = np.zeros((n_clusters, n_features))\n",
        "\n",
        "    for j in range(n_clusters):\n",
        "        membership_power = membership_matrix[:, j] ** m\n",
        "        centroids[j] = np.sum(membership_power.reshape(-1, 1) * data, axis=0) / np.sum(membership_power)\n",
        "\n",
        "    return centroids\n",
        "\n",
        "\n",
        "def fuzzy_cmeans(data, n_clusters, m, distance_metric='cityblock', max_iter=100, tolerance=1e-4):\n",
        "    \"\"\"\n",
        "    Fuzzy C-Means clustering algorithm.\n",
        "\n",
        "    Parameters:\n",
        "        data (numpy.ndarray): Input data points.\n",
        "        n_clusters (int): Number of clusters.\n",
        "        m (float): Fuzziness parameter (> 1).\n",
        "        distance_metric (str): Distance metric to use ('cityblock' or 'euclidean').\n",
        "        max_iter (int): Maximum number of iterations.\n",
        "        tolerance (float): Convergence tolerance.\n",
        "\n",
        "    Returns:\n",
        "        numpy.ndarray: Final centroid positions.\n",
        "        numpy.ndarray: Membership matrix.\n",
        "        int: Number of iterations performed.\n",
        "    \"\"\"\n",
        "    n_samples, n_features = data.shape\n",
        "    membership_matrix = initialize_membership_matrix(n_samples, n_clusters)\n",
        "    centroids = np.zeros((n_clusters, n_features))\n",
        "\n",
        "    for iteration in range(max_iter):\n",
        "        prev_centroids = centroids.copy()\n",
        "\n",
        "        centroids = update_centroids(data, membership_matrix, m)\n",
        "        membership_matrix = update_membership_matrix(data, centroids, m, distance_metric)\n",
        "\n",
        "        if np.linalg.norm(centroids - prev_centroids) < tolerance:\n",
        "            break\n",
        "\n",
        "    return centroids, membership_matrix, iteration+1\n"
      ],
      "metadata": {
        "id": "deP56zYOxR6u"
      },
      "execution_count": 212,
      "outputs": []
    },
    {
      "cell_type": "code",
      "source": [
        "X_dataset_1_shape"
      ],
      "metadata": {
        "colab": {
          "base_uri": "https://localhost:8080/"
        },
        "id": "LaoZvsmBx_MM",
        "outputId": "2f121eb5-af17-4ac6-c30d-84be27b3161e"
      },
      "execution_count": 213,
      "outputs": [
        {
          "output_type": "execute_result",
          "data": {
            "text/plain": [
              "array([[-0.28718326, -0.21160368, -0.52285631, -0.13035889, -0.40477019,\n",
              "        -0.11658619],\n",
              "       [-0.28718326, -0.21160368, -0.50522349, -0.12566442, -0.43958796,\n",
              "        -0.11898778],\n",
              "       [-0.28718326, -0.21160368, -0.52285634, -0.12933464, -0.36995247,\n",
              "        -0.11441333],\n",
              "       ...,\n",
              "       [-0.28718326, -0.21160368,  0.16482524,  0.02558287,  0.15231385,\n",
              "        -0.04156512],\n",
              "       [ 3.48209707, -0.21160368, -0.27599624, -0.11192241, -0.03338084,\n",
              "        -0.06824944],\n",
              "       [-0.28718326, -0.21160368, -0.4523249 , -0.1237531 , -0.04498681,\n",
              "        -0.09837187]])"
            ]
          },
          "metadata": {},
          "execution_count": 213
        }
      ]
    },
    {
      "cell_type": "code",
      "source": [
        "X_array_dataset_1_shape = np.asarray(X_dataset_1_shape)\n",
        "X_array_dataset_1_shape"
      ],
      "metadata": {
        "colab": {
          "base_uri": "https://localhost:8080/"
        },
        "id": "GO-8h_ghyHQb",
        "outputId": "62f25295-3ac5-4cd5-af1c-fbccad539846"
      },
      "execution_count": 214,
      "outputs": [
        {
          "output_type": "execute_result",
          "data": {
            "text/plain": [
              "array([[-0.28718326, -0.21160368, -0.52285631, -0.13035889, -0.40477019,\n",
              "        -0.11658619],\n",
              "       [-0.28718326, -0.21160368, -0.50522349, -0.12566442, -0.43958796,\n",
              "        -0.11898778],\n",
              "       [-0.28718326, -0.21160368, -0.52285634, -0.12933464, -0.36995247,\n",
              "        -0.11441333],\n",
              "       ...,\n",
              "       [-0.28718326, -0.21160368,  0.16482524,  0.02558287,  0.15231385,\n",
              "        -0.04156512],\n",
              "       [ 3.48209707, -0.21160368, -0.27599624, -0.11192241, -0.03338084,\n",
              "        -0.06824944],\n",
              "       [-0.28718326, -0.21160368, -0.4523249 , -0.1237531 , -0.04498681,\n",
              "        -0.09837187]])"
            ]
          },
          "metadata": {},
          "execution_count": 214
        }
      ]
    },
    {
      "cell_type": "code",
      "source": [
        "# Example usage\n",
        "\n",
        "#data = np.array([[1, 2], [3, 4], [5, 6], [7, 8], [9, 10]])\n",
        "data = X_array_dataset_1_shape\n",
        "n_clusters = 7\n",
        "m = 2\n",
        "distance_metric = 'cityblock'\n",
        "\n",
        "centroids, membership_matrix, iterations = fuzzy_cmeans(data, n_clusters, m, distance_metric)\n",
        "print(\"Centroids:\")\n",
        "print(centroids)\n",
        "print(\"Membership matrix:\")\n",
        "print(membership_matrix)\n",
        "print(\"Iterations:\", iterations)"
      ],
      "metadata": {
        "colab": {
          "base_uri": "https://localhost:8080/"
        },
        "id": "U_CeudbhxlMb",
        "outputId": "5f10842a-ae80-4707-be9b-71777ecdd27f"
      },
      "execution_count": 215,
      "outputs": [
        {
          "output_type": "stream",
          "name": "stdout",
          "text": [
            "Centroids:\n",
            "[[-0.28689201  3.49132887  7.12882041 13.07012298  8.79685184 14.1456492 ]\n",
            " [-0.27626832  3.43001995  5.87426415  0.23207111  4.97557116  0.11882222]\n",
            " [-0.28636451 -0.20949622 -0.20800317 -0.10549243 -0.25197303 -0.10788407]\n",
            " [-0.27582011 -0.17377827  0.21131004 -0.03129677  1.8376652   0.45799321]\n",
            " [-0.05781557  4.00219203  0.21516972 -0.0623025   0.43979678 -0.04699879]\n",
            " [ 3.45221279 -0.10650153 -0.12060394 -0.09706789 -0.09119117 -0.10009407]\n",
            " [-0.28036308 -0.19372272  3.25813488  5.92830275  1.36509801  1.95829848]]\n",
            "Membership matrix:\n",
            "[[1.06019049e-04 9.51622134e-04 9.61841163e-01 ... 6.43537309e-03\n",
            "  1.15024771e-02 1.30075691e-03]\n",
            " [1.12078937e-04 1.00477149e-03 9.59902179e-01 ... 6.77465212e-03\n",
            "  1.20892546e-02 1.37297474e-03]\n",
            " [9.12308752e-05 8.21480273e-04 9.66651309e-01 ... 5.59780374e-03\n",
            "  1.00473946e-02 1.12377170e-03]\n",
            " ...\n",
            " [3.46588065e-04 3.54551995e-03 7.85878575e-01 ... 3.16013491e-02\n",
            "  3.61933764e-02 5.01694191e-03]\n",
            " [5.87864551e-05 4.21254577e-04 9.11841267e-03 ... 1.98745522e-03\n",
            "  9.84510290e-01 5.45254156e-04]\n",
            " [9.83247488e-05 9.17262103e-04 9.57447017e-01 ... 6.82673750e-03\n",
            "  1.23104474e-02 1.26627901e-03]]\n",
            "Iterations: 46\n"
          ]
        }
      ]
    },
    {
      "cell_type": "code",
      "source": [
        "membership_matrix.shape"
      ],
      "metadata": {
        "colab": {
          "base_uri": "https://localhost:8080/"
        },
        "id": "sbuSJCb-zbo9",
        "outputId": "fdf251fb-6511-49a8-ce97-f5801dafe00e"
      },
      "execution_count": 216,
      "outputs": [
        {
          "output_type": "execute_result",
          "data": {
            "text/plain": [
              "(210, 7)"
            ]
          },
          "metadata": {},
          "execution_count": 216
        }
      ]
    },
    {
      "cell_type": "code",
      "source": [
        "sum = 0\n",
        "for i in range(210):\n",
        "  sum = membership_matrix[i][0]\n",
        "\n",
        "print(sum)"
      ],
      "metadata": {
        "colab": {
          "base_uri": "https://localhost:8080/"
        },
        "id": "O3zdEroG0cHn",
        "outputId": "6b91a8e5-bbba-4c53-cdd3-5894a032cd87"
      },
      "execution_count": 217,
      "outputs": [
        {
          "output_type": "stream",
          "name": "stdout",
          "text": [
            "9.832474878898247e-05\n"
          ]
        }
      ]
    },
    {
      "cell_type": "code",
      "source": [
        "print()"
      ],
      "metadata": {
        "colab": {
          "base_uri": "https://localhost:8080/"
        },
        "id": "w-fUlPXS0aeX",
        "outputId": "a1ca1ab6-417a-4a5c-a496-80028899e596"
      },
      "execution_count": 218,
      "outputs": [
        {
          "output_type": "stream",
          "name": "stdout",
          "text": [
            "\n"
          ]
        }
      ]
    }
  ]
}